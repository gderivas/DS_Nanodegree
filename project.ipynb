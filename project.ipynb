{
 "metadata": {
  "language_info": {
   "codemirror_mode": {
    "name": "ipython",
    "version": 3
   },
   "file_extension": ".py",
   "mimetype": "text/x-python",
   "name": "python",
   "nbconvert_exporter": "python",
   "pygments_lexer": "ipython3",
   "version": "3.6.5"
  },
  "orig_nbformat": 2,
  "kernelspec": {
   "name": "python3",
   "display_name": "Python 3.6.5 64-bit ('base': conda)",
   "metadata": {
    "interpreter": {
     "hash": "440fa7d4734cc652e3eca96dfd7337a53bccf15ac36cbbd646a5e88fd47fef39"
    }
   }
  }
 },
 "nbformat": 4,
 "nbformat_minor": 2,
 "cells": [
  {
   "source": [
    "### Udacity Data Scientist Nanodegree - Part 1 Project\n",
    "\n",
    "**CRISP-DM process** (Business Understanding, Data Understanding, Data Preparation, Modeling, Evaluation, Deployment)\n",
    "\n",
    "- Business Questions\n",
    "    - Como varía la dispobilidad a lo largo del año\n",
    "    - Mejores fechas por precio para conseguir un apartamento\n",
    "    - que apartamentos tienen mejores reviews\n",
    "    - es posible predecir el precio para una fecha\n",
    "    \n",
    "- Categorical and missing values\n",
    "- EDA\n",
    "- Modeling"
   ],
   "cell_type": "markdown",
   "metadata": {}
  },
  {
   "cell_type": "code",
   "execution_count": 1,
   "metadata": {},
   "outputs": [],
   "source": [
    "# Import libraries\n",
    "import numpy as np \n",
    "import pandas as pd"
   ]
  },
  {
   "cell_type": "code",
   "execution_count": 2,
   "metadata": {},
   "outputs": [],
   "source": [
    "# Load files into dataframes\n",
    "calendar_df = pd.read_csv('data/calendar.csv')\n",
    "listings_df = pd.read_csv('data/listings.csv')\n",
    "reviews_df = pd.read_csv('data/reviews.csv')"
   ]
  },
  {
   "cell_type": "code",
   "execution_count": 6,
   "metadata": {},
   "outputs": [
    {
     "output_type": "execute_result",
     "data": {
      "text/plain": [
       "   listing_id        id        date  reviewer_id reviewer_name  \\\n",
       "0     7202016  38917982  2015-07-19     28943674        Bianca   \n",
       "1     7202016  39087409  2015-07-20     32440555         Frank   \n",
       "2     7202016  39820030  2015-07-26     37722850           Ian   \n",
       "3     7202016  40813543  2015-08-02     33671805        George   \n",
       "4     7202016  41986501  2015-08-10     34959538          Ming   \n",
       "\n",
       "                                            comments  \n",
       "0  Cute and cozy place. Perfect location to every...  \n",
       "1  Kelly has a great room in a very central locat...  \n",
       "2  Very spacious apartment, and in a great neighb...  \n",
       "3  Close to Seattle Center and all it has to offe...  \n",
       "4  Kelly was a great host and very accommodating ...  "
      ],
      "text/html": "<div>\n<style scoped>\n    .dataframe tbody tr th:only-of-type {\n        vertical-align: middle;\n    }\n\n    .dataframe tbody tr th {\n        vertical-align: top;\n    }\n\n    .dataframe thead th {\n        text-align: right;\n    }\n</style>\n<table border=\"1\" class=\"dataframe\">\n  <thead>\n    <tr style=\"text-align: right;\">\n      <th></th>\n      <th>listing_id</th>\n      <th>id</th>\n      <th>date</th>\n      <th>reviewer_id</th>\n      <th>reviewer_name</th>\n      <th>comments</th>\n    </tr>\n  </thead>\n  <tbody>\n    <tr>\n      <th>0</th>\n      <td>7202016</td>\n      <td>38917982</td>\n      <td>2015-07-19</td>\n      <td>28943674</td>\n      <td>Bianca</td>\n      <td>Cute and cozy place. Perfect location to every...</td>\n    </tr>\n    <tr>\n      <th>1</th>\n      <td>7202016</td>\n      <td>39087409</td>\n      <td>2015-07-20</td>\n      <td>32440555</td>\n      <td>Frank</td>\n      <td>Kelly has a great room in a very central locat...</td>\n    </tr>\n    <tr>\n      <th>2</th>\n      <td>7202016</td>\n      <td>39820030</td>\n      <td>2015-07-26</td>\n      <td>37722850</td>\n      <td>Ian</td>\n      <td>Very spacious apartment, and in a great neighb...</td>\n    </tr>\n    <tr>\n      <th>3</th>\n      <td>7202016</td>\n      <td>40813543</td>\n      <td>2015-08-02</td>\n      <td>33671805</td>\n      <td>George</td>\n      <td>Close to Seattle Center and all it has to offe...</td>\n    </tr>\n    <tr>\n      <th>4</th>\n      <td>7202016</td>\n      <td>41986501</td>\n      <td>2015-08-10</td>\n      <td>34959538</td>\n      <td>Ming</td>\n      <td>Kelly was a great host and very accommodating ...</td>\n    </tr>\n  </tbody>\n</table>\n</div>"
     },
     "metadata": {},
     "execution_count": 6
    }
   ],
   "source": [
    "reviews_df.head()"
   ]
  }
 ]
}