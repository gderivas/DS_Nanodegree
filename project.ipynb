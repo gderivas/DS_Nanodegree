{
 "metadata": {
  "language_info": {
   "codemirror_mode": {
    "name": "ipython",
    "version": 3
   },
   "file_extension": ".py",
   "mimetype": "text/x-python",
   "name": "python",
   "nbconvert_exporter": "python",
   "pygments_lexer": "ipython3",
   "version": "3.6.5"
  },
  "orig_nbformat": 2,
  "kernelspec": {
   "name": "python365jvsc74a57bd0440fa7d4734cc652e3eca96dfd7337a53bccf15ac36cbbd646a5e88fd47fef39",
   "display_name": "Python 3.6.5 64-bit ('base': conda)"
  }
 },
 "nbformat": 4,
 "nbformat_minor": 2,
 "cells": [
  {
   "source": [
    "### Udacity Data Scientist Nanodegree - Part 1 Project\n",
    "\n",
    "For this project we are following the **CRISP-DM process**, which consists of the following parts:\n",
    "\n",
    "1. Business Understanding \n",
    "2. Data Understanding\n",
    "3. Data Preparation \n",
    "4. Modeling\n",
    "5. Evaluation\n",
    "6. Deployment"
   ],
   "cell_type": "markdown",
   "metadata": {}
  },
  {
   "source": [
    "### 1. Business Questions\n",
    "\n",
    "1. How does the availability varies during the year in Seattle?\n",
    "2. Which are the neighbourhoods (zip codes) with better price/review ratio?\n",
    "3. Can we predict the prices of the apartments?"
   ],
   "cell_type": "markdown",
   "metadata": {}
  },
  {
   "source": [
    "### 2. Data Understanding"
   ],
   "cell_type": "markdown",
   "metadata": {}
  },
  {
   "cell_type": "code",
   "execution_count": 684,
   "metadata": {},
   "outputs": [],
   "source": [
    "# Import libraries\n",
    "import numpy as np \n",
    "import pandas as pd\n",
    "import matplotlib.pyplot as plt"
   ]
  },
  {
   "cell_type": "code",
   "execution_count": 685,
   "metadata": {},
   "outputs": [],
   "source": [
    "# Load files into dataframes\n",
    "calendar_df = pd.read_csv('data/calendar.csv')\n",
    "listings_df = pd.read_csv('data/listings.csv')\n",
    "reviews_df = pd.read_csv('data/reviews.csv')"
   ]
  },
  {
   "cell_type": "code",
   "execution_count": null,
   "metadata": {},
   "outputs": [],
   "source": []
  },
  {
   "cell_type": "code",
   "execution_count": 686,
   "metadata": {},
   "outputs": [
    {
     "output_type": "execute_result",
     "data": {
      "text/plain": [
       "        id                           listing_url       scrape_id last_scraped  \\\n",
       "0   241032   https://www.airbnb.com/rooms/241032  20160104002432   2016-01-04   \n",
       "1   953595   https://www.airbnb.com/rooms/953595  20160104002432   2016-01-04   \n",
       "2  3308979  https://www.airbnb.com/rooms/3308979  20160104002432   2016-01-04   \n",
       "3  7421966  https://www.airbnb.com/rooms/7421966  20160104002432   2016-01-04   \n",
       "4   278830   https://www.airbnb.com/rooms/278830  20160104002432   2016-01-04   \n",
       "\n",
       "                                  name  \\\n",
       "0         Stylish Queen Anne Apartment   \n",
       "1   Bright & Airy Queen Anne Apartment   \n",
       "2  New Modern House-Amazing water view   \n",
       "3                   Queen Anne Chateau   \n",
       "4       Charming craftsman 3 bdm house   \n",
       "\n",
       "                                             summary  \\\n",
       "0                                                NaN   \n",
       "1  Chemically sensitive? We've removed the irrita...   \n",
       "2  New modern house built in 2013.  Spectacular s...   \n",
       "3  A charming apartment that sits atop Queen Anne...   \n",
       "4  Cozy family craftman house in beautiful neighb...   \n",
       "\n",
       "                                               space  \\\n",
       "0  Make your self at home in this charming one-be...   \n",
       "1  Beautiful, hypoallergenic apartment in an extr...   \n",
       "2  Our house is modern, light and fresh with a wa...   \n",
       "3                                                NaN   \n",
       "4  Cozy family craftman house in beautiful neighb...   \n",
       "\n",
       "                                         description experiences_offered  \\\n",
       "0  Make your self at home in this charming one-be...                none   \n",
       "1  Chemically sensitive? We've removed the irrita...                none   \n",
       "2  New modern house built in 2013.  Spectacular s...                none   \n",
       "3  A charming apartment that sits atop Queen Anne...                none   \n",
       "4  Cozy family craftman house in beautiful neighb...                none   \n",
       "\n",
       "                               neighborhood_overview  ... review_scores_value  \\\n",
       "0                                                NaN  ...                10.0   \n",
       "1  Queen Anne is a wonderful, truly functional vi...  ...                10.0   \n",
       "2  Upper Queen Anne is a charming neighborhood fu...  ...                10.0   \n",
       "3                                                NaN  ...                 NaN   \n",
       "4  We are in the beautiful neighborhood of Queen ...  ...                 9.0   \n",
       "\n",
       "  requires_license license jurisdiction_names instant_bookable  \\\n",
       "0                f     NaN         WASHINGTON                f   \n",
       "1                f     NaN         WASHINGTON                f   \n",
       "2                f     NaN         WASHINGTON                f   \n",
       "3                f     NaN         WASHINGTON                f   \n",
       "4                f     NaN         WASHINGTON                f   \n",
       "\n",
       "  cancellation_policy  require_guest_profile_picture  \\\n",
       "0            moderate                              f   \n",
       "1              strict                              t   \n",
       "2              strict                              f   \n",
       "3            flexible                              f   \n",
       "4              strict                              f   \n",
       "\n",
       "  require_guest_phone_verification calculated_host_listings_count  \\\n",
       "0                                f                              2   \n",
       "1                                t                              6   \n",
       "2                                f                              2   \n",
       "3                                f                              1   \n",
       "4                                f                              1   \n",
       "\n",
       "  reviews_per_month  \n",
       "0              4.07  \n",
       "1              1.48  \n",
       "2              1.15  \n",
       "3               NaN  \n",
       "4              0.89  \n",
       "\n",
       "[5 rows x 92 columns]"
      ],
      "text/html": "<div>\n<style scoped>\n    .dataframe tbody tr th:only-of-type {\n        vertical-align: middle;\n    }\n\n    .dataframe tbody tr th {\n        vertical-align: top;\n    }\n\n    .dataframe thead th {\n        text-align: right;\n    }\n</style>\n<table border=\"1\" class=\"dataframe\">\n  <thead>\n    <tr style=\"text-align: right;\">\n      <th></th>\n      <th>id</th>\n      <th>listing_url</th>\n      <th>scrape_id</th>\n      <th>last_scraped</th>\n      <th>name</th>\n      <th>summary</th>\n      <th>space</th>\n      <th>description</th>\n      <th>experiences_offered</th>\n      <th>neighborhood_overview</th>\n      <th>...</th>\n      <th>review_scores_value</th>\n      <th>requires_license</th>\n      <th>license</th>\n      <th>jurisdiction_names</th>\n      <th>instant_bookable</th>\n      <th>cancellation_policy</th>\n      <th>require_guest_profile_picture</th>\n      <th>require_guest_phone_verification</th>\n      <th>calculated_host_listings_count</th>\n      <th>reviews_per_month</th>\n    </tr>\n  </thead>\n  <tbody>\n    <tr>\n      <th>0</th>\n      <td>241032</td>\n      <td>https://www.airbnb.com/rooms/241032</td>\n      <td>20160104002432</td>\n      <td>2016-01-04</td>\n      <td>Stylish Queen Anne Apartment</td>\n      <td>NaN</td>\n      <td>Make your self at home in this charming one-be...</td>\n      <td>Make your self at home in this charming one-be...</td>\n      <td>none</td>\n      <td>NaN</td>\n      <td>...</td>\n      <td>10.0</td>\n      <td>f</td>\n      <td>NaN</td>\n      <td>WASHINGTON</td>\n      <td>f</td>\n      <td>moderate</td>\n      <td>f</td>\n      <td>f</td>\n      <td>2</td>\n      <td>4.07</td>\n    </tr>\n    <tr>\n      <th>1</th>\n      <td>953595</td>\n      <td>https://www.airbnb.com/rooms/953595</td>\n      <td>20160104002432</td>\n      <td>2016-01-04</td>\n      <td>Bright &amp; Airy Queen Anne Apartment</td>\n      <td>Chemically sensitive? We've removed the irrita...</td>\n      <td>Beautiful, hypoallergenic apartment in an extr...</td>\n      <td>Chemically sensitive? We've removed the irrita...</td>\n      <td>none</td>\n      <td>Queen Anne is a wonderful, truly functional vi...</td>\n      <td>...</td>\n      <td>10.0</td>\n      <td>f</td>\n      <td>NaN</td>\n      <td>WASHINGTON</td>\n      <td>f</td>\n      <td>strict</td>\n      <td>t</td>\n      <td>t</td>\n      <td>6</td>\n      <td>1.48</td>\n    </tr>\n    <tr>\n      <th>2</th>\n      <td>3308979</td>\n      <td>https://www.airbnb.com/rooms/3308979</td>\n      <td>20160104002432</td>\n      <td>2016-01-04</td>\n      <td>New Modern House-Amazing water view</td>\n      <td>New modern house built in 2013.  Spectacular s...</td>\n      <td>Our house is modern, light and fresh with a wa...</td>\n      <td>New modern house built in 2013.  Spectacular s...</td>\n      <td>none</td>\n      <td>Upper Queen Anne is a charming neighborhood fu...</td>\n      <td>...</td>\n      <td>10.0</td>\n      <td>f</td>\n      <td>NaN</td>\n      <td>WASHINGTON</td>\n      <td>f</td>\n      <td>strict</td>\n      <td>f</td>\n      <td>f</td>\n      <td>2</td>\n      <td>1.15</td>\n    </tr>\n    <tr>\n      <th>3</th>\n      <td>7421966</td>\n      <td>https://www.airbnb.com/rooms/7421966</td>\n      <td>20160104002432</td>\n      <td>2016-01-04</td>\n      <td>Queen Anne Chateau</td>\n      <td>A charming apartment that sits atop Queen Anne...</td>\n      <td>NaN</td>\n      <td>A charming apartment that sits atop Queen Anne...</td>\n      <td>none</td>\n      <td>NaN</td>\n      <td>...</td>\n      <td>NaN</td>\n      <td>f</td>\n      <td>NaN</td>\n      <td>WASHINGTON</td>\n      <td>f</td>\n      <td>flexible</td>\n      <td>f</td>\n      <td>f</td>\n      <td>1</td>\n      <td>NaN</td>\n    </tr>\n    <tr>\n      <th>4</th>\n      <td>278830</td>\n      <td>https://www.airbnb.com/rooms/278830</td>\n      <td>20160104002432</td>\n      <td>2016-01-04</td>\n      <td>Charming craftsman 3 bdm house</td>\n      <td>Cozy family craftman house in beautiful neighb...</td>\n      <td>Cozy family craftman house in beautiful neighb...</td>\n      <td>Cozy family craftman house in beautiful neighb...</td>\n      <td>none</td>\n      <td>We are in the beautiful neighborhood of Queen ...</td>\n      <td>...</td>\n      <td>9.0</td>\n      <td>f</td>\n      <td>NaN</td>\n      <td>WASHINGTON</td>\n      <td>f</td>\n      <td>strict</td>\n      <td>f</td>\n      <td>f</td>\n      <td>1</td>\n      <td>0.89</td>\n    </tr>\n  </tbody>\n</table>\n<p>5 rows × 92 columns</p>\n</div>"
     },
     "metadata": {},
     "execution_count": 686
    }
   ],
   "source": [
    "listings_df.head()"
   ]
  },
  {
   "cell_type": "code",
   "execution_count": 687,
   "metadata": {},
   "outputs": [
    {
     "output_type": "stream",
     "name": "stdout",
     "text": [
      "<class 'pandas.core.frame.DataFrame'>\nRangeIndex: 3818 entries, 0 to 3817\nData columns (total 92 columns):\n #   Column                            Non-Null Count  Dtype  \n---  ------                            --------------  -----  \n 0   id                                3818 non-null   int64  \n 1   listing_url                       3818 non-null   object \n 2   scrape_id                         3818 non-null   int64  \n 3   last_scraped                      3818 non-null   object \n 4   name                              3818 non-null   object \n 5   summary                           3641 non-null   object \n 6   space                             3249 non-null   object \n 7   description                       3818 non-null   object \n 8   experiences_offered               3818 non-null   object \n 9   neighborhood_overview             2786 non-null   object \n 10  notes                             2212 non-null   object \n 11  transit                           2884 non-null   object \n 12  thumbnail_url                     3498 non-null   object \n 13  medium_url                        3498 non-null   object \n 14  picture_url                       3818 non-null   object \n 15  xl_picture_url                    3498 non-null   object \n 16  host_id                           3818 non-null   int64  \n 17  host_url                          3818 non-null   object \n 18  host_name                         3816 non-null   object \n 19  host_since                        3816 non-null   object \n 20  host_location                     3810 non-null   object \n 21  host_about                        2959 non-null   object \n 22  host_response_time                3295 non-null   object \n 23  host_response_rate                3295 non-null   object \n 24  host_acceptance_rate              3045 non-null   object \n 25  host_is_superhost                 3816 non-null   object \n 26  host_thumbnail_url                3816 non-null   object \n 27  host_picture_url                  3816 non-null   object \n 28  host_neighbourhood                3518 non-null   object \n 29  host_listings_count               3816 non-null   float64\n 30  host_total_listings_count         3816 non-null   float64\n 31  host_verifications                3818 non-null   object \n 32  host_has_profile_pic              3816 non-null   object \n 33  host_identity_verified            3816 non-null   object \n 34  street                            3818 non-null   object \n 35  neighbourhood                     3402 non-null   object \n 36  neighbourhood_cleansed            3818 non-null   object \n 37  neighbourhood_group_cleansed      3818 non-null   object \n 38  city                              3818 non-null   object \n 39  state                             3818 non-null   object \n 40  zipcode                           3811 non-null   object \n 41  market                            3818 non-null   object \n 42  smart_location                    3818 non-null   object \n 43  country_code                      3818 non-null   object \n 44  country                           3818 non-null   object \n 45  latitude                          3818 non-null   float64\n 46  longitude                         3818 non-null   float64\n 47  is_location_exact                 3818 non-null   object \n 48  property_type                     3817 non-null   object \n 49  room_type                         3818 non-null   object \n 50  accommodates                      3818 non-null   int64  \n 51  bathrooms                         3802 non-null   float64\n 52  bedrooms                          3812 non-null   float64\n 53  beds                              3817 non-null   float64\n 54  bed_type                          3818 non-null   object \n 55  amenities                         3818 non-null   object \n 56  square_feet                       97 non-null     float64\n 57  price                             3818 non-null   object \n 58  weekly_price                      2009 non-null   object \n 59  monthly_price                     1517 non-null   object \n 60  security_deposit                  1866 non-null   object \n 61  cleaning_fee                      2788 non-null   object \n 62  guests_included                   3818 non-null   int64  \n 63  extra_people                      3818 non-null   object \n 64  minimum_nights                    3818 non-null   int64  \n 65  maximum_nights                    3818 non-null   int64  \n 66  calendar_updated                  3818 non-null   object \n 67  has_availability                  3818 non-null   object \n 68  availability_30                   3818 non-null   int64  \n 69  availability_60                   3818 non-null   int64  \n 70  availability_90                   3818 non-null   int64  \n 71  availability_365                  3818 non-null   int64  \n 72  calendar_last_scraped             3818 non-null   object \n 73  number_of_reviews                 3818 non-null   int64  \n 74  first_review                      3191 non-null   object \n 75  last_review                       3191 non-null   object \n 76  review_scores_rating              3171 non-null   float64\n 77  review_scores_accuracy            3160 non-null   float64\n 78  review_scores_cleanliness         3165 non-null   float64\n 79  review_scores_checkin             3160 non-null   float64\n 80  review_scores_communication       3167 non-null   float64\n 81  review_scores_location            3163 non-null   float64\n 82  review_scores_value               3162 non-null   float64\n 83  requires_license                  3818 non-null   object \n 84  license                           0 non-null      float64\n 85  jurisdiction_names                3818 non-null   object \n 86  instant_bookable                  3818 non-null   object \n 87  cancellation_policy               3818 non-null   object \n 88  require_guest_profile_picture     3818 non-null   object \n 89  require_guest_phone_verification  3818 non-null   object \n 90  calculated_host_listings_count    3818 non-null   int64  \n 91  reviews_per_month                 3191 non-null   float64\ndtypes: float64(17), int64(13), object(62)\nmemory usage: 2.7+ MB\n"
     ]
    }
   ],
   "source": [
    "listings_df.info()"
   ]
  },
  {
   "cell_type": "code",
   "execution_count": 688,
   "metadata": {},
   "outputs": [
    {
     "output_type": "execute_result",
     "data": {
      "text/plain": [
       "(3818, 92)"
      ]
     },
     "metadata": {},
     "execution_count": 688
    }
   ],
   "source": [
    "# Number of appartments and features\n",
    "listings_df.shape"
   ]
  },
  {
   "cell_type": "code",
   "execution_count": 689,
   "metadata": {},
   "outputs": [
    {
     "output_type": "execute_result",
     "data": {
      "text/plain": [
       "license                        3818\n",
       "square_feet                    3721\n",
       "monthly_price                  2301\n",
       "security_deposit               1952\n",
       "weekly_price                   1809\n",
       "notes                          1606\n",
       "neighborhood_overview          1032\n",
       "cleaning_fee                   1030\n",
       "transit                         934\n",
       "host_about                      859\n",
       "host_acceptance_rate            773\n",
       "review_scores_accuracy          658\n",
       "review_scores_checkin           658\n",
       "review_scores_value             656\n",
       "review_scores_location          655\n",
       "review_scores_cleanliness       653\n",
       "review_scores_communication     651\n",
       "review_scores_rating            647\n",
       "reviews_per_month               627\n",
       "first_review                    627\n",
       "last_review                     627\n",
       "space                           569\n",
       "host_response_time              523\n",
       "host_response_rate              523\n",
       "neighbourhood                   416\n",
       "thumbnail_url                   320\n",
       "medium_url                      320\n",
       "xl_picture_url                  320\n",
       "host_neighbourhood              300\n",
       "summary                         177\n",
       "bathrooms                        16\n",
       "host_location                     8\n",
       "zipcode                           7\n",
       "bedrooms                          6\n",
       "host_is_superhost                 2\n",
       "host_thumbnail_url                2\n",
       "host_picture_url                  2\n",
       "host_listings_count               2\n",
       "host_since                        2\n",
       "host_name                         2\n",
       "host_total_listings_count         2\n",
       "host_has_profile_pic              2\n",
       "host_identity_verified            2\n",
       "property_type                     1\n",
       "beds                              1\n",
       "dtype: int64"
      ]
     },
     "metadata": {},
     "execution_count": 689
    }
   ],
   "source": [
    "# List of columns wit NaN values\n",
    "listings_df.isnull().sum()[listings_df.isnull().sum()>0].sort_values(ascending=False)"
   ]
  },
  {
   "cell_type": "code",
   "execution_count": 690,
   "metadata": {},
   "outputs": [],
   "source": [
    "# We could drop the columns with more than 50% of NaNs\n",
    "drop_NaNs = ['license', 'square_feet', 'monthly_price','security_deposit']"
   ]
  },
  {
   "cell_type": "code",
   "execution_count": 691,
   "metadata": {},
   "outputs": [
    {
     "output_type": "execute_result",
     "data": {
      "text/plain": [
       "object     62\n",
       "float64    17\n",
       "int64      13\n",
       "dtype: int64"
      ]
     },
     "metadata": {},
     "execution_count": 691
    }
   ],
   "source": [
    "# Types of data\n",
    "listings_df.dtypes.value_counts()"
   ]
  },
  {
   "cell_type": "code",
   "execution_count": 692,
   "metadata": {},
   "outputs": [
    {
     "output_type": "execute_result",
     "data": {
      "text/plain": [
       "strict      1417\n",
       "moderate    1251\n",
       "flexible    1150\n",
       "Name: cancellation_policy, dtype: int64"
      ]
     },
     "metadata": {},
     "execution_count": 692
    }
   ],
   "source": [
    "# Cancellation Policies\n",
    "listings_df.cancellation_policy.value_counts()"
   ]
  },
  {
   "cell_type": "code",
   "execution_count": 693,
   "metadata": {},
   "outputs": [
    {
     "output_type": "execute_result",
     "data": {
      "text/plain": [
       "1.0    2882\n",
       "2.0     373\n",
       "1.5     248\n",
       "2.5     124\n",
       "3.0      64\n",
       "3.5      57\n",
       "0.5      31\n",
       "0.0       8\n",
       "4.0       8\n",
       "4.5       3\n",
       "5.0       2\n",
       "8.0       2\n",
       "Name: bathrooms, dtype: int64"
      ]
     },
     "metadata": {},
     "execution_count": 693
    }
   ],
   "source": [
    "# Number of bathrooms\n",
    "listings_df.bathrooms.value_counts()"
   ]
  },
  {
   "cell_type": "code",
   "execution_count": 694,
   "metadata": {},
   "outputs": [
    {
     "output_type": "execute_result",
     "data": {
      "text/plain": [
       "bathrooms\n",
       "8.0    10.000000\n",
       "4.5     9.666667\n",
       "2.5     9.556701\n",
       "1.5     9.544554\n",
       "3.5     9.540000\n",
       "4.0     9.500000\n",
       "0.0     9.500000\n",
       "1.0     9.455339\n",
       "2.0     9.389439\n",
       "3.0     9.377358\n",
       "5.0     9.000000\n",
       "0.5     8.857143\n",
       "Name: review_scores_value, dtype: float64"
      ]
     },
     "metadata": {},
     "execution_count": 694
    }
   ],
   "source": [
    "# Influence of number of bathrooms with review score\n",
    "listings_df.groupby(['bathrooms'])['review_scores_value'].mean().sort_values(ascending=False)"
   ]
  },
  {
   "source": [
    "It seems that the number of bathrooms does not impact in the review scores (Less the number is huge!)"
   ],
   "cell_type": "markdown",
   "metadata": {}
  },
  {
   "cell_type": "code",
   "execution_count": 695,
   "metadata": {},
   "outputs": [
    {
     "output_type": "execute_result",
     "data": {
      "text/plain": [
       "scrape_id                1\n",
       "last_scraped             1\n",
       "experiences_offered      1\n",
       "market                   1\n",
       "country_code             1\n",
       "country                  1\n",
       "has_availability         1\n",
       "calendar_last_scraped    1\n",
       "requires_license         1\n",
       "jurisdiction_names       1\n",
       "dtype: int64"
      ]
     },
     "metadata": {},
     "execution_count": 695
    }
   ],
   "source": [
    "# Columns with low variability\n",
    "listings_df.nunique()[listings_df.nunique()==1]"
   ]
  },
  {
   "cell_type": "code",
   "execution_count": 696,
   "metadata": {},
   "outputs": [],
   "source": [
    "# We could drop these columns\n",
    "drop_low_variability = list(listings_df.nunique()[listings_df.nunique()==1].index)"
   ]
  },
  {
   "cell_type": "code",
   "execution_count": 697,
   "metadata": {},
   "outputs": [],
   "source": [
    "# Columns that could be boolean\n",
    "could_boolean = list(listings_df.nunique()[listings_df.nunique()==2].index)"
   ]
  },
  {
   "cell_type": "code",
   "execution_count": 698,
   "metadata": {},
   "outputs": [
    {
     "output_type": "execute_result",
     "data": {
      "text/plain": [
       "host_acceptance_rate                object\n",
       "host_is_superhost                   object\n",
       "host_has_profile_pic                object\n",
       "host_identity_verified              object\n",
       "state                               object\n",
       "is_location_exact                   object\n",
       "instant_bookable                    object\n",
       "require_guest_profile_picture       object\n",
       "require_guest_phone_verification    object\n",
       "dtype: object"
      ]
     },
     "metadata": {},
     "execution_count": 698
    }
   ],
   "source": [
    "listings_df[could_boolean].dtypes"
   ]
  },
  {
   "source": [
    "No one of these columns are boolean, so this is something we should treat in the next chapter"
   ],
   "cell_type": "markdown",
   "metadata": {}
  },
  {
   "cell_type": "code",
   "execution_count": 699,
   "metadata": {},
   "outputs": [
    {
     "output_type": "execute_result",
     "data": {
      "text/plain": [
       "['price', 'weekly_price', 'monthly_price']"
      ]
     },
     "metadata": {},
     "execution_count": 699
    }
   ],
   "source": [
    "price_columns = [column for column in listings_df.columns if 'price' in column]\n",
    "price_columns"
   ]
  },
  {
   "cell_type": "code",
   "execution_count": 700,
   "metadata": {},
   "outputs": [
    {
     "output_type": "execute_result",
     "data": {
      "text/plain": [
       "['host_id',\n",
       " 'host_url',\n",
       " 'host_name',\n",
       " 'host_since',\n",
       " 'host_location',\n",
       " 'host_about',\n",
       " 'host_response_time',\n",
       " 'host_response_rate',\n",
       " 'host_acceptance_rate',\n",
       " 'host_is_superhost',\n",
       " 'host_thumbnail_url',\n",
       " 'host_picture_url',\n",
       " 'host_neighbourhood',\n",
       " 'host_listings_count',\n",
       " 'host_total_listings_count',\n",
       " 'host_verifications',\n",
       " 'host_has_profile_pic',\n",
       " 'host_identity_verified',\n",
       " 'calculated_host_listings_count']"
      ]
     },
     "metadata": {},
     "execution_count": 700
    }
   ],
   "source": [
    "host_columns = [column for column in listings_df.columns if 'host' in column]\n",
    "host_columns"
   ]
  },
  {
   "cell_type": "code",
   "execution_count": 701,
   "metadata": {},
   "outputs": [
    {
     "output_type": "execute_result",
     "data": {
      "text/plain": [
       "['number_of_reviews',\n",
       " 'first_review',\n",
       " 'last_review',\n",
       " 'review_scores_rating',\n",
       " 'review_scores_accuracy',\n",
       " 'review_scores_cleanliness',\n",
       " 'review_scores_checkin',\n",
       " 'review_scores_communication',\n",
       " 'review_scores_location',\n",
       " 'review_scores_value',\n",
       " 'reviews_per_month']"
      ]
     },
     "metadata": {},
     "execution_count": 701
    }
   ],
   "source": [
    "review_columns = [column for column in listings_df.columns if 'review' in column]\n",
    "review_columns"
   ]
  },
  {
   "cell_type": "code",
   "execution_count": 702,
   "metadata": {},
   "outputs": [
    {
     "output_type": "execute_result",
     "data": {
      "text/plain": [
       "   listing_id        date available   price\n",
       "0      241032  2016-01-04         t  $85.00\n",
       "1      241032  2016-01-05         t  $85.00\n",
       "2      241032  2016-01-06         f     NaN\n",
       "3      241032  2016-01-07         f     NaN\n",
       "4      241032  2016-01-08         f     NaN"
      ],
      "text/html": "<div>\n<style scoped>\n    .dataframe tbody tr th:only-of-type {\n        vertical-align: middle;\n    }\n\n    .dataframe tbody tr th {\n        vertical-align: top;\n    }\n\n    .dataframe thead th {\n        text-align: right;\n    }\n</style>\n<table border=\"1\" class=\"dataframe\">\n  <thead>\n    <tr style=\"text-align: right;\">\n      <th></th>\n      <th>listing_id</th>\n      <th>date</th>\n      <th>available</th>\n      <th>price</th>\n    </tr>\n  </thead>\n  <tbody>\n    <tr>\n      <th>0</th>\n      <td>241032</td>\n      <td>2016-01-04</td>\n      <td>t</td>\n      <td>$85.00</td>\n    </tr>\n    <tr>\n      <th>1</th>\n      <td>241032</td>\n      <td>2016-01-05</td>\n      <td>t</td>\n      <td>$85.00</td>\n    </tr>\n    <tr>\n      <th>2</th>\n      <td>241032</td>\n      <td>2016-01-06</td>\n      <td>f</td>\n      <td>NaN</td>\n    </tr>\n    <tr>\n      <th>3</th>\n      <td>241032</td>\n      <td>2016-01-07</td>\n      <td>f</td>\n      <td>NaN</td>\n    </tr>\n    <tr>\n      <th>4</th>\n      <td>241032</td>\n      <td>2016-01-08</td>\n      <td>f</td>\n      <td>NaN</td>\n    </tr>\n  </tbody>\n</table>\n</div>"
     },
     "metadata": {},
     "execution_count": 702
    }
   ],
   "source": [
    "calendar_df.head()"
   ]
  },
  {
   "cell_type": "code",
   "execution_count": 703,
   "metadata": {},
   "outputs": [
    {
     "output_type": "stream",
     "name": "stdout",
     "text": [
      "<class 'pandas.core.frame.DataFrame'>\nRangeIndex: 1393570 entries, 0 to 1393569\nData columns (total 4 columns):\n #   Column      Non-Null Count    Dtype \n---  ------      --------------    ----- \n 0   listing_id  1393570 non-null  int64 \n 1   date        1393570 non-null  object\n 2   available   1393570 non-null  object\n 3   price       934542 non-null   object\ndtypes: int64(1), object(3)\nmemory usage: 42.5+ MB\n"
     ]
    }
   ],
   "source": [
    "calendar_df.info()"
   ]
  },
  {
   "cell_type": "code",
   "execution_count": 704,
   "metadata": {},
   "outputs": [
    {
     "output_type": "execute_result",
     "data": {
      "text/plain": [
       "listing_id         0\n",
       "date               0\n",
       "available          0\n",
       "price         459028\n",
       "dtype: int64"
      ]
     },
     "metadata": {},
     "execution_count": 704
    }
   ],
   "source": [
    "calendar_df.isnull().sum()"
   ]
  },
  {
   "cell_type": "code",
   "execution_count": 705,
   "metadata": {},
   "outputs": [
    {
     "output_type": "execute_result",
     "data": {
      "text/plain": [
       "(1393570, 4)"
      ]
     },
     "metadata": {},
     "execution_count": 705
    }
   ],
   "source": [
    "calendar_df.shape"
   ]
  },
  {
   "source": [
    "Let's compare the price values for a listing between the calendar and listing dataframes"
   ],
   "cell_type": "markdown",
   "metadata": {}
  },
  {
   "cell_type": "code",
   "execution_count": 706,
   "metadata": {},
   "outputs": [
    {
     "output_type": "execute_result",
     "data": {
      "text/plain": [
       "(953595, '$150.00')"
      ]
     },
     "metadata": {},
     "execution_count": 706
    }
   ],
   "source": [
    "listings_df.id[1], listings_df.price[1]"
   ]
  },
  {
   "cell_type": "code",
   "execution_count": 707,
   "metadata": {},
   "outputs": [
    {
     "output_type": "execute_result",
     "data": {
      "text/plain": [
       "$125.00    37\n",
       "$144.00     7\n",
       "$158.00     7\n",
       "$190.00     7\n",
       "$186.00     6\n",
       "           ..\n",
       "$141.00     1\n",
       "$197.00     1\n",
       "$294.00     1\n",
       "$159.00     1\n",
       "$400.00     1\n",
       "Name: price, Length: 92, dtype: int64"
      ]
     },
     "metadata": {},
     "execution_count": 707
    }
   ],
   "source": [
    "calendar_df[calendar_df.listing_id == listings_df.id[1]].dropna(subset=['price'])['price'].value_counts()"
   ]
  },
  {
   "source": [
    "For some cases the price is fix and the value is the same in both df, in other cases the price may vary. When we clean the data, we will adress it and see if the mean is taken for the listing dataframe"
   ],
   "cell_type": "markdown",
   "metadata": {}
  },
  {
   "source": [
    "** Data Preparation needed for Listings DF**\n",
    "\n",
    "- select which columns use\n",
    "- differenciate cat/num columms\n",
    "- check if types\n",
    "- decide which drop\n",
    "- clean columns and fillna"
   ],
   "cell_type": "markdown",
   "metadata": {}
  },
  {
   "source": [
    "**Data Preparation needed Calendar DF**\n",
    "\n",
    "- date to datetime\n",
    "- available boolean -> True/False -> Get dummies\n",
    "- price should be float\n",
    "- Merge with listings_df in new df"
   ],
   "cell_type": "markdown",
   "metadata": {}
  },
  {
   "source": [
    "### 3. Data Preparation"
   ],
   "cell_type": "markdown",
   "metadata": {}
  },
  {
   "cell_type": "code",
   "execution_count": 708,
   "metadata": {},
   "outputs": [],
   "source": [
    "# Calendar_df\n",
    "\n",
    "# Convert date to correct format\n",
    "calendar_df.date = pd.to_datetime(calendar_df.date)\n",
    "\n",
    "# Convert price NaNs to \"0\" and object to float \n",
    "calendar_df.price = calendar_df.price.str.replace('$','').str.replace(',','')\n",
    "calendar_df.price.fillna(0, inplace=True)\n",
    "calendar_df.price = calendar_df.price.astype('float64')\n",
    "\n",
    "# Set availability to boolean (0,1)\n",
    "def map_boolean(dfs):\n",
    "    mapping = {'t':1,'f':0}\n",
    "    dfs = dfs.map(mapping).astype(np.uint8)\n",
    "    return dfs\n",
    "\n",
    "calendar_df.available = map_boolean(calendar_df.available)"
   ]
  },
  {
   "cell_type": "code",
   "execution_count": 709,
   "metadata": {},
   "outputs": [],
   "source": [
    "# Listings_df\n",
    "df_l = listings_df.copy()\n",
    "\n",
    "# Drop previous selected columns\n",
    "df_l.drop(drop_low_variability,axis=1, inplace=True)\n",
    "df_l.drop(drop_NaNs,axis=1, inplace=True)\n",
    "\n",
    "# Select only necessary columns\n",
    "selected = ['id','neighbourhood','zipcode','smart_location', 'latitude', 'longitude', 'is_location_exact',\n",
    "       'property_type', 'room_type', 'accommodates', 'bathrooms', 'bedrooms',\n",
    "       'beds', 'bed_type', 'amenities', 'price', 'weekly_price',\n",
    "       'cleaning_fee', 'guests_included', 'extra_people', 'minimum_nights',\n",
    "       'maximum_nights','availability_30',\n",
    "       'availability_60', 'availability_90', 'availability_365',\n",
    "       'number_of_reviews','review_scores_rating', 'review_scores_accuracy',\n",
    "       'review_scores_cleanliness', 'review_scores_checkin',\n",
    "       'review_scores_communication', 'review_scores_location',\n",
    "       'review_scores_value', 'instant_bookable', 'cancellation_policy',\n",
    "       'require_guest_profile_picture', 'require_guest_phone_verification',\n",
    "       'calculated_host_listings_count', 'reviews_per_month']\n",
    "\n",
    "df_l = df_l[selected]\n",
    "\n",
    "# Change f/t to 0/1\n",
    "bool_col = list(df_l.nunique()[df_l.nunique()==2].index)\n",
    "for col in bool_col:\n",
    "    df_l[col] = map_boolean(df_l[col])\n",
    "\n",
    "# price,weekly_price,cleaning_fee,extra_people should be floats\n",
    "for col in ['price','weekly_price','cleaning_fee','extra_people']:\n",
    "    df_l[col] = df_l[col].str.replace('$','').str.replace(',','')\n",
    "    df_l[col] = df_l[col].astype('float64')\n",
    "    df_l[col].fillna(df_l[col].mean(), inplace=True)\n",
    "    \n",
    "\n",
    "# Select continous and categorical columns\n",
    "cont_cols = df_l.select_dtypes(exclude=['object'])\n",
    "cat_cols = df_l.select_dtypes(include=['object'])"
   ]
  },
  {
   "cell_type": "code",
   "execution_count": 711,
   "metadata": {},
   "outputs": [
    {
     "output_type": "execute_result",
     "data": {
      "text/plain": [
       "bathrooms                       16\n",
       "bedrooms                         6\n",
       "beds                             1\n",
       "review_scores_rating           647\n",
       "review_scores_accuracy         658\n",
       "review_scores_cleanliness      653\n",
       "review_scores_checkin          658\n",
       "review_scores_communication    651\n",
       "review_scores_location         655\n",
       "review_scores_value            656\n",
       "reviews_per_month              627\n",
       "dtype: int64"
      ]
     },
     "metadata": {},
     "execution_count": 711
    }
   ],
   "source": [
    "# Continous columns with missing values\n",
    "cont_cols.isnull().sum()[cont_cols.isnull().sum()>0]"
   ]
  },
  {
   "cell_type": "code",
   "execution_count": 712,
   "metadata": {},
   "outputs": [
    {
     "output_type": "stream",
     "name": "stderr",
     "text": [
      "C:\\Users\\Guillermo\\Anaconda3\\lib\\site-packages\\pandas\\core\\series.py:4536: SettingWithCopyWarning: \nA value is trying to be set on a copy of a slice from a DataFrame\n\nSee the caveats in the documentation: https://pandas.pydata.org/pandas-docs/stable/user_guide/indexing.html#returning-a-view-versus-a-copy\n  downcast=downcast,\n"
     ]
    }
   ],
   "source": [
    "# Fill missing values with the mean\n",
    "for  col in cont_cols.columns:\n",
    "    cont_cols[col].fillna(cont_cols[col].mean(),inplace=True)"
   ]
  },
  {
   "cell_type": "code",
   "execution_count": 713,
   "metadata": {},
   "outputs": [
    {
     "output_type": "execute_result",
     "data": {
      "text/plain": [
       "neighbourhood            81\n",
       "zipcode                  28\n",
       "smart_location            7\n",
       "property_type            16\n",
       "room_type                 3\n",
       "bed_type                  5\n",
       "amenities              3284\n",
       "cancellation_policy       3\n",
       "dtype: int64"
      ]
     },
     "metadata": {},
     "execution_count": 713
    }
   ],
   "source": [
    "# How manu different values are for the catergorical columns\r\n",
    "cat_cols.nunique()"
   ]
  },
  {
   "source": [
    "We see here that amenities has too many different values. This could be a dimensionality problem for get dummies. Maybe we could just count how manu amenities is a listing offering and treat the column as continous one."
   ],
   "cell_type": "markdown",
   "metadata": {}
  },
  {
   "cell_type": "code",
   "execution_count": 714,
   "metadata": {},
   "outputs": [
    {
     "output_type": "stream",
     "name": "stderr",
     "text": [
      "C:\\Users\\Guillermo\\Anaconda3\\lib\\site-packages\\pandas\\core\\generic.py:5170: SettingWithCopyWarning: \nA value is trying to be set on a copy of a slice from a DataFrame.\nTry using .loc[row_indexer,col_indexer] = value instead\n\nSee the caveats in the documentation: https://pandas.pydata.org/pandas-docs/stable/user_guide/indexing.html#returning-a-view-versus-a-copy\n  self[name] = value\n"
     ]
    }
   ],
   "source": [
    "cat_cols.amenities = [len(amenitie.split(',')) for amenitie in cat_cols.amenities]"
   ]
  },
  {
   "cell_type": "code",
   "execution_count": 715,
   "metadata": {},
   "outputs": [],
   "source": [
    "cont_cols = pd.concat([cont_cols, cat_cols.amenities],axis=1)"
   ]
  },
  {
   "cell_type": "code",
   "execution_count": 716,
   "metadata": {},
   "outputs": [
    {
     "output_type": "stream",
     "name": "stderr",
     "text": [
      "C:\\Users\\Guillermo\\Anaconda3\\lib\\site-packages\\pandas\\core\\frame.py:4174: SettingWithCopyWarning: \nA value is trying to be set on a copy of a slice from a DataFrame\n\nSee the caveats in the documentation: https://pandas.pydata.org/pandas-docs/stable/user_guide/indexing.html#returning-a-view-versus-a-copy\n  errors=errors,\n"
     ]
    }
   ],
   "source": [
    "cat_cols.drop(['amenities'],axis=1,inplace=True)"
   ]
  },
  {
   "cell_type": "code",
   "execution_count": 717,
   "metadata": {},
   "outputs": [
    {
     "output_type": "execute_result",
     "data": {
      "text/plain": [
       "neighbourhood    416\n",
       "zipcode            7\n",
       "property_type      1\n",
       "dtype: int64"
      ]
     },
     "metadata": {},
     "execution_count": 717
    }
   ],
   "source": [
    "# Categorical columns with missing values\n",
    "cat_cols.isnull().sum()[cat_cols.isnull().sum()>0]"
   ]
  },
  {
   "source": [
    "We can't use the categorical columns directly, so we have to preprocess them with get_dummies:"
   ],
   "cell_type": "markdown",
   "metadata": {}
  },
  {
   "cell_type": "code",
   "execution_count": 718,
   "metadata": {},
   "outputs": [],
   "source": [
    "for col in cat_cols.columns:\n",
    "    cat_cols = pd.concat([cat_cols.drop([col],axis=1),pd.get_dummies(cat_cols[col], prefix=col, prefix_sep = '_',dummy_na=True)],axis=1)"
   ]
  },
  {
   "cell_type": "code",
   "execution_count": 719,
   "metadata": {},
   "outputs": [
    {
     "output_type": "execute_result",
     "data": {
      "text/plain": [
       "      neighbourhood_Alki  neighbourhood_Arbor Heights  neighbourhood_Atlantic  \\\n",
       "0                      0                            0                       0   \n",
       "1                      0                            0                       0   \n",
       "2                      0                            0                       0   \n",
       "3                      0                            0                       0   \n",
       "4                      0                            0                       0   \n",
       "...                  ...                          ...                     ...   \n",
       "3813                   0                            0                       0   \n",
       "3814                   0                            0                       0   \n",
       "3815                   0                            0                       0   \n",
       "3816                   0                            0                       0   \n",
       "3817                   0                            0                       0   \n",
       "\n",
       "      neighbourhood_Ballard  neighbourhood_Belltown  \\\n",
       "0                         0                       0   \n",
       "1                         0                       0   \n",
       "2                         0                       0   \n",
       "3                         0                       0   \n",
       "4                         0                       0   \n",
       "...                     ...                     ...   \n",
       "3813                      0                       0   \n",
       "3814                      0                       0   \n",
       "3815                      0                       0   \n",
       "3816                      0                       0   \n",
       "3817                      0                       0   \n",
       "\n",
       "      neighbourhood_Bitter Lake  neighbourhood_Brighton  \\\n",
       "0                             0                       0   \n",
       "1                             0                       0   \n",
       "2                             0                       0   \n",
       "3                             0                       0   \n",
       "4                             0                       0   \n",
       "...                         ...                     ...   \n",
       "3813                          0                       0   \n",
       "3814                          0                       0   \n",
       "3815                          0                       0   \n",
       "3816                          0                       0   \n",
       "3817                          0                       0   \n",
       "\n",
       "      neighbourhood_Broadview  neighbourhood_Broadway  neighbourhood_Bryant  \\\n",
       "0                           0                       0                     0   \n",
       "1                           0                       0                     0   \n",
       "2                           0                       0                     0   \n",
       "3                           0                       0                     0   \n",
       "4                           0                       0                     0   \n",
       "...                       ...                     ...                   ...   \n",
       "3813                        0                       0                     0   \n",
       "3814                        0                       0                     0   \n",
       "3815                        0                       0                     0   \n",
       "3816                        0                       0                     0   \n",
       "3817                        0                       0                     0   \n",
       "\n",
       "      ...  bed_type_Airbed  bed_type_Couch  bed_type_Futon  \\\n",
       "0     ...                0               0               0   \n",
       "1     ...                0               0               0   \n",
       "2     ...                0               0               0   \n",
       "3     ...                0               0               0   \n",
       "4     ...                0               0               0   \n",
       "...   ...              ...             ...             ...   \n",
       "3813  ...                0               0               0   \n",
       "3814  ...                0               0               0   \n",
       "3815  ...                0               0               0   \n",
       "3816  ...                0               0               0   \n",
       "3817  ...                0               0               0   \n",
       "\n",
       "      bed_type_Pull-out Sofa  bed_type_Real Bed  bed_type_nan  \\\n",
       "0                          0                  1             0   \n",
       "1                          0                  1             0   \n",
       "2                          0                  1             0   \n",
       "3                          0                  1             0   \n",
       "4                          0                  1             0   \n",
       "...                      ...                ...           ...   \n",
       "3813                       0                  1             0   \n",
       "3814                       0                  1             0   \n",
       "3815                       0                  1             0   \n",
       "3816                       0                  1             0   \n",
       "3817                       0                  1             0   \n",
       "\n",
       "      cancellation_policy_flexible  cancellation_policy_moderate  \\\n",
       "0                                0                             1   \n",
       "1                                0                             0   \n",
       "2                                0                             0   \n",
       "3                                1                             0   \n",
       "4                                0                             0   \n",
       "...                            ...                           ...   \n",
       "3813                             0                             0   \n",
       "3814                             0                             1   \n",
       "3815                             0                             1   \n",
       "3816                             0                             1   \n",
       "3817                             1                             0   \n",
       "\n",
       "      cancellation_policy_strict  cancellation_policy_nan  \n",
       "0                              0                        0  \n",
       "1                              1                        0  \n",
       "2                              1                        0  \n",
       "3                              0                        0  \n",
       "4                              1                        0  \n",
       "...                          ...                      ...  \n",
       "3813                           1                        0  \n",
       "3814                           0                        0  \n",
       "3815                           0                        0  \n",
       "3816                           0                        0  \n",
       "3817                           0                        0  \n",
       "\n",
       "[3818 rows x 150 columns]"
      ],
      "text/html": "<div>\n<style scoped>\n    .dataframe tbody tr th:only-of-type {\n        vertical-align: middle;\n    }\n\n    .dataframe tbody tr th {\n        vertical-align: top;\n    }\n\n    .dataframe thead th {\n        text-align: right;\n    }\n</style>\n<table border=\"1\" class=\"dataframe\">\n  <thead>\n    <tr style=\"text-align: right;\">\n      <th></th>\n      <th>neighbourhood_Alki</th>\n      <th>neighbourhood_Arbor Heights</th>\n      <th>neighbourhood_Atlantic</th>\n      <th>neighbourhood_Ballard</th>\n      <th>neighbourhood_Belltown</th>\n      <th>neighbourhood_Bitter Lake</th>\n      <th>neighbourhood_Brighton</th>\n      <th>neighbourhood_Broadview</th>\n      <th>neighbourhood_Broadway</th>\n      <th>neighbourhood_Bryant</th>\n      <th>...</th>\n      <th>bed_type_Airbed</th>\n      <th>bed_type_Couch</th>\n      <th>bed_type_Futon</th>\n      <th>bed_type_Pull-out Sofa</th>\n      <th>bed_type_Real Bed</th>\n      <th>bed_type_nan</th>\n      <th>cancellation_policy_flexible</th>\n      <th>cancellation_policy_moderate</th>\n      <th>cancellation_policy_strict</th>\n      <th>cancellation_policy_nan</th>\n    </tr>\n  </thead>\n  <tbody>\n    <tr>\n      <th>0</th>\n      <td>0</td>\n      <td>0</td>\n      <td>0</td>\n      <td>0</td>\n      <td>0</td>\n      <td>0</td>\n      <td>0</td>\n      <td>0</td>\n      <td>0</td>\n      <td>0</td>\n      <td>...</td>\n      <td>0</td>\n      <td>0</td>\n      <td>0</td>\n      <td>0</td>\n      <td>1</td>\n      <td>0</td>\n      <td>0</td>\n      <td>1</td>\n      <td>0</td>\n      <td>0</td>\n    </tr>\n    <tr>\n      <th>1</th>\n      <td>0</td>\n      <td>0</td>\n      <td>0</td>\n      <td>0</td>\n      <td>0</td>\n      <td>0</td>\n      <td>0</td>\n      <td>0</td>\n      <td>0</td>\n      <td>0</td>\n      <td>...</td>\n      <td>0</td>\n      <td>0</td>\n      <td>0</td>\n      <td>0</td>\n      <td>1</td>\n      <td>0</td>\n      <td>0</td>\n      <td>0</td>\n      <td>1</td>\n      <td>0</td>\n    </tr>\n    <tr>\n      <th>2</th>\n      <td>0</td>\n      <td>0</td>\n      <td>0</td>\n      <td>0</td>\n      <td>0</td>\n      <td>0</td>\n      <td>0</td>\n      <td>0</td>\n      <td>0</td>\n      <td>0</td>\n      <td>...</td>\n      <td>0</td>\n      <td>0</td>\n      <td>0</td>\n      <td>0</td>\n      <td>1</td>\n      <td>0</td>\n      <td>0</td>\n      <td>0</td>\n      <td>1</td>\n      <td>0</td>\n    </tr>\n    <tr>\n      <th>3</th>\n      <td>0</td>\n      <td>0</td>\n      <td>0</td>\n      <td>0</td>\n      <td>0</td>\n      <td>0</td>\n      <td>0</td>\n      <td>0</td>\n      <td>0</td>\n      <td>0</td>\n      <td>...</td>\n      <td>0</td>\n      <td>0</td>\n      <td>0</td>\n      <td>0</td>\n      <td>1</td>\n      <td>0</td>\n      <td>1</td>\n      <td>0</td>\n      <td>0</td>\n      <td>0</td>\n    </tr>\n    <tr>\n      <th>4</th>\n      <td>0</td>\n      <td>0</td>\n      <td>0</td>\n      <td>0</td>\n      <td>0</td>\n      <td>0</td>\n      <td>0</td>\n      <td>0</td>\n      <td>0</td>\n      <td>0</td>\n      <td>...</td>\n      <td>0</td>\n      <td>0</td>\n      <td>0</td>\n      <td>0</td>\n      <td>1</td>\n      <td>0</td>\n      <td>0</td>\n      <td>0</td>\n      <td>1</td>\n      <td>0</td>\n    </tr>\n    <tr>\n      <th>...</th>\n      <td>...</td>\n      <td>...</td>\n      <td>...</td>\n      <td>...</td>\n      <td>...</td>\n      <td>...</td>\n      <td>...</td>\n      <td>...</td>\n      <td>...</td>\n      <td>...</td>\n      <td>...</td>\n      <td>...</td>\n      <td>...</td>\n      <td>...</td>\n      <td>...</td>\n      <td>...</td>\n      <td>...</td>\n      <td>...</td>\n      <td>...</td>\n      <td>...</td>\n      <td>...</td>\n    </tr>\n    <tr>\n      <th>3813</th>\n      <td>0</td>\n      <td>0</td>\n      <td>0</td>\n      <td>0</td>\n      <td>0</td>\n      <td>0</td>\n      <td>0</td>\n      <td>0</td>\n      <td>0</td>\n      <td>0</td>\n      <td>...</td>\n      <td>0</td>\n      <td>0</td>\n      <td>0</td>\n      <td>0</td>\n      <td>1</td>\n      <td>0</td>\n      <td>0</td>\n      <td>0</td>\n      <td>1</td>\n      <td>0</td>\n    </tr>\n    <tr>\n      <th>3814</th>\n      <td>0</td>\n      <td>0</td>\n      <td>0</td>\n      <td>0</td>\n      <td>0</td>\n      <td>0</td>\n      <td>0</td>\n      <td>0</td>\n      <td>0</td>\n      <td>0</td>\n      <td>...</td>\n      <td>0</td>\n      <td>0</td>\n      <td>0</td>\n      <td>0</td>\n      <td>1</td>\n      <td>0</td>\n      <td>0</td>\n      <td>1</td>\n      <td>0</td>\n      <td>0</td>\n    </tr>\n    <tr>\n      <th>3815</th>\n      <td>0</td>\n      <td>0</td>\n      <td>0</td>\n      <td>0</td>\n      <td>0</td>\n      <td>0</td>\n      <td>0</td>\n      <td>0</td>\n      <td>0</td>\n      <td>0</td>\n      <td>...</td>\n      <td>0</td>\n      <td>0</td>\n      <td>0</td>\n      <td>0</td>\n      <td>1</td>\n      <td>0</td>\n      <td>0</td>\n      <td>1</td>\n      <td>0</td>\n      <td>0</td>\n    </tr>\n    <tr>\n      <th>3816</th>\n      <td>0</td>\n      <td>0</td>\n      <td>0</td>\n      <td>0</td>\n      <td>0</td>\n      <td>0</td>\n      <td>0</td>\n      <td>0</td>\n      <td>0</td>\n      <td>0</td>\n      <td>...</td>\n      <td>0</td>\n      <td>0</td>\n      <td>0</td>\n      <td>0</td>\n      <td>1</td>\n      <td>0</td>\n      <td>0</td>\n      <td>1</td>\n      <td>0</td>\n      <td>0</td>\n    </tr>\n    <tr>\n      <th>3817</th>\n      <td>0</td>\n      <td>0</td>\n      <td>0</td>\n      <td>0</td>\n      <td>0</td>\n      <td>0</td>\n      <td>0</td>\n      <td>0</td>\n      <td>0</td>\n      <td>0</td>\n      <td>...</td>\n      <td>0</td>\n      <td>0</td>\n      <td>0</td>\n      <td>0</td>\n      <td>1</td>\n      <td>0</td>\n      <td>1</td>\n      <td>0</td>\n      <td>0</td>\n      <td>0</td>\n    </tr>\n  </tbody>\n</table>\n<p>3818 rows × 150 columns</p>\n</div>"
     },
     "metadata": {},
     "execution_count": 719
    }
   ],
   "source": [
    "cat_cols"
   ]
  },
  {
   "cell_type": "code",
   "execution_count": 720,
   "metadata": {},
   "outputs": [],
   "source": [
    "# Concat cat/cont dateframes in one new cleaned dataframe:\n",
    "df_l_cleaned = pd.concat([cont_cols,cat_cols],axis=1)"
   ]
  },
  {
   "cell_type": "code",
   "execution_count": 721,
   "metadata": {},
   "outputs": [
    {
     "output_type": "execute_result",
     "data": {
      "text/plain": [
       "Series([], dtype: int64)"
      ]
     },
     "metadata": {},
     "execution_count": 721
    }
   ],
   "source": [
    "# Check if there are still NaNs values\n",
    "df_l_cleaned.isnull().sum()[df_l_cleaned.isnull().sum()>0]"
   ]
  },
  {
   "cell_type": "code",
   "execution_count": 722,
   "metadata": {},
   "outputs": [
    {
     "output_type": "execute_result",
     "data": {
      "text/plain": [
       "Empty DataFrame\n",
       "Columns: []\n",
       "Index: [0, 1, 2, 3, 4, 5, 6, 7, 8, 9, 10, 11, 12, 13, 14, 15, 16, 17, 18, 19, 20, 21, 22, 23, 24, 25, 26, 27, 28, 29, 30, 31, 32, 33, 34, 35, 36, 37, 38, 39, 40, 41, 42, 43, 44, 45, 46, 47, 48, 49, 50, 51, 52, 53, 54, 55, 56, 57, 58, 59, 60, 61, 62, 63, 64, 65, 66, 67, 68, 69, 70, 71, 72, 73, 74, 75, 76, 77, 78, 79, 80, 81, 82, 83, 84, 85, 86, 87, 88, 89, 90, 91, 92, 93, 94, 95, 96, 97, 98, 99, ...]\n",
       "\n",
       "[3818 rows x 0 columns]"
      ],
      "text/html": "<div>\n<style scoped>\n    .dataframe tbody tr th:only-of-type {\n        vertical-align: middle;\n    }\n\n    .dataframe tbody tr th {\n        vertical-align: top;\n    }\n\n    .dataframe thead th {\n        text-align: right;\n    }\n</style>\n<table border=\"1\" class=\"dataframe\">\n  <thead>\n    <tr style=\"text-align: right;\">\n      <th></th>\n    </tr>\n  </thead>\n  <tbody>\n    <tr>\n      <th>0</th>\n    </tr>\n    <tr>\n      <th>1</th>\n    </tr>\n    <tr>\n      <th>2</th>\n    </tr>\n    <tr>\n      <th>3</th>\n    </tr>\n    <tr>\n      <th>4</th>\n    </tr>\n    <tr>\n      <th>...</th>\n    </tr>\n    <tr>\n      <th>3813</th>\n    </tr>\n    <tr>\n      <th>3814</th>\n    </tr>\n    <tr>\n      <th>3815</th>\n    </tr>\n    <tr>\n      <th>3816</th>\n    </tr>\n    <tr>\n      <th>3817</th>\n    </tr>\n  </tbody>\n</table>\n<p>3818 rows × 0 columns</p>\n</div>"
     },
     "metadata": {},
     "execution_count": 722
    }
   ],
   "source": [
    "# Check the columns types\n",
    "df_l_cleaned.select_dtypes(include=['object'])"
   ]
  },
  {
   "cell_type": "code",
   "execution_count": 723,
   "metadata": {},
   "outputs": [
    {
     "output_type": "execute_result",
     "data": {
      "text/plain": [
       "(3818, 183)"
      ]
     },
     "metadata": {},
     "execution_count": 723
    }
   ],
   "source": [
    "df_l_cleaned.shape"
   ]
  },
  {
   "source": [
    "# Let's check now if the prices in the listing dateframe are the mean of the calendar dataframe\n",
    "\n",
    "df_l_cleaned.id[1], df_l_cleaned.price[1]"
   ],
   "cell_type": "code",
   "metadata": {},
   "execution_count": 724,
   "outputs": [
    {
     "output_type": "execute_result",
     "data": {
      "text/plain": [
       "(953595, 150.0)"
      ]
     },
     "metadata": {},
     "execution_count": 724
    }
   ]
  },
  {
   "cell_type": "code",
   "execution_count": 725,
   "metadata": {},
   "outputs": [],
   "source": [
    "tmp = calendar_df[calendar_df.price>0]"
   ]
  },
  {
   "cell_type": "code",
   "execution_count": 726,
   "metadata": {},
   "outputs": [
    {
     "output_type": "execute_result",
     "data": {
      "text/plain": [
       "(170.93127147766322,\n",
       " 0    125.0\n",
       " dtype: float64)"
      ]
     },
     "metadata": {},
     "execution_count": 726
    }
   ],
   "source": [
    "tmp[tmp.listing_id == df_l_cleaned.id[1]].price.mean(),tmp[tmp.listing_id == df_l_cleaned.id[1]].price.mode()"
   ]
  },
  {
   "source": [
    "It is nor the mean nor the mode, for the prediction purpuses we will at first use the price value of the listing dataframe"
   ],
   "cell_type": "markdown",
   "metadata": {}
  },
  {
   "source": [
    "### We can answer now our first two business questions:"
   ],
   "cell_type": "markdown",
   "metadata": {}
  },
  {
   "source": [
    "**1. How does the availability varies during the year in Seattle?**"
   ],
   "cell_type": "markdown",
   "metadata": {}
  },
  {
   "cell_type": "code",
   "execution_count": 727,
   "metadata": {},
   "outputs": [],
   "source": [
    "mean_prices = calendar_df.groupby(['date']).price.mean()"
   ]
  },
  {
   "cell_type": "code",
   "execution_count": 728,
   "metadata": {},
   "outputs": [],
   "source": [
    "mean_prices = mean_prices.reset_index()"
   ]
  },
  {
   "cell_type": "code",
   "execution_count": 729,
   "metadata": {},
   "outputs": [
    {
     "output_type": "execute_result",
     "data": {
      "text/plain": [
       "numpy.ndarray"
      ]
     },
     "metadata": {},
     "execution_count": 729
    }
   ],
   "source": [
    "prices = mean_prices.price.values\n",
    "type(prices)\n",
    "dates = np.array(range(0,len(mean_prices.price)))\n",
    "type(dates)"
   ]
  },
  {
   "cell_type": "code",
   "execution_count": 730,
   "metadata": {},
   "outputs": [
    {
     "output_type": "execute_result",
     "data": {
      "text/plain": [
       "Index(['id', 'date', 'available', 'price'], dtype='object')"
      ]
     },
     "metadata": {},
     "execution_count": 730
    }
   ],
   "source": [
    "calendar_df.rename(columns = {'listing_id':'id'},inplace=True)\n",
    "calendar_df.columns"
   ]
  },
  {
   "cell_type": "code",
   "execution_count": 731,
   "metadata": {},
   "outputs": [],
   "source": [
    "df = calendar_df.merge(df_l[['id','zipcode']], on = 'id')"
   ]
  },
  {
   "cell_type": "code",
   "execution_count": 732,
   "metadata": {},
   "outputs": [
    {
     "output_type": "execute_result",
     "data": {
      "text/plain": [
       "28"
      ]
     },
     "metadata": {},
     "execution_count": 732
    }
   ],
   "source": [
    "df.zipcode.nunique()"
   ]
  },
  {
   "cell_type": "code",
   "execution_count": 733,
   "metadata": {},
   "outputs": [
    {
     "output_type": "stream",
     "name": "stderr",
     "text": [
      "ipykernel_launcher:4: FutureWarning: Series.dt.weekofyear and Series.dt.week have been deprecated.  Please use Series.dt.isocalendar().week instead.\n"
     ]
    }
   ],
   "source": [
    "calendar_df['year']= calendar_df['date'].dt.year\n",
    "calendar_df['month']= calendar_df['date'].dt.month\n",
    "calendar_df['day']= calendar_df['date'].dt.day\n",
    "calendar_df['week_of_year'] = calendar_df['date'].dt.week\n",
    "calendar_df['day_of_week'] = calendar_df['date'].dt.dayofweek"
   ]
  },
  {
   "cell_type": "code",
   "execution_count": 734,
   "metadata": {},
   "outputs": [
    {
     "output_type": "execute_result",
     "data": {
      "text/plain": [
       "               id       date  available  price  year  month  day  \\\n",
       "0          241032 2016-01-04          1   85.0  2016      1    4   \n",
       "1          241032 2016-01-05          1   85.0  2016      1    5   \n",
       "2          241032 2016-01-06          0    0.0  2016      1    6   \n",
       "3          241032 2016-01-07          0    0.0  2016      1    7   \n",
       "4          241032 2016-01-08          0    0.0  2016      1    8   \n",
       "...           ...        ...        ...    ...   ...    ...  ...   \n",
       "1393565  10208623 2016-12-29          0    0.0  2016     12   29   \n",
       "1393566  10208623 2016-12-30          0    0.0  2016     12   30   \n",
       "1393567  10208623 2016-12-31          0    0.0  2016     12   31   \n",
       "1393568  10208623 2017-01-01          0    0.0  2017      1    1   \n",
       "1393569  10208623 2017-01-02          0    0.0  2017      1    2   \n",
       "\n",
       "         week_of_year  day_of_week  \n",
       "0                   1            0  \n",
       "1                   1            1  \n",
       "2                   1            2  \n",
       "3                   1            3  \n",
       "4                   1            4  \n",
       "...               ...          ...  \n",
       "1393565            52            3  \n",
       "1393566            52            4  \n",
       "1393567            52            5  \n",
       "1393568            52            6  \n",
       "1393569             1            0  \n",
       "\n",
       "[1393570 rows x 9 columns]"
      ],
      "text/html": "<div>\n<style scoped>\n    .dataframe tbody tr th:only-of-type {\n        vertical-align: middle;\n    }\n\n    .dataframe tbody tr th {\n        vertical-align: top;\n    }\n\n    .dataframe thead th {\n        text-align: right;\n    }\n</style>\n<table border=\"1\" class=\"dataframe\">\n  <thead>\n    <tr style=\"text-align: right;\">\n      <th></th>\n      <th>id</th>\n      <th>date</th>\n      <th>available</th>\n      <th>price</th>\n      <th>year</th>\n      <th>month</th>\n      <th>day</th>\n      <th>week_of_year</th>\n      <th>day_of_week</th>\n    </tr>\n  </thead>\n  <tbody>\n    <tr>\n      <th>0</th>\n      <td>241032</td>\n      <td>2016-01-04</td>\n      <td>1</td>\n      <td>85.0</td>\n      <td>2016</td>\n      <td>1</td>\n      <td>4</td>\n      <td>1</td>\n      <td>0</td>\n    </tr>\n    <tr>\n      <th>1</th>\n      <td>241032</td>\n      <td>2016-01-05</td>\n      <td>1</td>\n      <td>85.0</td>\n      <td>2016</td>\n      <td>1</td>\n      <td>5</td>\n      <td>1</td>\n      <td>1</td>\n    </tr>\n    <tr>\n      <th>2</th>\n      <td>241032</td>\n      <td>2016-01-06</td>\n      <td>0</td>\n      <td>0.0</td>\n      <td>2016</td>\n      <td>1</td>\n      <td>6</td>\n      <td>1</td>\n      <td>2</td>\n    </tr>\n    <tr>\n      <th>3</th>\n      <td>241032</td>\n      <td>2016-01-07</td>\n      <td>0</td>\n      <td>0.0</td>\n      <td>2016</td>\n      <td>1</td>\n      <td>7</td>\n      <td>1</td>\n      <td>3</td>\n    </tr>\n    <tr>\n      <th>4</th>\n      <td>241032</td>\n      <td>2016-01-08</td>\n      <td>0</td>\n      <td>0.0</td>\n      <td>2016</td>\n      <td>1</td>\n      <td>8</td>\n      <td>1</td>\n      <td>4</td>\n    </tr>\n    <tr>\n      <th>...</th>\n      <td>...</td>\n      <td>...</td>\n      <td>...</td>\n      <td>...</td>\n      <td>...</td>\n      <td>...</td>\n      <td>...</td>\n      <td>...</td>\n      <td>...</td>\n    </tr>\n    <tr>\n      <th>1393565</th>\n      <td>10208623</td>\n      <td>2016-12-29</td>\n      <td>0</td>\n      <td>0.0</td>\n      <td>2016</td>\n      <td>12</td>\n      <td>29</td>\n      <td>52</td>\n      <td>3</td>\n    </tr>\n    <tr>\n      <th>1393566</th>\n      <td>10208623</td>\n      <td>2016-12-30</td>\n      <td>0</td>\n      <td>0.0</td>\n      <td>2016</td>\n      <td>12</td>\n      <td>30</td>\n      <td>52</td>\n      <td>4</td>\n    </tr>\n    <tr>\n      <th>1393567</th>\n      <td>10208623</td>\n      <td>2016-12-31</td>\n      <td>0</td>\n      <td>0.0</td>\n      <td>2016</td>\n      <td>12</td>\n      <td>31</td>\n      <td>52</td>\n      <td>5</td>\n    </tr>\n    <tr>\n      <th>1393568</th>\n      <td>10208623</td>\n      <td>2017-01-01</td>\n      <td>0</td>\n      <td>0.0</td>\n      <td>2017</td>\n      <td>1</td>\n      <td>1</td>\n      <td>52</td>\n      <td>6</td>\n    </tr>\n    <tr>\n      <th>1393569</th>\n      <td>10208623</td>\n      <td>2017-01-02</td>\n      <td>0</td>\n      <td>0.0</td>\n      <td>2017</td>\n      <td>1</td>\n      <td>2</td>\n      <td>1</td>\n      <td>0</td>\n    </tr>\n  </tbody>\n</table>\n<p>1393570 rows × 9 columns</p>\n</div>"
     },
     "metadata": {},
     "execution_count": 734
    }
   ],
   "source": [
    "calendar_df"
   ]
  },
  {
   "cell_type": "code",
   "execution_count": 735,
   "metadata": {},
   "outputs": [
    {
     "output_type": "execute_result",
     "data": {
      "text/plain": [
       "month\n",
       "7     152.094150\n",
       "8     150.656594\n",
       "6     147.473137\n",
       "9     143.255949\n",
       "5     139.538183\n",
       "12    137.251835\n",
       "10    137.031939\n",
       "11    135.688738\n",
       "4     135.097005\n",
       "3     128.644488\n",
       "2     124.293927\n",
       "1     122.912176\n",
       "Name: price, dtype: float64"
      ]
     },
     "metadata": {},
     "execution_count": 735
    }
   ],
   "source": [
    "calendar_df[calendar_df.available==1].groupby(['month']).price.mean().sort_values(ascending=False)"
   ]
  },
  {
   "cell_type": "code",
   "execution_count": 736,
   "metadata": {},
   "outputs": [
    {
     "output_type": "execute_result",
     "data": {
      "text/plain": [
       "         count        mean         std   min   25%    50%    75%     max\n",
       "month                                                                   \n",
       "1      64937.0  122.912176   88.708143  12.0  70.0   99.0  148.0  1000.0\n",
       "2      73321.0  124.293927   91.550076  20.0  72.0  100.0  149.0  1000.0\n",
       "3      83938.0  128.644488   94.371410  20.0  75.0  100.0  150.0  1099.0\n",
       "4      76037.0  135.097005   98.232098  20.0  75.0  110.0  160.0  1099.0\n",
       "5      79971.0  139.538183  102.863280  20.0  75.0  110.0  169.0  1099.0\n",
       "6      77244.0  147.473137  112.481803  20.0  76.0  110.0  175.0  1099.0\n",
       "7      74222.0  152.094150  120.078098  20.0  75.0  115.0  180.0  1240.0\n",
       "8      76347.0  150.656594  118.754189  20.0  75.0  114.0  179.0  1250.0\n",
       "9      77246.0  143.255949  108.804290  20.0  75.0  110.0  175.0  1450.0\n",
       "10     82438.0  137.031939  104.491505  20.0  75.0  109.0  160.0  1650.0\n",
       "11     81780.0  135.688738  104.264654  10.0  75.0  106.0  155.0  1650.0\n",
       "12     87061.0  137.251835  105.101659  20.0  75.0  109.0  160.0  1650.0"
      ],
      "text/html": "<div>\n<style scoped>\n    .dataframe tbody tr th:only-of-type {\n        vertical-align: middle;\n    }\n\n    .dataframe tbody tr th {\n        vertical-align: top;\n    }\n\n    .dataframe thead th {\n        text-align: right;\n    }\n</style>\n<table border=\"1\" class=\"dataframe\">\n  <thead>\n    <tr style=\"text-align: right;\">\n      <th></th>\n      <th>count</th>\n      <th>mean</th>\n      <th>std</th>\n      <th>min</th>\n      <th>25%</th>\n      <th>50%</th>\n      <th>75%</th>\n      <th>max</th>\n    </tr>\n    <tr>\n      <th>month</th>\n      <th></th>\n      <th></th>\n      <th></th>\n      <th></th>\n      <th></th>\n      <th></th>\n      <th></th>\n      <th></th>\n    </tr>\n  </thead>\n  <tbody>\n    <tr>\n      <th>1</th>\n      <td>64937.0</td>\n      <td>122.912176</td>\n      <td>88.708143</td>\n      <td>12.0</td>\n      <td>70.0</td>\n      <td>99.0</td>\n      <td>148.0</td>\n      <td>1000.0</td>\n    </tr>\n    <tr>\n      <th>2</th>\n      <td>73321.0</td>\n      <td>124.293927</td>\n      <td>91.550076</td>\n      <td>20.0</td>\n      <td>72.0</td>\n      <td>100.0</td>\n      <td>149.0</td>\n      <td>1000.0</td>\n    </tr>\n    <tr>\n      <th>3</th>\n      <td>83938.0</td>\n      <td>128.644488</td>\n      <td>94.371410</td>\n      <td>20.0</td>\n      <td>75.0</td>\n      <td>100.0</td>\n      <td>150.0</td>\n      <td>1099.0</td>\n    </tr>\n    <tr>\n      <th>4</th>\n      <td>76037.0</td>\n      <td>135.097005</td>\n      <td>98.232098</td>\n      <td>20.0</td>\n      <td>75.0</td>\n      <td>110.0</td>\n      <td>160.0</td>\n      <td>1099.0</td>\n    </tr>\n    <tr>\n      <th>5</th>\n      <td>79971.0</td>\n      <td>139.538183</td>\n      <td>102.863280</td>\n      <td>20.0</td>\n      <td>75.0</td>\n      <td>110.0</td>\n      <td>169.0</td>\n      <td>1099.0</td>\n    </tr>\n    <tr>\n      <th>6</th>\n      <td>77244.0</td>\n      <td>147.473137</td>\n      <td>112.481803</td>\n      <td>20.0</td>\n      <td>76.0</td>\n      <td>110.0</td>\n      <td>175.0</td>\n      <td>1099.0</td>\n    </tr>\n    <tr>\n      <th>7</th>\n      <td>74222.0</td>\n      <td>152.094150</td>\n      <td>120.078098</td>\n      <td>20.0</td>\n      <td>75.0</td>\n      <td>115.0</td>\n      <td>180.0</td>\n      <td>1240.0</td>\n    </tr>\n    <tr>\n      <th>8</th>\n      <td>76347.0</td>\n      <td>150.656594</td>\n      <td>118.754189</td>\n      <td>20.0</td>\n      <td>75.0</td>\n      <td>114.0</td>\n      <td>179.0</td>\n      <td>1250.0</td>\n    </tr>\n    <tr>\n      <th>9</th>\n      <td>77246.0</td>\n      <td>143.255949</td>\n      <td>108.804290</td>\n      <td>20.0</td>\n      <td>75.0</td>\n      <td>110.0</td>\n      <td>175.0</td>\n      <td>1450.0</td>\n    </tr>\n    <tr>\n      <th>10</th>\n      <td>82438.0</td>\n      <td>137.031939</td>\n      <td>104.491505</td>\n      <td>20.0</td>\n      <td>75.0</td>\n      <td>109.0</td>\n      <td>160.0</td>\n      <td>1650.0</td>\n    </tr>\n    <tr>\n      <th>11</th>\n      <td>81780.0</td>\n      <td>135.688738</td>\n      <td>104.264654</td>\n      <td>10.0</td>\n      <td>75.0</td>\n      <td>106.0</td>\n      <td>155.0</td>\n      <td>1650.0</td>\n    </tr>\n    <tr>\n      <th>12</th>\n      <td>87061.0</td>\n      <td>137.251835</td>\n      <td>105.101659</td>\n      <td>20.0</td>\n      <td>75.0</td>\n      <td>109.0</td>\n      <td>160.0</td>\n      <td>1650.0</td>\n    </tr>\n  </tbody>\n</table>\n</div>"
     },
     "metadata": {},
     "execution_count": 736
    }
   ],
   "source": [
    "calendar_df[calendar_df.available==1].groupby(['month']).price.describe()"
   ]
  },
  {
   "cell_type": "code",
   "execution_count": 737,
   "metadata": {},
   "outputs": [
    {
     "output_type": "execute_result",
     "data": {
      "text/plain": [
       "day_of_week\n",
       "4    95.678612\n",
       "5    95.624370\n",
       "6    91.837727\n",
       "3    91.403801\n",
       "0    91.052596\n",
       "2    90.992873\n",
       "1    90.988420\n",
       "Name: price, dtype: float64"
      ]
     },
     "metadata": {},
     "execution_count": 737
    }
   ],
   "source": [
    "calendar_df.groupby(['day_of_week']).price.mean().sort_values(ascending=False)"
   ]
  },
  {
   "source": [
    "### 4. Modeling"
   ],
   "cell_type": "markdown",
   "metadata": {}
  },
  {
   "cell_type": "code",
   "execution_count": 738,
   "metadata": {},
   "outputs": [],
   "source": [
    "from sklearn.linear_model import LinearRegression\n",
    "from sklearn.model_selection import train_test_split\n",
    "from sklearn.metrics import r2_score, mean_squared_error\n",
    "\n",
    "# Separate the dependent and independent variables and drop variables that we dont need\n",
    "X = df_l_cleaned.drop(['price','id','latitude','longitude'],axis=1)\n",
    "y = df_l_cleaned.price\n",
    "\n",
    "# Split the data in train and test sets\n",
    "X_train, X_test, y_train, y_test = train_test_split(X,y, test_size=0.2, shuffle=True)"
   ]
  },
  {
   "cell_type": "code",
   "execution_count": 739,
   "metadata": {},
   "outputs": [
    {
     "output_type": "execute_result",
     "data": {
      "text/plain": [
       "      is_location_exact  accommodates  bathrooms  bedrooms  beds  \\\n",
       "0                     1             4        1.0       1.0   1.0   \n",
       "1                     1             4        1.0       1.0   1.0   \n",
       "2                     1            11        4.5       5.0   7.0   \n",
       "3                     1             3        1.0       0.0   2.0   \n",
       "4                     1             6        2.0       3.0   3.0   \n",
       "...                 ...           ...        ...       ...   ...   \n",
       "3813                  1             6        2.0       3.0   3.0   \n",
       "3814                  1             4        1.0       1.0   2.0   \n",
       "3815                  0             2        1.0       1.0   1.0   \n",
       "3816                  0             2        1.0       0.0   1.0   \n",
       "3817                  1             3        1.5       2.0   1.0   \n",
       "\n",
       "      weekly_price  cleaning_fee  guests_included  extra_people  \\\n",
       "0       788.481832     61.710904                2           5.0   \n",
       "1      1000.000000     40.000000                1           0.0   \n",
       "2       788.481832    300.000000               10          25.0   \n",
       "3       650.000000     61.710904                1           0.0   \n",
       "4       788.481832    125.000000                6          15.0   \n",
       "...            ...           ...              ...           ...   \n",
       "3813    788.481832    230.000000                1           0.0   \n",
       "3814    788.481832     50.000000                3          25.0   \n",
       "3815    450.000000     35.000000                2          20.0   \n",
       "3816    788.481832     45.000000                1           0.0   \n",
       "3817    788.481832     61.710904                1           0.0   \n",
       "\n",
       "      minimum_nights  ...  bed_type_Airbed  bed_type_Couch  bed_type_Futon  \\\n",
       "0                  1  ...                0               0               0   \n",
       "1                  2  ...                0               0               0   \n",
       "2                  4  ...                0               0               0   \n",
       "3                  1  ...                0               0               0   \n",
       "4                  1  ...                0               0               0   \n",
       "...              ...  ...              ...             ...             ...   \n",
       "3813               3  ...                0               0               0   \n",
       "3814               2  ...                0               0               0   \n",
       "3815               1  ...                0               0               0   \n",
       "3816               3  ...                0               0               0   \n",
       "3817               1  ...                0               0               0   \n",
       "\n",
       "      bed_type_Pull-out Sofa  bed_type_Real Bed  bed_type_nan  \\\n",
       "0                          0                  1             0   \n",
       "1                          0                  1             0   \n",
       "2                          0                  1             0   \n",
       "3                          0                  1             0   \n",
       "4                          0                  1             0   \n",
       "...                      ...                ...           ...   \n",
       "3813                       0                  1             0   \n",
       "3814                       0                  1             0   \n",
       "3815                       0                  1             0   \n",
       "3816                       0                  1             0   \n",
       "3817                       0                  1             0   \n",
       "\n",
       "      cancellation_policy_flexible  cancellation_policy_moderate  \\\n",
       "0                                0                             1   \n",
       "1                                0                             0   \n",
       "2                                0                             0   \n",
       "3                                1                             0   \n",
       "4                                0                             0   \n",
       "...                            ...                           ...   \n",
       "3813                             0                             0   \n",
       "3814                             0                             1   \n",
       "3815                             0                             1   \n",
       "3816                             0                             1   \n",
       "3817                             1                             0   \n",
       "\n",
       "      cancellation_policy_strict  cancellation_policy_nan  \n",
       "0                              0                        0  \n",
       "1                              1                        0  \n",
       "2                              1                        0  \n",
       "3                              0                        0  \n",
       "4                              1                        0  \n",
       "...                          ...                      ...  \n",
       "3813                           1                        0  \n",
       "3814                           0                        0  \n",
       "3815                           0                        0  \n",
       "3816                           0                        0  \n",
       "3817                           0                        0  \n",
       "\n",
       "[3818 rows x 179 columns]"
      ],
      "text/html": "<div>\n<style scoped>\n    .dataframe tbody tr th:only-of-type {\n        vertical-align: middle;\n    }\n\n    .dataframe tbody tr th {\n        vertical-align: top;\n    }\n\n    .dataframe thead th {\n        text-align: right;\n    }\n</style>\n<table border=\"1\" class=\"dataframe\">\n  <thead>\n    <tr style=\"text-align: right;\">\n      <th></th>\n      <th>is_location_exact</th>\n      <th>accommodates</th>\n      <th>bathrooms</th>\n      <th>bedrooms</th>\n      <th>beds</th>\n      <th>weekly_price</th>\n      <th>cleaning_fee</th>\n      <th>guests_included</th>\n      <th>extra_people</th>\n      <th>minimum_nights</th>\n      <th>...</th>\n      <th>bed_type_Airbed</th>\n      <th>bed_type_Couch</th>\n      <th>bed_type_Futon</th>\n      <th>bed_type_Pull-out Sofa</th>\n      <th>bed_type_Real Bed</th>\n      <th>bed_type_nan</th>\n      <th>cancellation_policy_flexible</th>\n      <th>cancellation_policy_moderate</th>\n      <th>cancellation_policy_strict</th>\n      <th>cancellation_policy_nan</th>\n    </tr>\n  </thead>\n  <tbody>\n    <tr>\n      <th>0</th>\n      <td>1</td>\n      <td>4</td>\n      <td>1.0</td>\n      <td>1.0</td>\n      <td>1.0</td>\n      <td>788.481832</td>\n      <td>61.710904</td>\n      <td>2</td>\n      <td>5.0</td>\n      <td>1</td>\n      <td>...</td>\n      <td>0</td>\n      <td>0</td>\n      <td>0</td>\n      <td>0</td>\n      <td>1</td>\n      <td>0</td>\n      <td>0</td>\n      <td>1</td>\n      <td>0</td>\n      <td>0</td>\n    </tr>\n    <tr>\n      <th>1</th>\n      <td>1</td>\n      <td>4</td>\n      <td>1.0</td>\n      <td>1.0</td>\n      <td>1.0</td>\n      <td>1000.000000</td>\n      <td>40.000000</td>\n      <td>1</td>\n      <td>0.0</td>\n      <td>2</td>\n      <td>...</td>\n      <td>0</td>\n      <td>0</td>\n      <td>0</td>\n      <td>0</td>\n      <td>1</td>\n      <td>0</td>\n      <td>0</td>\n      <td>0</td>\n      <td>1</td>\n      <td>0</td>\n    </tr>\n    <tr>\n      <th>2</th>\n      <td>1</td>\n      <td>11</td>\n      <td>4.5</td>\n      <td>5.0</td>\n      <td>7.0</td>\n      <td>788.481832</td>\n      <td>300.000000</td>\n      <td>10</td>\n      <td>25.0</td>\n      <td>4</td>\n      <td>...</td>\n      <td>0</td>\n      <td>0</td>\n      <td>0</td>\n      <td>0</td>\n      <td>1</td>\n      <td>0</td>\n      <td>0</td>\n      <td>0</td>\n      <td>1</td>\n      <td>0</td>\n    </tr>\n    <tr>\n      <th>3</th>\n      <td>1</td>\n      <td>3</td>\n      <td>1.0</td>\n      <td>0.0</td>\n      <td>2.0</td>\n      <td>650.000000</td>\n      <td>61.710904</td>\n      <td>1</td>\n      <td>0.0</td>\n      <td>1</td>\n      <td>...</td>\n      <td>0</td>\n      <td>0</td>\n      <td>0</td>\n      <td>0</td>\n      <td>1</td>\n      <td>0</td>\n      <td>1</td>\n      <td>0</td>\n      <td>0</td>\n      <td>0</td>\n    </tr>\n    <tr>\n      <th>4</th>\n      <td>1</td>\n      <td>6</td>\n      <td>2.0</td>\n      <td>3.0</td>\n      <td>3.0</td>\n      <td>788.481832</td>\n      <td>125.000000</td>\n      <td>6</td>\n      <td>15.0</td>\n      <td>1</td>\n      <td>...</td>\n      <td>0</td>\n      <td>0</td>\n      <td>0</td>\n      <td>0</td>\n      <td>1</td>\n      <td>0</td>\n      <td>0</td>\n      <td>0</td>\n      <td>1</td>\n      <td>0</td>\n    </tr>\n    <tr>\n      <th>...</th>\n      <td>...</td>\n      <td>...</td>\n      <td>...</td>\n      <td>...</td>\n      <td>...</td>\n      <td>...</td>\n      <td>...</td>\n      <td>...</td>\n      <td>...</td>\n      <td>...</td>\n      <td>...</td>\n      <td>...</td>\n      <td>...</td>\n      <td>...</td>\n      <td>...</td>\n      <td>...</td>\n      <td>...</td>\n      <td>...</td>\n      <td>...</td>\n      <td>...</td>\n      <td>...</td>\n    </tr>\n    <tr>\n      <th>3813</th>\n      <td>1</td>\n      <td>6</td>\n      <td>2.0</td>\n      <td>3.0</td>\n      <td>3.0</td>\n      <td>788.481832</td>\n      <td>230.000000</td>\n      <td>1</td>\n      <td>0.0</td>\n      <td>3</td>\n      <td>...</td>\n      <td>0</td>\n      <td>0</td>\n      <td>0</td>\n      <td>0</td>\n      <td>1</td>\n      <td>0</td>\n      <td>0</td>\n      <td>0</td>\n      <td>1</td>\n      <td>0</td>\n    </tr>\n    <tr>\n      <th>3814</th>\n      <td>1</td>\n      <td>4</td>\n      <td>1.0</td>\n      <td>1.0</td>\n      <td>2.0</td>\n      <td>788.481832</td>\n      <td>50.000000</td>\n      <td>3</td>\n      <td>25.0</td>\n      <td>2</td>\n      <td>...</td>\n      <td>0</td>\n      <td>0</td>\n      <td>0</td>\n      <td>0</td>\n      <td>1</td>\n      <td>0</td>\n      <td>0</td>\n      <td>1</td>\n      <td>0</td>\n      <td>0</td>\n    </tr>\n    <tr>\n      <th>3815</th>\n      <td>0</td>\n      <td>2</td>\n      <td>1.0</td>\n      <td>1.0</td>\n      <td>1.0</td>\n      <td>450.000000</td>\n      <td>35.000000</td>\n      <td>2</td>\n      <td>20.0</td>\n      <td>1</td>\n      <td>...</td>\n      <td>0</td>\n      <td>0</td>\n      <td>0</td>\n      <td>0</td>\n      <td>1</td>\n      <td>0</td>\n      <td>0</td>\n      <td>1</td>\n      <td>0</td>\n      <td>0</td>\n    </tr>\n    <tr>\n      <th>3816</th>\n      <td>0</td>\n      <td>2</td>\n      <td>1.0</td>\n      <td>0.0</td>\n      <td>1.0</td>\n      <td>788.481832</td>\n      <td>45.000000</td>\n      <td>1</td>\n      <td>0.0</td>\n      <td>3</td>\n      <td>...</td>\n      <td>0</td>\n      <td>0</td>\n      <td>0</td>\n      <td>0</td>\n      <td>1</td>\n      <td>0</td>\n      <td>0</td>\n      <td>1</td>\n      <td>0</td>\n      <td>0</td>\n    </tr>\n    <tr>\n      <th>3817</th>\n      <td>1</td>\n      <td>3</td>\n      <td>1.5</td>\n      <td>2.0</td>\n      <td>1.0</td>\n      <td>788.481832</td>\n      <td>61.710904</td>\n      <td>1</td>\n      <td>0.0</td>\n      <td>1</td>\n      <td>...</td>\n      <td>0</td>\n      <td>0</td>\n      <td>0</td>\n      <td>0</td>\n      <td>1</td>\n      <td>0</td>\n      <td>1</td>\n      <td>0</td>\n      <td>0</td>\n      <td>0</td>\n    </tr>\n  </tbody>\n</table>\n<p>3818 rows × 179 columns</p>\n</div>"
     },
     "metadata": {},
     "execution_count": 739
    }
   ],
   "source": [
    "X"
   ]
  },
  {
   "cell_type": "code",
   "execution_count": 743,
   "metadata": {},
   "outputs": [
    {
     "output_type": "execute_result",
     "data": {
      "text/plain": [
       "count    3818.000000\n",
       "mean      127.976166\n",
       "std        90.250022\n",
       "min        20.000000\n",
       "25%        75.000000\n",
       "50%       100.000000\n",
       "75%       150.000000\n",
       "max      1000.000000\n",
       "Name: price, dtype: float64"
      ]
     },
     "metadata": {},
     "execution_count": 743
    }
   ],
   "source": [
    "df_l_cleaned.price.describe()"
   ]
  },
  {
   "cell_type": "code",
   "execution_count": 758,
   "metadata": {},
   "outputs": [
    {
     "output_type": "stream",
     "name": "stdout",
     "text": [
      "48.136841949129376\n0.6799178115029063\n"
     ]
    },
    {
     "output_type": "execute_result",
     "data": {
      "text/plain": [
       "(None, None)"
      ]
     },
     "metadata": {},
     "execution_count": 758
    }
   ],
   "source": [
    "# Train the model\n",
    "reg = LinearRegression()\n",
    "reg.fit(X_train, y_train)\n",
    "\n",
    "# Calculate predictions for the test set\n",
    "preds = reg.predict(X_test)\n",
    "\n",
    "# Evaluate the test set\n",
    "print(mean_squared_error(y_test,preds,squared=False)), print(r2_score(y_test,preds))"
   ]
  }
 ]
}