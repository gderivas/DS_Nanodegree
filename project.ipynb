{
 "metadata": {
  "language_info": {
   "codemirror_mode": {
    "name": "ipython",
    "version": 3
   },
   "file_extension": ".py",
   "mimetype": "text/x-python",
   "name": "python",
   "nbconvert_exporter": "python",
   "pygments_lexer": "ipython3",
   "version": "3.7.0"
  },
  "orig_nbformat": 2,
  "kernelspec": {
   "name": "python370jvsc74a57bd00d5b45fe3444baa3ee4008c7db33a9a8336507ae1a715d8870498938f4f88462",
   "display_name": "Python 3.7.0 32-bit"
  }
 },
 "nbformat": 4,
 "nbformat_minor": 2,
 "cells": [
  {
   "source": [
    "### Udacity Data Scientist Nanodegree - Part 1 Project\n",
    "\n",
    "For this project we are following the **CRISP-DM process**, which consists of the following parts:\n",
    "\n",
    "1. Business Understanding \n",
    "2. Data Understanding\n",
    "3. Data Preparation \n",
    "4. Modeling\n",
    "5. Evaluation\n",
    "6. Deployment"
   ],
   "cell_type": "markdown",
   "metadata": {}
  },
  {
   "source": [
    "### 1. Business Questions\n",
    "\n",
    "1. How does the availability varies during the year in Seattle?\n",
    "2. Which are the neighbourhoods (zip codes) with better price/review ratio?\n",
    "3. Can we predict the prices of the apartments?"
   ],
   "cell_type": "markdown",
   "metadata": {}
  },
  {
   "source": [
    "### 2. Data Understanding"
   ],
   "cell_type": "markdown",
   "metadata": {}
  },
  {
   "cell_type": "code",
   "execution_count": 72,
   "metadata": {},
   "outputs": [],
   "source": [
    "# Import libraries\n",
    "import numpy as np \n",
    "import pandas as pd\n",
    "import matplotlib.pyplot as plt\n",
    "import matplotlib"
   ]
  },
  {
   "cell_type": "code",
   "execution_count": 2,
   "metadata": {},
   "outputs": [],
   "source": [
    "# Load files into dataframes\n",
    "calendar_df = pd.read_csv('data/calendar.csv')\n",
    "listings_df = pd.read_csv('data/listings.csv')\n",
    "reviews_df = pd.read_csv('data/reviews.csv')"
   ]
  },
  {
   "cell_type": "code",
   "execution_count": null,
   "metadata": {},
   "outputs": [],
   "source": []
  },
  {
   "cell_type": "code",
   "execution_count": 3,
   "metadata": {},
   "outputs": [
    {
     "output_type": "execute_result",
     "data": {
      "text/plain": [
       "        id                           listing_url       scrape_id last_scraped  \\\n",
       "0   241032   https://www.airbnb.com/rooms/241032  20160104002432   2016-01-04   \n",
       "1   953595   https://www.airbnb.com/rooms/953595  20160104002432   2016-01-04   \n",
       "2  3308979  https://www.airbnb.com/rooms/3308979  20160104002432   2016-01-04   \n",
       "3  7421966  https://www.airbnb.com/rooms/7421966  20160104002432   2016-01-04   \n",
       "4   278830   https://www.airbnb.com/rooms/278830  20160104002432   2016-01-04   \n",
       "\n",
       "                                  name  \\\n",
       "0         Stylish Queen Anne Apartment   \n",
       "1   Bright & Airy Queen Anne Apartment   \n",
       "2  New Modern House-Amazing water view   \n",
       "3                   Queen Anne Chateau   \n",
       "4       Charming craftsman 3 bdm house   \n",
       "\n",
       "                                             summary  \\\n",
       "0                                                NaN   \n",
       "1  Chemically sensitive? We've removed the irrita...   \n",
       "2  New modern house built in 2013.  Spectacular s...   \n",
       "3  A charming apartment that sits atop Queen Anne...   \n",
       "4  Cozy family craftman house in beautiful neighb...   \n",
       "\n",
       "                                               space  \\\n",
       "0  Make your self at home in this charming one-be...   \n",
       "1  Beautiful, hypoallergenic apartment in an extr...   \n",
       "2  Our house is modern, light and fresh with a wa...   \n",
       "3                                                NaN   \n",
       "4  Cozy family craftman house in beautiful neighb...   \n",
       "\n",
       "                                         description experiences_offered  \\\n",
       "0  Make your self at home in this charming one-be...                none   \n",
       "1  Chemically sensitive? We've removed the irrita...                none   \n",
       "2  New modern house built in 2013.  Spectacular s...                none   \n",
       "3  A charming apartment that sits atop Queen Anne...                none   \n",
       "4  Cozy family craftman house in beautiful neighb...                none   \n",
       "\n",
       "                               neighborhood_overview  ... review_scores_value  \\\n",
       "0                                                NaN  ...                10.0   \n",
       "1  Queen Anne is a wonderful, truly functional vi...  ...                10.0   \n",
       "2  Upper Queen Anne is a charming neighborhood fu...  ...                10.0   \n",
       "3                                                NaN  ...                 NaN   \n",
       "4  We are in the beautiful neighborhood of Queen ...  ...                 9.0   \n",
       "\n",
       "  requires_license license jurisdiction_names instant_bookable  \\\n",
       "0                f     NaN         WASHINGTON                f   \n",
       "1                f     NaN         WASHINGTON                f   \n",
       "2                f     NaN         WASHINGTON                f   \n",
       "3                f     NaN         WASHINGTON                f   \n",
       "4                f     NaN         WASHINGTON                f   \n",
       "\n",
       "  cancellation_policy  require_guest_profile_picture  \\\n",
       "0            moderate                              f   \n",
       "1              strict                              t   \n",
       "2              strict                              f   \n",
       "3            flexible                              f   \n",
       "4              strict                              f   \n",
       "\n",
       "  require_guest_phone_verification calculated_host_listings_count  \\\n",
       "0                                f                              2   \n",
       "1                                t                              6   \n",
       "2                                f                              2   \n",
       "3                                f                              1   \n",
       "4                                f                              1   \n",
       "\n",
       "  reviews_per_month  \n",
       "0              4.07  \n",
       "1              1.48  \n",
       "2              1.15  \n",
       "3               NaN  \n",
       "4              0.89  \n",
       "\n",
       "[5 rows x 92 columns]"
      ],
      "text/html": "<div>\n<style scoped>\n    .dataframe tbody tr th:only-of-type {\n        vertical-align: middle;\n    }\n\n    .dataframe tbody tr th {\n        vertical-align: top;\n    }\n\n    .dataframe thead th {\n        text-align: right;\n    }\n</style>\n<table border=\"1\" class=\"dataframe\">\n  <thead>\n    <tr style=\"text-align: right;\">\n      <th></th>\n      <th>id</th>\n      <th>listing_url</th>\n      <th>scrape_id</th>\n      <th>last_scraped</th>\n      <th>name</th>\n      <th>summary</th>\n      <th>space</th>\n      <th>description</th>\n      <th>experiences_offered</th>\n      <th>neighborhood_overview</th>\n      <th>...</th>\n      <th>review_scores_value</th>\n      <th>requires_license</th>\n      <th>license</th>\n      <th>jurisdiction_names</th>\n      <th>instant_bookable</th>\n      <th>cancellation_policy</th>\n      <th>require_guest_profile_picture</th>\n      <th>require_guest_phone_verification</th>\n      <th>calculated_host_listings_count</th>\n      <th>reviews_per_month</th>\n    </tr>\n  </thead>\n  <tbody>\n    <tr>\n      <th>0</th>\n      <td>241032</td>\n      <td>https://www.airbnb.com/rooms/241032</td>\n      <td>20160104002432</td>\n      <td>2016-01-04</td>\n      <td>Stylish Queen Anne Apartment</td>\n      <td>NaN</td>\n      <td>Make your self at home in this charming one-be...</td>\n      <td>Make your self at home in this charming one-be...</td>\n      <td>none</td>\n      <td>NaN</td>\n      <td>...</td>\n      <td>10.0</td>\n      <td>f</td>\n      <td>NaN</td>\n      <td>WASHINGTON</td>\n      <td>f</td>\n      <td>moderate</td>\n      <td>f</td>\n      <td>f</td>\n      <td>2</td>\n      <td>4.07</td>\n    </tr>\n    <tr>\n      <th>1</th>\n      <td>953595</td>\n      <td>https://www.airbnb.com/rooms/953595</td>\n      <td>20160104002432</td>\n      <td>2016-01-04</td>\n      <td>Bright &amp; Airy Queen Anne Apartment</td>\n      <td>Chemically sensitive? We've removed the irrita...</td>\n      <td>Beautiful, hypoallergenic apartment in an extr...</td>\n      <td>Chemically sensitive? We've removed the irrita...</td>\n      <td>none</td>\n      <td>Queen Anne is a wonderful, truly functional vi...</td>\n      <td>...</td>\n      <td>10.0</td>\n      <td>f</td>\n      <td>NaN</td>\n      <td>WASHINGTON</td>\n      <td>f</td>\n      <td>strict</td>\n      <td>t</td>\n      <td>t</td>\n      <td>6</td>\n      <td>1.48</td>\n    </tr>\n    <tr>\n      <th>2</th>\n      <td>3308979</td>\n      <td>https://www.airbnb.com/rooms/3308979</td>\n      <td>20160104002432</td>\n      <td>2016-01-04</td>\n      <td>New Modern House-Amazing water view</td>\n      <td>New modern house built in 2013.  Spectacular s...</td>\n      <td>Our house is modern, light and fresh with a wa...</td>\n      <td>New modern house built in 2013.  Spectacular s...</td>\n      <td>none</td>\n      <td>Upper Queen Anne is a charming neighborhood fu...</td>\n      <td>...</td>\n      <td>10.0</td>\n      <td>f</td>\n      <td>NaN</td>\n      <td>WASHINGTON</td>\n      <td>f</td>\n      <td>strict</td>\n      <td>f</td>\n      <td>f</td>\n      <td>2</td>\n      <td>1.15</td>\n    </tr>\n    <tr>\n      <th>3</th>\n      <td>7421966</td>\n      <td>https://www.airbnb.com/rooms/7421966</td>\n      <td>20160104002432</td>\n      <td>2016-01-04</td>\n      <td>Queen Anne Chateau</td>\n      <td>A charming apartment that sits atop Queen Anne...</td>\n      <td>NaN</td>\n      <td>A charming apartment that sits atop Queen Anne...</td>\n      <td>none</td>\n      <td>NaN</td>\n      <td>...</td>\n      <td>NaN</td>\n      <td>f</td>\n      <td>NaN</td>\n      <td>WASHINGTON</td>\n      <td>f</td>\n      <td>flexible</td>\n      <td>f</td>\n      <td>f</td>\n      <td>1</td>\n      <td>NaN</td>\n    </tr>\n    <tr>\n      <th>4</th>\n      <td>278830</td>\n      <td>https://www.airbnb.com/rooms/278830</td>\n      <td>20160104002432</td>\n      <td>2016-01-04</td>\n      <td>Charming craftsman 3 bdm house</td>\n      <td>Cozy family craftman house in beautiful neighb...</td>\n      <td>Cozy family craftman house in beautiful neighb...</td>\n      <td>Cozy family craftman house in beautiful neighb...</td>\n      <td>none</td>\n      <td>We are in the beautiful neighborhood of Queen ...</td>\n      <td>...</td>\n      <td>9.0</td>\n      <td>f</td>\n      <td>NaN</td>\n      <td>WASHINGTON</td>\n      <td>f</td>\n      <td>strict</td>\n      <td>f</td>\n      <td>f</td>\n      <td>1</td>\n      <td>0.89</td>\n    </tr>\n  </tbody>\n</table>\n<p>5 rows × 92 columns</p>\n</div>"
     },
     "metadata": {},
     "execution_count": 3
    }
   ],
   "source": [
    "listings_df.head()"
   ]
  },
  {
   "cell_type": "code",
   "execution_count": 4,
   "metadata": {},
   "outputs": [
    {
     "output_type": "stream",
     "name": "stdout",
     "text": [
      "<class 'pandas.core.frame.DataFrame'>\nRangeIndex: 3818 entries, 0 to 3817\nData columns (total 92 columns):\n #   Column                            Non-Null Count  Dtype  \n---  ------                            --------------  -----  \n 0   id                                3818 non-null   int64  \n 1   listing_url                       3818 non-null   object \n 2   scrape_id                         3818 non-null   int64  \n 3   last_scraped                      3818 non-null   object \n 4   name                              3818 non-null   object \n 5   summary                           3641 non-null   object \n 6   space                             3249 non-null   object \n 7   description                       3818 non-null   object \n 8   experiences_offered               3818 non-null   object \n 9   neighborhood_overview             2786 non-null   object \n 10  notes                             2212 non-null   object \n 11  transit                           2884 non-null   object \n 12  thumbnail_url                     3498 non-null   object \n 13  medium_url                        3498 non-null   object \n 14  picture_url                       3818 non-null   object \n 15  xl_picture_url                    3498 non-null   object \n 16  host_id                           3818 non-null   int64  \n 17  host_url                          3818 non-null   object \n 18  host_name                         3816 non-null   object \n 19  host_since                        3816 non-null   object \n 20  host_location                     3810 non-null   object \n 21  host_about                        2959 non-null   object \n 22  host_response_time                3295 non-null   object \n 23  host_response_rate                3295 non-null   object \n 24  host_acceptance_rate              3045 non-null   object \n 25  host_is_superhost                 3816 non-null   object \n 26  host_thumbnail_url                3816 non-null   object \n 27  host_picture_url                  3816 non-null   object \n 28  host_neighbourhood                3518 non-null   object \n 29  host_listings_count               3816 non-null   float64\n 30  host_total_listings_count         3816 non-null   float64\n 31  host_verifications                3818 non-null   object \n 32  host_has_profile_pic              3816 non-null   object \n 33  host_identity_verified            3816 non-null   object \n 34  street                            3818 non-null   object \n 35  neighbourhood                     3402 non-null   object \n 36  neighbourhood_cleansed            3818 non-null   object \n 37  neighbourhood_group_cleansed      3818 non-null   object \n 38  city                              3818 non-null   object \n 39  state                             3818 non-null   object \n 40  zipcode                           3811 non-null   object \n 41  market                            3818 non-null   object \n 42  smart_location                    3818 non-null   object \n 43  country_code                      3818 non-null   object \n 44  country                           3818 non-null   object \n 45  latitude                          3818 non-null   float64\n 46  longitude                         3818 non-null   float64\n 47  is_location_exact                 3818 non-null   object \n 48  property_type                     3817 non-null   object \n 49  room_type                         3818 non-null   object \n 50  accommodates                      3818 non-null   int64  \n 51  bathrooms                         3802 non-null   float64\n 52  bedrooms                          3812 non-null   float64\n 53  beds                              3817 non-null   float64\n 54  bed_type                          3818 non-null   object \n 55  amenities                         3818 non-null   object \n 56  square_feet                       97 non-null     float64\n 57  price                             3818 non-null   object \n 58  weekly_price                      2009 non-null   object \n 59  monthly_price                     1517 non-null   object \n 60  security_deposit                  1866 non-null   object \n 61  cleaning_fee                      2788 non-null   object \n 62  guests_included                   3818 non-null   int64  \n 63  extra_people                      3818 non-null   object \n 64  minimum_nights                    3818 non-null   int64  \n 65  maximum_nights                    3818 non-null   int64  \n 66  calendar_updated                  3818 non-null   object \n 67  has_availability                  3818 non-null   object \n 68  availability_30                   3818 non-null   int64  \n 69  availability_60                   3818 non-null   int64  \n 70  availability_90                   3818 non-null   int64  \n 71  availability_365                  3818 non-null   int64  \n 72  calendar_last_scraped             3818 non-null   object \n 73  number_of_reviews                 3818 non-null   int64  \n 74  first_review                      3191 non-null   object \n 75  last_review                       3191 non-null   object \n 76  review_scores_rating              3171 non-null   float64\n 77  review_scores_accuracy            3160 non-null   float64\n 78  review_scores_cleanliness         3165 non-null   float64\n 79  review_scores_checkin             3160 non-null   float64\n 80  review_scores_communication       3167 non-null   float64\n 81  review_scores_location            3163 non-null   float64\n 82  review_scores_value               3162 non-null   float64\n 83  requires_license                  3818 non-null   object \n 84  license                           0 non-null      float64\n 85  jurisdiction_names                3818 non-null   object \n 86  instant_bookable                  3818 non-null   object \n 87  cancellation_policy               3818 non-null   object \n 88  require_guest_profile_picture     3818 non-null   object \n 89  require_guest_phone_verification  3818 non-null   object \n 90  calculated_host_listings_count    3818 non-null   int64  \n 91  reviews_per_month                 3191 non-null   float64\ndtypes: float64(17), int64(13), object(62)\nmemory usage: 1.8+ MB\n"
     ]
    }
   ],
   "source": [
    "listings_df.info()"
   ]
  },
  {
   "cell_type": "code",
   "execution_count": 5,
   "metadata": {},
   "outputs": [
    {
     "output_type": "execute_result",
     "data": {
      "text/plain": [
       "(3818, 92)"
      ]
     },
     "metadata": {},
     "execution_count": 5
    }
   ],
   "source": [
    "# Number of appartments and features\n",
    "listings_df.shape"
   ]
  },
  {
   "cell_type": "code",
   "execution_count": 6,
   "metadata": {},
   "outputs": [
    {
     "output_type": "execute_result",
     "data": {
      "text/plain": [
       "license                        3818\n",
       "square_feet                    3721\n",
       "monthly_price                  2301\n",
       "security_deposit               1952\n",
       "weekly_price                   1809\n",
       "notes                          1606\n",
       "neighborhood_overview          1032\n",
       "cleaning_fee                   1030\n",
       "transit                         934\n",
       "host_about                      859\n",
       "host_acceptance_rate            773\n",
       "review_scores_accuracy          658\n",
       "review_scores_checkin           658\n",
       "review_scores_value             656\n",
       "review_scores_location          655\n",
       "review_scores_cleanliness       653\n",
       "review_scores_communication     651\n",
       "review_scores_rating            647\n",
       "reviews_per_month               627\n",
       "first_review                    627\n",
       "last_review                     627\n",
       "space                           569\n",
       "host_response_time              523\n",
       "host_response_rate              523\n",
       "neighbourhood                   416\n",
       "thumbnail_url                   320\n",
       "medium_url                      320\n",
       "xl_picture_url                  320\n",
       "host_neighbourhood              300\n",
       "summary                         177\n",
       "bathrooms                        16\n",
       "host_location                     8\n",
       "zipcode                           7\n",
       "bedrooms                          6\n",
       "host_is_superhost                 2\n",
       "host_thumbnail_url                2\n",
       "host_picture_url                  2\n",
       "host_listings_count               2\n",
       "host_since                        2\n",
       "host_name                         2\n",
       "host_total_listings_count         2\n",
       "host_has_profile_pic              2\n",
       "host_identity_verified            2\n",
       "property_type                     1\n",
       "beds                              1\n",
       "dtype: int64"
      ]
     },
     "metadata": {},
     "execution_count": 6
    }
   ],
   "source": [
    "# List of columns wit NaN values\n",
    "listings_df.isnull().sum()[listings_df.isnull().sum()>0].sort_values(ascending=False)"
   ]
  },
  {
   "cell_type": "code",
   "execution_count": 7,
   "metadata": {},
   "outputs": [],
   "source": [
    "# We could drop the columns with more than 50% of NaNs\n",
    "drop_NaNs = ['license', 'square_feet', 'monthly_price','security_deposit']"
   ]
  },
  {
   "cell_type": "code",
   "execution_count": 8,
   "metadata": {},
   "outputs": [
    {
     "output_type": "execute_result",
     "data": {
      "text/plain": [
       "object     62\n",
       "float64    17\n",
       "int64      13\n",
       "dtype: int64"
      ]
     },
     "metadata": {},
     "execution_count": 8
    }
   ],
   "source": [
    "# Types of data\n",
    "listings_df.dtypes.value_counts()"
   ]
  },
  {
   "cell_type": "code",
   "execution_count": 9,
   "metadata": {},
   "outputs": [
    {
     "output_type": "execute_result",
     "data": {
      "text/plain": [
       "strict      1417\n",
       "moderate    1251\n",
       "flexible    1150\n",
       "Name: cancellation_policy, dtype: int64"
      ]
     },
     "metadata": {},
     "execution_count": 9
    }
   ],
   "source": [
    "# Cancellation Policies\n",
    "listings_df.cancellation_policy.value_counts()"
   ]
  },
  {
   "cell_type": "code",
   "execution_count": 10,
   "metadata": {},
   "outputs": [
    {
     "output_type": "execute_result",
     "data": {
      "text/plain": [
       "1.0    2882\n",
       "2.0     373\n",
       "1.5     248\n",
       "2.5     124\n",
       "3.0      64\n",
       "3.5      57\n",
       "0.5      31\n",
       "0.0       8\n",
       "4.0       8\n",
       "4.5       3\n",
       "5.0       2\n",
       "8.0       2\n",
       "Name: bathrooms, dtype: int64"
      ]
     },
     "metadata": {},
     "execution_count": 10
    }
   ],
   "source": [
    "# Number of bathrooms\n",
    "listings_df.bathrooms.value_counts()"
   ]
  },
  {
   "cell_type": "code",
   "execution_count": 11,
   "metadata": {},
   "outputs": [
    {
     "output_type": "execute_result",
     "data": {
      "text/plain": [
       "bathrooms\n",
       "8.0    10.000000\n",
       "4.5     9.666667\n",
       "2.5     9.556701\n",
       "1.5     9.544554\n",
       "3.5     9.540000\n",
       "4.0     9.500000\n",
       "0.0     9.500000\n",
       "1.0     9.455339\n",
       "2.0     9.389439\n",
       "3.0     9.377358\n",
       "5.0     9.000000\n",
       "0.5     8.857143\n",
       "Name: review_scores_value, dtype: float64"
      ]
     },
     "metadata": {},
     "execution_count": 11
    }
   ],
   "source": [
    "# Influence of number of bathrooms with review score\n",
    "listings_df.groupby(['bathrooms'])['review_scores_value'].mean().sort_values(ascending=False)"
   ]
  },
  {
   "source": [
    "It seems that the number of bathrooms does not impact in the review scores (Less the number is huge!)"
   ],
   "cell_type": "markdown",
   "metadata": {}
  },
  {
   "cell_type": "code",
   "execution_count": 12,
   "metadata": {},
   "outputs": [
    {
     "output_type": "execute_result",
     "data": {
      "text/plain": [
       "scrape_id                1\n",
       "last_scraped             1\n",
       "experiences_offered      1\n",
       "market                   1\n",
       "country_code             1\n",
       "country                  1\n",
       "has_availability         1\n",
       "calendar_last_scraped    1\n",
       "requires_license         1\n",
       "jurisdiction_names       1\n",
       "dtype: int64"
      ]
     },
     "metadata": {},
     "execution_count": 12
    }
   ],
   "source": [
    "# Columns with low variability\n",
    "listings_df.nunique()[listings_df.nunique()==1]"
   ]
  },
  {
   "cell_type": "code",
   "execution_count": 13,
   "metadata": {},
   "outputs": [],
   "source": [
    "# We could drop these columns\n",
    "drop_low_variability = list(listings_df.nunique()[listings_df.nunique()==1].index)"
   ]
  },
  {
   "cell_type": "code",
   "execution_count": 14,
   "metadata": {},
   "outputs": [],
   "source": [
    "# Columns that could be boolean\n",
    "could_boolean = list(listings_df.nunique()[listings_df.nunique()==2].index)"
   ]
  },
  {
   "cell_type": "code",
   "execution_count": 15,
   "metadata": {},
   "outputs": [
    {
     "output_type": "execute_result",
     "data": {
      "text/plain": [
       "host_acceptance_rate                object\n",
       "host_is_superhost                   object\n",
       "host_has_profile_pic                object\n",
       "host_identity_verified              object\n",
       "state                               object\n",
       "is_location_exact                   object\n",
       "instant_bookable                    object\n",
       "require_guest_profile_picture       object\n",
       "require_guest_phone_verification    object\n",
       "dtype: object"
      ]
     },
     "metadata": {},
     "execution_count": 15
    }
   ],
   "source": [
    "listings_df[could_boolean].dtypes"
   ]
  },
  {
   "source": [
    "No one of these columns are boolean, so this is something we should treat in the next chapter"
   ],
   "cell_type": "markdown",
   "metadata": {}
  },
  {
   "cell_type": "code",
   "execution_count": 16,
   "metadata": {},
   "outputs": [
    {
     "output_type": "execute_result",
     "data": {
      "text/plain": [
       "['price', 'weekly_price', 'monthly_price']"
      ]
     },
     "metadata": {},
     "execution_count": 16
    }
   ],
   "source": [
    "price_columns = [column for column in listings_df.columns if 'price' in column]\n",
    "price_columns"
   ]
  },
  {
   "cell_type": "code",
   "execution_count": 17,
   "metadata": {},
   "outputs": [
    {
     "output_type": "execute_result",
     "data": {
      "text/plain": [
       "['host_id',\n",
       " 'host_url',\n",
       " 'host_name',\n",
       " 'host_since',\n",
       " 'host_location',\n",
       " 'host_about',\n",
       " 'host_response_time',\n",
       " 'host_response_rate',\n",
       " 'host_acceptance_rate',\n",
       " 'host_is_superhost',\n",
       " 'host_thumbnail_url',\n",
       " 'host_picture_url',\n",
       " 'host_neighbourhood',\n",
       " 'host_listings_count',\n",
       " 'host_total_listings_count',\n",
       " 'host_verifications',\n",
       " 'host_has_profile_pic',\n",
       " 'host_identity_verified',\n",
       " 'calculated_host_listings_count']"
      ]
     },
     "metadata": {},
     "execution_count": 17
    }
   ],
   "source": [
    "host_columns = [column for column in listings_df.columns if 'host' in column]\n",
    "host_columns"
   ]
  },
  {
   "cell_type": "code",
   "execution_count": 18,
   "metadata": {},
   "outputs": [
    {
     "output_type": "execute_result",
     "data": {
      "text/plain": [
       "['number_of_reviews',\n",
       " 'first_review',\n",
       " 'last_review',\n",
       " 'review_scores_rating',\n",
       " 'review_scores_accuracy',\n",
       " 'review_scores_cleanliness',\n",
       " 'review_scores_checkin',\n",
       " 'review_scores_communication',\n",
       " 'review_scores_location',\n",
       " 'review_scores_value',\n",
       " 'reviews_per_month']"
      ]
     },
     "metadata": {},
     "execution_count": 18
    }
   ],
   "source": [
    "review_columns = [column for column in listings_df.columns if 'review' in column]\n",
    "review_columns"
   ]
  },
  {
   "cell_type": "code",
   "execution_count": 19,
   "metadata": {},
   "outputs": [
    {
     "output_type": "execute_result",
     "data": {
      "text/plain": [
       "   listing_id        date available   price\n",
       "0      241032  2016-01-04         t  $85.00\n",
       "1      241032  2016-01-05         t  $85.00\n",
       "2      241032  2016-01-06         f     NaN\n",
       "3      241032  2016-01-07         f     NaN\n",
       "4      241032  2016-01-08         f     NaN"
      ],
      "text/html": "<div>\n<style scoped>\n    .dataframe tbody tr th:only-of-type {\n        vertical-align: middle;\n    }\n\n    .dataframe tbody tr th {\n        vertical-align: top;\n    }\n\n    .dataframe thead th {\n        text-align: right;\n    }\n</style>\n<table border=\"1\" class=\"dataframe\">\n  <thead>\n    <tr style=\"text-align: right;\">\n      <th></th>\n      <th>listing_id</th>\n      <th>date</th>\n      <th>available</th>\n      <th>price</th>\n    </tr>\n  </thead>\n  <tbody>\n    <tr>\n      <th>0</th>\n      <td>241032</td>\n      <td>2016-01-04</td>\n      <td>t</td>\n      <td>$85.00</td>\n    </tr>\n    <tr>\n      <th>1</th>\n      <td>241032</td>\n      <td>2016-01-05</td>\n      <td>t</td>\n      <td>$85.00</td>\n    </tr>\n    <tr>\n      <th>2</th>\n      <td>241032</td>\n      <td>2016-01-06</td>\n      <td>f</td>\n      <td>NaN</td>\n    </tr>\n    <tr>\n      <th>3</th>\n      <td>241032</td>\n      <td>2016-01-07</td>\n      <td>f</td>\n      <td>NaN</td>\n    </tr>\n    <tr>\n      <th>4</th>\n      <td>241032</td>\n      <td>2016-01-08</td>\n      <td>f</td>\n      <td>NaN</td>\n    </tr>\n  </tbody>\n</table>\n</div>"
     },
     "metadata": {},
     "execution_count": 19
    }
   ],
   "source": [
    "calendar_df.head()"
   ]
  },
  {
   "cell_type": "code",
   "execution_count": 20,
   "metadata": {},
   "outputs": [
    {
     "output_type": "stream",
     "name": "stdout",
     "text": [
      "<class 'pandas.core.frame.DataFrame'>\nRangeIndex: 1393570 entries, 0 to 1393569\nData columns (total 4 columns):\n #   Column      Non-Null Count    Dtype \n---  ------      --------------    ----- \n 0   listing_id  1393570 non-null  int64 \n 1   date        1393570 non-null  object\n 2   available   1393570 non-null  object\n 3   price       934542 non-null   object\ndtypes: int64(1), object(3)\nmemory usage: 26.6+ MB\n"
     ]
    }
   ],
   "source": [
    "calendar_df.info()"
   ]
  },
  {
   "cell_type": "code",
   "execution_count": 21,
   "metadata": {},
   "outputs": [
    {
     "output_type": "execute_result",
     "data": {
      "text/plain": [
       "listing_id         0\n",
       "date               0\n",
       "available          0\n",
       "price         459028\n",
       "dtype: int64"
      ]
     },
     "metadata": {},
     "execution_count": 21
    }
   ],
   "source": [
    "calendar_df.isnull().sum()"
   ]
  },
  {
   "cell_type": "code",
   "execution_count": 22,
   "metadata": {},
   "outputs": [
    {
     "output_type": "execute_result",
     "data": {
      "text/plain": [
       "(1393570, 4)"
      ]
     },
     "metadata": {},
     "execution_count": 22
    }
   ],
   "source": [
    "calendar_df.shape"
   ]
  },
  {
   "source": [
    "Let's compare the price values for a listing between the calendar and listing dataframes"
   ],
   "cell_type": "markdown",
   "metadata": {}
  },
  {
   "cell_type": "code",
   "execution_count": 23,
   "metadata": {},
   "outputs": [
    {
     "output_type": "execute_result",
     "data": {
      "text/plain": [
       "(953595, '$150.00')"
      ]
     },
     "metadata": {},
     "execution_count": 23
    }
   ],
   "source": [
    "listings_df.id[1], listings_df.price[1]"
   ]
  },
  {
   "cell_type": "code",
   "execution_count": 24,
   "metadata": {},
   "outputs": [
    {
     "output_type": "execute_result",
     "data": {
      "text/plain": [
       "$125.00    37\n",
       "$190.00     7\n",
       "$144.00     7\n",
       "$158.00     7\n",
       "$165.00     6\n",
       "           ..\n",
       "$400.00     1\n",
       "$223.00     1\n",
       "$153.00     1\n",
       "$159.00     1\n",
       "$135.00     1\n",
       "Name: price, Length: 92, dtype: int64"
      ]
     },
     "metadata": {},
     "execution_count": 24
    }
   ],
   "source": [
    "calendar_df[calendar_df.listing_id == listings_df.id[1]].dropna(subset=['price'])['price'].value_counts()"
   ]
  },
  {
   "source": [
    "For some cases the price is fix and the value is the same in both df, in other cases the price may vary. When we clean the data, we will adress it and see if the mean is taken for the listing dataframe"
   ],
   "cell_type": "markdown",
   "metadata": {}
  },
  {
   "source": [
    "** Data Preparation needed for Listings DF**\n",
    "\n",
    "- select which columns use\n",
    "- differenciate cat/num columms\n",
    "- check if types\n",
    "- decide which drop\n",
    "- clean columns and fillna"
   ],
   "cell_type": "markdown",
   "metadata": {}
  },
  {
   "source": [
    "**Data Preparation needed Calendar DF**\n",
    "\n",
    "- date to datetime\n",
    "- available boolean -> True/False -> Get dummies\n",
    "- price should be float\n",
    "- Merge with listings_df in new df"
   ],
   "cell_type": "markdown",
   "metadata": {}
  },
  {
   "source": [
    "### 3. Data Preparation"
   ],
   "cell_type": "markdown",
   "metadata": {}
  },
  {
   "cell_type": "code",
   "execution_count": 25,
   "metadata": {},
   "outputs": [],
   "source": [
    "# Calendar_df\n",
    "\n",
    "# Convert date to correct format\n",
    "calendar_df.date = pd.to_datetime(calendar_df.date)\n",
    "\n",
    "# Convert price NaNs to \"0\" and object to float \n",
    "calendar_df.price = calendar_df.price.str.replace('$','').str.replace(',','')\n",
    "calendar_df.price.fillna(0, inplace=True)\n",
    "calendar_df.price = calendar_df.price.astype('float64')\n",
    "\n",
    "# Set availability to boolean (0,1)\n",
    "def map_boolean(dfs):\n",
    "    mapping = {'t':1,'f':0}\n",
    "    dfs = dfs.map(mapping).astype(np.uint8)\n",
    "    return dfs\n",
    "\n",
    "calendar_df.available = map_boolean(calendar_df.available)"
   ]
  },
  {
   "cell_type": "code",
   "execution_count": 26,
   "metadata": {},
   "outputs": [],
   "source": [
    "# Listings_df\n",
    "df_l = listings_df.copy()\n",
    "\n",
    "# Drop previous selected columns\n",
    "df_l.drop(drop_low_variability,axis=1, inplace=True)\n",
    "df_l.drop(drop_NaNs,axis=1, inplace=True)\n",
    "\n",
    "# Select only necessary columns\n",
    "selected = ['id','neighbourhood','zipcode','smart_location', 'latitude', 'longitude', 'is_location_exact',\n",
    "       'property_type', 'room_type', 'accommodates', 'bathrooms', 'bedrooms',\n",
    "       'beds', 'bed_type', 'amenities', 'price', 'weekly_price',\n",
    "       'cleaning_fee', 'guests_included', 'extra_people', 'minimum_nights',\n",
    "       'maximum_nights','availability_30',\n",
    "       'availability_60', 'availability_90', 'availability_365',\n",
    "       'number_of_reviews','review_scores_rating', 'review_scores_accuracy',\n",
    "       'review_scores_cleanliness', 'review_scores_checkin',\n",
    "       'review_scores_communication', 'review_scores_location',\n",
    "       'review_scores_value', 'instant_bookable', 'cancellation_policy',\n",
    "       'require_guest_profile_picture', 'require_guest_phone_verification',\n",
    "       'calculated_host_listings_count', 'reviews_per_month']\n",
    "\n",
    "df_l = df_l[selected]\n",
    "\n",
    "# Change f/t to 0/1\n",
    "bool_col = list(df_l.nunique()[df_l.nunique()==2].index)\n",
    "for col in bool_col:\n",
    "    df_l[col] = map_boolean(df_l[col])\n",
    "\n",
    "# price,weekly_price,cleaning_fee,extra_people should be floats\n",
    "for col in ['price','weekly_price','cleaning_fee','extra_people']:\n",
    "    df_l[col] = df_l[col].str.replace('$','').str.replace(',','')\n",
    "    df_l[col] = df_l[col].astype('float64')\n",
    "    df_l[col].fillna(df_l[col].mean(), inplace=True)\n",
    "    \n",
    "\n",
    "# Select continous and categorical columns\n",
    "cont_cols = df_l.select_dtypes(exclude=['object'])\n",
    "cat_cols = df_l.select_dtypes(include=['object'])"
   ]
  },
  {
   "cell_type": "code",
   "execution_count": 27,
   "metadata": {},
   "outputs": [
    {
     "output_type": "execute_result",
     "data": {
      "text/plain": [
       "bathrooms                       16\n",
       "bedrooms                         6\n",
       "beds                             1\n",
       "review_scores_rating           647\n",
       "review_scores_accuracy         658\n",
       "review_scores_cleanliness      653\n",
       "review_scores_checkin          658\n",
       "review_scores_communication    651\n",
       "review_scores_location         655\n",
       "review_scores_value            656\n",
       "reviews_per_month              627\n",
       "dtype: int64"
      ]
     },
     "metadata": {},
     "execution_count": 27
    }
   ],
   "source": [
    "# Continous columns with missing values\n",
    "cont_cols.isnull().sum()[cont_cols.isnull().sum()>0]"
   ]
  },
  {
   "cell_type": "code",
   "execution_count": 28,
   "metadata": {},
   "outputs": [
    {
     "output_type": "stream",
     "name": "stderr",
     "text": [
      "C:\\Users\\Guillermo\\AppData\\Local\\Programs\\Python\\Python37-32\\lib\\site-packages\\pandas\\core\\generic.py:6245: SettingWithCopyWarning: \nA value is trying to be set on a copy of a slice from a DataFrame\n\nSee the caveats in the documentation: https://pandas.pydata.org/pandas-docs/stable/user_guide/indexing.html#returning-a-view-versus-a-copy\n  self._update_inplace(new_data)\n"
     ]
    }
   ],
   "source": [
    "# Fill missing values with the mean\n",
    "for  col in cont_cols.columns:\n",
    "    cont_cols[col].fillna(cont_cols[col].mean(),inplace=True)"
   ]
  },
  {
   "cell_type": "code",
   "execution_count": 29,
   "metadata": {},
   "outputs": [
    {
     "output_type": "execute_result",
     "data": {
      "text/plain": [
       "neighbourhood            81\n",
       "zipcode                  28\n",
       "smart_location            7\n",
       "property_type            16\n",
       "room_type                 3\n",
       "bed_type                  5\n",
       "amenities              3284\n",
       "cancellation_policy       3\n",
       "dtype: int64"
      ]
     },
     "metadata": {},
     "execution_count": 29
    }
   ],
   "source": [
    "# How manu different values are for the catergorical columns\r\n",
    "cat_cols.nunique()"
   ]
  },
  {
   "source": [
    "We see here that amenities has too many different values. This could be a dimensionality problem for get dummies. Maybe we could just count how manu amenities is a listing offering and treat the column as continous one."
   ],
   "cell_type": "markdown",
   "metadata": {}
  },
  {
   "cell_type": "code",
   "execution_count": 30,
   "metadata": {},
   "outputs": [
    {
     "output_type": "stream",
     "name": "stderr",
     "text": [
      "C:\\Users\\Guillermo\\AppData\\Local\\Programs\\Python\\Python37-32\\lib\\site-packages\\pandas\\core\\generic.py:5303: SettingWithCopyWarning: \nA value is trying to be set on a copy of a slice from a DataFrame.\nTry using .loc[row_indexer,col_indexer] = value instead\n\nSee the caveats in the documentation: https://pandas.pydata.org/pandas-docs/stable/user_guide/indexing.html#returning-a-view-versus-a-copy\n  self[name] = value\n"
     ]
    }
   ],
   "source": [
    "cat_cols.amenities = [len(amenitie.split(',')) for amenitie in cat_cols.amenities]"
   ]
  },
  {
   "cell_type": "code",
   "execution_count": 31,
   "metadata": {},
   "outputs": [],
   "source": [
    "cont_cols = pd.concat([cont_cols, cat_cols.amenities],axis=1)"
   ]
  },
  {
   "cell_type": "code",
   "execution_count": 32,
   "metadata": {},
   "outputs": [
    {
     "output_type": "stream",
     "name": "stderr",
     "text": [
      "C:\\Users\\Guillermo\\AppData\\Local\\Programs\\Python\\Python37-32\\lib\\site-packages\\pandas\\core\\frame.py:3997: SettingWithCopyWarning: \nA value is trying to be set on a copy of a slice from a DataFrame\n\nSee the caveats in the documentation: https://pandas.pydata.org/pandas-docs/stable/user_guide/indexing.html#returning-a-view-versus-a-copy\n  errors=errors,\n"
     ]
    }
   ],
   "source": [
    "cat_cols.drop(['amenities'],axis=1,inplace=True)"
   ]
  },
  {
   "cell_type": "code",
   "execution_count": 33,
   "metadata": {},
   "outputs": [
    {
     "output_type": "execute_result",
     "data": {
      "text/plain": [
       "neighbourhood    416\n",
       "zipcode            7\n",
       "property_type      1\n",
       "dtype: int64"
      ]
     },
     "metadata": {},
     "execution_count": 33
    }
   ],
   "source": [
    "# Categorical columns with missing values\n",
    "cat_cols.isnull().sum()[cat_cols.isnull().sum()>0]"
   ]
  },
  {
   "source": [
    "We can't use the categorical columns directly, so we have to preprocess them with get_dummies:"
   ],
   "cell_type": "markdown",
   "metadata": {}
  },
  {
   "cell_type": "code",
   "execution_count": 34,
   "metadata": {},
   "outputs": [],
   "source": [
    "for col in cat_cols.columns:\n",
    "    cat_cols = pd.concat([cat_cols.drop([col],axis=1),pd.get_dummies(cat_cols[col], prefix=col, prefix_sep = '_',dummy_na=True)],axis=1)"
   ]
  },
  {
   "cell_type": "code",
   "execution_count": 35,
   "metadata": {},
   "outputs": [
    {
     "output_type": "execute_result",
     "data": {
      "text/plain": [
       "      neighbourhood_Alki  neighbourhood_Arbor Heights  neighbourhood_Atlantic  \\\n",
       "0                      0                            0                       0   \n",
       "1                      0                            0                       0   \n",
       "2                      0                            0                       0   \n",
       "3                      0                            0                       0   \n",
       "4                      0                            0                       0   \n",
       "...                  ...                          ...                     ...   \n",
       "3813                   0                            0                       0   \n",
       "3814                   0                            0                       0   \n",
       "3815                   0                            0                       0   \n",
       "3816                   0                            0                       0   \n",
       "3817                   0                            0                       0   \n",
       "\n",
       "      neighbourhood_Ballard  neighbourhood_Belltown  \\\n",
       "0                         0                       0   \n",
       "1                         0                       0   \n",
       "2                         0                       0   \n",
       "3                         0                       0   \n",
       "4                         0                       0   \n",
       "...                     ...                     ...   \n",
       "3813                      0                       0   \n",
       "3814                      0                       0   \n",
       "3815                      0                       0   \n",
       "3816                      0                       0   \n",
       "3817                      0                       0   \n",
       "\n",
       "      neighbourhood_Bitter Lake  neighbourhood_Brighton  \\\n",
       "0                             0                       0   \n",
       "1                             0                       0   \n",
       "2                             0                       0   \n",
       "3                             0                       0   \n",
       "4                             0                       0   \n",
       "...                         ...                     ...   \n",
       "3813                          0                       0   \n",
       "3814                          0                       0   \n",
       "3815                          0                       0   \n",
       "3816                          0                       0   \n",
       "3817                          0                       0   \n",
       "\n",
       "      neighbourhood_Broadview  neighbourhood_Broadway  neighbourhood_Bryant  \\\n",
       "0                           0                       0                     0   \n",
       "1                           0                       0                     0   \n",
       "2                           0                       0                     0   \n",
       "3                           0                       0                     0   \n",
       "4                           0                       0                     0   \n",
       "...                       ...                     ...                   ...   \n",
       "3813                        0                       0                     0   \n",
       "3814                        0                       0                     0   \n",
       "3815                        0                       0                     0   \n",
       "3816                        0                       0                     0   \n",
       "3817                        0                       0                     0   \n",
       "\n",
       "      ...  bed_type_Airbed  bed_type_Couch  bed_type_Futon  \\\n",
       "0     ...                0               0               0   \n",
       "1     ...                0               0               0   \n",
       "2     ...                0               0               0   \n",
       "3     ...                0               0               0   \n",
       "4     ...                0               0               0   \n",
       "...   ...              ...             ...             ...   \n",
       "3813  ...                0               0               0   \n",
       "3814  ...                0               0               0   \n",
       "3815  ...                0               0               0   \n",
       "3816  ...                0               0               0   \n",
       "3817  ...                0               0               0   \n",
       "\n",
       "      bed_type_Pull-out Sofa  bed_type_Real Bed  bed_type_nan  \\\n",
       "0                          0                  1             0   \n",
       "1                          0                  1             0   \n",
       "2                          0                  1             0   \n",
       "3                          0                  1             0   \n",
       "4                          0                  1             0   \n",
       "...                      ...                ...           ...   \n",
       "3813                       0                  1             0   \n",
       "3814                       0                  1             0   \n",
       "3815                       0                  1             0   \n",
       "3816                       0                  1             0   \n",
       "3817                       0                  1             0   \n",
       "\n",
       "      cancellation_policy_flexible  cancellation_policy_moderate  \\\n",
       "0                                0                             1   \n",
       "1                                0                             0   \n",
       "2                                0                             0   \n",
       "3                                1                             0   \n",
       "4                                0                             0   \n",
       "...                            ...                           ...   \n",
       "3813                             0                             0   \n",
       "3814                             0                             1   \n",
       "3815                             0                             1   \n",
       "3816                             0                             1   \n",
       "3817                             1                             0   \n",
       "\n",
       "      cancellation_policy_strict  cancellation_policy_nan  \n",
       "0                              0                        0  \n",
       "1                              1                        0  \n",
       "2                              1                        0  \n",
       "3                              0                        0  \n",
       "4                              1                        0  \n",
       "...                          ...                      ...  \n",
       "3813                           1                        0  \n",
       "3814                           0                        0  \n",
       "3815                           0                        0  \n",
       "3816                           0                        0  \n",
       "3817                           0                        0  \n",
       "\n",
       "[3818 rows x 150 columns]"
      ],
      "text/html": "<div>\n<style scoped>\n    .dataframe tbody tr th:only-of-type {\n        vertical-align: middle;\n    }\n\n    .dataframe tbody tr th {\n        vertical-align: top;\n    }\n\n    .dataframe thead th {\n        text-align: right;\n    }\n</style>\n<table border=\"1\" class=\"dataframe\">\n  <thead>\n    <tr style=\"text-align: right;\">\n      <th></th>\n      <th>neighbourhood_Alki</th>\n      <th>neighbourhood_Arbor Heights</th>\n      <th>neighbourhood_Atlantic</th>\n      <th>neighbourhood_Ballard</th>\n      <th>neighbourhood_Belltown</th>\n      <th>neighbourhood_Bitter Lake</th>\n      <th>neighbourhood_Brighton</th>\n      <th>neighbourhood_Broadview</th>\n      <th>neighbourhood_Broadway</th>\n      <th>neighbourhood_Bryant</th>\n      <th>...</th>\n      <th>bed_type_Airbed</th>\n      <th>bed_type_Couch</th>\n      <th>bed_type_Futon</th>\n      <th>bed_type_Pull-out Sofa</th>\n      <th>bed_type_Real Bed</th>\n      <th>bed_type_nan</th>\n      <th>cancellation_policy_flexible</th>\n      <th>cancellation_policy_moderate</th>\n      <th>cancellation_policy_strict</th>\n      <th>cancellation_policy_nan</th>\n    </tr>\n  </thead>\n  <tbody>\n    <tr>\n      <th>0</th>\n      <td>0</td>\n      <td>0</td>\n      <td>0</td>\n      <td>0</td>\n      <td>0</td>\n      <td>0</td>\n      <td>0</td>\n      <td>0</td>\n      <td>0</td>\n      <td>0</td>\n      <td>...</td>\n      <td>0</td>\n      <td>0</td>\n      <td>0</td>\n      <td>0</td>\n      <td>1</td>\n      <td>0</td>\n      <td>0</td>\n      <td>1</td>\n      <td>0</td>\n      <td>0</td>\n    </tr>\n    <tr>\n      <th>1</th>\n      <td>0</td>\n      <td>0</td>\n      <td>0</td>\n      <td>0</td>\n      <td>0</td>\n      <td>0</td>\n      <td>0</td>\n      <td>0</td>\n      <td>0</td>\n      <td>0</td>\n      <td>...</td>\n      <td>0</td>\n      <td>0</td>\n      <td>0</td>\n      <td>0</td>\n      <td>1</td>\n      <td>0</td>\n      <td>0</td>\n      <td>0</td>\n      <td>1</td>\n      <td>0</td>\n    </tr>\n    <tr>\n      <th>2</th>\n      <td>0</td>\n      <td>0</td>\n      <td>0</td>\n      <td>0</td>\n      <td>0</td>\n      <td>0</td>\n      <td>0</td>\n      <td>0</td>\n      <td>0</td>\n      <td>0</td>\n      <td>...</td>\n      <td>0</td>\n      <td>0</td>\n      <td>0</td>\n      <td>0</td>\n      <td>1</td>\n      <td>0</td>\n      <td>0</td>\n      <td>0</td>\n      <td>1</td>\n      <td>0</td>\n    </tr>\n    <tr>\n      <th>3</th>\n      <td>0</td>\n      <td>0</td>\n      <td>0</td>\n      <td>0</td>\n      <td>0</td>\n      <td>0</td>\n      <td>0</td>\n      <td>0</td>\n      <td>0</td>\n      <td>0</td>\n      <td>...</td>\n      <td>0</td>\n      <td>0</td>\n      <td>0</td>\n      <td>0</td>\n      <td>1</td>\n      <td>0</td>\n      <td>1</td>\n      <td>0</td>\n      <td>0</td>\n      <td>0</td>\n    </tr>\n    <tr>\n      <th>4</th>\n      <td>0</td>\n      <td>0</td>\n      <td>0</td>\n      <td>0</td>\n      <td>0</td>\n      <td>0</td>\n      <td>0</td>\n      <td>0</td>\n      <td>0</td>\n      <td>0</td>\n      <td>...</td>\n      <td>0</td>\n      <td>0</td>\n      <td>0</td>\n      <td>0</td>\n      <td>1</td>\n      <td>0</td>\n      <td>0</td>\n      <td>0</td>\n      <td>1</td>\n      <td>0</td>\n    </tr>\n    <tr>\n      <th>...</th>\n      <td>...</td>\n      <td>...</td>\n      <td>...</td>\n      <td>...</td>\n      <td>...</td>\n      <td>...</td>\n      <td>...</td>\n      <td>...</td>\n      <td>...</td>\n      <td>...</td>\n      <td>...</td>\n      <td>...</td>\n      <td>...</td>\n      <td>...</td>\n      <td>...</td>\n      <td>...</td>\n      <td>...</td>\n      <td>...</td>\n      <td>...</td>\n      <td>...</td>\n      <td>...</td>\n    </tr>\n    <tr>\n      <th>3813</th>\n      <td>0</td>\n      <td>0</td>\n      <td>0</td>\n      <td>0</td>\n      <td>0</td>\n      <td>0</td>\n      <td>0</td>\n      <td>0</td>\n      <td>0</td>\n      <td>0</td>\n      <td>...</td>\n      <td>0</td>\n      <td>0</td>\n      <td>0</td>\n      <td>0</td>\n      <td>1</td>\n      <td>0</td>\n      <td>0</td>\n      <td>0</td>\n      <td>1</td>\n      <td>0</td>\n    </tr>\n    <tr>\n      <th>3814</th>\n      <td>0</td>\n      <td>0</td>\n      <td>0</td>\n      <td>0</td>\n      <td>0</td>\n      <td>0</td>\n      <td>0</td>\n      <td>0</td>\n      <td>0</td>\n      <td>0</td>\n      <td>...</td>\n      <td>0</td>\n      <td>0</td>\n      <td>0</td>\n      <td>0</td>\n      <td>1</td>\n      <td>0</td>\n      <td>0</td>\n      <td>1</td>\n      <td>0</td>\n      <td>0</td>\n    </tr>\n    <tr>\n      <th>3815</th>\n      <td>0</td>\n      <td>0</td>\n      <td>0</td>\n      <td>0</td>\n      <td>0</td>\n      <td>0</td>\n      <td>0</td>\n      <td>0</td>\n      <td>0</td>\n      <td>0</td>\n      <td>...</td>\n      <td>0</td>\n      <td>0</td>\n      <td>0</td>\n      <td>0</td>\n      <td>1</td>\n      <td>0</td>\n      <td>0</td>\n      <td>1</td>\n      <td>0</td>\n      <td>0</td>\n    </tr>\n    <tr>\n      <th>3816</th>\n      <td>0</td>\n      <td>0</td>\n      <td>0</td>\n      <td>0</td>\n      <td>0</td>\n      <td>0</td>\n      <td>0</td>\n      <td>0</td>\n      <td>0</td>\n      <td>0</td>\n      <td>...</td>\n      <td>0</td>\n      <td>0</td>\n      <td>0</td>\n      <td>0</td>\n      <td>1</td>\n      <td>0</td>\n      <td>0</td>\n      <td>1</td>\n      <td>0</td>\n      <td>0</td>\n    </tr>\n    <tr>\n      <th>3817</th>\n      <td>0</td>\n      <td>0</td>\n      <td>0</td>\n      <td>0</td>\n      <td>0</td>\n      <td>0</td>\n      <td>0</td>\n      <td>0</td>\n      <td>0</td>\n      <td>0</td>\n      <td>...</td>\n      <td>0</td>\n      <td>0</td>\n      <td>0</td>\n      <td>0</td>\n      <td>1</td>\n      <td>0</td>\n      <td>1</td>\n      <td>0</td>\n      <td>0</td>\n      <td>0</td>\n    </tr>\n  </tbody>\n</table>\n<p>3818 rows × 150 columns</p>\n</div>"
     },
     "metadata": {},
     "execution_count": 35
    }
   ],
   "source": [
    "cat_cols"
   ]
  },
  {
   "cell_type": "code",
   "execution_count": 36,
   "metadata": {},
   "outputs": [],
   "source": [
    "# Concat cat/cont dateframes in one new cleaned dataframe:\n",
    "df_l_cleaned = pd.concat([cont_cols,cat_cols],axis=1)"
   ]
  },
  {
   "cell_type": "code",
   "execution_count": 37,
   "metadata": {},
   "outputs": [
    {
     "output_type": "execute_result",
     "data": {
      "text/plain": [
       "Series([], dtype: int64)"
      ]
     },
     "metadata": {},
     "execution_count": 37
    }
   ],
   "source": [
    "# Check if there are still NaNs values\n",
    "df_l_cleaned.isnull().sum()[df_l_cleaned.isnull().sum()>0]"
   ]
  },
  {
   "cell_type": "code",
   "execution_count": 38,
   "metadata": {},
   "outputs": [
    {
     "output_type": "execute_result",
     "data": {
      "text/plain": [
       "Empty DataFrame\n",
       "Columns: []\n",
       "Index: [0, 1, 2, 3, 4, 5, 6, 7, 8, 9, 10, 11, 12, 13, 14, 15, 16, 17, 18, 19, 20, 21, 22, 23, 24, 25, 26, 27, 28, 29, 30, 31, 32, 33, 34, 35, 36, 37, 38, 39, 40, 41, 42, 43, 44, 45, 46, 47, 48, 49, 50, 51, 52, 53, 54, 55, 56, 57, 58, 59, 60, 61, 62, 63, 64, 65, 66, 67, 68, 69, 70, 71, 72, 73, 74, 75, 76, 77, 78, 79, 80, 81, 82, 83, 84, 85, 86, 87, 88, 89, 90, 91, 92, 93, 94, 95, 96, 97, 98, 99, ...]\n",
       "\n",
       "[3818 rows x 0 columns]"
      ],
      "text/html": "<div>\n<style scoped>\n    .dataframe tbody tr th:only-of-type {\n        vertical-align: middle;\n    }\n\n    .dataframe tbody tr th {\n        vertical-align: top;\n    }\n\n    .dataframe thead th {\n        text-align: right;\n    }\n</style>\n<table border=\"1\" class=\"dataframe\">\n  <thead>\n    <tr style=\"text-align: right;\">\n      <th></th>\n    </tr>\n  </thead>\n  <tbody>\n    <tr>\n      <th>0</th>\n    </tr>\n    <tr>\n      <th>1</th>\n    </tr>\n    <tr>\n      <th>2</th>\n    </tr>\n    <tr>\n      <th>3</th>\n    </tr>\n    <tr>\n      <th>4</th>\n    </tr>\n    <tr>\n      <th>...</th>\n    </tr>\n    <tr>\n      <th>3813</th>\n    </tr>\n    <tr>\n      <th>3814</th>\n    </tr>\n    <tr>\n      <th>3815</th>\n    </tr>\n    <tr>\n      <th>3816</th>\n    </tr>\n    <tr>\n      <th>3817</th>\n    </tr>\n  </tbody>\n</table>\n<p>3818 rows × 0 columns</p>\n</div>"
     },
     "metadata": {},
     "execution_count": 38
    }
   ],
   "source": [
    "# Check the columns types\n",
    "df_l_cleaned.select_dtypes(include=['object'])"
   ]
  },
  {
   "cell_type": "code",
   "execution_count": 39,
   "metadata": {},
   "outputs": [
    {
     "output_type": "execute_result",
     "data": {
      "text/plain": [
       "(3818, 183)"
      ]
     },
     "metadata": {},
     "execution_count": 39
    }
   ],
   "source": [
    "df_l_cleaned.shape"
   ]
  },
  {
   "source": [
    "# Let's check now if the prices in the listing dateframe are the mean of the calendar dataframe\n",
    "\n",
    "df_l_cleaned.id[1], df_l_cleaned.price[1]"
   ],
   "cell_type": "code",
   "metadata": {},
   "execution_count": 40,
   "outputs": [
    {
     "output_type": "execute_result",
     "data": {
      "text/plain": [
       "(953595, 150.0)"
      ]
     },
     "metadata": {},
     "execution_count": 40
    }
   ]
  },
  {
   "cell_type": "code",
   "execution_count": 41,
   "metadata": {},
   "outputs": [],
   "source": [
    "tmp = calendar_df[calendar_df.price>0]"
   ]
  },
  {
   "cell_type": "code",
   "execution_count": 42,
   "metadata": {},
   "outputs": [
    {
     "output_type": "execute_result",
     "data": {
      "text/plain": [
       "(170.93127147766322, 0    125.0\n",
       " dtype: float64)"
      ]
     },
     "metadata": {},
     "execution_count": 42
    }
   ],
   "source": [
    "tmp[tmp.listing_id == df_l_cleaned.id[1]].price.mean(),tmp[tmp.listing_id == df_l_cleaned.id[1]].price.mode()"
   ]
  },
  {
   "source": [
    "It is nor the mean nor the mode, for the prediction purpuses we will at first use the price value of the listing dataframe"
   ],
   "cell_type": "markdown",
   "metadata": {}
  },
  {
   "source": [
    "### We can answer now our first two business questions:"
   ],
   "cell_type": "markdown",
   "metadata": {}
  },
  {
   "source": [
    "**1. How does the availability and prices vary during the year in Seattle?**"
   ],
   "cell_type": "markdown",
   "metadata": {}
  },
  {
   "cell_type": "code",
   "execution_count": 107,
   "metadata": {},
   "outputs": [],
   "source": [
    "# Mean prices along the year\n",
    "mean_prices = calendar_df[calendar_df.available==1].groupby(['date']).price.mean()"
   ]
  },
  {
   "cell_type": "code",
   "execution_count": 108,
   "metadata": {},
   "outputs": [
    {
     "output_type": "execute_result",
     "data": {
      "text/plain": [
       "        date       price\n",
       "0 2016-01-04  122.085879\n",
       "1 2016-01-05  120.681307\n",
       "2 2016-01-06  120.928258\n",
       "3 2016-01-07  120.958896\n",
       "4 2016-01-08  127.640853"
      ],
      "text/html": "<div>\n<style scoped>\n    .dataframe tbody tr th:only-of-type {\n        vertical-align: middle;\n    }\n\n    .dataframe tbody tr th {\n        vertical-align: top;\n    }\n\n    .dataframe thead th {\n        text-align: right;\n    }\n</style>\n<table border=\"1\" class=\"dataframe\">\n  <thead>\n    <tr style=\"text-align: right;\">\n      <th></th>\n      <th>date</th>\n      <th>price</th>\n    </tr>\n  </thead>\n  <tbody>\n    <tr>\n      <th>0</th>\n      <td>2016-01-04</td>\n      <td>122.085879</td>\n    </tr>\n    <tr>\n      <th>1</th>\n      <td>2016-01-05</td>\n      <td>120.681307</td>\n    </tr>\n    <tr>\n      <th>2</th>\n      <td>2016-01-06</td>\n      <td>120.928258</td>\n    </tr>\n    <tr>\n      <th>3</th>\n      <td>2016-01-07</td>\n      <td>120.958896</td>\n    </tr>\n    <tr>\n      <th>4</th>\n      <td>2016-01-08</td>\n      <td>127.640853</td>\n    </tr>\n  </tbody>\n</table>\n</div>"
     },
     "metadata": {},
     "execution_count": 108
    }
   ],
   "source": [
    "mean_prices = mean_prices.reset_index()\n",
    "mean_prices.head()"
   ]
  },
  {
   "cell_type": "code",
   "execution_count": 109,
   "metadata": {},
   "outputs": [
    {
     "output_type": "execute_result",
     "data": {
      "text/plain": [
       "[<matplotlib.lines.Line2D at 0x2cdbd6d0>]"
      ]
     },
     "metadata": {},
     "execution_count": 109
    },
    {
     "output_type": "display_data",
     "data": {
      "text/plain": "<Figure size 432x288 with 1 Axes>",
      "image/svg+xml": "<?xml version=\"1.0\" encoding=\"utf-8\" standalone=\"no\"?>\r\n<!DOCTYPE svg PUBLIC \"-//W3C//DTD SVG 1.1//EN\"\r\n  \"http://www.w3.org/Graphics/SVG/1.1/DTD/svg11.dtd\">\r\n<!-- Created with matplotlib (https://matplotlib.org/) -->\r\n<svg height=\"248.518125pt\" version=\"1.1\" viewBox=\"0 0 380.124561 248.518125\" width=\"380.124561pt\" xmlns=\"http://www.w3.org/2000/svg\" xmlns:xlink=\"http://www.w3.org/1999/xlink\">\r\n <defs>\r\n  <style type=\"text/css\">\r\n*{stroke-linecap:butt;stroke-linejoin:round;}\r\n  </style>\r\n </defs>\r\n <g id=\"figure_1\">\r\n  <g id=\"patch_1\">\r\n   <path d=\"M 0 248.518125 \r\nL 380.124561 248.518125 \r\nL 380.124561 0 \r\nL 0 0 \r\nz\r\n\" style=\"fill:none;\"/>\r\n  </g>\r\n  <g id=\"axes_1\">\r\n   <g id=\"patch_2\">\r\n    <path d=\"M 33.2875 224.64 \r\nL 368.0875 224.64 \r\nL 368.0875 7.2 \r\nL 33.2875 7.2 \r\nz\r\n\" style=\"fill:#ffffff;\"/>\r\n   </g>\r\n   <g id=\"matplotlib.axis_1\">\r\n    <g id=\"xtick_1\">\r\n     <g id=\"line2d_1\">\r\n      <defs>\r\n       <path d=\"M 0 0 \r\nL 0 3.5 \r\n\" id=\"m1925e3c3fc\" style=\"stroke:#000000;stroke-width:0.8;\"/>\r\n      </defs>\r\n      <g>\r\n       <use style=\"stroke:#000000;stroke-width:0.8;\" x=\"45.99719\" xlink:href=\"#m1925e3c3fc\" y=\"224.64\"/>\r\n      </g>\r\n     </g>\r\n     <g id=\"text_1\">\r\n      <!-- 2016-01 -->\r\n      <defs>\r\n       <path d=\"M 19.1875 8.296875 \r\nL 53.609375 8.296875 \r\nL 53.609375 0 \r\nL 7.328125 0 \r\nL 7.328125 8.296875 \r\nQ 12.9375 14.109375 22.625 23.890625 \r\nQ 32.328125 33.6875 34.8125 36.53125 \r\nQ 39.546875 41.84375 41.421875 45.53125 \r\nQ 43.3125 49.21875 43.3125 52.78125 \r\nQ 43.3125 58.59375 39.234375 62.25 \r\nQ 35.15625 65.921875 28.609375 65.921875 \r\nQ 23.96875 65.921875 18.8125 64.3125 \r\nQ 13.671875 62.703125 7.8125 59.421875 \r\nL 7.8125 69.390625 \r\nQ 13.765625 71.78125 18.9375 73 \r\nQ 24.125 74.21875 28.421875 74.21875 \r\nQ 39.75 74.21875 46.484375 68.546875 \r\nQ 53.21875 62.890625 53.21875 53.421875 \r\nQ 53.21875 48.921875 51.53125 44.890625 \r\nQ 49.859375 40.875 45.40625 35.40625 \r\nQ 44.1875 33.984375 37.640625 27.21875 \r\nQ 31.109375 20.453125 19.1875 8.296875 \r\nz\r\n\" id=\"DejaVuSans-50\"/>\r\n       <path d=\"M 31.78125 66.40625 \r\nQ 24.171875 66.40625 20.328125 58.90625 \r\nQ 16.5 51.421875 16.5 36.375 \r\nQ 16.5 21.390625 20.328125 13.890625 \r\nQ 24.171875 6.390625 31.78125 6.390625 \r\nQ 39.453125 6.390625 43.28125 13.890625 \r\nQ 47.125 21.390625 47.125 36.375 \r\nQ 47.125 51.421875 43.28125 58.90625 \r\nQ 39.453125 66.40625 31.78125 66.40625 \r\nz\r\nM 31.78125 74.21875 \r\nQ 44.046875 74.21875 50.515625 64.515625 \r\nQ 56.984375 54.828125 56.984375 36.375 \r\nQ 56.984375 17.96875 50.515625 8.265625 \r\nQ 44.046875 -1.421875 31.78125 -1.421875 \r\nQ 19.53125 -1.421875 13.0625 8.265625 \r\nQ 6.59375 17.96875 6.59375 36.375 \r\nQ 6.59375 54.828125 13.0625 64.515625 \r\nQ 19.53125 74.21875 31.78125 74.21875 \r\nz\r\n\" id=\"DejaVuSans-48\"/>\r\n       <path d=\"M 12.40625 8.296875 \r\nL 28.515625 8.296875 \r\nL 28.515625 63.921875 \r\nL 10.984375 60.40625 \r\nL 10.984375 69.390625 \r\nL 28.421875 72.90625 \r\nL 38.28125 72.90625 \r\nL 38.28125 8.296875 \r\nL 54.390625 8.296875 \r\nL 54.390625 0 \r\nL 12.40625 0 \r\nz\r\n\" id=\"DejaVuSans-49\"/>\r\n       <path d=\"M 33.015625 40.375 \r\nQ 26.375 40.375 22.484375 35.828125 \r\nQ 18.609375 31.296875 18.609375 23.390625 \r\nQ 18.609375 15.53125 22.484375 10.953125 \r\nQ 26.375 6.390625 33.015625 6.390625 \r\nQ 39.65625 6.390625 43.53125 10.953125 \r\nQ 47.40625 15.53125 47.40625 23.390625 \r\nQ 47.40625 31.296875 43.53125 35.828125 \r\nQ 39.65625 40.375 33.015625 40.375 \r\nz\r\nM 52.59375 71.296875 \r\nL 52.59375 62.3125 \r\nQ 48.875 64.0625 45.09375 64.984375 \r\nQ 41.3125 65.921875 37.59375 65.921875 \r\nQ 27.828125 65.921875 22.671875 59.328125 \r\nQ 17.53125 52.734375 16.796875 39.40625 \r\nQ 19.671875 43.65625 24.015625 45.921875 \r\nQ 28.375 48.1875 33.59375 48.1875 \r\nQ 44.578125 48.1875 50.953125 41.515625 \r\nQ 57.328125 34.859375 57.328125 23.390625 \r\nQ 57.328125 12.15625 50.6875 5.359375 \r\nQ 44.046875 -1.421875 33.015625 -1.421875 \r\nQ 20.359375 -1.421875 13.671875 8.265625 \r\nQ 6.984375 17.96875 6.984375 36.375 \r\nQ 6.984375 53.65625 15.1875 63.9375 \r\nQ 23.390625 74.21875 37.203125 74.21875 \r\nQ 40.921875 74.21875 44.703125 73.484375 \r\nQ 48.484375 72.75 52.59375 71.296875 \r\nz\r\n\" id=\"DejaVuSans-54\"/>\r\n       <path d=\"M 4.890625 31.390625 \r\nL 31.203125 31.390625 \r\nL 31.203125 23.390625 \r\nL 4.890625 23.390625 \r\nz\r\n\" id=\"DejaVuSans-45\"/>\r\n      </defs>\r\n      <g transform=\"translate(25.105784 239.238437)scale(0.1 -0.1)\">\r\n       <use xlink:href=\"#DejaVuSans-50\"/>\r\n       <use x=\"63.623047\" xlink:href=\"#DejaVuSans-48\"/>\r\n       <use x=\"127.246094\" xlink:href=\"#DejaVuSans-49\"/>\r\n       <use x=\"190.869141\" xlink:href=\"#DejaVuSans-54\"/>\r\n       <use x=\"254.492188\" xlink:href=\"#DejaVuSans-45\"/>\r\n       <use x=\"290.576172\" xlink:href=\"#DejaVuSans-48\"/>\r\n       <use x=\"354.199219\" xlink:href=\"#DejaVuSans-49\"/>\r\n      </g>\r\n     </g>\r\n    </g>\r\n    <g id=\"xtick_2\">\r\n     <g id=\"line2d_2\">\r\n      <g>\r\n       <use style=\"stroke:#000000;stroke-width:0.8;\" x=\"96.16702\" xlink:href=\"#m1925e3c3fc\" y=\"224.64\"/>\r\n      </g>\r\n     </g>\r\n     <g id=\"text_2\">\r\n      <!-- 2016-03 -->\r\n      <defs>\r\n       <path d=\"M 40.578125 39.3125 \r\nQ 47.65625 37.796875 51.625 33 \r\nQ 55.609375 28.21875 55.609375 21.1875 \r\nQ 55.609375 10.40625 48.1875 4.484375 \r\nQ 40.765625 -1.421875 27.09375 -1.421875 \r\nQ 22.515625 -1.421875 17.65625 -0.515625 \r\nQ 12.796875 0.390625 7.625 2.203125 \r\nL 7.625 11.71875 \r\nQ 11.71875 9.328125 16.59375 8.109375 \r\nQ 21.484375 6.890625 26.8125 6.890625 \r\nQ 36.078125 6.890625 40.9375 10.546875 \r\nQ 45.796875 14.203125 45.796875 21.1875 \r\nQ 45.796875 27.640625 41.28125 31.265625 \r\nQ 36.765625 34.90625 28.71875 34.90625 \r\nL 20.21875 34.90625 \r\nL 20.21875 43.015625 \r\nL 29.109375 43.015625 \r\nQ 36.375 43.015625 40.234375 45.921875 \r\nQ 44.09375 48.828125 44.09375 54.296875 \r\nQ 44.09375 59.90625 40.109375 62.90625 \r\nQ 36.140625 65.921875 28.71875 65.921875 \r\nQ 24.65625 65.921875 20.015625 65.03125 \r\nQ 15.375 64.15625 9.8125 62.3125 \r\nL 9.8125 71.09375 \r\nQ 15.4375 72.65625 20.34375 73.4375 \r\nQ 25.25 74.21875 29.59375 74.21875 \r\nQ 40.828125 74.21875 47.359375 69.109375 \r\nQ 53.90625 64.015625 53.90625 55.328125 \r\nQ 53.90625 49.265625 50.4375 45.09375 \r\nQ 46.96875 40.921875 40.578125 39.3125 \r\nz\r\n\" id=\"DejaVuSans-51\"/>\r\n      </defs>\r\n      <g transform=\"translate(75.275614 239.238437)scale(0.1 -0.1)\">\r\n       <use xlink:href=\"#DejaVuSans-50\"/>\r\n       <use x=\"63.623047\" xlink:href=\"#DejaVuSans-48\"/>\r\n       <use x=\"127.246094\" xlink:href=\"#DejaVuSans-49\"/>\r\n       <use x=\"190.869141\" xlink:href=\"#DejaVuSans-54\"/>\r\n       <use x=\"254.492188\" xlink:href=\"#DejaVuSans-45\"/>\r\n       <use x=\"290.576172\" xlink:href=\"#DejaVuSans-48\"/>\r\n       <use x=\"354.199219\" xlink:href=\"#DejaVuSans-51\"/>\r\n      </g>\r\n     </g>\r\n    </g>\r\n    <g id=\"xtick_3\">\r\n     <g id=\"line2d_3\">\r\n      <g>\r\n       <use style=\"stroke:#000000;stroke-width:0.8;\" x=\"147.173014\" xlink:href=\"#m1925e3c3fc\" y=\"224.64\"/>\r\n      </g>\r\n     </g>\r\n     <g id=\"text_3\">\r\n      <!-- 2016-05 -->\r\n      <defs>\r\n       <path d=\"M 10.796875 72.90625 \r\nL 49.515625 72.90625 \r\nL 49.515625 64.59375 \r\nL 19.828125 64.59375 \r\nL 19.828125 46.734375 \r\nQ 21.96875 47.46875 24.109375 47.828125 \r\nQ 26.265625 48.1875 28.421875 48.1875 \r\nQ 40.625 48.1875 47.75 41.5 \r\nQ 54.890625 34.8125 54.890625 23.390625 \r\nQ 54.890625 11.625 47.5625 5.09375 \r\nQ 40.234375 -1.421875 26.90625 -1.421875 \r\nQ 22.3125 -1.421875 17.546875 -0.640625 \r\nQ 12.796875 0.140625 7.71875 1.703125 \r\nL 7.71875 11.625 \r\nQ 12.109375 9.234375 16.796875 8.0625 \r\nQ 21.484375 6.890625 26.703125 6.890625 \r\nQ 35.15625 6.890625 40.078125 11.328125 \r\nQ 45.015625 15.765625 45.015625 23.390625 \r\nQ 45.015625 31 40.078125 35.4375 \r\nQ 35.15625 39.890625 26.703125 39.890625 \r\nQ 22.75 39.890625 18.8125 39.015625 \r\nQ 14.890625 38.140625 10.796875 36.28125 \r\nz\r\n\" id=\"DejaVuSans-53\"/>\r\n      </defs>\r\n      <g transform=\"translate(126.281608 239.238437)scale(0.1 -0.1)\">\r\n       <use xlink:href=\"#DejaVuSans-50\"/>\r\n       <use x=\"63.623047\" xlink:href=\"#DejaVuSans-48\"/>\r\n       <use x=\"127.246094\" xlink:href=\"#DejaVuSans-49\"/>\r\n       <use x=\"190.869141\" xlink:href=\"#DejaVuSans-54\"/>\r\n       <use x=\"254.492188\" xlink:href=\"#DejaVuSans-45\"/>\r\n       <use x=\"290.576172\" xlink:href=\"#DejaVuSans-48\"/>\r\n       <use x=\"354.199219\" xlink:href=\"#DejaVuSans-53\"/>\r\n      </g>\r\n     </g>\r\n    </g>\r\n    <g id=\"xtick_4\">\r\n     <g id=\"line2d_4\">\r\n      <g>\r\n       <use style=\"stroke:#000000;stroke-width:0.8;\" x=\"198.179008\" xlink:href=\"#m1925e3c3fc\" y=\"224.64\"/>\r\n      </g>\r\n     </g>\r\n     <g id=\"text_4\">\r\n      <!-- 2016-07 -->\r\n      <defs>\r\n       <path d=\"M 8.203125 72.90625 \r\nL 55.078125 72.90625 \r\nL 55.078125 68.703125 \r\nL 28.609375 0 \r\nL 18.3125 0 \r\nL 43.21875 64.59375 \r\nL 8.203125 64.59375 \r\nz\r\n\" id=\"DejaVuSans-55\"/>\r\n      </defs>\r\n      <g transform=\"translate(177.287602 239.238437)scale(0.1 -0.1)\">\r\n       <use xlink:href=\"#DejaVuSans-50\"/>\r\n       <use x=\"63.623047\" xlink:href=\"#DejaVuSans-48\"/>\r\n       <use x=\"127.246094\" xlink:href=\"#DejaVuSans-49\"/>\r\n       <use x=\"190.869141\" xlink:href=\"#DejaVuSans-54\"/>\r\n       <use x=\"254.492188\" xlink:href=\"#DejaVuSans-45\"/>\r\n       <use x=\"290.576172\" xlink:href=\"#DejaVuSans-48\"/>\r\n       <use x=\"354.199219\" xlink:href=\"#DejaVuSans-55\"/>\r\n      </g>\r\n     </g>\r\n    </g>\r\n    <g id=\"xtick_5\">\r\n     <g id=\"line2d_5\">\r\n      <g>\r\n       <use style=\"stroke:#000000;stroke-width:0.8;\" x=\"250.021166\" xlink:href=\"#m1925e3c3fc\" y=\"224.64\"/>\r\n      </g>\r\n     </g>\r\n     <g id=\"text_5\">\r\n      <!-- 2016-09 -->\r\n      <defs>\r\n       <path d=\"M 10.984375 1.515625 \r\nL 10.984375 10.5 \r\nQ 14.703125 8.734375 18.5 7.8125 \r\nQ 22.3125 6.890625 25.984375 6.890625 \r\nQ 35.75 6.890625 40.890625 13.453125 \r\nQ 46.046875 20.015625 46.78125 33.40625 \r\nQ 43.953125 29.203125 39.59375 26.953125 \r\nQ 35.25 24.703125 29.984375 24.703125 \r\nQ 19.046875 24.703125 12.671875 31.3125 \r\nQ 6.296875 37.9375 6.296875 49.421875 \r\nQ 6.296875 60.640625 12.9375 67.421875 \r\nQ 19.578125 74.21875 30.609375 74.21875 \r\nQ 43.265625 74.21875 49.921875 64.515625 \r\nQ 56.59375 54.828125 56.59375 36.375 \r\nQ 56.59375 19.140625 48.40625 8.859375 \r\nQ 40.234375 -1.421875 26.421875 -1.421875 \r\nQ 22.703125 -1.421875 18.890625 -0.6875 \r\nQ 15.09375 0.046875 10.984375 1.515625 \r\nz\r\nM 30.609375 32.421875 \r\nQ 37.25 32.421875 41.125 36.953125 \r\nQ 45.015625 41.5 45.015625 49.421875 \r\nQ 45.015625 57.28125 41.125 61.84375 \r\nQ 37.25 66.40625 30.609375 66.40625 \r\nQ 23.96875 66.40625 20.09375 61.84375 \r\nQ 16.21875 57.28125 16.21875 49.421875 \r\nQ 16.21875 41.5 20.09375 36.953125 \r\nQ 23.96875 32.421875 30.609375 32.421875 \r\nz\r\n\" id=\"DejaVuSans-57\"/>\r\n      </defs>\r\n      <g transform=\"translate(229.12976 239.238437)scale(0.1 -0.1)\">\r\n       <use xlink:href=\"#DejaVuSans-50\"/>\r\n       <use x=\"63.623047\" xlink:href=\"#DejaVuSans-48\"/>\r\n       <use x=\"127.246094\" xlink:href=\"#DejaVuSans-49\"/>\r\n       <use x=\"190.869141\" xlink:href=\"#DejaVuSans-54\"/>\r\n       <use x=\"254.492188\" xlink:href=\"#DejaVuSans-45\"/>\r\n       <use x=\"290.576172\" xlink:href=\"#DejaVuSans-48\"/>\r\n       <use x=\"354.199219\" xlink:href=\"#DejaVuSans-57\"/>\r\n      </g>\r\n     </g>\r\n    </g>\r\n    <g id=\"xtick_6\">\r\n     <g id=\"line2d_6\">\r\n      <g>\r\n       <use style=\"stroke:#000000;stroke-width:0.8;\" x=\"301.02716\" xlink:href=\"#m1925e3c3fc\" y=\"224.64\"/>\r\n      </g>\r\n     </g>\r\n     <g id=\"text_6\">\r\n      <!-- 2016-11 -->\r\n      <g transform=\"translate(280.135754 239.238437)scale(0.1 -0.1)\">\r\n       <use xlink:href=\"#DejaVuSans-50\"/>\r\n       <use x=\"63.623047\" xlink:href=\"#DejaVuSans-48\"/>\r\n       <use x=\"127.246094\" xlink:href=\"#DejaVuSans-49\"/>\r\n       <use x=\"190.869141\" xlink:href=\"#DejaVuSans-54\"/>\r\n       <use x=\"254.492188\" xlink:href=\"#DejaVuSans-45\"/>\r\n       <use x=\"290.576172\" xlink:href=\"#DejaVuSans-49\"/>\r\n       <use x=\"354.199219\" xlink:href=\"#DejaVuSans-49\"/>\r\n      </g>\r\n     </g>\r\n    </g>\r\n    <g id=\"xtick_7\">\r\n     <g id=\"line2d_7\">\r\n      <g>\r\n       <use style=\"stroke:#000000;stroke-width:0.8;\" x=\"352.033154\" xlink:href=\"#m1925e3c3fc\" y=\"224.64\"/>\r\n      </g>\r\n     </g>\r\n     <g id=\"text_7\">\r\n      <!-- 2017-01 -->\r\n      <g transform=\"translate(331.141748 239.238437)scale(0.1 -0.1)\">\r\n       <use xlink:href=\"#DejaVuSans-50\"/>\r\n       <use x=\"63.623047\" xlink:href=\"#DejaVuSans-48\"/>\r\n       <use x=\"127.246094\" xlink:href=\"#DejaVuSans-49\"/>\r\n       <use x=\"190.869141\" xlink:href=\"#DejaVuSans-55\"/>\r\n       <use x=\"254.492188\" xlink:href=\"#DejaVuSans-45\"/>\r\n       <use x=\"290.576172\" xlink:href=\"#DejaVuSans-48\"/>\r\n       <use x=\"354.199219\" xlink:href=\"#DejaVuSans-49\"/>\r\n      </g>\r\n     </g>\r\n    </g>\r\n   </g>\r\n   <g id=\"matplotlib.axis_2\">\r\n    <g id=\"ytick_1\">\r\n     <g id=\"line2d_8\">\r\n      <defs>\r\n       <path d=\"M 0 0 \r\nL -3.5 0 \r\n\" id=\"m5ff5594b52\" style=\"stroke:#000000;stroke-width:0.8;\"/>\r\n      </defs>\r\n      <g>\r\n       <use style=\"stroke:#000000;stroke-width:0.8;\" x=\"33.2875\" xlink:href=\"#m5ff5594b52\" y=\"203.259053\"/>\r\n      </g>\r\n     </g>\r\n     <g id=\"text_8\">\r\n      <!-- 120 -->\r\n      <g transform=\"translate(7.2 207.058272)scale(0.1 -0.1)\">\r\n       <use xlink:href=\"#DejaVuSans-49\"/>\r\n       <use x=\"63.623047\" xlink:href=\"#DejaVuSans-50\"/>\r\n       <use x=\"127.246094\" xlink:href=\"#DejaVuSans-48\"/>\r\n      </g>\r\n     </g>\r\n    </g>\r\n    <g id=\"ytick_2\">\r\n     <g id=\"line2d_9\">\r\n      <g>\r\n       <use style=\"stroke:#000000;stroke-width:0.8;\" x=\"33.2875\" xlink:href=\"#m5ff5594b52\" y=\"178.422418\"/>\r\n      </g>\r\n     </g>\r\n     <g id=\"text_9\">\r\n      <!-- 125 -->\r\n      <g transform=\"translate(7.2 182.221637)scale(0.1 -0.1)\">\r\n       <use xlink:href=\"#DejaVuSans-49\"/>\r\n       <use x=\"63.623047\" xlink:href=\"#DejaVuSans-50\"/>\r\n       <use x=\"127.246094\" xlink:href=\"#DejaVuSans-53\"/>\r\n      </g>\r\n     </g>\r\n    </g>\r\n    <g id=\"ytick_3\">\r\n     <g id=\"line2d_10\">\r\n      <g>\r\n       <use style=\"stroke:#000000;stroke-width:0.8;\" x=\"33.2875\" xlink:href=\"#m5ff5594b52\" y=\"153.585783\"/>\r\n      </g>\r\n     </g>\r\n     <g id=\"text_10\">\r\n      <!-- 130 -->\r\n      <g transform=\"translate(7.2 157.385002)scale(0.1 -0.1)\">\r\n       <use xlink:href=\"#DejaVuSans-49\"/>\r\n       <use x=\"63.623047\" xlink:href=\"#DejaVuSans-51\"/>\r\n       <use x=\"127.246094\" xlink:href=\"#DejaVuSans-48\"/>\r\n      </g>\r\n     </g>\r\n    </g>\r\n    <g id=\"ytick_4\">\r\n     <g id=\"line2d_11\">\r\n      <g>\r\n       <use style=\"stroke:#000000;stroke-width:0.8;\" x=\"33.2875\" xlink:href=\"#m5ff5594b52\" y=\"128.749148\"/>\r\n      </g>\r\n     </g>\r\n     <g id=\"text_11\">\r\n      <!-- 135 -->\r\n      <g transform=\"translate(7.2 132.548367)scale(0.1 -0.1)\">\r\n       <use xlink:href=\"#DejaVuSans-49\"/>\r\n       <use x=\"63.623047\" xlink:href=\"#DejaVuSans-51\"/>\r\n       <use x=\"127.246094\" xlink:href=\"#DejaVuSans-53\"/>\r\n      </g>\r\n     </g>\r\n    </g>\r\n    <g id=\"ytick_5\">\r\n     <g id=\"line2d_12\">\r\n      <g>\r\n       <use style=\"stroke:#000000;stroke-width:0.8;\" x=\"33.2875\" xlink:href=\"#m5ff5594b52\" y=\"103.912513\"/>\r\n      </g>\r\n     </g>\r\n     <g id=\"text_12\">\r\n      <!-- 140 -->\r\n      <defs>\r\n       <path d=\"M 37.796875 64.3125 \r\nL 12.890625 25.390625 \r\nL 37.796875 25.390625 \r\nz\r\nM 35.203125 72.90625 \r\nL 47.609375 72.90625 \r\nL 47.609375 25.390625 \r\nL 58.015625 25.390625 \r\nL 58.015625 17.1875 \r\nL 47.609375 17.1875 \r\nL 47.609375 0 \r\nL 37.796875 0 \r\nL 37.796875 17.1875 \r\nL 4.890625 17.1875 \r\nL 4.890625 26.703125 \r\nz\r\n\" id=\"DejaVuSans-52\"/>\r\n      </defs>\r\n      <g transform=\"translate(7.2 107.711731)scale(0.1 -0.1)\">\r\n       <use xlink:href=\"#DejaVuSans-49\"/>\r\n       <use x=\"63.623047\" xlink:href=\"#DejaVuSans-52\"/>\r\n       <use x=\"127.246094\" xlink:href=\"#DejaVuSans-48\"/>\r\n      </g>\r\n     </g>\r\n    </g>\r\n    <g id=\"ytick_6\">\r\n     <g id=\"line2d_13\">\r\n      <g>\r\n       <use style=\"stroke:#000000;stroke-width:0.8;\" x=\"33.2875\" xlink:href=\"#m5ff5594b52\" y=\"79.075878\"/>\r\n      </g>\r\n     </g>\r\n     <g id=\"text_13\">\r\n      <!-- 145 -->\r\n      <g transform=\"translate(7.2 82.875096)scale(0.1 -0.1)\">\r\n       <use xlink:href=\"#DejaVuSans-49\"/>\r\n       <use x=\"63.623047\" xlink:href=\"#DejaVuSans-52\"/>\r\n       <use x=\"127.246094\" xlink:href=\"#DejaVuSans-53\"/>\r\n      </g>\r\n     </g>\r\n    </g>\r\n    <g id=\"ytick_7\">\r\n     <g id=\"line2d_14\">\r\n      <g>\r\n       <use style=\"stroke:#000000;stroke-width:0.8;\" x=\"33.2875\" xlink:href=\"#m5ff5594b52\" y=\"54.239242\"/>\r\n      </g>\r\n     </g>\r\n     <g id=\"text_14\">\r\n      <!-- 150 -->\r\n      <g transform=\"translate(7.2 58.038461)scale(0.1 -0.1)\">\r\n       <use xlink:href=\"#DejaVuSans-49\"/>\r\n       <use x=\"63.623047\" xlink:href=\"#DejaVuSans-53\"/>\r\n       <use x=\"127.246094\" xlink:href=\"#DejaVuSans-48\"/>\r\n      </g>\r\n     </g>\r\n    </g>\r\n    <g id=\"ytick_8\">\r\n     <g id=\"line2d_15\">\r\n      <g>\r\n       <use style=\"stroke:#000000;stroke-width:0.8;\" x=\"33.2875\" xlink:href=\"#m5ff5594b52\" y=\"29.402607\"/>\r\n      </g>\r\n     </g>\r\n     <g id=\"text_15\">\r\n      <!-- 155 -->\r\n      <g transform=\"translate(7.2 33.201826)scale(0.1 -0.1)\">\r\n       <use xlink:href=\"#DejaVuSans-49\"/>\r\n       <use x=\"63.623047\" xlink:href=\"#DejaVuSans-53\"/>\r\n       <use x=\"127.246094\" xlink:href=\"#DejaVuSans-53\"/>\r\n      </g>\r\n     </g>\r\n    </g>\r\n   </g>\r\n   <g id=\"line2d_16\">\r\n    <path clip-path=\"url(#p8a2bc6eae3)\" d=\"M 48.505682 192.89781 \r\nL 49.341846 199.874779 \r\nL 50.178009 198.64809 \r\nL 51.014173 198.495901 \r\nL 51.850337 165.304438 \r\nL 52.686501 166.844478 \r\nL 53.522665 203.249163 \r\nL 54.358829 208.281307 \r\nL 55.194993 209.61272 \r\nL 56.031156 209.81583 \r\nL 56.86732 208.571199 \r\nL 57.703484 165.461892 \r\nL 58.539648 161.835953 \r\nL 59.375812 189.71158 \r\nL 60.211976 194.613544 \r\nL 61.048139 206.727881 \r\nL 61.884303 209.797522 \r\nL 62.720467 205.798888 \r\nL 63.556631 169.676184 \r\nL 64.392795 168.483321 \r\nL 65.228959 201.824673 \r\nL 66.065122 212.037483 \r\nL 66.901286 214.496682 \r\nL 67.73745 212.454255 \r\nL 68.573614 214.756364 \r\nL 69.409778 180.409349 \r\nL 70.245942 178.736444 \r\nL 71.082105 207.433454 \r\nL 71.918269 203.390802 \r\nL 72.754433 205.860889 \r\nL 73.590597 201.96987 \r\nL 74.426761 195.774809 \r\nL 75.262925 164.293132 \r\nL 76.099088 160.901111 \r\nL 76.935252 185.911434 \r\nL 77.771416 195.265472 \r\nL 78.60758 196.559349 \r\nL 79.443744 195.506804 \r\nL 80.279908 187.921307 \r\nL 81.116071 138.889346 \r\nL 81.952235 134.813979 \r\nL 82.788399 166.178038 \r\nL 84.460727 186.903173 \r\nL 85.296891 190.4815 \r\nL 86.133054 190.539127 \r\nL 86.969218 158.620627 \r\nL 87.805382 157.996062 \r\nL 88.641546 190.115033 \r\nL 89.47771 194.268305 \r\nL 90.313874 195.23084 \r\nL 91.150037 197.127183 \r\nL 91.986201 196.695836 \r\nL 92.822365 162.137877 \r\nL 93.658529 159.789228 \r\nL 94.494693 188.086677 \r\nL 95.330857 194.945316 \r\nL 96.16702 185.942296 \r\nL 97.003184 187.083589 \r\nL 97.839348 180.091873 \r\nL 98.675512 138.533726 \r\nL 99.511676 137.187307 \r\nL 100.34784 172.155127 \r\nL 101.184003 174.901975 \r\nL 102.856331 172.69586 \r\nL 103.692495 169.571074 \r\nL 104.528659 134.231865 \r\nL 105.364823 132.300424 \r\nL 106.200987 164.655563 \r\nL 107.03715 169.609181 \r\nL 107.873314 171.869071 \r\nL 108.709478 170.484918 \r\nL 109.545642 158.932267 \r\nL 110.381806 127.138123 \r\nL 111.21797 129.544504 \r\nL 112.054133 166.730403 \r\nL 112.890297 170.769653 \r\nL 113.726461 170.662578 \r\nL 114.562625 170.150882 \r\nL 115.398789 161.613618 \r\nL 116.234953 122.701887 \r\nL 117.071116 121.614194 \r\nL 117.90728 160.854998 \r\nL 118.743444 169.582596 \r\nL 119.579608 169.787828 \r\nL 120.415772 170.906353 \r\nL 121.251936 164.438175 \r\nL 122.088099 125.357478 \r\nL 122.924263 103.261192 \r\nL 123.760427 139.380063 \r\nL 124.596591 141.979489 \r\nL 125.432755 143.31483 \r\nL 126.268919 141.71086 \r\nL 127.105082 125.927722 \r\nL 127.941246 90.741019 \r\nL 128.77741 87.89031 \r\nL 129.613574 124.573656 \r\nL 130.449738 140.369671 \r\nL 131.285902 142.793207 \r\nL 132.122065 142.541844 \r\nL 132.958229 134.766766 \r\nL 133.794393 101.312808 \r\nL 134.630557 100.923929 \r\nL 135.466721 139.231397 \r\nL 136.302885 142.031094 \r\nL 137.139048 143.020946 \r\nL 137.975212 143.24959 \r\nL 138.811376 146.128912 \r\nL 139.64754 110.471656 \r\nL 140.483704 107.576259 \r\nL 141.319868 146.716075 \r\nL 142.156031 145.86555 \r\nL 142.992195 143.869216 \r\nL 143.828359 143.363281 \r\nL 144.664523 141.433503 \r\nL 145.500687 102.853616 \r\nL 146.336851 103.506819 \r\nL 147.173014 123.947978 \r\nL 148.009178 125.171743 \r\nL 149.681506 129.400186 \r\nL 150.51767 122.851174 \r\nL 151.353834 85.986357 \r\nL 152.189998 85.62398 \r\nL 153.026161 127.347467 \r\nL 153.862325 125.728398 \r\nL 154.698489 126.71802 \r\nL 155.534653 128.722235 \r\nL 156.370817 118.560056 \r\nL 157.206981 82.670374 \r\nL 158.043144 83.04434 \r\nL 158.879308 124.918526 \r\nL 160.551636 123.337557 \r\nL 161.3878 123.278 \r\nL 162.223964 116.140818 \r\nL 163.060127 79.912419 \r\nL 163.896291 78.439583 \r\nL 164.732455 113.070842 \r\nL 165.568619 109.08251 \r\nL 166.404783 113.40116 \r\nL 167.240947 111.971218 \r\nL 168.07711 103.676066 \r\nL 168.913274 52.856744 \r\nL 169.749438 53.101981 \r\nL 170.585602 86.737936 \r\nL 171.421766 87.848989 \r\nL 172.25793 97.252786 \r\nL 173.094093 85.336599 \r\nL 173.930257 79.638764 \r\nL 174.766421 48.079524 \r\nL 175.602585 49.526501 \r\nL 176.438749 82.382908 \r\nL 177.274913 81.522846 \r\nL 178.111076 82.048178 \r\nL 178.94724 86.897146 \r\nL 179.783404 83.838024 \r\nL 180.619568 56.499633 \r\nL 181.455732 55.689528 \r\nL 182.291896 86.733595 \r\nL 183.128059 82.894206 \r\nL 183.964223 81.087616 \r\nL 184.800387 81.17483 \r\nL 185.636551 68.269763 \r\nL 186.472715 37.655685 \r\nL 187.308879 35.052483 \r\nL 188.145042 65.720782 \r\nL 188.981206 69.486443 \r\nL 189.81737 67.559929 \r\nL 190.653534 68.825625 \r\nL 191.489698 66.374562 \r\nL 192.325862 38.335753 \r\nL 193.162025 38.10977 \r\nL 193.998189 66.073561 \r\nL 194.834353 65.587425 \r\nL 195.670517 65.635992 \r\nL 196.506681 66.04567 \r\nL 197.342845 62.234545 \r\nL 198.179008 17.083636 \r\nL 199.015172 19.065766 \r\nL 199.851336 45.531712 \r\nL 200.6875 47.273252 \r\nL 201.523664 51.642165 \r\nL 202.359828 53.24162 \r\nL 203.195992 50.714578 \r\nL 204.032155 23.141446 \r\nL 204.868319 22.20912 \r\nL 205.704483 52.736435 \r\nL 206.540647 54.903622 \r\nL 207.376811 53.948634 \r\nL 208.212975 50.976777 \r\nL 209.049138 50.453424 \r\nL 209.885302 22.620295 \r\nL 210.721466 25.135109 \r\nL 211.55763 51.632482 \r\nL 212.393794 54.654219 \r\nL 213.229958 56.64571 \r\nL 214.066121 59.610551 \r\nL 214.902285 55.030717 \r\nL 215.738449 29.065804 \r\nL 216.574613 26.755163 \r\nL 217.410777 54.090285 \r\nL 218.246941 53.222538 \r\nL 219.083104 53.619102 \r\nL 219.919268 55.950692 \r\nL 220.755432 53.843012 \r\nL 221.591596 28.08129 \r\nL 222.42776 28.432766 \r\nL 223.263924 56.273206 \r\nL 224.100087 60.800331 \r\nL 224.936251 59.004074 \r\nL 225.772415 58.541652 \r\nL 226.608579 55.358177 \r\nL 227.444743 30.856459 \r\nL 228.280907 30.561992 \r\nL 229.11707 57.163605 \r\nL 229.953234 54.37344 \r\nL 230.789398 55.48413 \r\nL 231.625562 55.166043 \r\nL 232.461726 55.765459 \r\nL 233.29789 30.417133 \r\nL 234.134053 30.856213 \r\nL 234.970217 61.488745 \r\nL 235.806381 59.821437 \r\nL 236.642545 62.298024 \r\nL 237.478709 60.950868 \r\nL 238.314873 57.343318 \r\nL 239.151036 32.534358 \r\nL 239.9872 30.781639 \r\nL 240.823364 60.690759 \r\nL 241.659528 60.81576 \r\nL 242.495692 58.535094 \r\nL 243.331856 57.165066 \r\nL 244.168019 51.628007 \r\nL 245.004183 26.0083 \r\nL 245.840347 25.842624 \r\nL 246.676511 57.736383 \r\nL 247.512675 60.136706 \r\nL 248.348839 60.608877 \r\nL 249.185002 61.50735 \r\nL 250.021166 67.287596 \r\nL 250.85733 41.14105 \r\nL 251.693494 41.84653 \r\nL 252.529658 77.438383 \r\nL 253.365822 93.544389 \r\nL 254.201986 99.322205 \r\nL 255.038149 100.379674 \r\nL 255.874313 93.939067 \r\nL 256.710477 65.231968 \r\nL 257.546641 64.307312 \r\nL 258.382805 99.888765 \r\nL 259.218969 101.139153 \r\nL 260.055132 101.482968 \r\nL 260.891296 101.008626 \r\nL 261.72746 94.068665 \r\nL 262.563624 65.016895 \r\nL 263.399788 65.081426 \r\nL 264.235952 102.022308 \r\nL 265.072115 104.07424 \r\nL 265.908279 104.597661 \r\nL 266.744443 104.802556 \r\nL 267.580607 97.931055 \r\nL 268.416771 69.295915 \r\nL 269.252935 69.347321 \r\nL 270.089098 104.021119 \r\nL 270.925262 106.242793 \r\nL 271.761426 106.454246 \r\nL 272.59759 106.429469 \r\nL 273.433754 105.794508 \r\nL 274.269918 75.872435 \r\nL 275.106081 86.225646 \r\nL 275.942245 128.05376 \r\nL 277.614573 129.081304 \r\nL 278.450737 129.434102 \r\nL 279.286901 121.486612 \r\nL 280.123064 90.948407 \r\nL 280.959228 89.24083 \r\nL 281.795392 126.690667 \r\nL 282.631556 128.820377 \r\nL 283.46772 129.277746 \r\nL 284.303884 129.099276 \r\nL 285.140047 124.083268 \r\nL 285.976211 93.13502 \r\nL 286.812375 92.964958 \r\nL 287.648539 130.218594 \r\nL 289.320867 130.515723 \r\nL 290.15703 130.205732 \r\nL 290.993194 125.29832 \r\nL 291.829358 94.924016 \r\nL 292.665522 94.545713 \r\nL 293.501686 130.831439 \r\nL 294.33785 131.335135 \r\nL 295.174013 131.145306 \r\nL 296.010177 131.191882 \r\nL 296.846341 127.596549 \r\nL 297.682505 96.523683 \r\nL 298.518669 96.918235 \r\nL 299.354833 134.059113 \r\nL 301.02716 136.432144 \r\nL 301.863324 136.187212 \r\nL 302.699488 131.773059 \r\nL 303.535652 100.77409 \r\nL 304.371816 100.618759 \r\nL 305.20798 137.331076 \r\nL 306.044143 138.110085 \r\nL 307.716471 138.464009 \r\nL 308.552635 134.593816 \r\nL 309.388799 103.563447 \r\nL 310.224963 103.175261 \r\nL 311.061126 136.782275 \r\nL 311.89729 136.811025 \r\nL 312.733454 135.617731 \r\nL 313.569618 135.321248 \r\nL 314.405782 131.098928 \r\nL 315.241946 99.787013 \r\nL 316.078109 99.374124 \r\nL 316.914273 132.061305 \r\nL 317.750437 132.72918 \r\nL 318.586601 132.206726 \r\nL 319.422765 128.845021 \r\nL 320.258929 123.508672 \r\nL 321.095092 95.338498 \r\nL 321.931256 96.207645 \r\nL 322.76742 128.980186 \r\nL 323.603584 136.385082 \r\nL 324.439748 139.742826 \r\nL 325.275912 139.829831 \r\nL 326.112075 132.951718 \r\nL 326.948239 100.243037 \r\nL 327.784403 102.818017 \r\nL 328.620567 136.732224 \r\nL 329.456731 139.611607 \r\nL 330.292895 141.208444 \r\nL 331.129058 140.505155 \r\nL 331.965222 128.195839 \r\nL 332.801386 96.152954 \r\nL 333.63755 98.138328 \r\nL 334.473714 134.443357 \r\nL 335.309878 137.959474 \r\nL 336.982205 137.143806 \r\nL 337.818369 131.223085 \r\nL 338.654533 99.942889 \r\nL 339.490697 99.735723 \r\nL 340.326861 129.077129 \r\nL 341.163024 129.799725 \r\nL 341.999188 129.810301 \r\nL 342.835352 130.195822 \r\nL 343.671516 120.149683 \r\nL 344.50768 89.443545 \r\nL 345.343844 89.81847 \r\nL 346.180007 113.971833 \r\nL 347.016171 114.364779 \r\nL 347.852335 117.800324 \r\nL 348.688499 117.934297 \r\nL 349.524663 113.62114 \r\nL 350.360827 80.375428 \r\nL 351.196991 75.607957 \r\nL 352.033154 113.216476 \r\nL 352.869318 125.904029 \r\nL 352.869318 125.904029 \r\n\" style=\"fill:none;stroke:#1f77b4;stroke-linecap:square;stroke-width:1.5;\"/>\r\n   </g>\r\n   <g id=\"patch_3\">\r\n    <path d=\"M 33.2875 224.64 \r\nL 33.2875 7.2 \r\n\" style=\"fill:none;stroke:#000000;stroke-linecap:square;stroke-linejoin:miter;stroke-width:0.8;\"/>\r\n   </g>\r\n   <g id=\"patch_4\">\r\n    <path d=\"M 368.0875 224.64 \r\nL 368.0875 7.2 \r\n\" style=\"fill:none;stroke:#000000;stroke-linecap:square;stroke-linejoin:miter;stroke-width:0.8;\"/>\r\n   </g>\r\n   <g id=\"patch_5\">\r\n    <path d=\"M 33.2875 224.64 \r\nL 368.0875 224.64 \r\n\" style=\"fill:none;stroke:#000000;stroke-linecap:square;stroke-linejoin:miter;stroke-width:0.8;\"/>\r\n   </g>\r\n   <g id=\"patch_6\">\r\n    <path d=\"M 33.2875 7.2 \r\nL 368.0875 7.2 \r\n\" style=\"fill:none;stroke:#000000;stroke-linecap:square;stroke-linejoin:miter;stroke-width:0.8;\"/>\r\n   </g>\r\n  </g>\r\n </g>\r\n <defs>\r\n  <clipPath id=\"p8a2bc6eae3\">\r\n   <rect height=\"217.44\" width=\"334.8\" x=\"33.2875\" y=\"7.2\"/>\r\n  </clipPath>\r\n </defs>\r\n</svg>\r\n",
      "image/png": "[encoded data removed]"
     },
     "metadata": {
      "needs_background": "light"
     }
    }
   ],
   "source": [
    "plt.plot(mean_prices['date'],mean_prices['price'])"
   ]
  },
  {
   "cell_type": "code",
   "execution_count": 110,
   "metadata": {},
   "outputs": [
    {
     "output_type": "execute_result",
     "data": {
      "text/plain": [
       "<ErrorbarContainer object of 3 artists>"
      ]
     },
     "metadata": {},
     "execution_count": 110
    },
    {
     "output_type": "display_data",
     "data": {
      "text/plain": "<Figure size 720x360 with 1 Axes>",
      "image/svg+xml": "<?xml version=\"1.0\" encoding=\"utf-8\" standalone=\"no\"?>\r\n<!DOCTYPE svg PUBLIC \"-//W3C//DTD SVG 1.1//EN\"\r\n  \"http://www.w3.org/Graphics/SVG/1.1/DTD/svg11.dtd\">\r\n<!-- Created with matplotlib (https://matplotlib.org/) -->\r\n<svg height=\"305.365867pt\" version=\"1.1\" viewBox=\"0 0 598.4875 305.365867\" width=\"598.4875pt\" xmlns=\"http://www.w3.org/2000/svg\" xmlns:xlink=\"http://www.w3.org/1999/xlink\">\r\n <defs>\r\n  <style type=\"text/css\">\r\n*{stroke-linecap:butt;stroke-linejoin:round;}\r\n  </style>\r\n </defs>\r\n <g id=\"figure_1\">\r\n  <g id=\"patch_1\">\r\n   <path d=\"M 0 305.365867 \r\nL 598.4875 305.365867 \r\nL 598.4875 0 \r\nL 0 0 \r\nz\r\n\" style=\"fill:none;\"/>\r\n  </g>\r\n  <g id=\"axes_1\">\r\n   <g id=\"patch_2\">\r\n    <path d=\"M 33.2875 281.487742 \r\nL 591.2875 281.487742 \r\nL 591.2875 9.687742 \r\nL 33.2875 9.687742 \r\nz\r\n\" style=\"fill:#ffffff;\"/>\r\n   </g>\r\n   <g id=\"matplotlib.axis_1\">\r\n    <g id=\"xtick_1\">\r\n     <g id=\"line2d_1\">\r\n      <defs>\r\n       <path d=\"M 0 0 \r\nL 0 3.5 \r\n\" id=\"m1340217903\" style=\"stroke:#000000;stroke-width:0.8;\"/>\r\n      </defs>\r\n      <g>\r\n       <use style=\"stroke:#000000;stroke-width:0.8;\" x=\"54.470317\" xlink:href=\"#m1340217903\" y=\"281.487742\"/>\r\n      </g>\r\n     </g>\r\n     <g id=\"text_1\">\r\n      <!-- 2016-01 -->\r\n      <defs>\r\n       <path d=\"M 19.1875 8.296875 \r\nL 53.609375 8.296875 \r\nL 53.609375 0 \r\nL 7.328125 0 \r\nL 7.328125 8.296875 \r\nQ 12.9375 14.109375 22.625 23.890625 \r\nQ 32.328125 33.6875 34.8125 36.53125 \r\nQ 39.546875 41.84375 41.421875 45.53125 \r\nQ 43.3125 49.21875 43.3125 52.78125 \r\nQ 43.3125 58.59375 39.234375 62.25 \r\nQ 35.15625 65.921875 28.609375 65.921875 \r\nQ 23.96875 65.921875 18.8125 64.3125 \r\nQ 13.671875 62.703125 7.8125 59.421875 \r\nL 7.8125 69.390625 \r\nQ 13.765625 71.78125 18.9375 73 \r\nQ 24.125 74.21875 28.421875 74.21875 \r\nQ 39.75 74.21875 46.484375 68.546875 \r\nQ 53.21875 62.890625 53.21875 53.421875 \r\nQ 53.21875 48.921875 51.53125 44.890625 \r\nQ 49.859375 40.875 45.40625 35.40625 \r\nQ 44.1875 33.984375 37.640625 27.21875 \r\nQ 31.109375 20.453125 19.1875 8.296875 \r\nz\r\n\" id=\"DejaVuSans-50\"/>\r\n       <path d=\"M 31.78125 66.40625 \r\nQ 24.171875 66.40625 20.328125 58.90625 \r\nQ 16.5 51.421875 16.5 36.375 \r\nQ 16.5 21.390625 20.328125 13.890625 \r\nQ 24.171875 6.390625 31.78125 6.390625 \r\nQ 39.453125 6.390625 43.28125 13.890625 \r\nQ 47.125 21.390625 47.125 36.375 \r\nQ 47.125 51.421875 43.28125 58.90625 \r\nQ 39.453125 66.40625 31.78125 66.40625 \r\nz\r\nM 31.78125 74.21875 \r\nQ 44.046875 74.21875 50.515625 64.515625 \r\nQ 56.984375 54.828125 56.984375 36.375 \r\nQ 56.984375 17.96875 50.515625 8.265625 \r\nQ 44.046875 -1.421875 31.78125 -1.421875 \r\nQ 19.53125 -1.421875 13.0625 8.265625 \r\nQ 6.59375 17.96875 6.59375 36.375 \r\nQ 6.59375 54.828125 13.0625 64.515625 \r\nQ 19.53125 74.21875 31.78125 74.21875 \r\nz\r\n\" id=\"DejaVuSans-48\"/>\r\n       <path d=\"M 12.40625 8.296875 \r\nL 28.515625 8.296875 \r\nL 28.515625 63.921875 \r\nL 10.984375 60.40625 \r\nL 10.984375 69.390625 \r\nL 28.421875 72.90625 \r\nL 38.28125 72.90625 \r\nL 38.28125 8.296875 \r\nL 54.390625 8.296875 \r\nL 54.390625 0 \r\nL 12.40625 0 \r\nz\r\n\" id=\"DejaVuSans-49\"/>\r\n       <path d=\"M 33.015625 40.375 \r\nQ 26.375 40.375 22.484375 35.828125 \r\nQ 18.609375 31.296875 18.609375 23.390625 \r\nQ 18.609375 15.53125 22.484375 10.953125 \r\nQ 26.375 6.390625 33.015625 6.390625 \r\nQ 39.65625 6.390625 43.53125 10.953125 \r\nQ 47.40625 15.53125 47.40625 23.390625 \r\nQ 47.40625 31.296875 43.53125 35.828125 \r\nQ 39.65625 40.375 33.015625 40.375 \r\nz\r\nM 52.59375 71.296875 \r\nL 52.59375 62.3125 \r\nQ 48.875 64.0625 45.09375 64.984375 \r\nQ 41.3125 65.921875 37.59375 65.921875 \r\nQ 27.828125 65.921875 22.671875 59.328125 \r\nQ 17.53125 52.734375 16.796875 39.40625 \r\nQ 19.671875 43.65625 24.015625 45.921875 \r\nQ 28.375 48.1875 33.59375 48.1875 \r\nQ 44.578125 48.1875 50.953125 41.515625 \r\nQ 57.328125 34.859375 57.328125 23.390625 \r\nQ 57.328125 12.15625 50.6875 5.359375 \r\nQ 44.046875 -1.421875 33.015625 -1.421875 \r\nQ 20.359375 -1.421875 13.671875 8.265625 \r\nQ 6.984375 17.96875 6.984375 36.375 \r\nQ 6.984375 53.65625 15.1875 63.9375 \r\nQ 23.390625 74.21875 37.203125 74.21875 \r\nQ 40.921875 74.21875 44.703125 73.484375 \r\nQ 48.484375 72.75 52.59375 71.296875 \r\nz\r\n\" id=\"DejaVuSans-54\"/>\r\n       <path d=\"M 4.890625 31.390625 \r\nL 31.203125 31.390625 \r\nL 31.203125 23.390625 \r\nL 4.890625 23.390625 \r\nz\r\n\" id=\"DejaVuSans-45\"/>\r\n      </defs>\r\n      <g transform=\"translate(33.578911 296.08618)scale(0.1 -0.1)\">\r\n       <use xlink:href=\"#DejaVuSans-50\"/>\r\n       <use x=\"63.623047\" xlink:href=\"#DejaVuSans-48\"/>\r\n       <use x=\"127.246094\" xlink:href=\"#DejaVuSans-49\"/>\r\n       <use x=\"190.869141\" xlink:href=\"#DejaVuSans-54\"/>\r\n       <use x=\"254.492188\" xlink:href=\"#DejaVuSans-45\"/>\r\n       <use x=\"290.576172\" xlink:href=\"#DejaVuSans-48\"/>\r\n       <use x=\"354.199219\" xlink:href=\"#DejaVuSans-49\"/>\r\n      </g>\r\n     </g>\r\n    </g>\r\n    <g id=\"xtick_2\">\r\n     <g id=\"line2d_2\">\r\n      <g>\r\n       <use style=\"stroke:#000000;stroke-width:0.8;\" x=\"138.086701\" xlink:href=\"#m1340217903\" y=\"281.487742\"/>\r\n      </g>\r\n     </g>\r\n     <g id=\"text_2\">\r\n      <!-- 2016-03 -->\r\n      <defs>\r\n       <path d=\"M 40.578125 39.3125 \r\nQ 47.65625 37.796875 51.625 33 \r\nQ 55.609375 28.21875 55.609375 21.1875 \r\nQ 55.609375 10.40625 48.1875 4.484375 \r\nQ 40.765625 -1.421875 27.09375 -1.421875 \r\nQ 22.515625 -1.421875 17.65625 -0.515625 \r\nQ 12.796875 0.390625 7.625 2.203125 \r\nL 7.625 11.71875 \r\nQ 11.71875 9.328125 16.59375 8.109375 \r\nQ 21.484375 6.890625 26.8125 6.890625 \r\nQ 36.078125 6.890625 40.9375 10.546875 \r\nQ 45.796875 14.203125 45.796875 21.1875 \r\nQ 45.796875 27.640625 41.28125 31.265625 \r\nQ 36.765625 34.90625 28.71875 34.90625 \r\nL 20.21875 34.90625 \r\nL 20.21875 43.015625 \r\nL 29.109375 43.015625 \r\nQ 36.375 43.015625 40.234375 45.921875 \r\nQ 44.09375 48.828125 44.09375 54.296875 \r\nQ 44.09375 59.90625 40.109375 62.90625 \r\nQ 36.140625 65.921875 28.71875 65.921875 \r\nQ 24.65625 65.921875 20.015625 65.03125 \r\nQ 15.375 64.15625 9.8125 62.3125 \r\nL 9.8125 71.09375 \r\nQ 15.4375 72.65625 20.34375 73.4375 \r\nQ 25.25 74.21875 29.59375 74.21875 \r\nQ 40.828125 74.21875 47.359375 69.109375 \r\nQ 53.90625 64.015625 53.90625 55.328125 \r\nQ 53.90625 49.265625 50.4375 45.09375 \r\nQ 46.96875 40.921875 40.578125 39.3125 \r\nz\r\n\" id=\"DejaVuSans-51\"/>\r\n      </defs>\r\n      <g transform=\"translate(117.195295 296.08618)scale(0.1 -0.1)\">\r\n       <use xlink:href=\"#DejaVuSans-50\"/>\r\n       <use x=\"63.623047\" xlink:href=\"#DejaVuSans-48\"/>\r\n       <use x=\"127.246094\" xlink:href=\"#DejaVuSans-49\"/>\r\n       <use x=\"190.869141\" xlink:href=\"#DejaVuSans-54\"/>\r\n       <use x=\"254.492188\" xlink:href=\"#DejaVuSans-45\"/>\r\n       <use x=\"290.576172\" xlink:href=\"#DejaVuSans-48\"/>\r\n       <use x=\"354.199219\" xlink:href=\"#DejaVuSans-51\"/>\r\n      </g>\r\n     </g>\r\n    </g>\r\n    <g id=\"xtick_3\">\r\n     <g id=\"line2d_3\">\r\n      <g>\r\n       <use style=\"stroke:#000000;stroke-width:0.8;\" x=\"223.096691\" xlink:href=\"#m1340217903\" y=\"281.487742\"/>\r\n      </g>\r\n     </g>\r\n     <g id=\"text_3\">\r\n      <!-- 2016-05 -->\r\n      <defs>\r\n       <path d=\"M 10.796875 72.90625 \r\nL 49.515625 72.90625 \r\nL 49.515625 64.59375 \r\nL 19.828125 64.59375 \r\nL 19.828125 46.734375 \r\nQ 21.96875 47.46875 24.109375 47.828125 \r\nQ 26.265625 48.1875 28.421875 48.1875 \r\nQ 40.625 48.1875 47.75 41.5 \r\nQ 54.890625 34.8125 54.890625 23.390625 \r\nQ 54.890625 11.625 47.5625 5.09375 \r\nQ 40.234375 -1.421875 26.90625 -1.421875 \r\nQ 22.3125 -1.421875 17.546875 -0.640625 \r\nQ 12.796875 0.140625 7.71875 1.703125 \r\nL 7.71875 11.625 \r\nQ 12.109375 9.234375 16.796875 8.0625 \r\nQ 21.484375 6.890625 26.703125 6.890625 \r\nQ 35.15625 6.890625 40.078125 11.328125 \r\nQ 45.015625 15.765625 45.015625 23.390625 \r\nQ 45.015625 31 40.078125 35.4375 \r\nQ 35.15625 39.890625 26.703125 39.890625 \r\nQ 22.75 39.890625 18.8125 39.015625 \r\nQ 14.890625 38.140625 10.796875 36.28125 \r\nz\r\n\" id=\"DejaVuSans-53\"/>\r\n      </defs>\r\n      <g transform=\"translate(202.205285 296.08618)scale(0.1 -0.1)\">\r\n       <use xlink:href=\"#DejaVuSans-50\"/>\r\n       <use x=\"63.623047\" xlink:href=\"#DejaVuSans-48\"/>\r\n       <use x=\"127.246094\" xlink:href=\"#DejaVuSans-49\"/>\r\n       <use x=\"190.869141\" xlink:href=\"#DejaVuSans-54\"/>\r\n       <use x=\"254.492188\" xlink:href=\"#DejaVuSans-45\"/>\r\n       <use x=\"290.576172\" xlink:href=\"#DejaVuSans-48\"/>\r\n       <use x=\"354.199219\" xlink:href=\"#DejaVuSans-53\"/>\r\n      </g>\r\n     </g>\r\n    </g>\r\n    <g id=\"xtick_4\">\r\n     <g id=\"line2d_4\">\r\n      <g>\r\n       <use style=\"stroke:#000000;stroke-width:0.8;\" x=\"308.106681\" xlink:href=\"#m1340217903\" y=\"281.487742\"/>\r\n      </g>\r\n     </g>\r\n     <g id=\"text_4\">\r\n      <!-- 2016-07 -->\r\n      <defs>\r\n       <path d=\"M 8.203125 72.90625 \r\nL 55.078125 72.90625 \r\nL 55.078125 68.703125 \r\nL 28.609375 0 \r\nL 18.3125 0 \r\nL 43.21875 64.59375 \r\nL 8.203125 64.59375 \r\nz\r\n\" id=\"DejaVuSans-55\"/>\r\n      </defs>\r\n      <g transform=\"translate(287.215275 296.08618)scale(0.1 -0.1)\">\r\n       <use xlink:href=\"#DejaVuSans-50\"/>\r\n       <use x=\"63.623047\" xlink:href=\"#DejaVuSans-48\"/>\r\n       <use x=\"127.246094\" xlink:href=\"#DejaVuSans-49\"/>\r\n       <use x=\"190.869141\" xlink:href=\"#DejaVuSans-54\"/>\r\n       <use x=\"254.492188\" xlink:href=\"#DejaVuSans-45\"/>\r\n       <use x=\"290.576172\" xlink:href=\"#DejaVuSans-48\"/>\r\n       <use x=\"354.199219\" xlink:href=\"#DejaVuSans-55\"/>\r\n      </g>\r\n     </g>\r\n    </g>\r\n    <g id=\"xtick_5\">\r\n     <g id=\"line2d_5\">\r\n      <g>\r\n       <use style=\"stroke:#000000;stroke-width:0.8;\" x=\"394.510277\" xlink:href=\"#m1340217903\" y=\"281.487742\"/>\r\n      </g>\r\n     </g>\r\n     <g id=\"text_5\">\r\n      <!-- 2016-09 -->\r\n      <defs>\r\n       <path d=\"M 10.984375 1.515625 \r\nL 10.984375 10.5 \r\nQ 14.703125 8.734375 18.5 7.8125 \r\nQ 22.3125 6.890625 25.984375 6.890625 \r\nQ 35.75 6.890625 40.890625 13.453125 \r\nQ 46.046875 20.015625 46.78125 33.40625 \r\nQ 43.953125 29.203125 39.59375 26.953125 \r\nQ 35.25 24.703125 29.984375 24.703125 \r\nQ 19.046875 24.703125 12.671875 31.3125 \r\nQ 6.296875 37.9375 6.296875 49.421875 \r\nQ 6.296875 60.640625 12.9375 67.421875 \r\nQ 19.578125 74.21875 30.609375 74.21875 \r\nQ 43.265625 74.21875 49.921875 64.515625 \r\nQ 56.59375 54.828125 56.59375 36.375 \r\nQ 56.59375 19.140625 48.40625 8.859375 \r\nQ 40.234375 -1.421875 26.421875 -1.421875 \r\nQ 22.703125 -1.421875 18.890625 -0.6875 \r\nQ 15.09375 0.046875 10.984375 1.515625 \r\nz\r\nM 30.609375 32.421875 \r\nQ 37.25 32.421875 41.125 36.953125 \r\nQ 45.015625 41.5 45.015625 49.421875 \r\nQ 45.015625 57.28125 41.125 61.84375 \r\nQ 37.25 66.40625 30.609375 66.40625 \r\nQ 23.96875 66.40625 20.09375 61.84375 \r\nQ 16.21875 57.28125 16.21875 49.421875 \r\nQ 16.21875 41.5 20.09375 36.953125 \r\nQ 23.96875 32.421875 30.609375 32.421875 \r\nz\r\n\" id=\"DejaVuSans-57\"/>\r\n      </defs>\r\n      <g transform=\"translate(373.618871 296.08618)scale(0.1 -0.1)\">\r\n       <use xlink:href=\"#DejaVuSans-50\"/>\r\n       <use x=\"63.623047\" xlink:href=\"#DejaVuSans-48\"/>\r\n       <use x=\"127.246094\" xlink:href=\"#DejaVuSans-49\"/>\r\n       <use x=\"190.869141\" xlink:href=\"#DejaVuSans-54\"/>\r\n       <use x=\"254.492188\" xlink:href=\"#DejaVuSans-45\"/>\r\n       <use x=\"290.576172\" xlink:href=\"#DejaVuSans-48\"/>\r\n       <use x=\"354.199219\" xlink:href=\"#DejaVuSans-57\"/>\r\n      </g>\r\n     </g>\r\n    </g>\r\n    <g id=\"xtick_6\">\r\n     <g id=\"line2d_6\">\r\n      <g>\r\n       <use style=\"stroke:#000000;stroke-width:0.8;\" x=\"479.520267\" xlink:href=\"#m1340217903\" y=\"281.487742\"/>\r\n      </g>\r\n     </g>\r\n     <g id=\"text_6\">\r\n      <!-- 2016-11 -->\r\n      <g transform=\"translate(458.628861 296.08618)scale(0.1 -0.1)\">\r\n       <use xlink:href=\"#DejaVuSans-50\"/>\r\n       <use x=\"63.623047\" xlink:href=\"#DejaVuSans-48\"/>\r\n       <use x=\"127.246094\" xlink:href=\"#DejaVuSans-49\"/>\r\n       <use x=\"190.869141\" xlink:href=\"#DejaVuSans-54\"/>\r\n       <use x=\"254.492188\" xlink:href=\"#DejaVuSans-45\"/>\r\n       <use x=\"290.576172\" xlink:href=\"#DejaVuSans-49\"/>\r\n       <use x=\"354.199219\" xlink:href=\"#DejaVuSans-49\"/>\r\n      </g>\r\n     </g>\r\n    </g>\r\n    <g id=\"xtick_7\">\r\n     <g id=\"line2d_7\">\r\n      <g>\r\n       <use style=\"stroke:#000000;stroke-width:0.8;\" x=\"564.530257\" xlink:href=\"#m1340217903\" y=\"281.487742\"/>\r\n      </g>\r\n     </g>\r\n     <g id=\"text_7\">\r\n      <!-- 2017-01 -->\r\n      <g transform=\"translate(543.638851 296.08618)scale(0.1 -0.1)\">\r\n       <use xlink:href=\"#DejaVuSans-50\"/>\r\n       <use x=\"63.623047\" xlink:href=\"#DejaVuSans-48\"/>\r\n       <use x=\"127.246094\" xlink:href=\"#DejaVuSans-49\"/>\r\n       <use x=\"190.869141\" xlink:href=\"#DejaVuSans-55\"/>\r\n       <use x=\"254.492188\" xlink:href=\"#DejaVuSans-45\"/>\r\n       <use x=\"290.576172\" xlink:href=\"#DejaVuSans-48\"/>\r\n       <use x=\"354.199219\" xlink:href=\"#DejaVuSans-49\"/>\r\n      </g>\r\n     </g>\r\n    </g>\r\n   </g>\r\n   <g id=\"matplotlib.axis_2\">\r\n    <g id=\"ytick_1\">\r\n     <g id=\"line2d_8\">\r\n      <defs>\r\n       <path d=\"M 0 0 \r\nL -3.5 0 \r\n\" id=\"mbf986a3332\" style=\"stroke:#000000;stroke-width:0.8;\"/>\r\n      </defs>\r\n      <g>\r\n       <use style=\"stroke:#000000;stroke-width:0.8;\" x=\"33.2875\" xlink:href=\"#mbf986a3332\" y=\"260.104265\"/>\r\n      </g>\r\n     </g>\r\n     <g id=\"text_8\">\r\n      <!-- 110 -->\r\n      <g transform=\"translate(7.2 263.903484)scale(0.1 -0.1)\">\r\n       <use xlink:href=\"#DejaVuSans-49\"/>\r\n       <use x=\"63.623047\" xlink:href=\"#DejaVuSans-49\"/>\r\n       <use x=\"127.246094\" xlink:href=\"#DejaVuSans-48\"/>\r\n      </g>\r\n     </g>\r\n    </g>\r\n    <g id=\"ytick_2\">\r\n     <g id=\"line2d_9\">\r\n      <g>\r\n       <use style=\"stroke:#000000;stroke-width:0.8;\" x=\"33.2875\" xlink:href=\"#mbf986a3332\" y=\"218.586758\"/>\r\n      </g>\r\n     </g>\r\n     <g id=\"text_9\">\r\n      <!-- 120 -->\r\n      <g transform=\"translate(7.2 222.385976)scale(0.1 -0.1)\">\r\n       <use xlink:href=\"#DejaVuSans-49\"/>\r\n       <use x=\"63.623047\" xlink:href=\"#DejaVuSans-50\"/>\r\n       <use x=\"127.246094\" xlink:href=\"#DejaVuSans-48\"/>\r\n      </g>\r\n     </g>\r\n    </g>\r\n    <g id=\"ytick_3\">\r\n     <g id=\"line2d_10\">\r\n      <g>\r\n       <use style=\"stroke:#000000;stroke-width:0.8;\" x=\"33.2875\" xlink:href=\"#mbf986a3332\" y=\"177.06925\"/>\r\n      </g>\r\n     </g>\r\n     <g id=\"text_10\">\r\n      <!-- 130 -->\r\n      <g transform=\"translate(7.2 180.868469)scale(0.1 -0.1)\">\r\n       <use xlink:href=\"#DejaVuSans-49\"/>\r\n       <use x=\"63.623047\" xlink:href=\"#DejaVuSans-51\"/>\r\n       <use x=\"127.246094\" xlink:href=\"#DejaVuSans-48\"/>\r\n      </g>\r\n     </g>\r\n    </g>\r\n    <g id=\"ytick_4\">\r\n     <g id=\"line2d_11\">\r\n      <g>\r\n       <use style=\"stroke:#000000;stroke-width:0.8;\" x=\"33.2875\" xlink:href=\"#mbf986a3332\" y=\"135.551742\"/>\r\n      </g>\r\n     </g>\r\n     <g id=\"text_11\">\r\n      <!-- 140 -->\r\n      <defs>\r\n       <path d=\"M 37.796875 64.3125 \r\nL 12.890625 25.390625 \r\nL 37.796875 25.390625 \r\nz\r\nM 35.203125 72.90625 \r\nL 47.609375 72.90625 \r\nL 47.609375 25.390625 \r\nL 58.015625 25.390625 \r\nL 58.015625 17.1875 \r\nL 47.609375 17.1875 \r\nL 47.609375 0 \r\nL 37.796875 0 \r\nL 37.796875 17.1875 \r\nL 4.890625 17.1875 \r\nL 4.890625 26.703125 \r\nz\r\n\" id=\"DejaVuSans-52\"/>\r\n      </defs>\r\n      <g transform=\"translate(7.2 139.350961)scale(0.1 -0.1)\">\r\n       <use xlink:href=\"#DejaVuSans-49\"/>\r\n       <use x=\"63.623047\" xlink:href=\"#DejaVuSans-52\"/>\r\n       <use x=\"127.246094\" xlink:href=\"#DejaVuSans-48\"/>\r\n      </g>\r\n     </g>\r\n    </g>\r\n    <g id=\"ytick_5\">\r\n     <g id=\"line2d_12\">\r\n      <g>\r\n       <use style=\"stroke:#000000;stroke-width:0.8;\" x=\"33.2875\" xlink:href=\"#mbf986a3332\" y=\"94.034234\"/>\r\n      </g>\r\n     </g>\r\n     <g id=\"text_12\">\r\n      <!-- 150 -->\r\n      <g transform=\"translate(7.2 97.833453)scale(0.1 -0.1)\">\r\n       <use xlink:href=\"#DejaVuSans-49\"/>\r\n       <use x=\"63.623047\" xlink:href=\"#DejaVuSans-53\"/>\r\n       <use x=\"127.246094\" xlink:href=\"#DejaVuSans-48\"/>\r\n      </g>\r\n     </g>\r\n    </g>\r\n    <g id=\"ytick_6\">\r\n     <g id=\"line2d_13\">\r\n      <g>\r\n       <use style=\"stroke:#000000;stroke-width:0.8;\" x=\"33.2875\" xlink:href=\"#mbf986a3332\" y=\"52.516727\"/>\r\n      </g>\r\n     </g>\r\n     <g id=\"text_13\">\r\n      <!-- 160 -->\r\n      <g transform=\"translate(7.2 56.315945)scale(0.1 -0.1)\">\r\n       <use xlink:href=\"#DejaVuSans-49\"/>\r\n       <use x=\"63.623047\" xlink:href=\"#DejaVuSans-54\"/>\r\n       <use x=\"127.246094\" xlink:href=\"#DejaVuSans-48\"/>\r\n      </g>\r\n     </g>\r\n    </g>\r\n    <g id=\"ytick_7\">\r\n     <g id=\"line2d_14\">\r\n      <g>\r\n       <use style=\"stroke:#000000;stroke-width:0.8;\" x=\"33.2875\" xlink:href=\"#mbf986a3332\" y=\"10.999219\"/>\r\n      </g>\r\n     </g>\r\n     <g id=\"text_14\">\r\n      <!-- 170 -->\r\n      <g transform=\"translate(7.2 14.798438)scale(0.1 -0.1)\">\r\n       <use xlink:href=\"#DejaVuSans-49\"/>\r\n       <use x=\"63.623047\" xlink:href=\"#DejaVuSans-55\"/>\r\n       <use x=\"127.246094\" xlink:href=\"#DejaVuSans-48\"/>\r\n      </g>\r\n     </g>\r\n    </g>\r\n   </g>\r\n   <g id=\"LineCollection_1\">\r\n    <path clip-path=\"url(#p9bee7d1d05)\" d=\"M 58.651136 250.863559 \r\nL 58.651136 168.989857 \r\n\" style=\"fill:none;stroke:#1f77b4;stroke-width:1.5;\"/>\r\n    <path clip-path=\"url(#p9bee7d1d05)\" d=\"M 60.044743 256.694992 \r\nL 60.044743 174.82129 \r\n\" style=\"fill:none;stroke:#1f77b4;stroke-width:1.5;\"/>\r\n    <path clip-path=\"url(#p9bee7d1d05)\" d=\"M 61.438349 255.66971 \r\nL 61.438349 173.796009 \r\n\" style=\"fill:none;stroke:#1f77b4;stroke-width:1.5;\"/>\r\n    <path clip-path=\"url(#p9bee7d1d05)\" d=\"M 62.831956 255.54251 \r\nL 62.831956 173.668808 \r\n\" style=\"fill:none;stroke:#1f77b4;stroke-width:1.5;\"/>\r\n    <path clip-path=\"url(#p9bee7d1d05)\" d=\"M 64.225562 227.800691 \r\nL 64.225562 145.92699 \r\n\" style=\"fill:none;stroke:#1f77b4;stroke-width:1.5;\"/>\r\n    <path clip-path=\"url(#p9bee7d1d05)\" d=\"M 65.619168 229.087875 \r\nL 65.619168 147.214173 \r\n\" style=\"fill:none;stroke:#1f77b4;stroke-width:1.5;\"/>\r\n    <path clip-path=\"url(#p9bee7d1d05)\" d=\"M 67.012775 259.515342 \r\nL 67.012775 177.64164 \r\n\" style=\"fill:none;stroke:#1f77b4;stroke-width:1.5;\"/>\r\n    <path clip-path=\"url(#p9bee7d1d05)\" d=\"M 68.406381 263.721268 \r\nL 68.406381 181.847566 \r\n\" style=\"fill:none;stroke:#1f77b4;stroke-width:1.5;\"/>\r\n    <path clip-path=\"url(#p9bee7d1d05)\" d=\"M 69.799988 264.834079 \r\nL 69.799988 182.960377 \r\n\" style=\"fill:none;stroke:#1f77b4;stroke-width:1.5;\"/>\r\n    <path clip-path=\"url(#p9bee7d1d05)\" d=\"M 71.193594 265.00384 \r\nL 71.193594 183.130139 \r\n\" style=\"fill:none;stroke:#1f77b4;stroke-width:1.5;\"/>\r\n    <path clip-path=\"url(#p9bee7d1d05)\" d=\"M 72.5872 263.963563 \r\nL 72.5872 182.089862 \r\n\" style=\"fill:none;stroke:#1f77b4;stroke-width:1.5;\"/>\r\n    <path clip-path=\"url(#p9bee7d1d05)\" d=\"M 73.980807 227.932294 \r\nL 73.980807 146.058592 \r\n\" style=\"fill:none;stroke:#1f77b4;stroke-width:1.5;\"/>\r\n    <path clip-path=\"url(#p9bee7d1d05)\" d=\"M 75.374413 224.901691 \r\nL 75.374413 143.027989 \r\n\" style=\"fill:none;stroke:#1f77b4;stroke-width:1.5;\"/>\r\n    <path clip-path=\"url(#p9bee7d1d05)\" d=\"M 76.768019 248.20047 \r\nL 76.768019 166.326768 \r\n\" style=\"fill:none;stroke:#1f77b4;stroke-width:1.5;\"/>\r\n    <path clip-path=\"url(#p9bee7d1d05)\" d=\"M 78.161626 252.297589 \r\nL 78.161626 170.423888 \r\n\" style=\"fill:none;stroke:#1f77b4;stroke-width:1.5;\"/>\r\n    <path clip-path=\"url(#p9bee7d1d05)\" d=\"M 79.555232 262.422896 \r\nL 79.555232 180.549194 \r\n\" style=\"fill:none;stroke:#1f77b4;stroke-width:1.5;\"/>\r\n    <path clip-path=\"url(#p9bee7d1d05)\" d=\"M 80.948839 264.988539 \r\nL 80.948839 183.114837 \r\n\" style=\"fill:none;stroke:#1f77b4;stroke-width:1.5;\"/>\r\n    <path clip-path=\"url(#p9bee7d1d05)\" d=\"M 82.342445 261.646433 \r\nL 82.342445 179.772731 \r\n\" style=\"fill:none;stroke:#1f77b4;stroke-width:1.5;\"/>\r\n    <path clip-path=\"url(#p9bee7d1d05)\" d=\"M 83.736051 231.454648 \r\nL 83.736051 149.580947 \r\n\" style=\"fill:none;stroke:#1f77b4;stroke-width:1.5;\"/>\r\n    <path clip-path=\"url(#p9bee7d1d05)\" d=\"M 85.129658 230.457639 \r\nL 85.129658 148.583938 \r\n\" style=\"fill:none;stroke:#1f77b4;stroke-width:1.5;\"/>\r\n    <path clip-path=\"url(#p9bee7d1d05)\" d=\"M 86.523264 258.324736 \r\nL 86.523264 176.451034 \r\n\" style=\"fill:none;stroke:#1f77b4;stroke-width:1.5;\"/>\r\n    <path clip-path=\"url(#p9bee7d1d05)\" d=\"M 87.916871 266.860724 \r\nL 87.916871 184.987022 \r\n\" style=\"fill:none;stroke:#1f77b4;stroke-width:1.5;\"/>\r\n    <path clip-path=\"url(#p9bee7d1d05)\" d=\"M 89.310477 268.916152 \r\nL 89.310477 187.04245 \r\n\" style=\"fill:none;stroke:#1f77b4;stroke-width:1.5;\"/>\r\n    <path clip-path=\"url(#p9bee7d1d05)\" d=\"M 90.704083 267.209067 \r\nL 90.704083 185.335366 \r\n\" style=\"fill:none;stroke:#1f77b4;stroke-width:1.5;\"/>\r\n    <path clip-path=\"url(#p9bee7d1d05)\" d=\"M 92.09769 269.133197 \r\nL 92.09769 187.259495 \r\n\" style=\"fill:none;stroke:#1f77b4;stroke-width:1.5;\"/>\r\n    <path clip-path=\"url(#p9bee7d1d05)\" d=\"M 93.491296 240.425555 \r\nL 93.491296 158.551853 \r\n\" style=\"fill:none;stroke:#1f77b4;stroke-width:1.5;\"/>\r\n    <path clip-path=\"url(#p9bee7d1d05)\" d=\"M 94.884903 239.027322 \r\nL 94.884903 157.15362 \r\n\" style=\"fill:none;stroke:#1f77b4;stroke-width:1.5;\"/>\r\n    <path clip-path=\"url(#p9bee7d1d05)\" d=\"M 96.278509 263.012622 \r\nL 96.278509 181.13892 \r\n\" style=\"fill:none;stroke:#1f77b4;stroke-width:1.5;\"/>\r\n    <path clip-path=\"url(#p9bee7d1d05)\" d=\"M 97.672115 259.633725 \r\nL 97.672115 177.760024 \r\n\" style=\"fill:none;stroke:#1f77b4;stroke-width:1.5;\"/>\r\n    <path clip-path=\"url(#p9bee7d1d05)\" d=\"M 99.065722 261.698254 \r\nL 99.065722 179.824552 \r\n\" style=\"fill:none;stroke:#1f77b4;stroke-width:1.5;\"/>\r\n    <path clip-path=\"url(#p9bee7d1d05)\" d=\"M 100.459328 258.446094 \r\nL 100.459328 176.572392 \r\n\" style=\"fill:none;stroke:#1f77b4;stroke-width:1.5;\"/>\r\n    <path clip-path=\"url(#p9bee7d1d05)\" d=\"M 101.852935 253.268188 \r\nL 101.852935 171.394486 \r\n\" style=\"fill:none;stroke:#1f77b4;stroke-width:1.5;\"/>\r\n    <path clip-path=\"url(#p9bee7d1d05)\" d=\"M 103.246541 226.95543 \r\nL 103.246541 145.081728 \r\n\" style=\"fill:none;stroke:#1f77b4;stroke-width:1.5;\"/>\r\n    <path clip-path=\"url(#p9bee7d1d05)\" d=\"M 104.640147 224.120339 \r\nL 104.640147 142.246637 \r\n\" style=\"fill:none;stroke:#1f77b4;stroke-width:1.5;\"/>\r\n    <path clip-path=\"url(#p9bee7d1d05)\" d=\"M 106.033754 245.024263 \r\nL 106.033754 163.150561 \r\n\" style=\"fill:none;stroke:#1f77b4;stroke-width:1.5;\"/>\r\n    <path clip-path=\"url(#p9bee7d1d05)\" d=\"M 107.42736 252.842478 \r\nL 107.42736 170.968777 \r\n\" style=\"fill:none;stroke:#1f77b4;stroke-width:1.5;\"/>\r\n    <path clip-path=\"url(#p9bee7d1d05)\" d=\"M 108.820967 253.923916 \r\nL 108.820967 172.050214 \r\n\" style=\"fill:none;stroke:#1f77b4;stroke-width:1.5;\"/>\r\n    <path clip-path=\"url(#p9bee7d1d05)\" d=\"M 110.214573 253.044187 \r\nL 110.214573 171.170485 \r\n\" style=\"fill:none;stroke:#1f77b4;stroke-width:1.5;\"/>\r\n    <path clip-path=\"url(#p9bee7d1d05)\" d=\"M 111.608179 246.704138 \r\nL 111.608179 164.830436 \r\n\" style=\"fill:none;stroke:#1f77b4;stroke-width:1.5;\"/>\r\n    <path clip-path=\"url(#p9bee7d1d05)\" d=\"M 113.001786 205.722645 \r\nL 113.001786 123.848943 \r\n\" style=\"fill:none;stroke:#1f77b4;stroke-width:1.5;\"/>\r\n    <path clip-path=\"url(#p9bee7d1d05)\" d=\"M 114.395392 202.316404 \r\nL 114.395392 120.442703 \r\n\" style=\"fill:none;stroke:#1f77b4;stroke-width:1.5;\"/>\r\n    <path clip-path=\"url(#p9bee7d1d05)\" d=\"M 115.788999 228.530856 \r\nL 115.788999 146.657155 \r\n\" style=\"fill:none;stroke:#1f77b4;stroke-width:1.5;\"/>\r\n    <path clip-path=\"url(#p9bee7d1d05)\" d=\"M 117.182605 237.295571 \r\nL 117.182605 155.42187 \r\n\" style=\"fill:none;stroke:#1f77b4;stroke-width:1.5;\"/>\r\n    <path clip-path=\"url(#p9bee7d1d05)\" d=\"M 118.576211 245.85317 \r\nL 118.576211 163.979468 \r\n\" style=\"fill:none;stroke:#1f77b4;stroke-width:1.5;\"/>\r\n    <path clip-path=\"url(#p9bee7d1d05)\" d=\"M 119.969818 248.843978 \r\nL 119.969818 166.970277 \r\n\" style=\"fill:none;stroke:#1f77b4;stroke-width:1.5;\"/>\r\n    <path clip-path=\"url(#p9bee7d1d05)\" d=\"M 121.363424 248.892144 \r\nL 121.363424 167.018442 \r\n\" style=\"fill:none;stroke:#1f77b4;stroke-width:1.5;\"/>\r\n    <path clip-path=\"url(#p9bee7d1d05)\" d=\"M 122.75703 222.214283 \r\nL 122.75703 140.340581 \r\n\" style=\"fill:none;stroke:#1f77b4;stroke-width:1.5;\"/>\r\n    <path clip-path=\"url(#p9bee7d1d05)\" d=\"M 124.150637 221.692265 \r\nL 124.150637 139.818563 \r\n\" style=\"fill:none;stroke:#1f77b4;stroke-width:1.5;\"/>\r\n    <path clip-path=\"url(#p9bee7d1d05)\" d=\"M 125.544243 248.53768 \r\nL 125.544243 166.663979 \r\n\" style=\"fill:none;stroke:#1f77b4;stroke-width:1.5;\"/>\r\n    <path clip-path=\"url(#p9bee7d1d05)\" d=\"M 126.93785 252.009034 \r\nL 126.93785 170.135333 \r\n\" style=\"fill:none;stroke:#1f77b4;stroke-width:1.5;\"/>\r\n    <path clip-path=\"url(#p9bee7d1d05)\" d=\"M 128.331456 252.813533 \r\nL 128.331456 170.939831 \r\n\" style=\"fill:none;stroke:#1f77b4;stroke-width:1.5;\"/>\r\n    <path clip-path=\"url(#p9bee7d1d05)\" d=\"M 129.725062 254.398519 \r\nL 129.725062 172.524817 \r\n\" style=\"fill:none;stroke:#1f77b4;stroke-width:1.5;\"/>\r\n    <path clip-path=\"url(#p9bee7d1d05)\" d=\"M 131.118669 254.037994 \r\nL 131.118669 172.164292 \r\n\" style=\"fill:none;stroke:#1f77b4;stroke-width:1.5;\"/>\r\n    <path clip-path=\"url(#p9bee7d1d05)\" d=\"M 132.512275 225.154042 \r\nL 132.512275 143.280341 \r\n\" style=\"fill:none;stroke:#1f77b4;stroke-width:1.5;\"/>\r\n    <path clip-path=\"url(#p9bee7d1d05)\" d=\"M 133.905882 223.191013 \r\nL 133.905882 141.317312 \r\n\" style=\"fill:none;stroke:#1f77b4;stroke-width:1.5;\"/>\r\n    <path clip-path=\"url(#p9bee7d1d05)\" d=\"M 135.299488 246.842357 \r\nL 135.299488 164.968655 \r\n\" style=\"fill:none;stroke:#1f77b4;stroke-width:1.5;\"/>\r\n    <path clip-path=\"url(#p9bee7d1d05)\" d=\"M 136.693094 252.574889 \r\nL 136.693094 170.701187 \r\n\" style=\"fill:none;stroke:#1f77b4;stroke-width:1.5;\"/>\r\n    <path clip-path=\"url(#p9bee7d1d05)\" d=\"M 138.086701 245.050057 \r\nL 138.086701 163.176356 \r\n\" style=\"fill:none;stroke:#1f77b4;stroke-width:1.5;\"/>\r\n    <path clip-path=\"url(#p9bee7d1d05)\" d=\"M 139.480307 246.003964 \r\nL 139.480307 164.130263 \r\n\" style=\"fill:none;stroke:#1f77b4;stroke-width:1.5;\"/>\r\n    <path clip-path=\"url(#p9bee7d1d05)\" d=\"M 140.873914 240.160204 \r\nL 140.873914 158.286503 \r\n\" style=\"fill:none;stroke:#1f77b4;stroke-width:1.5;\"/>\r\n    <path clip-path=\"url(#p9bee7d1d05)\" d=\"M 142.26752 205.425413 \r\nL 142.26752 123.551711 \r\n\" style=\"fill:none;stroke:#1f77b4;stroke-width:1.5;\"/>\r\n    <path clip-path=\"url(#p9bee7d1d05)\" d=\"M 143.661126 204.30006 \r\nL 143.661126 122.426358 \r\n\" style=\"fill:none;stroke:#1f77b4;stroke-width:1.5;\"/>\r\n    <path clip-path=\"url(#p9bee7d1d05)\" d=\"M 145.054733 233.526578 \r\nL 145.054733 151.652877 \r\n\" style=\"fill:none;stroke:#1f77b4;stroke-width:1.5;\"/>\r\n    <path clip-path=\"url(#p9bee7d1d05)\" d=\"M 146.448339 235.822426 \r\nL 146.448339 153.948725 \r\n\" style=\"fill:none;stroke:#1f77b4;stroke-width:1.5;\"/>\r\n    <path clip-path=\"url(#p9bee7d1d05)\" d=\"M 147.841946 234.832185 \r\nL 147.841946 152.958484 \r\n\" style=\"fill:none;stroke:#1f77b4;stroke-width:1.5;\"/>\r\n    <path clip-path=\"url(#p9bee7d1d05)\" d=\"M 149.235552 233.97853 \r\nL 149.235552 152.104828 \r\n\" style=\"fill:none;stroke:#1f77b4;stroke-width:1.5;\"/>\r\n    <path clip-path=\"url(#p9bee7d1d05)\" d=\"M 150.629158 231.366796 \r\nL 150.629158 149.493095 \r\n\" style=\"fill:none;stroke:#1f77b4;stroke-width:1.5;\"/>\r\n    <path clip-path=\"url(#p9bee7d1d05)\" d=\"M 152.022765 201.829867 \r\nL 152.022765 119.956165 \r\n\" style=\"fill:none;stroke:#1f77b4;stroke-width:1.5;\"/>\r\n    <path clip-path=\"url(#p9bee7d1d05)\" d=\"M 153.416371 200.215546 \r\nL 153.416371 118.341844 \r\n\" style=\"fill:none;stroke:#1f77b4;stroke-width:1.5;\"/>\r\n    <path clip-path=\"url(#p9bee7d1d05)\" d=\"M 154.809978 227.258354 \r\nL 154.809978 145.384652 \r\n\" style=\"fill:none;stroke:#1f77b4;stroke-width:1.5;\"/>\r\n    <path clip-path=\"url(#p9bee7d1d05)\" d=\"M 156.203584 231.398647 \r\nL 156.203584 149.524945 \r\n\" style=\"fill:none;stroke:#1f77b4;stroke-width:1.5;\"/>\r\n    <path clip-path=\"url(#p9bee7d1d05)\" d=\"M 157.59719 233.287489 \r\nL 157.59719 151.413788 \r\n\" style=\"fill:none;stroke:#1f77b4;stroke-width:1.5;\"/>\r\n    <path clip-path=\"url(#p9bee7d1d05)\" d=\"M 158.990797 232.130598 \r\nL 158.990797 150.256896 \r\n\" style=\"fill:none;stroke:#1f77b4;stroke-width:1.5;\"/>\r\n    <path clip-path=\"url(#p9bee7d1d05)\" d=\"M 160.384403 222.474756 \r\nL 160.384403 140.601054 \r\n\" style=\"fill:none;stroke:#1f77b4;stroke-width:1.5;\"/>\r\n    <path clip-path=\"url(#p9bee7d1d05)\" d=\"M 161.778009 195.900833 \r\nL 161.778009 114.027131 \r\n\" style=\"fill:none;stroke:#1f77b4;stroke-width:1.5;\"/>\r\n    <path clip-path=\"url(#p9bee7d1d05)\" d=\"M 163.171616 197.912115 \r\nL 163.171616 116.038413 \r\n\" style=\"fill:none;stroke:#1f77b4;stroke-width:1.5;\"/>\r\n    <path clip-path=\"url(#p9bee7d1d05)\" d=\"M 164.565222 228.99253 \r\nL 164.565222 147.118828 \r\n\" style=\"fill:none;stroke:#1f77b4;stroke-width:1.5;\"/>\r\n    <path clip-path=\"url(#p9bee7d1d05)\" d=\"M 165.958829 232.368583 \r\nL 165.958829 150.494881 \r\n\" style=\"fill:none;stroke:#1f77b4;stroke-width:1.5;\"/>\r\n    <path clip-path=\"url(#p9bee7d1d05)\" d=\"M 167.352435 232.279088 \r\nL 167.352435 150.405387 \r\n\" style=\"fill:none;stroke:#1f77b4;stroke-width:1.5;\"/>\r\n    <path clip-path=\"url(#p9bee7d1d05)\" d=\"M 168.746041 231.851407 \r\nL 168.746041 149.977705 \r\n\" style=\"fill:none;stroke:#1f77b4;stroke-width:1.5;\"/>\r\n    <path clip-path=\"url(#p9bee7d1d05)\" d=\"M 170.139648 224.715861 \r\nL 170.139648 142.842159 \r\n\" style=\"fill:none;stroke:#1f77b4;stroke-width:1.5;\"/>\r\n    <path clip-path=\"url(#p9bee7d1d05)\" d=\"M 171.533254 192.192975 \r\nL 171.533254 110.319273 \r\n\" style=\"fill:none;stroke:#1f77b4;stroke-width:1.5;\"/>\r\n    <path clip-path=\"url(#p9bee7d1d05)\" d=\"M 172.926861 191.283868 \r\nL 172.926861 109.410166 \r\n\" style=\"fill:none;stroke:#1f77b4;stroke-width:1.5;\"/>\r\n    <path clip-path=\"url(#p9bee7d1d05)\" d=\"M 174.320467 224.081797 \r\nL 174.320467 142.208095 \r\n\" style=\"fill:none;stroke:#1f77b4;stroke-width:1.5;\"/>\r\n    <path clip-path=\"url(#p9bee7d1d05)\" d=\"M 175.714073 231.376427 \r\nL 175.714073 149.502725 \r\n\" style=\"fill:none;stroke:#1f77b4;stroke-width:1.5;\"/>\r\n    <path clip-path=\"url(#p9bee7d1d05)\" d=\"M 177.10768 231.547962 \r\nL 177.10768 149.67426 \r\n\" style=\"fill:none;stroke:#1f77b4;stroke-width:1.5;\"/>\r\n    <path clip-path=\"url(#p9bee7d1d05)\" d=\"M 178.501286 232.482839 \r\nL 178.501286 150.609137 \r\n\" style=\"fill:none;stroke:#1f77b4;stroke-width:1.5;\"/>\r\n    <path clip-path=\"url(#p9bee7d1d05)\" d=\"M 179.894893 227.076659 \r\nL 179.894893 145.202957 \r\n\" style=\"fill:none;stroke:#1f77b4;stroke-width:1.5;\"/>\r\n    <path clip-path=\"url(#p9bee7d1d05)\" d=\"M 181.288499 194.412549 \r\nL 181.288499 112.538848 \r\n\" style=\"fill:none;stroke:#1f77b4;stroke-width:1.5;\"/>\r\n    <path clip-path=\"url(#p9bee7d1d05)\" d=\"M 182.682105 175.944211 \r\nL 182.682105 94.07051 \r\n\" style=\"fill:none;stroke:#1f77b4;stroke-width:1.5;\"/>\r\n    <path clip-path=\"url(#p9bee7d1d05)\" d=\"M 184.075712 206.132792 \r\nL 184.075712 124.25909 \r\n\" style=\"fill:none;stroke:#1f77b4;stroke-width:1.5;\"/>\r\n    <path clip-path=\"url(#p9bee7d1d05)\" d=\"M 185.469318 208.305423 \r\nL 185.469318 126.431721 \r\n\" style=\"fill:none;stroke:#1f77b4;stroke-width:1.5;\"/>\r\n    <path clip-path=\"url(#p9bee7d1d05)\" d=\"M 186.862925 209.421517 \r\nL 186.862925 127.547815 \r\n\" style=\"fill:none;stroke:#1f77b4;stroke-width:1.5;\"/>\r\n    <path clip-path=\"url(#p9bee7d1d05)\" d=\"M 188.256531 208.0809 \r\nL 188.256531 126.207198 \r\n\" style=\"fill:none;stroke:#1f77b4;stroke-width:1.5;\"/>\r\n    <path clip-path=\"url(#p9bee7d1d05)\" d=\"M 189.650137 194.889166 \r\nL 189.650137 113.015464 \r\n\" style=\"fill:none;stroke:#1f77b4;stroke-width:1.5;\"/>\r\n    <path clip-path=\"url(#p9bee7d1d05)\" d=\"M 191.043744 165.479702 \r\nL 191.043744 83.606001 \r\n\" style=\"fill:none;stroke:#1f77b4;stroke-width:1.5;\"/>\r\n    <path clip-path=\"url(#p9bee7d1d05)\" d=\"M 192.43735 163.097046 \r\nL 192.43735 81.223344 \r\n\" style=\"fill:none;stroke:#1f77b4;stroke-width:1.5;\"/>\r\n    <path clip-path=\"url(#p9bee7d1d05)\" d=\"M 193.830957 193.757421 \r\nL 193.830957 111.88372 \r\n\" style=\"fill:none;stroke:#1f77b4;stroke-width:1.5;\"/>\r\n    <path clip-path=\"url(#p9bee7d1d05)\" d=\"M 195.224563 206.959917 \r\nL 195.224563 125.086216 \r\n\" style=\"fill:none;stroke:#1f77b4;stroke-width:1.5;\"/>\r\n    <path clip-path=\"url(#p9bee7d1d05)\" d=\"M 196.618169 208.985538 \r\nL 196.618169 127.111836 \r\n\" style=\"fill:none;stroke:#1f77b4;stroke-width:1.5;\"/>\r\n    <path clip-path=\"url(#p9bee7d1d05)\" d=\"M 198.011776 208.775446 \r\nL 198.011776 126.901744 \r\n\" style=\"fill:none;stroke:#1f77b4;stroke-width:1.5;\"/>\r\n    <path clip-path=\"url(#p9bee7d1d05)\" d=\"M 199.405382 202.276943 \r\nL 199.405382 120.403241 \r\n\" style=\"fill:none;stroke:#1f77b4;stroke-width:1.5;\"/>\r\n    <path clip-path=\"url(#p9bee7d1d05)\" d=\"M 200.798989 174.315729 \r\nL 200.798989 92.442028 \r\n\" style=\"fill:none;stroke:#1f77b4;stroke-width:1.5;\"/>\r\n    <path clip-path=\"url(#p9bee7d1d05)\" d=\"M 202.192595 173.990699 \r\nL 202.192595 92.116997 \r\n\" style=\"fill:none;stroke:#1f77b4;stroke-width:1.5;\"/>\r\n    <path clip-path=\"url(#p9bee7d1d05)\" d=\"M 203.586201 206.008534 \r\nL 203.586201 124.134833 \r\n\" style=\"fill:none;stroke:#1f77b4;stroke-width:1.5;\"/>\r\n    <path clip-path=\"url(#p9bee7d1d05)\" d=\"M 204.979808 208.348555 \r\nL 204.979808 126.474853 \r\n\" style=\"fill:none;stroke:#1f77b4;stroke-width:1.5;\"/>\r\n    <path clip-path=\"url(#p9bee7d1d05)\" d=\"M 206.373414 209.175884 \r\nL 206.373414 127.302183 \r\n\" style=\"fill:none;stroke:#1f77b4;stroke-width:1.5;\"/>\r\n    <path clip-path=\"url(#p9bee7d1d05)\" d=\"M 207.76702 209.366988 \r\nL 207.76702 127.493287 \r\n\" style=\"fill:none;stroke:#1f77b4;stroke-width:1.5;\"/>\r\n    <path clip-path=\"url(#p9bee7d1d05)\" d=\"M 209.160627 211.773559 \r\nL 209.160627 129.899858 \r\n\" style=\"fill:none;stroke:#1f77b4;stroke-width:1.5;\"/>\r\n    <path clip-path=\"url(#p9bee7d1d05)\" d=\"M 210.554233 181.970802 \r\nL 210.554233 100.097101 \r\n\" style=\"fill:none;stroke:#1f77b4;stroke-width:1.5;\"/>\r\n    <path clip-path=\"url(#p9bee7d1d05)\" d=\"M 211.94784 179.550796 \r\nL 211.94784 97.677094 \r\n\" style=\"fill:none;stroke:#1f77b4;stroke-width:1.5;\"/>\r\n    <path clip-path=\"url(#p9bee7d1d05)\" d=\"M 213.341446 212.264318 \r\nL 213.341446 130.390616 \r\n\" style=\"fill:none;stroke:#1f77b4;stroke-width:1.5;\"/>\r\n    <path clip-path=\"url(#p9bee7d1d05)\" d=\"M 214.735052 211.553438 \r\nL 214.735052 129.679737 \r\n\" style=\"fill:none;stroke:#1f77b4;stroke-width:1.5;\"/>\r\n    <path clip-path=\"url(#p9bee7d1d05)\" d=\"M 216.128659 209.884879 \r\nL 216.128659 128.011177 \r\n\" style=\"fill:none;stroke:#1f77b4;stroke-width:1.5;\"/>\r\n    <path clip-path=\"url(#p9bee7d1d05)\" d=\"M 217.522265 209.462012 \r\nL 217.522265 127.58831 \r\n\" style=\"fill:none;stroke:#1f77b4;stroke-width:1.5;\"/>\r\n    <path clip-path=\"url(#p9bee7d1d05)\" d=\"M 218.915872 207.849081 \r\nL 218.915872 125.975379 \r\n\" style=\"fill:none;stroke:#1f77b4;stroke-width:1.5;\"/>\r\n    <path clip-path=\"url(#p9bee7d1d05)\" d=\"M 220.309478 175.603555 \r\nL 220.309478 93.729853 \r\n\" style=\"fill:none;stroke:#1f77b4;stroke-width:1.5;\"/>\r\n    <path clip-path=\"url(#p9bee7d1d05)\" d=\"M 221.703084 176.149509 \r\nL 221.703084 94.275807 \r\n\" style=\"fill:none;stroke:#1f77b4;stroke-width:1.5;\"/>\r\n    <path clip-path=\"url(#p9bee7d1d05)\" d=\"M 223.096691 193.234472 \r\nL 223.096691 111.36077 \r\n\" style=\"fill:none;stroke:#1f77b4;stroke-width:1.5;\"/>\r\n    <path clip-path=\"url(#p9bee7d1d05)\" d=\"M 224.490297 194.25731 \r\nL 224.490297 112.383608 \r\n\" style=\"fill:none;stroke:#1f77b4;stroke-width:1.5;\"/>\r\n    <path clip-path=\"url(#p9bee7d1d05)\" d=\"M 225.883904 196.008139 \r\nL 225.883904 114.134437 \r\n\" style=\"fill:none;stroke:#1f77b4;stroke-width:1.5;\"/>\r\n    <path clip-path=\"url(#p9bee7d1d05)\" d=\"M 227.27751 197.791492 \r\nL 227.27751 115.917791 \r\n\" style=\"fill:none;stroke:#1f77b4;stroke-width:1.5;\"/>\r\n    <path clip-path=\"url(#p9bee7d1d05)\" d=\"M 228.671116 192.31775 \r\nL 228.671116 110.444049 \r\n\" style=\"fill:none;stroke:#1f77b4;stroke-width:1.5;\"/>\r\n    <path clip-path=\"url(#p9bee7d1d05)\" d=\"M 230.064723 161.505699 \r\nL 230.064723 79.631998 \r\n\" style=\"fill:none;stroke:#1f77b4;stroke-width:1.5;\"/>\r\n    <path clip-path=\"url(#p9bee7d1d05)\" d=\"M 231.458329 161.202821 \r\nL 231.458329 79.329119 \r\n\" style=\"fill:none;stroke:#1f77b4;stroke-width:1.5;\"/>\r\n    <path clip-path=\"url(#p9bee7d1d05)\" d=\"M 232.851936 196.075805 \r\nL 232.851936 114.202104 \r\n\" style=\"fill:none;stroke:#1f77b4;stroke-width:1.5;\"/>\r\n    <path clip-path=\"url(#p9bee7d1d05)\" d=\"M 234.245542 194.722568 \r\nL 234.245542 112.848867 \r\n\" style=\"fill:none;stroke:#1f77b4;stroke-width:1.5;\"/>\r\n    <path clip-path=\"url(#p9bee7d1d05)\" d=\"M 235.639148 195.549706 \r\nL 235.639148 113.676005 \r\n\" style=\"fill:none;stroke:#1f77b4;stroke-width:1.5;\"/>\r\n    <path clip-path=\"url(#p9bee7d1d05)\" d=\"M 237.032755 197.224853 \r\nL 237.032755 115.351151 \r\n\" style=\"fill:none;stroke:#1f77b4;stroke-width:1.5;\"/>\r\n    <path clip-path=\"url(#p9bee7d1d05)\" d=\"M 238.426361 188.731183 \r\nL 238.426361 106.857481 \r\n\" style=\"fill:none;stroke:#1f77b4;stroke-width:1.5;\"/>\r\n    <path clip-path=\"url(#p9bee7d1d05)\" d=\"M 239.819968 158.734162 \r\nL 239.819968 76.86046 \r\n\" style=\"fill:none;stroke:#1f77b4;stroke-width:1.5;\"/>\r\n    <path clip-path=\"url(#p9bee7d1d05)\" d=\"M 241.213574 159.046727 \r\nL 241.213574 77.173025 \r\n\" style=\"fill:none;stroke:#1f77b4;stroke-width:1.5;\"/>\r\n    <path clip-path=\"url(#p9bee7d1d05)\" d=\"M 242.60718 194.045668 \r\nL 242.60718 112.171966 \r\n\" style=\"fill:none;stroke:#1f77b4;stroke-width:1.5;\"/>\r\n    <path clip-path=\"url(#p9bee7d1d05)\" d=\"M 244.000787 193.380599 \r\nL 244.000787 111.506897 \r\n\" style=\"fill:none;stroke:#1f77b4;stroke-width:1.5;\"/>\r\n    <path clip-path=\"url(#p9bee7d1d05)\" d=\"M 245.394393 192.724275 \r\nL 245.394393 110.850574 \r\n\" style=\"fill:none;stroke:#1f77b4;stroke-width:1.5;\"/>\r\n    <path clip-path=\"url(#p9bee7d1d05)\" d=\"M 246.788 192.674497 \r\nL 246.788 110.800795 \r\n\" style=\"fill:none;stroke:#1f77b4;stroke-width:1.5;\"/>\r\n    <path clip-path=\"url(#p9bee7d1d05)\" d=\"M 248.181606 186.709155 \r\nL 248.181606 104.835454 \r\n\" style=\"fill:none;stroke:#1f77b4;stroke-width:1.5;\"/>\r\n    <path clip-path=\"url(#p9bee7d1d05)\" d=\"M 249.575212 156.42903 \r\nL 249.575212 74.555329 \r\n\" style=\"fill:none;stroke:#1f77b4;stroke-width:1.5;\"/>\r\n    <path clip-path=\"url(#p9bee7d1d05)\" d=\"M 250.968819 155.198016 \r\nL 250.968819 73.324315 \r\n\" style=\"fill:none;stroke:#1f77b4;stroke-width:1.5;\"/>\r\n    <path clip-path=\"url(#p9bee7d1d05)\" d=\"M 252.362425 184.143233 \r\nL 252.362425 102.269531 \r\n\" style=\"fill:none;stroke:#1f77b4;stroke-width:1.5;\"/>\r\n    <path clip-path=\"url(#p9bee7d1d05)\" d=\"M 253.756031 180.809738 \r\nL 253.756031 98.936036 \r\n\" style=\"fill:none;stroke:#1f77b4;stroke-width:1.5;\"/>\r\n    <path clip-path=\"url(#p9bee7d1d05)\" d=\"M 255.149638 184.419317 \r\nL 255.149638 102.545615 \r\n\" style=\"fill:none;stroke:#1f77b4;stroke-width:1.5;\"/>\r\n    <path clip-path=\"url(#p9bee7d1d05)\" d=\"M 256.543244 183.224155 \r\nL 256.543244 101.350453 \r\n\" style=\"fill:none;stroke:#1f77b4;stroke-width:1.5;\"/>\r\n    <path clip-path=\"url(#p9bee7d1d05)\" d=\"M 257.936851 176.290968 \r\nL 257.936851 94.417266 \r\n\" style=\"fill:none;stroke:#1f77b4;stroke-width:1.5;\"/>\r\n    <path clip-path=\"url(#p9bee7d1d05)\" d=\"M 259.330457 133.815576 \r\nL 259.330457 51.941875 \r\n\" style=\"fill:none;stroke:#1f77b4;stroke-width:1.5;\"/>\r\n    <path clip-path=\"url(#p9bee7d1d05)\" d=\"M 260.724063 134.020548 \r\nL 260.724063 52.146847 \r\n\" style=\"fill:none;stroke:#1f77b4;stroke-width:1.5;\"/>\r\n    <path clip-path=\"url(#p9bee7d1d05)\" d=\"M 262.11767 162.133878 \r\nL 262.11767 80.260177 \r\n\" style=\"fill:none;stroke:#1f77b4;stroke-width:1.5;\"/>\r\n    <path clip-path=\"url(#p9bee7d1d05)\" d=\"M 263.511276 163.062509 \r\nL 263.511276 81.188808 \r\n\" style=\"fill:none;stroke:#1f77b4;stroke-width:1.5;\"/>\r\n    <path clip-path=\"url(#p9bee7d1d05)\" d=\"M 264.904883 170.922315 \r\nL 264.904883 89.048613 \r\n\" style=\"fill:none;stroke:#1f77b4;stroke-width:1.5;\"/>\r\n    <path clip-path=\"url(#p9bee7d1d05)\" d=\"M 266.298489 160.962624 \r\nL 266.298489 79.088922 \r\n\" style=\"fill:none;stroke:#1f77b4;stroke-width:1.5;\"/>\r\n    <path clip-path=\"url(#p9bee7d1d05)\" d=\"M 267.692095 156.200306 \r\nL 267.692095 74.326604 \r\n\" style=\"fill:none;stroke:#1f77b4;stroke-width:1.5;\"/>\r\n    <path clip-path=\"url(#p9bee7d1d05)\" d=\"M 269.085702 129.82272 \r\nL 269.085702 47.949018 \r\n\" style=\"fill:none;stroke:#1f77b4;stroke-width:1.5;\"/>\r\n    <path clip-path=\"url(#p9bee7d1d05)\" d=\"M 270.479308 131.03212 \r\nL 270.479308 49.158418 \r\n\" style=\"fill:none;stroke:#1f77b4;stroke-width:1.5;\"/>\r\n    <path clip-path=\"url(#p9bee7d1d05)\" d=\"M 271.872915 158.493895 \r\nL 271.872915 76.620193 \r\n\" style=\"fill:none;stroke:#1f77b4;stroke-width:1.5;\"/>\r\n    <path clip-path=\"url(#p9bee7d1d05)\" d=\"M 273.266521 157.775044 \r\nL 273.266521 75.901343 \r\n\" style=\"fill:none;stroke:#1f77b4;stroke-width:1.5;\"/>\r\n    <path clip-path=\"url(#p9bee7d1d05)\" d=\"M 274.660127 158.214123 \r\nL 274.660127 76.340421 \r\n\" style=\"fill:none;stroke:#1f77b4;stroke-width:1.5;\"/>\r\n    <path clip-path=\"url(#p9bee7d1d05)\" d=\"M 276.053734 162.266948 \r\nL 276.053734 80.393246 \r\n\" style=\"fill:none;stroke:#1f77b4;stroke-width:1.5;\"/>\r\n    <path clip-path=\"url(#p9bee7d1d05)\" d=\"M 277.44734 159.710097 \r\nL 277.44734 77.836396 \r\n\" style=\"fill:none;stroke:#1f77b4;stroke-width:1.5;\"/>\r\n    <path clip-path=\"url(#p9bee7d1d05)\" d=\"M 278.840947 136.860346 \r\nL 278.840947 54.986645 \r\n\" style=\"fill:none;stroke:#1f77b4;stroke-width:1.5;\"/>\r\n    <path clip-path=\"url(#p9bee7d1d05)\" d=\"M 280.234553 136.183251 \r\nL 280.234553 54.309549 \r\n\" style=\"fill:none;stroke:#1f77b4;stroke-width:1.5;\"/>\r\n    <path clip-path=\"url(#p9bee7d1d05)\" d=\"M 281.628159 162.13025 \r\nL 281.628159 80.256548 \r\n\" style=\"fill:none;stroke:#1f77b4;stroke-width:1.5;\"/>\r\n    <path clip-path=\"url(#p9bee7d1d05)\" d=\"M 283.021766 158.921243 \r\nL 283.021766 77.047542 \r\n\" style=\"fill:none;stroke:#1f77b4;stroke-width:1.5;\"/>\r\n    <path clip-path=\"url(#p9bee7d1d05)\" d=\"M 284.415372 157.411274 \r\nL 284.415372 75.537572 \r\n\" style=\"fill:none;stroke:#1f77b4;stroke-width:1.5;\"/>\r\n    <path clip-path=\"url(#p9bee7d1d05)\" d=\"M 285.808979 157.484168 \r\nL 285.808979 75.610467 \r\n\" style=\"fill:none;stroke:#1f77b4;stroke-width:1.5;\"/>\r\n    <path clip-path=\"url(#p9bee7d1d05)\" d=\"M 287.202585 146.69796 \r\nL 287.202585 64.824258 \r\n\" style=\"fill:none;stroke:#1f77b4;stroke-width:1.5;\"/>\r\n    <path clip-path=\"url(#p9bee7d1d05)\" d=\"M 288.596191 121.110351 \r\nL 288.596191 39.236649 \r\n\" style=\"fill:none;stroke:#1f77b4;stroke-width:1.5;\"/>\r\n    <path clip-path=\"url(#p9bee7d1d05)\" d=\"M 289.989798 118.934564 \r\nL 289.989798 37.060862 \r\n\" style=\"fill:none;stroke:#1f77b4;stroke-width:1.5;\"/>\r\n    <path clip-path=\"url(#p9bee7d1d05)\" d=\"M 291.383404 144.567492 \r\nL 291.383404 62.69379 \r\n\" style=\"fill:none;stroke:#1f77b4;stroke-width:1.5;\"/>\r\n    <path clip-path=\"url(#p9bee7d1d05)\" d=\"M 292.77701 147.714876 \r\nL 292.77701 65.841174 \r\n\" style=\"fill:none;stroke:#1f77b4;stroke-width:1.5;\"/>\r\n    <path clip-path=\"url(#p9bee7d1d05)\" d=\"M 294.170617 146.104673 \r\nL 294.170617 64.230971 \r\n\" style=\"fill:none;stroke:#1f77b4;stroke-width:1.5;\"/>\r\n    <path clip-path=\"url(#p9bee7d1d05)\" d=\"M 295.564223 147.162557 \r\nL 295.564223 65.288855 \r\n\" style=\"fill:none;stroke:#1f77b4;stroke-width:1.5;\"/>\r\n    <path clip-path=\"url(#p9bee7d1d05)\" d=\"M 296.95783 145.113929 \r\nL 296.95783 63.240228 \r\n\" style=\"fill:none;stroke:#1f77b4;stroke-width:1.5;\"/>\r\n    <path clip-path=\"url(#p9bee7d1d05)\" d=\"M 298.351436 121.67876 \r\nL 298.351436 39.805059 \r\n\" style=\"fill:none;stroke:#1f77b4;stroke-width:1.5;\"/>\r\n    <path clip-path=\"url(#p9bee7d1d05)\" d=\"M 299.745042 121.48988 \r\nL 299.745042 39.616179 \r\n\" style=\"fill:none;stroke:#1f77b4;stroke-width:1.5;\"/>\r\n    <path clip-path=\"url(#p9bee7d1d05)\" d=\"M 301.138649 144.862349 \r\nL 301.138649 62.988647 \r\n\" style=\"fill:none;stroke:#1f77b4;stroke-width:1.5;\"/>\r\n    <path clip-path=\"url(#p9bee7d1d05)\" d=\"M 302.532255 144.456031 \r\nL 302.532255 62.582329 \r\n\" style=\"fill:none;stroke:#1f77b4;stroke-width:1.5;\"/>\r\n    <path clip-path=\"url(#p9bee7d1d05)\" d=\"M 303.925862 144.496623 \r\nL 303.925862 62.622922 \r\n\" style=\"fill:none;stroke:#1f77b4;stroke-width:1.5;\"/>\r\n    <path clip-path=\"url(#p9bee7d1d05)\" d=\"M 305.319468 144.839037 \r\nL 305.319468 62.965336 \r\n\" style=\"fill:none;stroke:#1f77b4;stroke-width:1.5;\"/>\r\n    <path clip-path=\"url(#p9bee7d1d05)\" d=\"M 306.713074 141.653654 \r\nL 306.713074 59.779952 \r\n\" style=\"fill:none;stroke:#1f77b4;stroke-width:1.5;\"/>\r\n    <path clip-path=\"url(#p9bee7d1d05)\" d=\"M 308.106681 103.915989 \r\nL 308.106681 22.042288 \r\n\" style=\"fill:none;stroke:#1f77b4;stroke-width:1.5;\"/>\r\n    <path clip-path=\"url(#p9bee7d1d05)\" d=\"M 309.500287 105.572677 \r\nL 309.500287 23.698975 \r\n\" style=\"fill:none;stroke:#1f77b4;stroke-width:1.5;\"/>\r\n    <path clip-path=\"url(#p9bee7d1d05)\" d=\"M 310.893894 127.693228 \r\nL 310.893894 45.819526 \r\n\" style=\"fill:none;stroke:#1f77b4;stroke-width:1.5;\"/>\r\n    <path clip-path=\"url(#p9bee7d1d05)\" d=\"M 312.2875 129.148828 \r\nL 312.2875 47.275126 \r\n\" style=\"fill:none;stroke:#1f77b4;stroke-width:1.5;\"/>\r\n    <path clip-path=\"url(#p9bee7d1d05)\" d=\"M 313.681106 132.800417 \r\nL 313.681106 50.926715 \r\n\" style=\"fill:none;stroke:#1f77b4;stroke-width:1.5;\"/>\r\n    <path clip-path=\"url(#p9bee7d1d05)\" d=\"M 315.074713 134.137261 \r\nL 315.074713 52.263559 \r\n\" style=\"fill:none;stroke:#1f77b4;stroke-width:1.5;\"/>\r\n    <path clip-path=\"url(#p9bee7d1d05)\" d=\"M 316.468319 132.025129 \r\nL 316.468319 50.151427 \r\n\" style=\"fill:none;stroke:#1f77b4;stroke-width:1.5;\"/>\r\n    <path clip-path=\"url(#p9bee7d1d05)\" d=\"M 317.861926 108.979178 \r\nL 317.861926 27.105476 \r\n\" style=\"fill:none;stroke:#1f77b4;stroke-width:1.5;\"/>\r\n    <path clip-path=\"url(#p9bee7d1d05)\" d=\"M 319.255532 108.19993 \r\nL 319.255532 26.326228 \r\n\" style=\"fill:none;stroke:#1f77b4;stroke-width:1.5;\"/>\r\n    <path clip-path=\"url(#p9bee7d1d05)\" d=\"M 320.649138 133.715021 \r\nL 320.649138 51.841319 \r\n\" style=\"fill:none;stroke:#1f77b4;stroke-width:1.5;\"/>\r\n    <path clip-path=\"url(#p9bee7d1d05)\" d=\"M 322.042745 135.526382 \r\nL 322.042745 53.65268 \r\n\" style=\"fill:none;stroke:#1f77b4;stroke-width:1.5;\"/>\r\n    <path clip-path=\"url(#p9bee7d1d05)\" d=\"M 323.436351 134.728191 \r\nL 323.436351 52.85449 \r\n\" style=\"fill:none;stroke:#1f77b4;stroke-width:1.5;\"/>\r\n    <path clip-path=\"url(#p9bee7d1d05)\" d=\"M 324.829958 132.244278 \r\nL 324.829958 50.370576 \r\n\" style=\"fill:none;stroke:#1f77b4;stroke-width:1.5;\"/>\r\n    <path clip-path=\"url(#p9bee7d1d05)\" d=\"M 326.223564 131.806853 \r\nL 326.223564 49.933151 \r\n\" style=\"fill:none;stroke:#1f77b4;stroke-width:1.5;\"/>\r\n    <path clip-path=\"url(#p9bee7d1d05)\" d=\"M 327.61717 108.543595 \r\nL 327.61717 26.669893 \r\n\" style=\"fill:none;stroke:#1f77b4;stroke-width:1.5;\"/>\r\n    <path clip-path=\"url(#p9bee7d1d05)\" d=\"M 329.010777 110.645505 \r\nL 329.010777 28.771804 \r\n\" style=\"fill:none;stroke:#1f77b4;stroke-width:1.5;\"/>\r\n    <path clip-path=\"url(#p9bee7d1d05)\" d=\"M 330.404383 132.792324 \r\nL 330.404383 50.918622 \r\n\" style=\"fill:none;stroke:#1f77b4;stroke-width:1.5;\"/>\r\n    <path clip-path=\"url(#p9bee7d1d05)\" d=\"M 331.79799 135.317927 \r\nL 331.79799 53.444225 \r\n\" style=\"fill:none;stroke:#1f77b4;stroke-width:1.5;\"/>\r\n    <path clip-path=\"url(#p9bee7d1d05)\" d=\"M 333.191596 136.982439 \r\nL 333.191596 55.108737 \r\n\" style=\"fill:none;stroke:#1f77b4;stroke-width:1.5;\"/>\r\n    <path clip-path=\"url(#p9bee7d1d05)\" d=\"M 334.585202 139.460489 \r\nL 334.585202 57.586787 \r\n\" style=\"fill:none;stroke:#1f77b4;stroke-width:1.5;\"/>\r\n    <path clip-path=\"url(#p9bee7d1d05)\" d=\"M 335.978809 135.632609 \r\nL 335.978809 53.758907 \r\n\" style=\"fill:none;stroke:#1f77b4;stroke-width:1.5;\"/>\r\n    <path clip-path=\"url(#p9bee7d1d05)\" d=\"M 337.372415 113.930827 \r\nL 337.372415 32.057126 \r\n\" style=\"fill:none;stroke:#1f77b4;stroke-width:1.5;\"/>\r\n    <path clip-path=\"url(#p9bee7d1d05)\" d=\"M 338.766021 111.999566 \r\nL 338.766021 30.125864 \r\n\" style=\"fill:none;stroke:#1f77b4;stroke-width:1.5;\"/>\r\n    <path clip-path=\"url(#p9bee7d1d05)\" d=\"M 340.159628 134.846584 \r\nL 340.159628 52.972883 \r\n\" style=\"fill:none;stroke:#1f77b4;stroke-width:1.5;\"/>\r\n    <path clip-path=\"url(#p9bee7d1d05)\" d=\"M 341.553234 134.121312 \r\nL 341.553234 52.24761 \r\n\" style=\"fill:none;stroke:#1f77b4;stroke-width:1.5;\"/>\r\n    <path clip-path=\"url(#p9bee7d1d05)\" d=\"M 342.946841 134.452764 \r\nL 342.946841 52.579063 \r\n\" style=\"fill:none;stroke:#1f77b4;stroke-width:1.5;\"/>\r\n    <path clip-path=\"url(#p9bee7d1d05)\" d=\"M 344.340447 136.401535 \r\nL 344.340447 54.527833 \r\n\" style=\"fill:none;stroke:#1f77b4;stroke-width:1.5;\"/>\r\n    <path clip-path=\"url(#p9bee7d1d05)\" d=\"M 345.734053 134.639911 \r\nL 345.734053 52.766209 \r\n\" style=\"fill:none;stroke:#1f77b4;stroke-width:1.5;\"/>\r\n    <path clip-path=\"url(#p9bee7d1d05)\" d=\"M 347.12766 113.107959 \r\nL 347.12766 31.234257 \r\n\" style=\"fill:none;stroke:#1f77b4;stroke-width:1.5;\"/>\r\n    <path clip-path=\"url(#p9bee7d1d05)\" d=\"M 348.521266 113.401727 \r\nL 348.521266 31.528025 \r\n\" style=\"fill:none;stroke:#1f77b4;stroke-width:1.5;\"/>\r\n    <path clip-path=\"url(#p9bee7d1d05)\" d=\"M 349.914873 136.671096 \r\nL 349.914873 54.797394 \r\n\" style=\"fill:none;stroke:#1f77b4;stroke-width:1.5;\"/>\r\n    <path clip-path=\"url(#p9bee7d1d05)\" d=\"M 351.308479 140.454921 \r\nL 351.308479 58.581219 \r\n\" style=\"fill:none;stroke:#1f77b4;stroke-width:1.5;\"/>\r\n    <path clip-path=\"url(#p9bee7d1d05)\" d=\"M 352.702085 138.953588 \r\nL 352.702085 57.079887 \r\n\" style=\"fill:none;stroke:#1f77b4;stroke-width:1.5;\"/>\r\n    <path clip-path=\"url(#p9bee7d1d05)\" d=\"M 354.095692 138.56709 \r\nL 354.095692 56.693388 \r\n\" style=\"fill:none;stroke:#1f77b4;stroke-width:1.5;\"/>\r\n    <path clip-path=\"url(#p9bee7d1d05)\" d=\"M 355.489298 135.906303 \r\nL 355.489298 54.032602 \r\n\" style=\"fill:none;stroke:#1f77b4;stroke-width:1.5;\"/>\r\n    <path clip-path=\"url(#p9bee7d1d05)\" d=\"M 356.882905 115.427478 \r\nL 356.882905 33.553776 \r\n\" style=\"fill:none;stroke:#1f77b4;stroke-width:1.5;\"/>\r\n    <path clip-path=\"url(#p9bee7d1d05)\" d=\"M 358.276511 115.181358 \r\nL 358.276511 33.307657 \r\n\" style=\"fill:none;stroke:#1f77b4;stroke-width:1.5;\"/>\r\n    <path clip-path=\"url(#p9bee7d1d05)\" d=\"M 359.670117 137.415302 \r\nL 359.670117 55.541601 \r\n\" style=\"fill:none;stroke:#1f77b4;stroke-width:1.5;\"/>\r\n    <path clip-path=\"url(#p9bee7d1d05)\" d=\"M 361.063724 135.083249 \r\nL 361.063724 53.209547 \r\n\" style=\"fill:none;stroke:#1f77b4;stroke-width:1.5;\"/>\r\n    <path clip-path=\"url(#p9bee7d1d05)\" d=\"M 362.45733 136.011577 \r\nL 362.45733 54.137876 \r\n\" style=\"fill:none;stroke:#1f77b4;stroke-width:1.5;\"/>\r\n    <path clip-path=\"url(#p9bee7d1d05)\" d=\"M 363.850937 135.745716 \r\nL 363.850937 53.872015 \r\n\" style=\"fill:none;stroke:#1f77b4;stroke-width:1.5;\"/>\r\n    <path clip-path=\"url(#p9bee7d1d05)\" d=\"M 365.244543 136.246715 \r\nL 365.244543 54.373014 \r\n\" style=\"fill:none;stroke:#1f77b4;stroke-width:1.5;\"/>\r\n    <path clip-path=\"url(#p9bee7d1d05)\" d=\"M 366.638149 115.060284 \r\nL 366.638149 33.186582 \r\n\" style=\"fill:none;stroke:#1f77b4;stroke-width:1.5;\"/>\r\n    <path clip-path=\"url(#p9bee7d1d05)\" d=\"M 368.031756 115.427272 \r\nL 368.031756 33.55357 \r\n\" style=\"fill:none;stroke:#1f77b4;stroke-width:1.5;\"/>\r\n    <path clip-path=\"url(#p9bee7d1d05)\" d=\"M 369.425362 141.030306 \r\nL 369.425362 59.156604 \r\n\" style=\"fill:none;stroke:#1f77b4;stroke-width:1.5;\"/>\r\n    <path clip-path=\"url(#p9bee7d1d05)\" d=\"M 370.818969 139.63675 \r\nL 370.818969 57.763048 \r\n\" style=\"fill:none;stroke:#1f77b4;stroke-width:1.5;\"/>\r\n    <path clip-path=\"url(#p9bee7d1d05)\" d=\"M 372.212575 141.70671 \r\nL 372.212575 59.833008 \r\n\" style=\"fill:none;stroke:#1f77b4;stroke-width:1.5;\"/>\r\n    <path clip-path=\"url(#p9bee7d1d05)\" d=\"M 373.606181 140.580741 \r\nL 373.606181 58.707039 \r\n\" style=\"fill:none;stroke:#1f77b4;stroke-width:1.5;\"/>\r\n    <path clip-path=\"url(#p9bee7d1d05)\" d=\"M 374.999788 137.565508 \r\nL 374.999788 55.691807 \r\n\" style=\"fill:none;stroke:#1f77b4;stroke-width:1.5;\"/>\r\n    <path clip-path=\"url(#p9bee7d1d05)\" d=\"M 376.393394 116.829886 \r\nL 376.393394 34.956184 \r\n\" style=\"fill:none;stroke:#1f77b4;stroke-width:1.5;\"/>\r\n    <path clip-path=\"url(#p9bee7d1d05)\" d=\"M 377.787 115.364942 \r\nL 377.787 33.49124 \r\n\" style=\"fill:none;stroke:#1f77b4;stroke-width:1.5;\"/>\r\n    <path clip-path=\"url(#p9bee7d1d05)\" d=\"M 379.180607 140.363339 \r\nL 379.180607 58.489637 \r\n\" style=\"fill:none;stroke:#1f77b4;stroke-width:1.5;\"/>\r\n    <path clip-path=\"url(#p9bee7d1d05)\" d=\"M 380.574213 140.467816 \r\nL 380.574213 58.594115 \r\n\" style=\"fill:none;stroke:#1f77b4;stroke-width:1.5;\"/>\r\n    <path clip-path=\"url(#p9bee7d1d05)\" d=\"M 381.96782 138.561608 \r\nL 381.96782 56.687907 \r\n\" style=\"fill:none;stroke:#1f77b4;stroke-width:1.5;\"/>\r\n    <path clip-path=\"url(#p9bee7d1d05)\" d=\"M 383.361426 137.416523 \r\nL 383.361426 55.542821 \r\n\" style=\"fill:none;stroke:#1f77b4;stroke-width:1.5;\"/>\r\n    <path clip-path=\"url(#p9bee7d1d05)\" d=\"M 384.755032 132.788584 \r\nL 384.755032 50.914882 \r\n\" style=\"fill:none;stroke:#1f77b4;stroke-width:1.5;\"/>\r\n    <path clip-path=\"url(#p9bee7d1d05)\" d=\"M 386.148639 111.375329 \r\nL 386.148639 29.501628 \r\n\" style=\"fill:none;stroke:#1f77b4;stroke-width:1.5;\"/>\r\n    <path clip-path=\"url(#p9bee7d1d05)\" d=\"M 387.542245 111.236855 \r\nL 387.542245 29.363153 \r\n\" style=\"fill:none;stroke:#1f77b4;stroke-width:1.5;\"/>\r\n    <path clip-path=\"url(#p9bee7d1d05)\" d=\"M 388.935852 137.894037 \r\nL 388.935852 56.020335 \r\n\" style=\"fill:none;stroke:#1f77b4;stroke-width:1.5;\"/>\r\n    <path clip-path=\"url(#p9bee7d1d05)\" d=\"M 390.329458 139.900255 \r\nL 390.329458 58.026554 \r\n\" style=\"fill:none;stroke:#1f77b4;stroke-width:1.5;\"/>\r\n    <path clip-path=\"url(#p9bee7d1d05)\" d=\"M 391.723064 140.294901 \r\nL 391.723064 58.421199 \r\n\" style=\"fill:none;stroke:#1f77b4;stroke-width:1.5;\"/>\r\n    <path clip-path=\"url(#p9bee7d1d05)\" d=\"M 393.116671 141.045856 \r\nL 393.116671 59.172154 \r\n\" style=\"fill:none;stroke:#1f77b4;stroke-width:1.5;\"/>\r\n    <path clip-path=\"url(#p9bee7d1d05)\" d=\"M 394.510277 145.877054 \r\nL 394.510277 64.003352 \r\n\" style=\"fill:none;stroke:#1f77b4;stroke-width:1.5;\"/>\r\n    <path clip-path=\"url(#p9bee7d1d05)\" d=\"M 395.903884 124.023461 \r\nL 395.903884 42.149759 \r\n\" style=\"fill:none;stroke:#1f77b4;stroke-width:1.5;\"/>\r\n    <path clip-path=\"url(#p9bee7d1d05)\" d=\"M 397.29749 124.613109 \r\nL 397.29749 42.739407 \r\n\" style=\"fill:none;stroke:#1f77b4;stroke-width:1.5;\"/>\r\n    <path clip-path=\"url(#p9bee7d1d05)\" d=\"M 398.691096 154.361202 \r\nL 398.691096 72.4875 \r\n\" style=\"fill:none;stroke:#1f77b4;stroke-width:1.5;\"/>\r\n    <path clip-path=\"url(#p9bee7d1d05)\" d=\"M 400.084703 167.822792 \r\nL 400.084703 85.949091 \r\n\" style=\"fill:none;stroke:#1f77b4;stroke-width:1.5;\"/>\r\n    <path clip-path=\"url(#p9bee7d1d05)\" d=\"M 401.478309 172.651959 \r\nL 401.478309 90.778258 \r\n\" style=\"fill:none;stroke:#1f77b4;stroke-width:1.5;\"/>\r\n    <path clip-path=\"url(#p9bee7d1d05)\" d=\"M 402.871916 173.535804 \r\nL 402.871916 91.662102 \r\n\" style=\"fill:none;stroke:#1f77b4;stroke-width:1.5;\"/>\r\n    <path clip-path=\"url(#p9bee7d1d05)\" d=\"M 404.265522 168.152668 \r\nL 404.265522 86.278967 \r\n\" style=\"fill:none;stroke:#1f77b4;stroke-width:1.5;\"/>\r\n    <path clip-path=\"url(#p9bee7d1d05)\" d=\"M 405.659128 144.158935 \r\nL 405.659128 62.285234 \r\n\" style=\"fill:none;stroke:#1f77b4;stroke-width:1.5;\"/>\r\n    <path clip-path=\"url(#p9bee7d1d05)\" d=\"M 407.052735 143.386097 \r\nL 407.052735 61.512396 \r\n\" style=\"fill:none;stroke:#1f77b4;stroke-width:1.5;\"/>\r\n    <path clip-path=\"url(#p9bee7d1d05)\" d=\"M 408.446341 173.125497 \r\nL 408.446341 91.251795 \r\n\" style=\"fill:none;stroke:#1f77b4;stroke-width:1.5;\"/>\r\n    <path clip-path=\"url(#p9bee7d1d05)\" d=\"M 409.839948 174.170586 \r\nL 409.839948 92.296884 \r\n\" style=\"fill:none;stroke:#1f77b4;stroke-width:1.5;\"/>\r\n    <path clip-path=\"url(#p9bee7d1d05)\" d=\"M 411.233554 174.457951 \r\nL 411.233554 92.584249 \r\n\" style=\"fill:none;stroke:#1f77b4;stroke-width:1.5;\"/>\r\n    <path clip-path=\"url(#p9bee7d1d05)\" d=\"M 412.62716 174.06149 \r\nL 412.62716 92.187788 \r\n\" style=\"fill:none;stroke:#1f77b4;stroke-width:1.5;\"/>\r\n    <path clip-path=\"url(#p9bee7d1d05)\" d=\"M 414.020767 168.260989 \r\nL 414.020767 86.387287 \r\n\" style=\"fill:none;stroke:#1f77b4;stroke-width:1.5;\"/>\r\n    <path clip-path=\"url(#p9bee7d1d05)\" d=\"M 415.414373 143.979175 \r\nL 415.414373 62.105473 \r\n\" style=\"fill:none;stroke:#1f77b4;stroke-width:1.5;\"/>\r\n    <path clip-path=\"url(#p9bee7d1d05)\" d=\"M 416.80798 144.033111 \r\nL 416.80798 62.159409 \r\n\" style=\"fill:none;stroke:#1f77b4;stroke-width:1.5;\"/>\r\n    <path clip-path=\"url(#p9bee7d1d05)\" d=\"M 418.201586 174.908737 \r\nL 418.201586 93.035036 \r\n\" style=\"fill:none;stroke:#1f77b4;stroke-width:1.5;\"/>\r\n    <path clip-path=\"url(#p9bee7d1d05)\" d=\"M 419.595192 176.623766 \r\nL 419.595192 94.750065 \r\n\" style=\"fill:none;stroke:#1f77b4;stroke-width:1.5;\"/>\r\n    <path clip-path=\"url(#p9bee7d1d05)\" d=\"M 420.988799 177.061248 \r\nL 420.988799 95.187547 \r\n\" style=\"fill:none;stroke:#1f77b4;stroke-width:1.5;\"/>\r\n    <path clip-path=\"url(#p9bee7d1d05)\" d=\"M 422.382405 177.232502 \r\nL 422.382405 95.3588 \r\n\" style=\"fill:none;stroke:#1f77b4;stroke-width:1.5;\"/>\r\n    <path clip-path=\"url(#p9bee7d1d05)\" d=\"M 423.776011 171.48922 \r\nL 423.776011 89.615518 \r\n\" style=\"fill:none;stroke:#1f77b4;stroke-width:1.5;\"/>\r\n    <path clip-path=\"url(#p9bee7d1d05)\" d=\"M 425.169618 147.555631 \r\nL 425.169618 65.681929 \r\n\" style=\"fill:none;stroke:#1f77b4;stroke-width:1.5;\"/>\r\n    <path clip-path=\"url(#p9bee7d1d05)\" d=\"M 426.563224 147.598596 \r\nL 426.563224 65.724894 \r\n\" style=\"fill:none;stroke:#1f77b4;stroke-width:1.5;\"/>\r\n    <path clip-path=\"url(#p9bee7d1d05)\" d=\"M 427.956831 176.579368 \r\nL 427.956831 94.705666 \r\n\" style=\"fill:none;stroke:#1f77b4;stroke-width:1.5;\"/>\r\n    <path clip-path=\"url(#p9bee7d1d05)\" d=\"M 429.350437 178.436269 \r\nL 429.350437 96.562567 \r\n\" style=\"fill:none;stroke:#1f77b4;stroke-width:1.5;\"/>\r\n    <path clip-path=\"url(#p9bee7d1d05)\" d=\"M 430.744043 178.613003 \r\nL 430.744043 96.739302 \r\n\" style=\"fill:none;stroke:#1f77b4;stroke-width:1.5;\"/>\r\n    <path clip-path=\"url(#p9bee7d1d05)\" d=\"M 432.13765 178.592295 \r\nL 432.13765 96.718593 \r\n\" style=\"fill:none;stroke:#1f77b4;stroke-width:1.5;\"/>\r\n    <path clip-path=\"url(#p9bee7d1d05)\" d=\"M 433.531256 178.061587 \r\nL 433.531256 96.187885 \r\n\" style=\"fill:none;stroke:#1f77b4;stroke-width:1.5;\"/>\r\n    <path clip-path=\"url(#p9bee7d1d05)\" d=\"M 434.924863 153.052364 \r\nL 434.924863 71.178662 \r\n\" style=\"fill:none;stroke:#1f77b4;stroke-width:1.5;\"/>\r\n    <path clip-path=\"url(#p9bee7d1d05)\" d=\"M 436.318469 161.7057 \r\nL 436.318469 79.831998 \r\n\" style=\"fill:none;stroke:#1f77b4;stroke-width:1.5;\"/>\r\n    <path clip-path=\"url(#p9bee7d1d05)\" d=\"M 437.712075 196.666133 \r\nL 437.712075 114.792431 \r\n\" style=\"fill:none;stroke:#1f77b4;stroke-width:1.5;\"/>\r\n    <path clip-path=\"url(#p9bee7d1d05)\" d=\"M 439.105682 197.090499 \r\nL 439.105682 115.216798 \r\n\" style=\"fill:none;stroke:#1f77b4;stroke-width:1.5;\"/>\r\n    <path clip-path=\"url(#p9bee7d1d05)\" d=\"M 440.499288 197.524967 \r\nL 440.499288 115.651265 \r\n\" style=\"fill:none;stroke:#1f77b4;stroke-width:1.5;\"/>\r\n    <path clip-path=\"url(#p9bee7d1d05)\" d=\"M 441.892895 197.81984 \r\nL 441.892895 115.946138 \r\n\" style=\"fill:none;stroke:#1f77b4;stroke-width:1.5;\"/>\r\n    <path clip-path=\"url(#p9bee7d1d05)\" d=\"M 443.286501 191.177233 \r\nL 443.286501 109.303532 \r\n\" style=\"fill:none;stroke:#1f77b4;stroke-width:1.5;\"/>\r\n    <path clip-path=\"url(#p9bee7d1d05)\" d=\"M 444.680107 165.65304 \r\nL 444.680107 83.779338 \r\n\" style=\"fill:none;stroke:#1f77b4;stroke-width:1.5;\"/>\r\n    <path clip-path=\"url(#p9bee7d1d05)\" d=\"M 446.073714 164.225827 \r\nL 446.073714 82.352125 \r\n\" style=\"fill:none;stroke:#1f77b4;stroke-width:1.5;\"/>\r\n    <path clip-path=\"url(#p9bee7d1d05)\" d=\"M 447.46732 195.526844 \r\nL 447.46732 113.653142 \r\n\" style=\"fill:none;stroke:#1f77b4;stroke-width:1.5;\"/>\r\n    <path clip-path=\"url(#p9bee7d1d05)\" d=\"M 448.860927 197.306881 \r\nL 448.860927 115.43318 \r\n\" style=\"fill:none;stroke:#1f77b4;stroke-width:1.5;\"/>\r\n    <path clip-path=\"url(#p9bee7d1d05)\" d=\"M 450.254533 197.689156 \r\nL 450.254533 115.815454 \r\n\" style=\"fill:none;stroke:#1f77b4;stroke-width:1.5;\"/>\r\n    <path clip-path=\"url(#p9bee7d1d05)\" d=\"M 451.648139 197.539988 \r\nL 451.648139 115.666286 \r\n\" style=\"fill:none;stroke:#1f77b4;stroke-width:1.5;\"/>\r\n    <path clip-path=\"url(#p9bee7d1d05)\" d=\"M 453.041746 193.347549 \r\nL 453.041746 111.473848 \r\n\" style=\"fill:none;stroke:#1f77b4;stroke-width:1.5;\"/>\r\n    <path clip-path=\"url(#p9bee7d1d05)\" d=\"M 454.435352 167.480637 \r\nL 454.435352 85.606935 \r\n\" style=\"fill:none;stroke:#1f77b4;stroke-width:1.5;\"/>\r\n    <path clip-path=\"url(#p9bee7d1d05)\" d=\"M 455.828959 167.338497 \r\nL 455.828959 85.464795 \r\n\" style=\"fill:none;stroke:#1f77b4;stroke-width:1.5;\"/>\r\n    <path clip-path=\"url(#p9bee7d1d05)\" d=\"M 457.222565 198.475527 \r\nL 457.222565 116.601826 \r\n\" style=\"fill:none;stroke:#1f77b4;stroke-width:1.5;\"/>\r\n    <path clip-path=\"url(#p9bee7d1d05)\" d=\"M 458.616171 198.595338 \r\nL 458.616171 116.721636 \r\n\" style=\"fill:none;stroke:#1f77b4;stroke-width:1.5;\"/>\r\n    <path clip-path=\"url(#p9bee7d1d05)\" d=\"M 460.009778 198.723872 \r\nL 460.009778 116.85017 \r\n\" style=\"fill:none;stroke:#1f77b4;stroke-width:1.5;\"/>\r\n    <path clip-path=\"url(#p9bee7d1d05)\" d=\"M 461.403384 198.464777 \r\nL 461.403384 116.591076 \r\n\" style=\"fill:none;stroke:#1f77b4;stroke-width:1.5;\"/>\r\n    <path clip-path=\"url(#p9bee7d1d05)\" d=\"M 462.796991 194.363104 \r\nL 462.796991 112.489402 \r\n\" style=\"fill:none;stroke:#1f77b4;stroke-width:1.5;\"/>\r\n    <path clip-path=\"url(#p9bee7d1d05)\" d=\"M 464.190597 168.975901 \r\nL 464.190597 87.102199 \r\n\" style=\"fill:none;stroke:#1f77b4;stroke-width:1.5;\"/>\r\n    <path clip-path=\"url(#p9bee7d1d05)\" d=\"M 465.584203 168.65971 \r\nL 465.584203 86.786009 \r\n\" style=\"fill:none;stroke:#1f77b4;stroke-width:1.5;\"/>\r\n    <path clip-path=\"url(#p9bee7d1d05)\" d=\"M 466.97781 198.987751 \r\nL 466.97781 117.114049 \r\n\" style=\"fill:none;stroke:#1f77b4;stroke-width:1.5;\"/>\r\n    <path clip-path=\"url(#p9bee7d1d05)\" d=\"M 468.371416 199.408745 \r\nL 468.371416 117.535043 \r\n\" style=\"fill:none;stroke:#1f77b4;stroke-width:1.5;\"/>\r\n    <path clip-path=\"url(#p9bee7d1d05)\" d=\"M 469.765022 199.250084 \r\nL 469.765022 117.376382 \r\n\" style=\"fill:none;stroke:#1f77b4;stroke-width:1.5;\"/>\r\n    <path clip-path=\"url(#p9bee7d1d05)\" d=\"M 471.158629 199.289013 \r\nL 471.158629 117.415311 \r\n\" style=\"fill:none;stroke:#1f77b4;stroke-width:1.5;\"/>\r\n    <path clip-path=\"url(#p9bee7d1d05)\" d=\"M 472.552235 196.283991 \r\nL 472.552235 114.41029 \r\n\" style=\"fill:none;stroke:#1f77b4;stroke-width:1.5;\"/>\r\n    <path clip-path=\"url(#p9bee7d1d05)\" d=\"M 473.945842 170.312922 \r\nL 473.945842 88.43922 \r\n\" style=\"fill:none;stroke:#1f77b4;stroke-width:1.5;\"/>\r\n    <path clip-path=\"url(#p9bee7d1d05)\" d=\"M 475.339448 170.642692 \r\nL 475.339448 88.768991 \r\n\" style=\"fill:none;stroke:#1f77b4;stroke-width:1.5;\"/>\r\n    <path clip-path=\"url(#p9bee7d1d05)\" d=\"M 476.733054 201.685479 \r\nL 476.733054 119.811777 \r\n\" style=\"fill:none;stroke:#1f77b4;stroke-width:1.5;\"/>\r\n    <path clip-path=\"url(#p9bee7d1d05)\" d=\"M 478.126661 202.688105 \r\nL 478.126661 120.814404 \r\n\" style=\"fill:none;stroke:#1f77b4;stroke-width:1.5;\"/>\r\n    <path clip-path=\"url(#p9bee7d1d05)\" d=\"M 479.520267 203.668886 \r\nL 479.520267 121.795184 \r\n\" style=\"fill:none;stroke:#1f77b4;stroke-width:1.5;\"/>\r\n    <path clip-path=\"url(#p9bee7d1d05)\" d=\"M 480.913874 203.464169 \r\nL 480.913874 121.590467 \r\n\" style=\"fill:none;stroke:#1f77b4;stroke-width:1.5;\"/>\r\n    <path clip-path=\"url(#p9bee7d1d05)\" d=\"M 482.30748 199.774767 \r\nL 482.30748 117.901066 \r\n\" style=\"fill:none;stroke:#1f77b4;stroke-width:1.5;\"/>\r\n    <path clip-path=\"url(#p9bee7d1d05)\" d=\"M 483.701086 173.865462 \r\nL 483.701086 91.991761 \r\n\" style=\"fill:none;stroke:#1f77b4;stroke-width:1.5;\"/>\r\n    <path clip-path=\"url(#p9bee7d1d05)\" d=\"M 485.094693 173.735634 \r\nL 485.094693 91.861933 \r\n\" style=\"fill:none;stroke:#1f77b4;stroke-width:1.5;\"/>\r\n    <path clip-path=\"url(#p9bee7d1d05)\" d=\"M 486.488299 204.420224 \r\nL 486.488299 122.546522 \r\n\" style=\"fill:none;stroke:#1f77b4;stroke-width:1.5;\"/>\r\n    <path clip-path=\"url(#p9bee7d1d05)\" d=\"M 487.881906 205.071329 \r\nL 487.881906 123.197627 \r\n\" style=\"fill:none;stroke:#1f77b4;stroke-width:1.5;\"/>\r\n    <path clip-path=\"url(#p9bee7d1d05)\" d=\"M 489.275512 205.250685 \r\nL 489.275512 123.376983 \r\n\" style=\"fill:none;stroke:#1f77b4;stroke-width:1.5;\"/>\r\n    <path clip-path=\"url(#p9bee7d1d05)\" d=\"M 490.669118 205.367143 \r\nL 490.669118 123.493441 \r\n\" style=\"fill:none;stroke:#1f77b4;stroke-width:1.5;\"/>\r\n    <path clip-path=\"url(#p9bee7d1d05)\" d=\"M 492.062725 202.13239 \r\nL 492.062725 120.258688 \r\n\" style=\"fill:none;stroke:#1f77b4;stroke-width:1.5;\"/>\r\n    <path clip-path=\"url(#p9bee7d1d05)\" d=\"M 493.456331 176.19684 \r\nL 493.456331 94.323138 \r\n\" style=\"fill:none;stroke:#1f77b4;stroke-width:1.5;\"/>\r\n    <path clip-path=\"url(#p9bee7d1d05)\" d=\"M 494.849938 175.872389 \r\nL 494.849938 93.998687 \r\n\" style=\"fill:none;stroke:#1f77b4;stroke-width:1.5;\"/>\r\n    <path clip-path=\"url(#p9bee7d1d05)\" d=\"M 496.243544 203.96153 \r\nL 496.243544 122.087828 \r\n\" style=\"fill:none;stroke:#1f77b4;stroke-width:1.5;\"/>\r\n    <path clip-path=\"url(#p9bee7d1d05)\" d=\"M 497.63715 203.985559 \r\nL 497.63715 122.111857 \r\n\" style=\"fill:none;stroke:#1f77b4;stroke-width:1.5;\"/>\r\n    <path clip-path=\"url(#p9bee7d1d05)\" d=\"M 499.030757 202.98819 \r\nL 499.030757 121.114488 \r\n\" style=\"fill:none;stroke:#1f77b4;stroke-width:1.5;\"/>\r\n    <path clip-path=\"url(#p9bee7d1d05)\" d=\"M 500.424363 202.740386 \r\nL 500.424363 120.866684 \r\n\" style=\"fill:none;stroke:#1f77b4;stroke-width:1.5;\"/>\r\n    <path clip-path=\"url(#p9bee7d1d05)\" d=\"M 501.81797 199.211321 \r\nL 501.81797 117.33762 \r\n\" style=\"fill:none;stroke:#1f77b4;stroke-width:1.5;\"/>\r\n    <path clip-path=\"url(#p9bee7d1d05)\" d=\"M 503.211576 173.040451 \r\nL 503.211576 91.16675 \r\n\" style=\"fill:none;stroke:#1f77b4;stroke-width:1.5;\"/>\r\n    <path clip-path=\"url(#p9bee7d1d05)\" d=\"M 504.605182 172.695354 \r\nL 504.605182 90.821652 \r\n\" style=\"fill:none;stroke:#1f77b4;stroke-width:1.5;\"/>\r\n    <path clip-path=\"url(#p9bee7d1d05)\" d=\"M 505.998789 200.015687 \r\nL 505.998789 118.141985 \r\n\" style=\"fill:none;stroke:#1f77b4;stroke-width:1.5;\"/>\r\n    <path clip-path=\"url(#p9bee7d1d05)\" d=\"M 507.392395 200.573905 \r\nL 507.392395 118.700203 \r\n\" style=\"fill:none;stroke:#1f77b4;stroke-width:1.5;\"/>\r\n    <path clip-path=\"url(#p9bee7d1d05)\" d=\"M 508.786001 200.137232 \r\nL 508.786001 118.26353 \r\n\" style=\"fill:none;stroke:#1f77b4;stroke-width:1.5;\"/>\r\n    <path clip-path=\"url(#p9bee7d1d05)\" d=\"M 510.179608 197.327479 \r\nL 510.179608 115.453777 \r\n\" style=\"fill:none;stroke:#1f77b4;stroke-width:1.5;\"/>\r\n    <path clip-path=\"url(#p9bee7d1d05)\" d=\"M 511.573214 192.867295 \r\nL 511.573214 110.993593 \r\n\" style=\"fill:none;stroke:#1f77b4;stroke-width:1.5;\"/>\r\n    <path clip-path=\"url(#p9bee7d1d05)\" d=\"M 512.966821 169.32233 \r\nL 512.966821 87.448628 \r\n\" style=\"fill:none;stroke:#1f77b4;stroke-width:1.5;\"/>\r\n    <path clip-path=\"url(#p9bee7d1d05)\" d=\"M 514.360427 170.048773 \r\nL 514.360427 88.175071 \r\n\" style=\"fill:none;stroke:#1f77b4;stroke-width:1.5;\"/>\r\n    <path clip-path=\"url(#p9bee7d1d05)\" d=\"M 515.754033 197.440451 \r\nL 515.754033 115.56675 \r\n\" style=\"fill:none;stroke:#1f77b4;stroke-width:1.5;\"/>\r\n    <path clip-path=\"url(#p9bee7d1d05)\" d=\"M 517.14764 203.629551 \r\nL 517.14764 121.75585 \r\n\" style=\"fill:none;stroke:#1f77b4;stroke-width:1.5;\"/>\r\n    <path clip-path=\"url(#p9bee7d1d05)\" d=\"M 518.541246 206.435993 \r\nL 518.541246 124.562292 \r\n\" style=\"fill:none;stroke:#1f77b4;stroke-width:1.5;\"/>\r\n    <path clip-path=\"url(#p9bee7d1d05)\" d=\"M 519.934853 206.508713 \r\nL 519.934853 124.635012 \r\n\" style=\"fill:none;stroke:#1f77b4;stroke-width:1.5;\"/>\r\n    <path clip-path=\"url(#p9bee7d1d05)\" d=\"M 521.328459 200.759905 \r\nL 521.328459 118.886203 \r\n\" style=\"fill:none;stroke:#1f77b4;stroke-width:1.5;\"/>\r\n    <path clip-path=\"url(#p9bee7d1d05)\" d=\"M 522.722065 173.421601 \r\nL 522.722065 91.5479 \r\n\" style=\"fill:none;stroke:#1f77b4;stroke-width:1.5;\"/>\r\n    <path clip-path=\"url(#p9bee7d1d05)\" d=\"M 524.115672 175.5738 \r\nL 524.115672 93.700099 \r\n\" style=\"fill:none;stroke:#1f77b4;stroke-width:1.5;\"/>\r\n    <path clip-path=\"url(#p9bee7d1d05)\" d=\"M 525.509278 203.919697 \r\nL 525.509278 122.045995 \r\n\" style=\"fill:none;stroke:#1f77b4;stroke-width:1.5;\"/>\r\n    <path clip-path=\"url(#p9bee7d1d05)\" d=\"M 526.902885 206.326319 \r\nL 526.902885 124.452617 \r\n\" style=\"fill:none;stroke:#1f77b4;stroke-width:1.5;\"/>\r\n    <path clip-path=\"url(#p9bee7d1d05)\" d=\"M 528.296491 207.660974 \r\nL 528.296491 125.787273 \r\n\" style=\"fill:none;stroke:#1f77b4;stroke-width:1.5;\"/>\r\n    <path clip-path=\"url(#p9bee7d1d05)\" d=\"M 529.690097 207.073157 \r\nL 529.690097 125.199455 \r\n\" style=\"fill:none;stroke:#1f77b4;stroke-width:1.5;\"/>\r\n    <path clip-path=\"url(#p9bee7d1d05)\" d=\"M 531.083704 196.784885 \r\nL 531.083704 114.911183 \r\n\" style=\"fill:none;stroke:#1f77b4;stroke-width:1.5;\"/>\r\n    <path clip-path=\"url(#p9bee7d1d05)\" d=\"M 532.47731 170.003062 \r\nL 532.47731 88.12936 \r\n\" style=\"fill:none;stroke:#1f77b4;stroke-width:1.5;\"/>\r\n    <path clip-path=\"url(#p9bee7d1d05)\" d=\"M 533.870917 171.662461 \r\nL 533.870917 89.788759 \r\n\" style=\"fill:none;stroke:#1f77b4;stroke-width:1.5;\"/>\r\n    <path clip-path=\"url(#p9bee7d1d05)\" d=\"M 535.264523 202.006635 \r\nL 535.264523 120.132933 \r\n\" style=\"fill:none;stroke:#1f77b4;stroke-width:1.5;\"/>\r\n    <path clip-path=\"url(#p9bee7d1d05)\" d=\"M 536.658129 204.945446 \r\nL 536.658129 123.071745 \r\n\" style=\"fill:none;stroke:#1f77b4;stroke-width:1.5;\"/>\r\n    <path clip-path=\"url(#p9bee7d1d05)\" d=\"M 538.051736 204.586705 \r\nL 538.051736 122.713003 \r\n\" style=\"fill:none;stroke:#1f77b4;stroke-width:1.5;\"/>\r\n    <path clip-path=\"url(#p9bee7d1d05)\" d=\"M 539.445342 204.263702 \r\nL 539.445342 122.39 \r\n\" style=\"fill:none;stroke:#1f77b4;stroke-width:1.5;\"/>\r\n    <path clip-path=\"url(#p9bee7d1d05)\" d=\"M 540.838949 199.315093 \r\nL 540.838949 117.441391 \r\n\" style=\"fill:none;stroke:#1f77b4;stroke-width:1.5;\"/>\r\n    <path clip-path=\"url(#p9bee7d1d05)\" d=\"M 542.232555 173.170734 \r\nL 542.232555 91.297033 \r\n\" style=\"fill:none;stroke:#1f77b4;stroke-width:1.5;\"/>\r\n    <path clip-path=\"url(#p9bee7d1d05)\" d=\"M 543.626161 172.997583 \r\nL 543.626161 91.123881 \r\n\" style=\"fill:none;stroke:#1f77b4;stroke-width:1.5;\"/>\r\n    <path clip-path=\"url(#p9bee7d1d05)\" d=\"M 545.019768 197.521477 \r\nL 545.019768 115.647776 \r\n\" style=\"fill:none;stroke:#1f77b4;stroke-width:1.5;\"/>\r\n    <path clip-path=\"url(#p9bee7d1d05)\" d=\"M 546.413374 198.125432 \r\nL 546.413374 116.25173 \r\n\" style=\"fill:none;stroke:#1f77b4;stroke-width:1.5;\"/>\r\n    <path clip-path=\"url(#p9bee7d1d05)\" d=\"M 547.806981 198.134272 \r\nL 547.806981 116.26057 \r\n\" style=\"fill:none;stroke:#1f77b4;stroke-width:1.5;\"/>\r\n    <path clip-path=\"url(#p9bee7d1d05)\" d=\"M 549.200587 198.456494 \r\nL 549.200587 116.582793 \r\n\" style=\"fill:none;stroke:#1f77b4;stroke-width:1.5;\"/>\r\n    <path clip-path=\"url(#p9bee7d1d05)\" d=\"M 550.594193 190.059812 \r\nL 550.594193 108.186111 \r\n\" style=\"fill:none;stroke:#1f77b4;stroke-width:1.5;\"/>\r\n    <path clip-path=\"url(#p9bee7d1d05)\" d=\"M 551.9878 164.395258 \r\nL 551.9878 82.521556 \r\n\" style=\"fill:none;stroke:#1f77b4;stroke-width:1.5;\"/>\r\n    <path clip-path=\"url(#p9bee7d1d05)\" d=\"M 553.381406 164.708625 \r\nL 553.381406 82.834924 \r\n\" style=\"fill:none;stroke:#1f77b4;stroke-width:1.5;\"/>\r\n    <path clip-path=\"url(#p9bee7d1d05)\" d=\"M 554.775012 184.896292 \r\nL 554.775012 103.02259 \r\n\" style=\"fill:none;stroke:#1f77b4;stroke-width:1.5;\"/>\r\n    <path clip-path=\"url(#p9bee7d1d05)\" d=\"M 556.168619 185.224721 \r\nL 556.168619 103.35102 \r\n\" style=\"fill:none;stroke:#1f77b4;stroke-width:1.5;\"/>\r\n    <path clip-path=\"url(#p9bee7d1d05)\" d=\"M 557.562225 188.09619 \r\nL 557.562225 106.222488 \r\n\" style=\"fill:none;stroke:#1f77b4;stroke-width:1.5;\"/>\r\n    <path clip-path=\"url(#p9bee7d1d05)\" d=\"M 558.955832 188.208166 \r\nL 558.955832 106.334464 \r\n\" style=\"fill:none;stroke:#1f77b4;stroke-width:1.5;\"/>\r\n    <path clip-path=\"url(#p9bee7d1d05)\" d=\"M 560.349438 184.603179 \r\nL 560.349438 102.729477 \r\n\" style=\"fill:none;stroke:#1f77b4;stroke-width:1.5;\"/>\r\n    <path clip-path=\"url(#p9bee7d1d05)\" d=\"M 561.743044 156.816019 \r\nL 561.743044 74.942317 \r\n\" style=\"fill:none;stroke:#1f77b4;stroke-width:1.5;\"/>\r\n    <path clip-path=\"url(#p9bee7d1d05)\" d=\"M 563.136651 152.83131 \r\nL 563.136651 70.957608 \r\n\" style=\"fill:none;stroke:#1f77b4;stroke-width:1.5;\"/>\r\n    <path clip-path=\"url(#p9bee7d1d05)\" d=\"M 564.530257 184.264956 \r\nL 564.530257 102.391254 \r\n\" style=\"fill:none;stroke:#1f77b4;stroke-width:1.5;\"/>\r\n    <path clip-path=\"url(#p9bee7d1d05)\" d=\"M 565.923864 194.869363 \r\nL 565.923864 112.995661 \r\n\" style=\"fill:none;stroke:#1f77b4;stroke-width:1.5;\"/>\r\n   </g>\r\n   <g id=\"line2d_15\">\r\n    <defs>\r\n     <path d=\"M 0 1.5 \r\nC 0.397805 1.5 0.77937 1.341951 1.06066 1.06066 \r\nC 1.341951 0.77937 1.5 0.397805 1.5 0 \r\nC 1.5 -0.397805 1.341951 -0.77937 1.06066 -1.06066 \r\nC 0.77937 -1.341951 0.397805 -1.5 0 -1.5 \r\nC -0.397805 -1.5 -0.77937 -1.341951 -1.06066 -1.06066 \r\nC -1.341951 -0.77937 -1.5 -0.397805 -1.5 0 \r\nC -1.5 0.397805 -1.341951 0.77937 -1.06066 1.06066 \r\nC -0.77937 1.341951 -0.397805 1.5 0 1.5 \r\nz\r\n\" id=\"m10c9012c94\" style=\"stroke:#1f77b4;\"/>\r\n    </defs>\r\n    <g clip-path=\"url(#p9bee7d1d05)\">\r\n     <use style=\"fill:#1f77b4;stroke:#1f77b4;\" x=\"58.651136\" xlink:href=\"#m10c9012c94\" y=\"209.926708\"/>\r\n     <use style=\"fill:#1f77b4;stroke:#1f77b4;\" x=\"60.044743\" xlink:href=\"#m10c9012c94\" y=\"215.758141\"/>\r\n     <use style=\"fill:#1f77b4;stroke:#1f77b4;\" x=\"61.438349\" xlink:href=\"#m10c9012c94\" y=\"214.73286\"/>\r\n     <use style=\"fill:#1f77b4;stroke:#1f77b4;\" x=\"62.831956\" xlink:href=\"#m10c9012c94\" y=\"214.605659\"/>\r\n     <use style=\"fill:#1f77b4;stroke:#1f77b4;\" x=\"64.225562\" xlink:href=\"#m10c9012c94\" y=\"186.86384\"/>\r\n     <use style=\"fill:#1f77b4;stroke:#1f77b4;\" x=\"65.619168\" xlink:href=\"#m10c9012c94\" y=\"188.151024\"/>\r\n     <use style=\"fill:#1f77b4;stroke:#1f77b4;\" x=\"67.012775\" xlink:href=\"#m10c9012c94\" y=\"218.578491\"/>\r\n     <use style=\"fill:#1f77b4;stroke:#1f77b4;\" x=\"68.406381\" xlink:href=\"#m10c9012c94\" y=\"222.784417\"/>\r\n     <use style=\"fill:#1f77b4;stroke:#1f77b4;\" x=\"69.799988\" xlink:href=\"#m10c9012c94\" y=\"223.897228\"/>\r\n     <use style=\"fill:#1f77b4;stroke:#1f77b4;\" x=\"71.193594\" xlink:href=\"#m10c9012c94\" y=\"224.066989\"/>\r\n     <use style=\"fill:#1f77b4;stroke:#1f77b4;\" x=\"72.5872\" xlink:href=\"#m10c9012c94\" y=\"223.026712\"/>\r\n     <use style=\"fill:#1f77b4;stroke:#1f77b4;\" x=\"73.980807\" xlink:href=\"#m10c9012c94\" y=\"186.995443\"/>\r\n     <use style=\"fill:#1f77b4;stroke:#1f77b4;\" x=\"75.374413\" xlink:href=\"#m10c9012c94\" y=\"183.96484\"/>\r\n     <use style=\"fill:#1f77b4;stroke:#1f77b4;\" x=\"76.768019\" xlink:href=\"#m10c9012c94\" y=\"207.263619\"/>\r\n     <use style=\"fill:#1f77b4;stroke:#1f77b4;\" x=\"78.161626\" xlink:href=\"#m10c9012c94\" y=\"211.360739\"/>\r\n     <use style=\"fill:#1f77b4;stroke:#1f77b4;\" x=\"79.555232\" xlink:href=\"#m10c9012c94\" y=\"221.486045\"/>\r\n     <use style=\"fill:#1f77b4;stroke:#1f77b4;\" x=\"80.948839\" xlink:href=\"#m10c9012c94\" y=\"224.051688\"/>\r\n     <use style=\"fill:#1f77b4;stroke:#1f77b4;\" x=\"82.342445\" xlink:href=\"#m10c9012c94\" y=\"220.709582\"/>\r\n     <use style=\"fill:#1f77b4;stroke:#1f77b4;\" x=\"83.736051\" xlink:href=\"#m10c9012c94\" y=\"190.517797\"/>\r\n     <use style=\"fill:#1f77b4;stroke:#1f77b4;\" x=\"85.129658\" xlink:href=\"#m10c9012c94\" y=\"189.520789\"/>\r\n     <use style=\"fill:#1f77b4;stroke:#1f77b4;\" x=\"86.523264\" xlink:href=\"#m10c9012c94\" y=\"217.387885\"/>\r\n     <use style=\"fill:#1f77b4;stroke:#1f77b4;\" x=\"87.916871\" xlink:href=\"#m10c9012c94\" y=\"225.923873\"/>\r\n     <use style=\"fill:#1f77b4;stroke:#1f77b4;\" x=\"89.310477\" xlink:href=\"#m10c9012c94\" y=\"227.979301\"/>\r\n     <use style=\"fill:#1f77b4;stroke:#1f77b4;\" x=\"90.704083\" xlink:href=\"#m10c9012c94\" y=\"226.272216\"/>\r\n     <use style=\"fill:#1f77b4;stroke:#1f77b4;\" x=\"92.09769\" xlink:href=\"#m10c9012c94\" y=\"228.196346\"/>\r\n     <use style=\"fill:#1f77b4;stroke:#1f77b4;\" x=\"93.491296\" xlink:href=\"#m10c9012c94\" y=\"199.488704\"/>\r\n     <use style=\"fill:#1f77b4;stroke:#1f77b4;\" x=\"94.884903\" xlink:href=\"#m10c9012c94\" y=\"198.090471\"/>\r\n     <use style=\"fill:#1f77b4;stroke:#1f77b4;\" x=\"96.278509\" xlink:href=\"#m10c9012c94\" y=\"222.075771\"/>\r\n     <use style=\"fill:#1f77b4;stroke:#1f77b4;\" x=\"97.672115\" xlink:href=\"#m10c9012c94\" y=\"218.696874\"/>\r\n     <use style=\"fill:#1f77b4;stroke:#1f77b4;\" x=\"99.065722\" xlink:href=\"#m10c9012c94\" y=\"220.761403\"/>\r\n     <use style=\"fill:#1f77b4;stroke:#1f77b4;\" x=\"100.459328\" xlink:href=\"#m10c9012c94\" y=\"217.509243\"/>\r\n     <use style=\"fill:#1f77b4;stroke:#1f77b4;\" x=\"101.852935\" xlink:href=\"#m10c9012c94\" y=\"212.331337\"/>\r\n     <use style=\"fill:#1f77b4;stroke:#1f77b4;\" x=\"103.246541\" xlink:href=\"#m10c9012c94\" y=\"186.018579\"/>\r\n     <use style=\"fill:#1f77b4;stroke:#1f77b4;\" x=\"104.640147\" xlink:href=\"#m10c9012c94\" y=\"183.183488\"/>\r\n     <use style=\"fill:#1f77b4;stroke:#1f77b4;\" x=\"106.033754\" xlink:href=\"#m10c9012c94\" y=\"204.087412\"/>\r\n     <use style=\"fill:#1f77b4;stroke:#1f77b4;\" x=\"107.42736\" xlink:href=\"#m10c9012c94\" y=\"211.905627\"/>\r\n     <use style=\"fill:#1f77b4;stroke:#1f77b4;\" x=\"108.820967\" xlink:href=\"#m10c9012c94\" y=\"212.987065\"/>\r\n     <use style=\"fill:#1f77b4;stroke:#1f77b4;\" x=\"110.214573\" xlink:href=\"#m10c9012c94\" y=\"212.107336\"/>\r\n     <use style=\"fill:#1f77b4;stroke:#1f77b4;\" x=\"111.608179\" xlink:href=\"#m10c9012c94\" y=\"205.767287\"/>\r\n     <use style=\"fill:#1f77b4;stroke:#1f77b4;\" x=\"113.001786\" xlink:href=\"#m10c9012c94\" y=\"164.785794\"/>\r\n     <use style=\"fill:#1f77b4;stroke:#1f77b4;\" x=\"114.395392\" xlink:href=\"#m10c9012c94\" y=\"161.379553\"/>\r\n     <use style=\"fill:#1f77b4;stroke:#1f77b4;\" x=\"115.788999\" xlink:href=\"#m10c9012c94\" y=\"187.594006\"/>\r\n     <use style=\"fill:#1f77b4;stroke:#1f77b4;\" x=\"117.182605\" xlink:href=\"#m10c9012c94\" y=\"196.358721\"/>\r\n     <use style=\"fill:#1f77b4;stroke:#1f77b4;\" x=\"118.576211\" xlink:href=\"#m10c9012c94\" y=\"204.916319\"/>\r\n     <use style=\"fill:#1f77b4;stroke:#1f77b4;\" x=\"119.969818\" xlink:href=\"#m10c9012c94\" y=\"207.907127\"/>\r\n     <use style=\"fill:#1f77b4;stroke:#1f77b4;\" x=\"121.363424\" xlink:href=\"#m10c9012c94\" y=\"207.955293\"/>\r\n     <use style=\"fill:#1f77b4;stroke:#1f77b4;\" x=\"122.75703\" xlink:href=\"#m10c9012c94\" y=\"181.277432\"/>\r\n     <use style=\"fill:#1f77b4;stroke:#1f77b4;\" x=\"124.150637\" xlink:href=\"#m10c9012c94\" y=\"180.755414\"/>\r\n     <use style=\"fill:#1f77b4;stroke:#1f77b4;\" x=\"125.544243\" xlink:href=\"#m10c9012c94\" y=\"207.60083\"/>\r\n     <use style=\"fill:#1f77b4;stroke:#1f77b4;\" x=\"126.93785\" xlink:href=\"#m10c9012c94\" y=\"211.072184\"/>\r\n     <use style=\"fill:#1f77b4;stroke:#1f77b4;\" x=\"128.331456\" xlink:href=\"#m10c9012c94\" y=\"211.876682\"/>\r\n     <use style=\"fill:#1f77b4;stroke:#1f77b4;\" x=\"129.725062\" xlink:href=\"#m10c9012c94\" y=\"213.461668\"/>\r\n     <use style=\"fill:#1f77b4;stroke:#1f77b4;\" x=\"131.118669\" xlink:href=\"#m10c9012c94\" y=\"213.101143\"/>\r\n     <use style=\"fill:#1f77b4;stroke:#1f77b4;\" x=\"132.512275\" xlink:href=\"#m10c9012c94\" y=\"184.217191\"/>\r\n     <use style=\"fill:#1f77b4;stroke:#1f77b4;\" x=\"133.905882\" xlink:href=\"#m10c9012c94\" y=\"182.254163\"/>\r\n     <use style=\"fill:#1f77b4;stroke:#1f77b4;\" x=\"135.299488\" xlink:href=\"#m10c9012c94\" y=\"205.905506\"/>\r\n     <use style=\"fill:#1f77b4;stroke:#1f77b4;\" x=\"136.693094\" xlink:href=\"#m10c9012c94\" y=\"211.638038\"/>\r\n     <use style=\"fill:#1f77b4;stroke:#1f77b4;\" x=\"138.086701\" xlink:href=\"#m10c9012c94\" y=\"204.113207\"/>\r\n     <use style=\"fill:#1f77b4;stroke:#1f77b4;\" x=\"139.480307\" xlink:href=\"#m10c9012c94\" y=\"205.067113\"/>\r\n     <use style=\"fill:#1f77b4;stroke:#1f77b4;\" x=\"140.873914\" xlink:href=\"#m10c9012c94\" y=\"199.223354\"/>\r\n     <use style=\"fill:#1f77b4;stroke:#1f77b4;\" x=\"142.26752\" xlink:href=\"#m10c9012c94\" y=\"164.488562\"/>\r\n     <use style=\"fill:#1f77b4;stroke:#1f77b4;\" x=\"143.661126\" xlink:href=\"#m10c9012c94\" y=\"163.363209\"/>\r\n     <use style=\"fill:#1f77b4;stroke:#1f77b4;\" x=\"145.054733\" xlink:href=\"#m10c9012c94\" y=\"192.589728\"/>\r\n     <use style=\"fill:#1f77b4;stroke:#1f77b4;\" x=\"146.448339\" xlink:href=\"#m10c9012c94\" y=\"194.885576\"/>\r\n     <use style=\"fill:#1f77b4;stroke:#1f77b4;\" x=\"147.841946\" xlink:href=\"#m10c9012c94\" y=\"193.895335\"/>\r\n     <use style=\"fill:#1f77b4;stroke:#1f77b4;\" x=\"149.235552\" xlink:href=\"#m10c9012c94\" y=\"193.041679\"/>\r\n     <use style=\"fill:#1f77b4;stroke:#1f77b4;\" x=\"150.629158\" xlink:href=\"#m10c9012c94\" y=\"190.429945\"/>\r\n     <use style=\"fill:#1f77b4;stroke:#1f77b4;\" x=\"152.022765\" xlink:href=\"#m10c9012c94\" y=\"160.893016\"/>\r\n     <use style=\"fill:#1f77b4;stroke:#1f77b4;\" x=\"153.416371\" xlink:href=\"#m10c9012c94\" y=\"159.278695\"/>\r\n     <use style=\"fill:#1f77b4;stroke:#1f77b4;\" x=\"154.809978\" xlink:href=\"#m10c9012c94\" y=\"186.321503\"/>\r\n     <use style=\"fill:#1f77b4;stroke:#1f77b4;\" x=\"156.203584\" xlink:href=\"#m10c9012c94\" y=\"190.461796\"/>\r\n     <use style=\"fill:#1f77b4;stroke:#1f77b4;\" x=\"157.59719\" xlink:href=\"#m10c9012c94\" y=\"192.350638\"/>\r\n     <use style=\"fill:#1f77b4;stroke:#1f77b4;\" x=\"158.990797\" xlink:href=\"#m10c9012c94\" y=\"191.193747\"/>\r\n     <use style=\"fill:#1f77b4;stroke:#1f77b4;\" x=\"160.384403\" xlink:href=\"#m10c9012c94\" y=\"181.537905\"/>\r\n     <use style=\"fill:#1f77b4;stroke:#1f77b4;\" x=\"161.778009\" xlink:href=\"#m10c9012c94\" y=\"154.963982\"/>\r\n     <use style=\"fill:#1f77b4;stroke:#1f77b4;\" x=\"163.171616\" xlink:href=\"#m10c9012c94\" y=\"156.975264\"/>\r\n     <use style=\"fill:#1f77b4;stroke:#1f77b4;\" x=\"164.565222\" xlink:href=\"#m10c9012c94\" y=\"188.055679\"/>\r\n     <use style=\"fill:#1f77b4;stroke:#1f77b4;\" x=\"165.958829\" xlink:href=\"#m10c9012c94\" y=\"191.431732\"/>\r\n     <use style=\"fill:#1f77b4;stroke:#1f77b4;\" x=\"167.352435\" xlink:href=\"#m10c9012c94\" y=\"191.342238\"/>\r\n     <use style=\"fill:#1f77b4;stroke:#1f77b4;\" x=\"168.746041\" xlink:href=\"#m10c9012c94\" y=\"190.914556\"/>\r\n     <use style=\"fill:#1f77b4;stroke:#1f77b4;\" x=\"170.139648\" xlink:href=\"#m10c9012c94\" y=\"183.77901\"/>\r\n     <use style=\"fill:#1f77b4;stroke:#1f77b4;\" x=\"171.533254\" xlink:href=\"#m10c9012c94\" y=\"151.256124\"/>\r\n     <use style=\"fill:#1f77b4;stroke:#1f77b4;\" x=\"172.926861\" xlink:href=\"#m10c9012c94\" y=\"150.347017\"/>\r\n     <use style=\"fill:#1f77b4;stroke:#1f77b4;\" x=\"174.320467\" xlink:href=\"#m10c9012c94\" y=\"183.144946\"/>\r\n     <use style=\"fill:#1f77b4;stroke:#1f77b4;\" x=\"175.714073\" xlink:href=\"#m10c9012c94\" y=\"190.439576\"/>\r\n     <use style=\"fill:#1f77b4;stroke:#1f77b4;\" x=\"177.10768\" xlink:href=\"#m10c9012c94\" y=\"190.611111\"/>\r\n     <use style=\"fill:#1f77b4;stroke:#1f77b4;\" x=\"178.501286\" xlink:href=\"#m10c9012c94\" y=\"191.545988\"/>\r\n     <use style=\"fill:#1f77b4;stroke:#1f77b4;\" x=\"179.894893\" xlink:href=\"#m10c9012c94\" y=\"186.139808\"/>\r\n     <use style=\"fill:#1f77b4;stroke:#1f77b4;\" x=\"181.288499\" xlink:href=\"#m10c9012c94\" y=\"153.475698\"/>\r\n     <use style=\"fill:#1f77b4;stroke:#1f77b4;\" x=\"182.682105\" xlink:href=\"#m10c9012c94\" y=\"135.00736\"/>\r\n     <use style=\"fill:#1f77b4;stroke:#1f77b4;\" x=\"184.075712\" xlink:href=\"#m10c9012c94\" y=\"165.195941\"/>\r\n     <use style=\"fill:#1f77b4;stroke:#1f77b4;\" x=\"185.469318\" xlink:href=\"#m10c9012c94\" y=\"167.368572\"/>\r\n     <use style=\"fill:#1f77b4;stroke:#1f77b4;\" x=\"186.862925\" xlink:href=\"#m10c9012c94\" y=\"168.484666\"/>\r\n     <use style=\"fill:#1f77b4;stroke:#1f77b4;\" x=\"188.256531\" xlink:href=\"#m10c9012c94\" y=\"167.144049\"/>\r\n     <use style=\"fill:#1f77b4;stroke:#1f77b4;\" x=\"189.650137\" xlink:href=\"#m10c9012c94\" y=\"153.952315\"/>\r\n     <use style=\"fill:#1f77b4;stroke:#1f77b4;\" x=\"191.043744\" xlink:href=\"#m10c9012c94\" y=\"124.542852\"/>\r\n     <use style=\"fill:#1f77b4;stroke:#1f77b4;\" x=\"192.43735\" xlink:href=\"#m10c9012c94\" y=\"122.160195\"/>\r\n     <use style=\"fill:#1f77b4;stroke:#1f77b4;\" x=\"193.830957\" xlink:href=\"#m10c9012c94\" y=\"152.82057\"/>\r\n     <use style=\"fill:#1f77b4;stroke:#1f77b4;\" x=\"195.224563\" xlink:href=\"#m10c9012c94\" y=\"166.023067\"/>\r\n     <use style=\"fill:#1f77b4;stroke:#1f77b4;\" x=\"196.618169\" xlink:href=\"#m10c9012c94\" y=\"168.048687\"/>\r\n     <use style=\"fill:#1f77b4;stroke:#1f77b4;\" x=\"198.011776\" xlink:href=\"#m10c9012c94\" y=\"167.838595\"/>\r\n     <use style=\"fill:#1f77b4;stroke:#1f77b4;\" x=\"199.405382\" xlink:href=\"#m10c9012c94\" y=\"161.340092\"/>\r\n     <use style=\"fill:#1f77b4;stroke:#1f77b4;\" x=\"200.798989\" xlink:href=\"#m10c9012c94\" y=\"133.378878\"/>\r\n     <use style=\"fill:#1f77b4;stroke:#1f77b4;\" x=\"202.192595\" xlink:href=\"#m10c9012c94\" y=\"133.053848\"/>\r\n     <use style=\"fill:#1f77b4;stroke:#1f77b4;\" x=\"203.586201\" xlink:href=\"#m10c9012c94\" y=\"165.071684\"/>\r\n     <use style=\"fill:#1f77b4;stroke:#1f77b4;\" x=\"204.979808\" xlink:href=\"#m10c9012c94\" y=\"167.411704\"/>\r\n     <use style=\"fill:#1f77b4;stroke:#1f77b4;\" x=\"206.373414\" xlink:href=\"#m10c9012c94\" y=\"168.239034\"/>\r\n     <use style=\"fill:#1f77b4;stroke:#1f77b4;\" x=\"207.76702\" xlink:href=\"#m10c9012c94\" y=\"168.430137\"/>\r\n     <use style=\"fill:#1f77b4;stroke:#1f77b4;\" x=\"209.160627\" xlink:href=\"#m10c9012c94\" y=\"170.836708\"/>\r\n     <use style=\"fill:#1f77b4;stroke:#1f77b4;\" x=\"210.554233\" xlink:href=\"#m10c9012c94\" y=\"141.033951\"/>\r\n     <use style=\"fill:#1f77b4;stroke:#1f77b4;\" x=\"211.94784\" xlink:href=\"#m10c9012c94\" y=\"138.613945\"/>\r\n     <use style=\"fill:#1f77b4;stroke:#1f77b4;\" x=\"213.341446\" xlink:href=\"#m10c9012c94\" y=\"171.327467\"/>\r\n     <use style=\"fill:#1f77b4;stroke:#1f77b4;\" x=\"214.735052\" xlink:href=\"#m10c9012c94\" y=\"170.616588\"/>\r\n     <use style=\"fill:#1f77b4;stroke:#1f77b4;\" x=\"216.128659\" xlink:href=\"#m10c9012c94\" y=\"168.948028\"/>\r\n     <use style=\"fill:#1f77b4;stroke:#1f77b4;\" x=\"217.522265\" xlink:href=\"#m10c9012c94\" y=\"168.525161\"/>\r\n     <use style=\"fill:#1f77b4;stroke:#1f77b4;\" x=\"218.915872\" xlink:href=\"#m10c9012c94\" y=\"166.91223\"/>\r\n     <use style=\"fill:#1f77b4;stroke:#1f77b4;\" x=\"220.309478\" xlink:href=\"#m10c9012c94\" y=\"134.666704\"/>\r\n     <use style=\"fill:#1f77b4;stroke:#1f77b4;\" x=\"221.703084\" xlink:href=\"#m10c9012c94\" y=\"135.212658\"/>\r\n     <use style=\"fill:#1f77b4;stroke:#1f77b4;\" x=\"223.096691\" xlink:href=\"#m10c9012c94\" y=\"152.297621\"/>\r\n     <use style=\"fill:#1f77b4;stroke:#1f77b4;\" x=\"224.490297\" xlink:href=\"#m10c9012c94\" y=\"153.320459\"/>\r\n     <use style=\"fill:#1f77b4;stroke:#1f77b4;\" x=\"225.883904\" xlink:href=\"#m10c9012c94\" y=\"155.071288\"/>\r\n     <use style=\"fill:#1f77b4;stroke:#1f77b4;\" x=\"227.27751\" xlink:href=\"#m10c9012c94\" y=\"156.854642\"/>\r\n     <use style=\"fill:#1f77b4;stroke:#1f77b4;\" x=\"228.671116\" xlink:href=\"#m10c9012c94\" y=\"151.3809\"/>\r\n     <use style=\"fill:#1f77b4;stroke:#1f77b4;\" x=\"230.064723\" xlink:href=\"#m10c9012c94\" y=\"120.568849\"/>\r\n     <use style=\"fill:#1f77b4;stroke:#1f77b4;\" x=\"231.458329\" xlink:href=\"#m10c9012c94\" y=\"120.26597\"/>\r\n     <use style=\"fill:#1f77b4;stroke:#1f77b4;\" x=\"232.851936\" xlink:href=\"#m10c9012c94\" y=\"155.138954\"/>\r\n     <use style=\"fill:#1f77b4;stroke:#1f77b4;\" x=\"234.245542\" xlink:href=\"#m10c9012c94\" y=\"153.785718\"/>\r\n     <use style=\"fill:#1f77b4;stroke:#1f77b4;\" x=\"235.639148\" xlink:href=\"#m10c9012c94\" y=\"154.612855\"/>\r\n     <use style=\"fill:#1f77b4;stroke:#1f77b4;\" x=\"237.032755\" xlink:href=\"#m10c9012c94\" y=\"156.288002\"/>\r\n     <use style=\"fill:#1f77b4;stroke:#1f77b4;\" x=\"238.426361\" xlink:href=\"#m10c9012c94\" y=\"147.794332\"/>\r\n     <use style=\"fill:#1f77b4;stroke:#1f77b4;\" x=\"239.819968\" xlink:href=\"#m10c9012c94\" y=\"117.797311\"/>\r\n     <use style=\"fill:#1f77b4;stroke:#1f77b4;\" x=\"241.213574\" xlink:href=\"#m10c9012c94\" y=\"118.109876\"/>\r\n     <use style=\"fill:#1f77b4;stroke:#1f77b4;\" x=\"242.60718\" xlink:href=\"#m10c9012c94\" y=\"153.108817\"/>\r\n     <use style=\"fill:#1f77b4;stroke:#1f77b4;\" x=\"244.000787\" xlink:href=\"#m10c9012c94\" y=\"152.443748\"/>\r\n     <use style=\"fill:#1f77b4;stroke:#1f77b4;\" x=\"245.394393\" xlink:href=\"#m10c9012c94\" y=\"151.787424\"/>\r\n     <use style=\"fill:#1f77b4;stroke:#1f77b4;\" x=\"246.788\" xlink:href=\"#m10c9012c94\" y=\"151.737646\"/>\r\n     <use style=\"fill:#1f77b4;stroke:#1f77b4;\" x=\"248.181606\" xlink:href=\"#m10c9012c94\" y=\"145.772304\"/>\r\n     <use style=\"fill:#1f77b4;stroke:#1f77b4;\" x=\"249.575212\" xlink:href=\"#m10c9012c94\" y=\"115.49218\"/>\r\n     <use style=\"fill:#1f77b4;stroke:#1f77b4;\" x=\"250.968819\" xlink:href=\"#m10c9012c94\" y=\"114.261166\"/>\r\n     <use style=\"fill:#1f77b4;stroke:#1f77b4;\" x=\"252.362425\" xlink:href=\"#m10c9012c94\" y=\"143.206382\"/>\r\n     <use style=\"fill:#1f77b4;stroke:#1f77b4;\" x=\"253.756031\" xlink:href=\"#m10c9012c94\" y=\"139.872887\"/>\r\n     <use style=\"fill:#1f77b4;stroke:#1f77b4;\" x=\"255.149638\" xlink:href=\"#m10c9012c94\" y=\"143.482466\"/>\r\n     <use style=\"fill:#1f77b4;stroke:#1f77b4;\" x=\"256.543244\" xlink:href=\"#m10c9012c94\" y=\"142.287304\"/>\r\n     <use style=\"fill:#1f77b4;stroke:#1f77b4;\" x=\"257.936851\" xlink:href=\"#m10c9012c94\" y=\"135.354117\"/>\r\n     <use style=\"fill:#1f77b4;stroke:#1f77b4;\" x=\"259.330457\" xlink:href=\"#m10c9012c94\" y=\"92.878726\"/>\r\n     <use style=\"fill:#1f77b4;stroke:#1f77b4;\" x=\"260.724063\" xlink:href=\"#m10c9012c94\" y=\"93.083698\"/>\r\n     <use style=\"fill:#1f77b4;stroke:#1f77b4;\" x=\"262.11767\" xlink:href=\"#m10c9012c94\" y=\"121.197027\"/>\r\n     <use style=\"fill:#1f77b4;stroke:#1f77b4;\" x=\"263.511276\" xlink:href=\"#m10c9012c94\" y=\"122.125658\"/>\r\n     <use style=\"fill:#1f77b4;stroke:#1f77b4;\" x=\"264.904883\" xlink:href=\"#m10c9012c94\" y=\"129.985464\"/>\r\n     <use style=\"fill:#1f77b4;stroke:#1f77b4;\" x=\"266.298489\" xlink:href=\"#m10c9012c94\" y=\"120.025773\"/>\r\n     <use style=\"fill:#1f77b4;stroke:#1f77b4;\" x=\"267.692095\" xlink:href=\"#m10c9012c94\" y=\"115.263455\"/>\r\n     <use style=\"fill:#1f77b4;stroke:#1f77b4;\" x=\"269.085702\" xlink:href=\"#m10c9012c94\" y=\"88.885869\"/>\r\n     <use style=\"fill:#1f77b4;stroke:#1f77b4;\" x=\"270.479308\" xlink:href=\"#m10c9012c94\" y=\"90.095269\"/>\r\n     <use style=\"fill:#1f77b4;stroke:#1f77b4;\" x=\"271.872915\" xlink:href=\"#m10c9012c94\" y=\"117.557044\"/>\r\n     <use style=\"fill:#1f77b4;stroke:#1f77b4;\" x=\"273.266521\" xlink:href=\"#m10c9012c94\" y=\"116.838194\"/>\r\n     <use style=\"fill:#1f77b4;stroke:#1f77b4;\" x=\"274.660127\" xlink:href=\"#m10c9012c94\" y=\"117.277272\"/>\r\n     <use style=\"fill:#1f77b4;stroke:#1f77b4;\" x=\"276.053734\" xlink:href=\"#m10c9012c94\" y=\"121.330097\"/>\r\n     <use style=\"fill:#1f77b4;stroke:#1f77b4;\" x=\"277.44734\" xlink:href=\"#m10c9012c94\" y=\"118.773246\"/>\r\n     <use style=\"fill:#1f77b4;stroke:#1f77b4;\" x=\"278.840947\" xlink:href=\"#m10c9012c94\" y=\"95.923496\"/>\r\n     <use style=\"fill:#1f77b4;stroke:#1f77b4;\" x=\"280.234553\" xlink:href=\"#m10c9012c94\" y=\"95.2464\"/>\r\n     <use style=\"fill:#1f77b4;stroke:#1f77b4;\" x=\"281.628159\" xlink:href=\"#m10c9012c94\" y=\"121.193399\"/>\r\n     <use style=\"fill:#1f77b4;stroke:#1f77b4;\" x=\"283.021766\" xlink:href=\"#m10c9012c94\" y=\"117.984393\"/>\r\n     <use style=\"fill:#1f77b4;stroke:#1f77b4;\" x=\"284.415372\" xlink:href=\"#m10c9012c94\" y=\"116.474423\"/>\r\n     <use style=\"fill:#1f77b4;stroke:#1f77b4;\" x=\"285.808979\" xlink:href=\"#m10c9012c94\" y=\"116.547318\"/>\r\n     <use style=\"fill:#1f77b4;stroke:#1f77b4;\" x=\"287.202585\" xlink:href=\"#m10c9012c94\" y=\"105.761109\"/>\r\n     <use style=\"fill:#1f77b4;stroke:#1f77b4;\" x=\"288.596191\" xlink:href=\"#m10c9012c94\" y=\"80.1735\"/>\r\n     <use style=\"fill:#1f77b4;stroke:#1f77b4;\" x=\"289.989798\" xlink:href=\"#m10c9012c94\" y=\"77.997713\"/>\r\n     <use style=\"fill:#1f77b4;stroke:#1f77b4;\" x=\"291.383404\" xlink:href=\"#m10c9012c94\" y=\"103.630641\"/>\r\n     <use style=\"fill:#1f77b4;stroke:#1f77b4;\" x=\"292.77701\" xlink:href=\"#m10c9012c94\" y=\"106.778025\"/>\r\n     <use style=\"fill:#1f77b4;stroke:#1f77b4;\" x=\"294.170617\" xlink:href=\"#m10c9012c94\" y=\"105.167822\"/>\r\n     <use style=\"fill:#1f77b4;stroke:#1f77b4;\" x=\"295.564223\" xlink:href=\"#m10c9012c94\" y=\"106.225706\"/>\r\n     <use style=\"fill:#1f77b4;stroke:#1f77b4;\" x=\"296.95783\" xlink:href=\"#m10c9012c94\" y=\"104.177078\"/>\r\n     <use style=\"fill:#1f77b4;stroke:#1f77b4;\" x=\"298.351436\" xlink:href=\"#m10c9012c94\" y=\"80.74191\"/>\r\n     <use style=\"fill:#1f77b4;stroke:#1f77b4;\" x=\"299.745042\" xlink:href=\"#m10c9012c94\" y=\"80.55303\"/>\r\n     <use style=\"fill:#1f77b4;stroke:#1f77b4;\" x=\"301.138649\" xlink:href=\"#m10c9012c94\" y=\"103.925498\"/>\r\n     <use style=\"fill:#1f77b4;stroke:#1f77b4;\" x=\"302.532255\" xlink:href=\"#m10c9012c94\" y=\"103.51918\"/>\r\n     <use style=\"fill:#1f77b4;stroke:#1f77b4;\" x=\"303.925862\" xlink:href=\"#m10c9012c94\" y=\"103.559773\"/>\r\n     <use style=\"fill:#1f77b4;stroke:#1f77b4;\" x=\"305.319468\" xlink:href=\"#m10c9012c94\" y=\"103.902187\"/>\r\n     <use style=\"fill:#1f77b4;stroke:#1f77b4;\" x=\"306.713074\" xlink:href=\"#m10c9012c94\" y=\"100.716803\"/>\r\n     <use style=\"fill:#1f77b4;stroke:#1f77b4;\" x=\"308.106681\" xlink:href=\"#m10c9012c94\" y=\"62.979138\"/>\r\n     <use style=\"fill:#1f77b4;stroke:#1f77b4;\" x=\"309.500287\" xlink:href=\"#m10c9012c94\" y=\"64.635826\"/>\r\n     <use style=\"fill:#1f77b4;stroke:#1f77b4;\" x=\"310.893894\" xlink:href=\"#m10c9012c94\" y=\"86.756377\"/>\r\n     <use style=\"fill:#1f77b4;stroke:#1f77b4;\" x=\"312.2875\" xlink:href=\"#m10c9012c94\" y=\"88.211977\"/>\r\n     <use style=\"fill:#1f77b4;stroke:#1f77b4;\" x=\"313.681106\" xlink:href=\"#m10c9012c94\" y=\"91.863566\"/>\r\n     <use style=\"fill:#1f77b4;stroke:#1f77b4;\" x=\"315.074713\" xlink:href=\"#m10c9012c94\" y=\"93.20041\"/>\r\n     <use style=\"fill:#1f77b4;stroke:#1f77b4;\" x=\"316.468319\" xlink:href=\"#m10c9012c94\" y=\"91.088278\"/>\r\n     <use style=\"fill:#1f77b4;stroke:#1f77b4;\" x=\"317.861926\" xlink:href=\"#m10c9012c94\" y=\"68.042327\"/>\r\n     <use style=\"fill:#1f77b4;stroke:#1f77b4;\" x=\"319.255532\" xlink:href=\"#m10c9012c94\" y=\"67.263079\"/>\r\n     <use style=\"fill:#1f77b4;stroke:#1f77b4;\" x=\"320.649138\" xlink:href=\"#m10c9012c94\" y=\"92.77817\"/>\r\n     <use style=\"fill:#1f77b4;stroke:#1f77b4;\" x=\"322.042745\" xlink:href=\"#m10c9012c94\" y=\"94.589531\"/>\r\n     <use style=\"fill:#1f77b4;stroke:#1f77b4;\" x=\"323.436351\" xlink:href=\"#m10c9012c94\" y=\"93.79134\"/>\r\n     <use style=\"fill:#1f77b4;stroke:#1f77b4;\" x=\"324.829958\" xlink:href=\"#m10c9012c94\" y=\"91.307427\"/>\r\n     <use style=\"fill:#1f77b4;stroke:#1f77b4;\" x=\"326.223564\" xlink:href=\"#m10c9012c94\" y=\"90.870002\"/>\r\n     <use style=\"fill:#1f77b4;stroke:#1f77b4;\" x=\"327.61717\" xlink:href=\"#m10c9012c94\" y=\"67.606744\"/>\r\n     <use style=\"fill:#1f77b4;stroke:#1f77b4;\" x=\"329.010777\" xlink:href=\"#m10c9012c94\" y=\"69.708654\"/>\r\n     <use style=\"fill:#1f77b4;stroke:#1f77b4;\" x=\"330.404383\" xlink:href=\"#m10c9012c94\" y=\"91.855473\"/>\r\n     <use style=\"fill:#1f77b4;stroke:#1f77b4;\" x=\"331.79799\" xlink:href=\"#m10c9012c94\" y=\"94.381076\"/>\r\n     <use style=\"fill:#1f77b4;stroke:#1f77b4;\" x=\"333.191596\" xlink:href=\"#m10c9012c94\" y=\"96.045588\"/>\r\n     <use style=\"fill:#1f77b4;stroke:#1f77b4;\" x=\"334.585202\" xlink:href=\"#m10c9012c94\" y=\"98.523638\"/>\r\n     <use style=\"fill:#1f77b4;stroke:#1f77b4;\" x=\"335.978809\" xlink:href=\"#m10c9012c94\" y=\"94.695758\"/>\r\n     <use style=\"fill:#1f77b4;stroke:#1f77b4;\" x=\"337.372415\" xlink:href=\"#m10c9012c94\" y=\"72.993977\"/>\r\n     <use style=\"fill:#1f77b4;stroke:#1f77b4;\" x=\"338.766021\" xlink:href=\"#m10c9012c94\" y=\"71.062715\"/>\r\n     <use style=\"fill:#1f77b4;stroke:#1f77b4;\" x=\"340.159628\" xlink:href=\"#m10c9012c94\" y=\"93.909734\"/>\r\n     <use style=\"fill:#1f77b4;stroke:#1f77b4;\" x=\"341.553234\" xlink:href=\"#m10c9012c94\" y=\"93.184461\"/>\r\n     <use style=\"fill:#1f77b4;stroke:#1f77b4;\" x=\"342.946841\" xlink:href=\"#m10c9012c94\" y=\"93.515913\"/>\r\n     <use style=\"fill:#1f77b4;stroke:#1f77b4;\" x=\"344.340447\" xlink:href=\"#m10c9012c94\" y=\"95.464684\"/>\r\n     <use style=\"fill:#1f77b4;stroke:#1f77b4;\" x=\"345.734053\" xlink:href=\"#m10c9012c94\" y=\"93.70306\"/>\r\n     <use style=\"fill:#1f77b4;stroke:#1f77b4;\" x=\"347.12766\" xlink:href=\"#m10c9012c94\" y=\"72.171108\"/>\r\n     <use style=\"fill:#1f77b4;stroke:#1f77b4;\" x=\"348.521266\" xlink:href=\"#m10c9012c94\" y=\"72.464876\"/>\r\n     <use style=\"fill:#1f77b4;stroke:#1f77b4;\" x=\"349.914873\" xlink:href=\"#m10c9012c94\" y=\"95.734245\"/>\r\n     <use style=\"fill:#1f77b4;stroke:#1f77b4;\" x=\"351.308479\" xlink:href=\"#m10c9012c94\" y=\"99.51807\"/>\r\n     <use style=\"fill:#1f77b4;stroke:#1f77b4;\" x=\"352.702085\" xlink:href=\"#m10c9012c94\" y=\"98.016737\"/>\r\n     <use style=\"fill:#1f77b4;stroke:#1f77b4;\" x=\"354.095692\" xlink:href=\"#m10c9012c94\" y=\"97.630239\"/>\r\n     <use style=\"fill:#1f77b4;stroke:#1f77b4;\" x=\"355.489298\" xlink:href=\"#m10c9012c94\" y=\"94.969453\"/>\r\n     <use style=\"fill:#1f77b4;stroke:#1f77b4;\" x=\"356.882905\" xlink:href=\"#m10c9012c94\" y=\"74.490627\"/>\r\n     <use style=\"fill:#1f77b4;stroke:#1f77b4;\" x=\"358.276511\" xlink:href=\"#m10c9012c94\" y=\"74.244508\"/>\r\n     <use style=\"fill:#1f77b4;stroke:#1f77b4;\" x=\"359.670117\" xlink:href=\"#m10c9012c94\" y=\"96.478451\"/>\r\n     <use style=\"fill:#1f77b4;stroke:#1f77b4;\" x=\"361.063724\" xlink:href=\"#m10c9012c94\" y=\"94.146398\"/>\r\n     <use style=\"fill:#1f77b4;stroke:#1f77b4;\" x=\"362.45733\" xlink:href=\"#m10c9012c94\" y=\"95.074726\"/>\r\n     <use style=\"fill:#1f77b4;stroke:#1f77b4;\" x=\"363.850937\" xlink:href=\"#m10c9012c94\" y=\"94.808865\"/>\r\n     <use style=\"fill:#1f77b4;stroke:#1f77b4;\" x=\"365.244543\" xlink:href=\"#m10c9012c94\" y=\"95.309864\"/>\r\n     <use style=\"fill:#1f77b4;stroke:#1f77b4;\" x=\"366.638149\" xlink:href=\"#m10c9012c94\" y=\"74.123433\"/>\r\n     <use style=\"fill:#1f77b4;stroke:#1f77b4;\" x=\"368.031756\" xlink:href=\"#m10c9012c94\" y=\"74.490421\"/>\r\n     <use style=\"fill:#1f77b4;stroke:#1f77b4;\" x=\"369.425362\" xlink:href=\"#m10c9012c94\" y=\"100.093455\"/>\r\n     <use style=\"fill:#1f77b4;stroke:#1f77b4;\" x=\"370.818969\" xlink:href=\"#m10c9012c94\" y=\"98.699899\"/>\r\n     <use style=\"fill:#1f77b4;stroke:#1f77b4;\" x=\"372.212575\" xlink:href=\"#m10c9012c94\" y=\"100.769859\"/>\r\n     <use style=\"fill:#1f77b4;stroke:#1f77b4;\" x=\"373.606181\" xlink:href=\"#m10c9012c94\" y=\"99.64389\"/>\r\n     <use style=\"fill:#1f77b4;stroke:#1f77b4;\" x=\"374.999788\" xlink:href=\"#m10c9012c94\" y=\"96.628658\"/>\r\n     <use style=\"fill:#1f77b4;stroke:#1f77b4;\" x=\"376.393394\" xlink:href=\"#m10c9012c94\" y=\"75.893035\"/>\r\n     <use style=\"fill:#1f77b4;stroke:#1f77b4;\" x=\"377.787\" xlink:href=\"#m10c9012c94\" y=\"74.428091\"/>\r\n     <use style=\"fill:#1f77b4;stroke:#1f77b4;\" x=\"379.180607\" xlink:href=\"#m10c9012c94\" y=\"99.426488\"/>\r\n     <use style=\"fill:#1f77b4;stroke:#1f77b4;\" x=\"380.574213\" xlink:href=\"#m10c9012c94\" y=\"99.530965\"/>\r\n     <use style=\"fill:#1f77b4;stroke:#1f77b4;\" x=\"381.96782\" xlink:href=\"#m10c9012c94\" y=\"97.624758\"/>\r\n     <use style=\"fill:#1f77b4;stroke:#1f77b4;\" x=\"383.361426\" xlink:href=\"#m10c9012c94\" y=\"96.479672\"/>\r\n     <use style=\"fill:#1f77b4;stroke:#1f77b4;\" x=\"384.755032\" xlink:href=\"#m10c9012c94\" y=\"91.851733\"/>\r\n     <use style=\"fill:#1f77b4;stroke:#1f77b4;\" x=\"386.148639\" xlink:href=\"#m10c9012c94\" y=\"70.438478\"/>\r\n     <use style=\"fill:#1f77b4;stroke:#1f77b4;\" x=\"387.542245\" xlink:href=\"#m10c9012c94\" y=\"70.300004\"/>\r\n     <use style=\"fill:#1f77b4;stroke:#1f77b4;\" x=\"388.935852\" xlink:href=\"#m10c9012c94\" y=\"96.957186\"/>\r\n     <use style=\"fill:#1f77b4;stroke:#1f77b4;\" x=\"390.329458\" xlink:href=\"#m10c9012c94\" y=\"98.963405\"/>\r\n     <use style=\"fill:#1f77b4;stroke:#1f77b4;\" x=\"391.723064\" xlink:href=\"#m10c9012c94\" y=\"99.35805\"/>\r\n     <use style=\"fill:#1f77b4;stroke:#1f77b4;\" x=\"393.116671\" xlink:href=\"#m10c9012c94\" y=\"100.109005\"/>\r\n     <use style=\"fill:#1f77b4;stroke:#1f77b4;\" x=\"394.510277\" xlink:href=\"#m10c9012c94\" y=\"104.940203\"/>\r\n     <use style=\"fill:#1f77b4;stroke:#1f77b4;\" x=\"395.903884\" xlink:href=\"#m10c9012c94\" y=\"83.08661\"/>\r\n     <use style=\"fill:#1f77b4;stroke:#1f77b4;\" x=\"397.29749\" xlink:href=\"#m10c9012c94\" y=\"83.676258\"/>\r\n     <use style=\"fill:#1f77b4;stroke:#1f77b4;\" x=\"398.691096\" xlink:href=\"#m10c9012c94\" y=\"113.424351\"/>\r\n     <use style=\"fill:#1f77b4;stroke:#1f77b4;\" x=\"400.084703\" xlink:href=\"#m10c9012c94\" y=\"126.885941\"/>\r\n     <use style=\"fill:#1f77b4;stroke:#1f77b4;\" x=\"401.478309\" xlink:href=\"#m10c9012c94\" y=\"131.715109\"/>\r\n     <use style=\"fill:#1f77b4;stroke:#1f77b4;\" x=\"402.871916\" xlink:href=\"#m10c9012c94\" y=\"132.598953\"/>\r\n     <use style=\"fill:#1f77b4;stroke:#1f77b4;\" x=\"404.265522\" xlink:href=\"#m10c9012c94\" y=\"127.215818\"/>\r\n     <use style=\"fill:#1f77b4;stroke:#1f77b4;\" x=\"405.659128\" xlink:href=\"#m10c9012c94\" y=\"103.222085\"/>\r\n     <use style=\"fill:#1f77b4;stroke:#1f77b4;\" x=\"407.052735\" xlink:href=\"#m10c9012c94\" y=\"102.449246\"/>\r\n     <use style=\"fill:#1f77b4;stroke:#1f77b4;\" x=\"408.446341\" xlink:href=\"#m10c9012c94\" y=\"132.188646\"/>\r\n     <use style=\"fill:#1f77b4;stroke:#1f77b4;\" x=\"409.839948\" xlink:href=\"#m10c9012c94\" y=\"133.233735\"/>\r\n     <use style=\"fill:#1f77b4;stroke:#1f77b4;\" x=\"411.233554\" xlink:href=\"#m10c9012c94\" y=\"133.5211\"/>\r\n     <use style=\"fill:#1f77b4;stroke:#1f77b4;\" x=\"412.62716\" xlink:href=\"#m10c9012c94\" y=\"133.124639\"/>\r\n     <use style=\"fill:#1f77b4;stroke:#1f77b4;\" x=\"414.020767\" xlink:href=\"#m10c9012c94\" y=\"127.324138\"/>\r\n     <use style=\"fill:#1f77b4;stroke:#1f77b4;\" x=\"415.414373\" xlink:href=\"#m10c9012c94\" y=\"103.042324\"/>\r\n     <use style=\"fill:#1f77b4;stroke:#1f77b4;\" x=\"416.80798\" xlink:href=\"#m10c9012c94\" y=\"103.09626\"/>\r\n     <use style=\"fill:#1f77b4;stroke:#1f77b4;\" x=\"418.201586\" xlink:href=\"#m10c9012c94\" y=\"133.971887\"/>\r\n     <use style=\"fill:#1f77b4;stroke:#1f77b4;\" x=\"419.595192\" xlink:href=\"#m10c9012c94\" y=\"135.686915\"/>\r\n     <use style=\"fill:#1f77b4;stroke:#1f77b4;\" x=\"420.988799\" xlink:href=\"#m10c9012c94\" y=\"136.124397\"/>\r\n     <use style=\"fill:#1f77b4;stroke:#1f77b4;\" x=\"422.382405\" xlink:href=\"#m10c9012c94\" y=\"136.295651\"/>\r\n     <use style=\"fill:#1f77b4;stroke:#1f77b4;\" x=\"423.776011\" xlink:href=\"#m10c9012c94\" y=\"130.552369\"/>\r\n     <use style=\"fill:#1f77b4;stroke:#1f77b4;\" x=\"425.169618\" xlink:href=\"#m10c9012c94\" y=\"106.61878\"/>\r\n     <use style=\"fill:#1f77b4;stroke:#1f77b4;\" x=\"426.563224\" xlink:href=\"#m10c9012c94\" y=\"106.661745\"/>\r\n     <use style=\"fill:#1f77b4;stroke:#1f77b4;\" x=\"427.956831\" xlink:href=\"#m10c9012c94\" y=\"135.642517\"/>\r\n     <use style=\"fill:#1f77b4;stroke:#1f77b4;\" x=\"429.350437\" xlink:href=\"#m10c9012c94\" y=\"137.499418\"/>\r\n     <use style=\"fill:#1f77b4;stroke:#1f77b4;\" x=\"430.744043\" xlink:href=\"#m10c9012c94\" y=\"137.676153\"/>\r\n     <use style=\"fill:#1f77b4;stroke:#1f77b4;\" x=\"432.13765\" xlink:href=\"#m10c9012c94\" y=\"137.655444\"/>\r\n     <use style=\"fill:#1f77b4;stroke:#1f77b4;\" x=\"433.531256\" xlink:href=\"#m10c9012c94\" y=\"137.124736\"/>\r\n     <use style=\"fill:#1f77b4;stroke:#1f77b4;\" x=\"434.924863\" xlink:href=\"#m10c9012c94\" y=\"112.115513\"/>\r\n     <use style=\"fill:#1f77b4;stroke:#1f77b4;\" x=\"436.318469\" xlink:href=\"#m10c9012c94\" y=\"120.768849\"/>\r\n     <use style=\"fill:#1f77b4;stroke:#1f77b4;\" x=\"437.712075\" xlink:href=\"#m10c9012c94\" y=\"155.729282\"/>\r\n     <use style=\"fill:#1f77b4;stroke:#1f77b4;\" x=\"439.105682\" xlink:href=\"#m10c9012c94\" y=\"156.153649\"/>\r\n     <use style=\"fill:#1f77b4;stroke:#1f77b4;\" x=\"440.499288\" xlink:href=\"#m10c9012c94\" y=\"156.588116\"/>\r\n     <use style=\"fill:#1f77b4;stroke:#1f77b4;\" x=\"441.892895\" xlink:href=\"#m10c9012c94\" y=\"156.882989\"/>\r\n     <use style=\"fill:#1f77b4;stroke:#1f77b4;\" x=\"443.286501\" xlink:href=\"#m10c9012c94\" y=\"150.240382\"/>\r\n     <use style=\"fill:#1f77b4;stroke:#1f77b4;\" x=\"444.680107\" xlink:href=\"#m10c9012c94\" y=\"124.716189\"/>\r\n     <use style=\"fill:#1f77b4;stroke:#1f77b4;\" x=\"446.073714\" xlink:href=\"#m10c9012c94\" y=\"123.288976\"/>\r\n     <use style=\"fill:#1f77b4;stroke:#1f77b4;\" x=\"447.46732\" xlink:href=\"#m10c9012c94\" y=\"154.589993\"/>\r\n     <use style=\"fill:#1f77b4;stroke:#1f77b4;\" x=\"448.860927\" xlink:href=\"#m10c9012c94\" y=\"156.37003\"/>\r\n     <use style=\"fill:#1f77b4;stroke:#1f77b4;\" x=\"450.254533\" xlink:href=\"#m10c9012c94\" y=\"156.752305\"/>\r\n     <use style=\"fill:#1f77b4;stroke:#1f77b4;\" x=\"451.648139\" xlink:href=\"#m10c9012c94\" y=\"156.603137\"/>\r\n     <use style=\"fill:#1f77b4;stroke:#1f77b4;\" x=\"453.041746\" xlink:href=\"#m10c9012c94\" y=\"152.410698\"/>\r\n     <use style=\"fill:#1f77b4;stroke:#1f77b4;\" x=\"454.435352\" xlink:href=\"#m10c9012c94\" y=\"126.543786\"/>\r\n     <use style=\"fill:#1f77b4;stroke:#1f77b4;\" x=\"455.828959\" xlink:href=\"#m10c9012c94\" y=\"126.401646\"/>\r\n     <use style=\"fill:#1f77b4;stroke:#1f77b4;\" x=\"457.222565\" xlink:href=\"#m10c9012c94\" y=\"157.538677\"/>\r\n     <use style=\"fill:#1f77b4;stroke:#1f77b4;\" x=\"458.616171\" xlink:href=\"#m10c9012c94\" y=\"157.658487\"/>\r\n     <use style=\"fill:#1f77b4;stroke:#1f77b4;\" x=\"460.009778\" xlink:href=\"#m10c9012c94\" y=\"157.787021\"/>\r\n     <use style=\"fill:#1f77b4;stroke:#1f77b4;\" x=\"461.403384\" xlink:href=\"#m10c9012c94\" y=\"157.527927\"/>\r\n     <use style=\"fill:#1f77b4;stroke:#1f77b4;\" x=\"462.796991\" xlink:href=\"#m10c9012c94\" y=\"153.426253\"/>\r\n     <use style=\"fill:#1f77b4;stroke:#1f77b4;\" x=\"464.190597\" xlink:href=\"#m10c9012c94\" y=\"128.03905\"/>\r\n     <use style=\"fill:#1f77b4;stroke:#1f77b4;\" x=\"465.584203\" xlink:href=\"#m10c9012c94\" y=\"127.72286\"/>\r\n     <use style=\"fill:#1f77b4;stroke:#1f77b4;\" x=\"466.97781\" xlink:href=\"#m10c9012c94\" y=\"158.0509\"/>\r\n     <use style=\"fill:#1f77b4;stroke:#1f77b4;\" x=\"468.371416\" xlink:href=\"#m10c9012c94\" y=\"158.471894\"/>\r\n     <use style=\"fill:#1f77b4;stroke:#1f77b4;\" x=\"469.765022\" xlink:href=\"#m10c9012c94\" y=\"158.313233\"/>\r\n     <use style=\"fill:#1f77b4;stroke:#1f77b4;\" x=\"471.158629\" xlink:href=\"#m10c9012c94\" y=\"158.352162\"/>\r\n     <use style=\"fill:#1f77b4;stroke:#1f77b4;\" x=\"472.552235\" xlink:href=\"#m10c9012c94\" y=\"155.347141\"/>\r\n     <use style=\"fill:#1f77b4;stroke:#1f77b4;\" x=\"473.945842\" xlink:href=\"#m10c9012c94\" y=\"129.376071\"/>\r\n     <use style=\"fill:#1f77b4;stroke:#1f77b4;\" x=\"475.339448\" xlink:href=\"#m10c9012c94\" y=\"129.705842\"/>\r\n     <use style=\"fill:#1f77b4;stroke:#1f77b4;\" x=\"476.733054\" xlink:href=\"#m10c9012c94\" y=\"160.748628\"/>\r\n     <use style=\"fill:#1f77b4;stroke:#1f77b4;\" x=\"478.126661\" xlink:href=\"#m10c9012c94\" y=\"161.751255\"/>\r\n     <use style=\"fill:#1f77b4;stroke:#1f77b4;\" x=\"479.520267\" xlink:href=\"#m10c9012c94\" y=\"162.732035\"/>\r\n     <use style=\"fill:#1f77b4;stroke:#1f77b4;\" x=\"480.913874\" xlink:href=\"#m10c9012c94\" y=\"162.527318\"/>\r\n     <use style=\"fill:#1f77b4;stroke:#1f77b4;\" x=\"482.30748\" xlink:href=\"#m10c9012c94\" y=\"158.837917\"/>\r\n     <use style=\"fill:#1f77b4;stroke:#1f77b4;\" x=\"483.701086\" xlink:href=\"#m10c9012c94\" y=\"132.928611\"/>\r\n     <use style=\"fill:#1f77b4;stroke:#1f77b4;\" x=\"485.094693\" xlink:href=\"#m10c9012c94\" y=\"132.798784\"/>\r\n     <use style=\"fill:#1f77b4;stroke:#1f77b4;\" x=\"486.488299\" xlink:href=\"#m10c9012c94\" y=\"163.483373\"/>\r\n     <use style=\"fill:#1f77b4;stroke:#1f77b4;\" x=\"487.881906\" xlink:href=\"#m10c9012c94\" y=\"164.134478\"/>\r\n     <use style=\"fill:#1f77b4;stroke:#1f77b4;\" x=\"489.275512\" xlink:href=\"#m10c9012c94\" y=\"164.313834\"/>\r\n     <use style=\"fill:#1f77b4;stroke:#1f77b4;\" x=\"490.669118\" xlink:href=\"#m10c9012c94\" y=\"164.430292\"/>\r\n     <use style=\"fill:#1f77b4;stroke:#1f77b4;\" x=\"492.062725\" xlink:href=\"#m10c9012c94\" y=\"161.195539\"/>\r\n     <use style=\"fill:#1f77b4;stroke:#1f77b4;\" x=\"493.456331\" xlink:href=\"#m10c9012c94\" y=\"135.259989\"/>\r\n     <use style=\"fill:#1f77b4;stroke:#1f77b4;\" x=\"494.849938\" xlink:href=\"#m10c9012c94\" y=\"134.935538\"/>\r\n     <use style=\"fill:#1f77b4;stroke:#1f77b4;\" x=\"496.243544\" xlink:href=\"#m10c9012c94\" y=\"163.024679\"/>\r\n     <use style=\"fill:#1f77b4;stroke:#1f77b4;\" x=\"497.63715\" xlink:href=\"#m10c9012c94\" y=\"163.048708\"/>\r\n     <use style=\"fill:#1f77b4;stroke:#1f77b4;\" x=\"499.030757\" xlink:href=\"#m10c9012c94\" y=\"162.051339\"/>\r\n     <use style=\"fill:#1f77b4;stroke:#1f77b4;\" x=\"500.424363\" xlink:href=\"#m10c9012c94\" y=\"161.803535\"/>\r\n     <use style=\"fill:#1f77b4;stroke:#1f77b4;\" x=\"501.81797\" xlink:href=\"#m10c9012c94\" y=\"158.27447\"/>\r\n     <use style=\"fill:#1f77b4;stroke:#1f77b4;\" x=\"503.211576\" xlink:href=\"#m10c9012c94\" y=\"132.103601\"/>\r\n     <use style=\"fill:#1f77b4;stroke:#1f77b4;\" x=\"504.605182\" xlink:href=\"#m10c9012c94\" y=\"131.758503\"/>\r\n     <use style=\"fill:#1f77b4;stroke:#1f77b4;\" x=\"505.998789\" xlink:href=\"#m10c9012c94\" y=\"159.078836\"/>\r\n     <use style=\"fill:#1f77b4;stroke:#1f77b4;\" x=\"507.392395\" xlink:href=\"#m10c9012c94\" y=\"159.637054\"/>\r\n     <use style=\"fill:#1f77b4;stroke:#1f77b4;\" x=\"508.786001\" xlink:href=\"#m10c9012c94\" y=\"159.200381\"/>\r\n     <use style=\"fill:#1f77b4;stroke:#1f77b4;\" x=\"510.179608\" xlink:href=\"#m10c9012c94\" y=\"156.390628\"/>\r\n     <use style=\"fill:#1f77b4;stroke:#1f77b4;\" x=\"511.573214\" xlink:href=\"#m10c9012c94\" y=\"151.930444\"/>\r\n     <use style=\"fill:#1f77b4;stroke:#1f77b4;\" x=\"512.966821\" xlink:href=\"#m10c9012c94\" y=\"128.385479\"/>\r\n     <use style=\"fill:#1f77b4;stroke:#1f77b4;\" x=\"514.360427\" xlink:href=\"#m10c9012c94\" y=\"129.111922\"/>\r\n     <use style=\"fill:#1f77b4;stroke:#1f77b4;\" x=\"515.754033\" xlink:href=\"#m10c9012c94\" y=\"156.503601\"/>\r\n     <use style=\"fill:#1f77b4;stroke:#1f77b4;\" x=\"517.14764\" xlink:href=\"#m10c9012c94\" y=\"162.692701\"/>\r\n     <use style=\"fill:#1f77b4;stroke:#1f77b4;\" x=\"518.541246\" xlink:href=\"#m10c9012c94\" y=\"165.499142\"/>\r\n     <use style=\"fill:#1f77b4;stroke:#1f77b4;\" x=\"519.934853\" xlink:href=\"#m10c9012c94\" y=\"165.571862\"/>\r\n     <use style=\"fill:#1f77b4;stroke:#1f77b4;\" x=\"521.328459\" xlink:href=\"#m10c9012c94\" y=\"159.823054\"/>\r\n     <use style=\"fill:#1f77b4;stroke:#1f77b4;\" x=\"522.722065\" xlink:href=\"#m10c9012c94\" y=\"132.48475\"/>\r\n     <use style=\"fill:#1f77b4;stroke:#1f77b4;\" x=\"524.115672\" xlink:href=\"#m10c9012c94\" y=\"134.63695\"/>\r\n     <use style=\"fill:#1f77b4;stroke:#1f77b4;\" x=\"525.509278\" xlink:href=\"#m10c9012c94\" y=\"162.982846\"/>\r\n     <use style=\"fill:#1f77b4;stroke:#1f77b4;\" x=\"526.902885\" xlink:href=\"#m10c9012c94\" y=\"165.389468\"/>\r\n     <use style=\"fill:#1f77b4;stroke:#1f77b4;\" x=\"528.296491\" xlink:href=\"#m10c9012c94\" y=\"166.724123\"/>\r\n     <use style=\"fill:#1f77b4;stroke:#1f77b4;\" x=\"529.690097\" xlink:href=\"#m10c9012c94\" y=\"166.136306\"/>\r\n     <use style=\"fill:#1f77b4;stroke:#1f77b4;\" x=\"531.083704\" xlink:href=\"#m10c9012c94\" y=\"155.848034\"/>\r\n     <use style=\"fill:#1f77b4;stroke:#1f77b4;\" x=\"532.47731\" xlink:href=\"#m10c9012c94\" y=\"129.066211\"/>\r\n     <use style=\"fill:#1f77b4;stroke:#1f77b4;\" x=\"533.870917\" xlink:href=\"#m10c9012c94\" y=\"130.72561\"/>\r\n     <use style=\"fill:#1f77b4;stroke:#1f77b4;\" x=\"535.264523\" xlink:href=\"#m10c9012c94\" y=\"161.069784\"/>\r\n     <use style=\"fill:#1f77b4;stroke:#1f77b4;\" x=\"536.658129\" xlink:href=\"#m10c9012c94\" y=\"164.008596\"/>\r\n     <use style=\"fill:#1f77b4;stroke:#1f77b4;\" x=\"538.051736\" xlink:href=\"#m10c9012c94\" y=\"163.649854\"/>\r\n     <use style=\"fill:#1f77b4;stroke:#1f77b4;\" x=\"539.445342\" xlink:href=\"#m10c9012c94\" y=\"163.326851\"/>\r\n     <use style=\"fill:#1f77b4;stroke:#1f77b4;\" x=\"540.838949\" xlink:href=\"#m10c9012c94\" y=\"158.378242\"/>\r\n     <use style=\"fill:#1f77b4;stroke:#1f77b4;\" x=\"542.232555\" xlink:href=\"#m10c9012c94\" y=\"132.233884\"/>\r\n     <use style=\"fill:#1f77b4;stroke:#1f77b4;\" x=\"543.626161\" xlink:href=\"#m10c9012c94\" y=\"132.060732\"/>\r\n     <use style=\"fill:#1f77b4;stroke:#1f77b4;\" x=\"545.019768\" xlink:href=\"#m10c9012c94\" y=\"156.584626\"/>\r\n     <use style=\"fill:#1f77b4;stroke:#1f77b4;\" x=\"546.413374\" xlink:href=\"#m10c9012c94\" y=\"157.188581\"/>\r\n     <use style=\"fill:#1f77b4;stroke:#1f77b4;\" x=\"547.806981\" xlink:href=\"#m10c9012c94\" y=\"157.197421\"/>\r\n     <use style=\"fill:#1f77b4;stroke:#1f77b4;\" x=\"549.200587\" xlink:href=\"#m10c9012c94\" y=\"157.519644\"/>\r\n     <use style=\"fill:#1f77b4;stroke:#1f77b4;\" x=\"550.594193\" xlink:href=\"#m10c9012c94\" y=\"149.122961\"/>\r\n     <use style=\"fill:#1f77b4;stroke:#1f77b4;\" x=\"551.9878\" xlink:href=\"#m10c9012c94\" y=\"123.458407\"/>\r\n     <use style=\"fill:#1f77b4;stroke:#1f77b4;\" x=\"553.381406\" xlink:href=\"#m10c9012c94\" y=\"123.771774\"/>\r\n     <use style=\"fill:#1f77b4;stroke:#1f77b4;\" x=\"554.775012\" xlink:href=\"#m10c9012c94\" y=\"143.959441\"/>\r\n     <use style=\"fill:#1f77b4;stroke:#1f77b4;\" x=\"556.168619\" xlink:href=\"#m10c9012c94\" y=\"144.28787\"/>\r\n     <use style=\"fill:#1f77b4;stroke:#1f77b4;\" x=\"557.562225\" xlink:href=\"#m10c9012c94\" y=\"147.159339\"/>\r\n     <use style=\"fill:#1f77b4;stroke:#1f77b4;\" x=\"558.955832\" xlink:href=\"#m10c9012c94\" y=\"147.271315\"/>\r\n     <use style=\"fill:#1f77b4;stroke:#1f77b4;\" x=\"560.349438\" xlink:href=\"#m10c9012c94\" y=\"143.666328\"/>\r\n     <use style=\"fill:#1f77b4;stroke:#1f77b4;\" x=\"561.743044\" xlink:href=\"#m10c9012c94\" y=\"115.879168\"/>\r\n     <use style=\"fill:#1f77b4;stroke:#1f77b4;\" x=\"563.136651\" xlink:href=\"#m10c9012c94\" y=\"111.894459\"/>\r\n     <use style=\"fill:#1f77b4;stroke:#1f77b4;\" x=\"564.530257\" xlink:href=\"#m10c9012c94\" y=\"143.328105\"/>\r\n     <use style=\"fill:#1f77b4;stroke:#1f77b4;\" x=\"565.923864\" xlink:href=\"#m10c9012c94\" y=\"153.932512\"/>\r\n    </g>\r\n   </g>\r\n   <g id=\"patch_3\">\r\n    <path d=\"M 33.2875 281.487742 \r\nL 33.2875 9.687742 \r\n\" style=\"fill:none;stroke:#000000;stroke-linecap:square;stroke-linejoin:miter;stroke-width:0.8;\"/>\r\n   </g>\r\n   <g id=\"patch_4\">\r\n    <path d=\"M 591.2875 281.487742 \r\nL 591.2875 9.687742 \r\n\" style=\"fill:none;stroke:#000000;stroke-linecap:square;stroke-linejoin:miter;stroke-width:0.8;\"/>\r\n   </g>\r\n   <g id=\"patch_5\">\r\n    <path d=\"M 33.2875 281.487742 \r\nL 591.2875 281.487742 \r\n\" style=\"fill:none;stroke:#000000;stroke-linecap:square;stroke-linejoin:miter;stroke-width:0.8;\"/>\r\n   </g>\r\n   <g id=\"patch_6\">\r\n    <path d=\"M 33.2875 9.687742 \r\nL 591.2875 9.687742 \r\n\" style=\"fill:none;stroke:#000000;stroke-linecap:square;stroke-linejoin:miter;stroke-width:0.8;\"/>\r\n   </g>\r\n  </g>\r\n </g>\r\n <defs>\r\n  <clipPath id=\"p9bee7d1d05\">\r\n   <rect height=\"271.8\" width=\"558\" x=\"33.2875\" y=\"9.687742\"/>\r\n  </clipPath>\r\n </defs>\r\n</svg>\r\n",
      "image/png": "[encoded data removed]"
     },
     "metadata": {
      "needs_background": "light"
     }
    }
   ],
   "source": [
    "plt.figure(figsize=(10,5))\n",
    "plt.errorbar(mean_prices['date'],mean_prices['price'], mean_prices['price'].std(), linestyle='None', marker='.')"
   ]
  },
  {
   "cell_type": "code",
   "execution_count": 46,
   "metadata": {},
   "outputs": [
    {
     "output_type": "execute_result",
     "data": {
      "text/plain": [
       "Index(['id', 'date', 'available', 'price'], dtype='object')"
      ]
     },
     "metadata": {},
     "execution_count": 46
    }
   ],
   "source": [
    "calendar_df.rename(columns = {'listing_id':'id'},inplace=True)\n",
    "calendar_df.columns"
   ]
  },
  {
   "cell_type": "code",
   "execution_count": 111,
   "metadata": {},
   "outputs": [],
   "source": [
    "availability = calendar_df.groupby(['date']).available.value_counts(normalize=True)[:,1].reset_index()\n",
    "\n",
    "availability['available'] = availability['available'].apply(lambda x: x*100)"
   ]
  },
  {
   "cell_type": "code",
   "execution_count": 113,
   "metadata": {},
   "outputs": [
    {
     "output_type": "execute_result",
     "data": {
      "text/plain": [
       "[<matplotlib.lines.Line2D at 0x2cfa6070>]"
      ]
     },
     "metadata": {},
     "execution_count": 113
    },
    {
     "output_type": "display_data",
     "data": {
      "text/plain": "<Figure size 432x288 with 1 Axes>",
      "image/svg+xml": "<?xml version=\"1.0\" encoding=\"utf-8\" standalone=\"no\"?>\r\n<!DOCTYPE svg PUBLIC \"-//W3C//DTD SVG 1.1//EN\"\r\n  \"http://www.w3.org/Graphics/SVG/1.1/DTD/svg11.dtd\">\r\n<!-- Created with matplotlib (https://matplotlib.org/) -->\r\n<svg height=\"248.518125pt\" version=\"1.1\" viewBox=\"0 0 373.762061 248.518125\" width=\"373.762061pt\" xmlns=\"http://www.w3.org/2000/svg\" xmlns:xlink=\"http://www.w3.org/1999/xlink\">\r\n <defs>\r\n  <style type=\"text/css\">\r\n*{stroke-linecap:butt;stroke-linejoin:round;}\r\n  </style>\r\n </defs>\r\n <g id=\"figure_1\">\r\n  <g id=\"patch_1\">\r\n   <path d=\"M -0 248.518125 \r\nL 373.762061 248.518125 \r\nL 373.762061 0 \r\nL -0 0 \r\nz\r\n\" style=\"fill:none;\"/>\r\n  </g>\r\n  <g id=\"axes_1\">\r\n   <g id=\"patch_2\">\r\n    <path d=\"M 26.925 224.64 \r\nL 361.725 224.64 \r\nL 361.725 7.2 \r\nL 26.925 7.2 \r\nz\r\n\" style=\"fill:#ffffff;\"/>\r\n   </g>\r\n   <g id=\"matplotlib.axis_1\">\r\n    <g id=\"xtick_1\">\r\n     <g id=\"line2d_1\">\r\n      <defs>\r\n       <path d=\"M 0 0 \r\nL 0 3.5 \r\n\" id=\"mf2f01ad4ab\" style=\"stroke:#000000;stroke-width:0.8;\"/>\r\n      </defs>\r\n      <g>\r\n       <use style=\"stroke:#000000;stroke-width:0.8;\" x=\"39.63469\" xlink:href=\"#mf2f01ad4ab\" y=\"224.64\"/>\r\n      </g>\r\n     </g>\r\n     <g id=\"text_1\">\r\n      <!-- 2016-01 -->\r\n      <defs>\r\n       <path d=\"M 19.1875 8.296875 \r\nL 53.609375 8.296875 \r\nL 53.609375 0 \r\nL 7.328125 0 \r\nL 7.328125 8.296875 \r\nQ 12.9375 14.109375 22.625 23.890625 \r\nQ 32.328125 33.6875 34.8125 36.53125 \r\nQ 39.546875 41.84375 41.421875 45.53125 \r\nQ 43.3125 49.21875 43.3125 52.78125 \r\nQ 43.3125 58.59375 39.234375 62.25 \r\nQ 35.15625 65.921875 28.609375 65.921875 \r\nQ 23.96875 65.921875 18.8125 64.3125 \r\nQ 13.671875 62.703125 7.8125 59.421875 \r\nL 7.8125 69.390625 \r\nQ 13.765625 71.78125 18.9375 73 \r\nQ 24.125 74.21875 28.421875 74.21875 \r\nQ 39.75 74.21875 46.484375 68.546875 \r\nQ 53.21875 62.890625 53.21875 53.421875 \r\nQ 53.21875 48.921875 51.53125 44.890625 \r\nQ 49.859375 40.875 45.40625 35.40625 \r\nQ 44.1875 33.984375 37.640625 27.21875 \r\nQ 31.109375 20.453125 19.1875 8.296875 \r\nz\r\n\" id=\"DejaVuSans-50\"/>\r\n       <path d=\"M 31.78125 66.40625 \r\nQ 24.171875 66.40625 20.328125 58.90625 \r\nQ 16.5 51.421875 16.5 36.375 \r\nQ 16.5 21.390625 20.328125 13.890625 \r\nQ 24.171875 6.390625 31.78125 6.390625 \r\nQ 39.453125 6.390625 43.28125 13.890625 \r\nQ 47.125 21.390625 47.125 36.375 \r\nQ 47.125 51.421875 43.28125 58.90625 \r\nQ 39.453125 66.40625 31.78125 66.40625 \r\nz\r\nM 31.78125 74.21875 \r\nQ 44.046875 74.21875 50.515625 64.515625 \r\nQ 56.984375 54.828125 56.984375 36.375 \r\nQ 56.984375 17.96875 50.515625 8.265625 \r\nQ 44.046875 -1.421875 31.78125 -1.421875 \r\nQ 19.53125 -1.421875 13.0625 8.265625 \r\nQ 6.59375 17.96875 6.59375 36.375 \r\nQ 6.59375 54.828125 13.0625 64.515625 \r\nQ 19.53125 74.21875 31.78125 74.21875 \r\nz\r\n\" id=\"DejaVuSans-48\"/>\r\n       <path d=\"M 12.40625 8.296875 \r\nL 28.515625 8.296875 \r\nL 28.515625 63.921875 \r\nL 10.984375 60.40625 \r\nL 10.984375 69.390625 \r\nL 28.421875 72.90625 \r\nL 38.28125 72.90625 \r\nL 38.28125 8.296875 \r\nL 54.390625 8.296875 \r\nL 54.390625 0 \r\nL 12.40625 0 \r\nz\r\n\" id=\"DejaVuSans-49\"/>\r\n       <path d=\"M 33.015625 40.375 \r\nQ 26.375 40.375 22.484375 35.828125 \r\nQ 18.609375 31.296875 18.609375 23.390625 \r\nQ 18.609375 15.53125 22.484375 10.953125 \r\nQ 26.375 6.390625 33.015625 6.390625 \r\nQ 39.65625 6.390625 43.53125 10.953125 \r\nQ 47.40625 15.53125 47.40625 23.390625 \r\nQ 47.40625 31.296875 43.53125 35.828125 \r\nQ 39.65625 40.375 33.015625 40.375 \r\nz\r\nM 52.59375 71.296875 \r\nL 52.59375 62.3125 \r\nQ 48.875 64.0625 45.09375 64.984375 \r\nQ 41.3125 65.921875 37.59375 65.921875 \r\nQ 27.828125 65.921875 22.671875 59.328125 \r\nQ 17.53125 52.734375 16.796875 39.40625 \r\nQ 19.671875 43.65625 24.015625 45.921875 \r\nQ 28.375 48.1875 33.59375 48.1875 \r\nQ 44.578125 48.1875 50.953125 41.515625 \r\nQ 57.328125 34.859375 57.328125 23.390625 \r\nQ 57.328125 12.15625 50.6875 5.359375 \r\nQ 44.046875 -1.421875 33.015625 -1.421875 \r\nQ 20.359375 -1.421875 13.671875 8.265625 \r\nQ 6.984375 17.96875 6.984375 36.375 \r\nQ 6.984375 53.65625 15.1875 63.9375 \r\nQ 23.390625 74.21875 37.203125 74.21875 \r\nQ 40.921875 74.21875 44.703125 73.484375 \r\nQ 48.484375 72.75 52.59375 71.296875 \r\nz\r\n\" id=\"DejaVuSans-54\"/>\r\n       <path d=\"M 4.890625 31.390625 \r\nL 31.203125 31.390625 \r\nL 31.203125 23.390625 \r\nL 4.890625 23.390625 \r\nz\r\n\" id=\"DejaVuSans-45\"/>\r\n      </defs>\r\n      <g transform=\"translate(18.743284 239.238437)scale(0.1 -0.1)\">\r\n       <use xlink:href=\"#DejaVuSans-50\"/>\r\n       <use x=\"63.623047\" xlink:href=\"#DejaVuSans-48\"/>\r\n       <use x=\"127.246094\" xlink:href=\"#DejaVuSans-49\"/>\r\n       <use x=\"190.869141\" xlink:href=\"#DejaVuSans-54\"/>\r\n       <use x=\"254.492188\" xlink:href=\"#DejaVuSans-45\"/>\r\n       <use x=\"290.576172\" xlink:href=\"#DejaVuSans-48\"/>\r\n       <use x=\"354.199219\" xlink:href=\"#DejaVuSans-49\"/>\r\n      </g>\r\n     </g>\r\n    </g>\r\n    <g id=\"xtick_2\">\r\n     <g id=\"line2d_2\">\r\n      <g>\r\n       <use style=\"stroke:#000000;stroke-width:0.8;\" x=\"89.80452\" xlink:href=\"#mf2f01ad4ab\" y=\"224.64\"/>\r\n      </g>\r\n     </g>\r\n     <g id=\"text_2\">\r\n      <!-- 2016-03 -->\r\n      <defs>\r\n       <path d=\"M 40.578125 39.3125 \r\nQ 47.65625 37.796875 51.625 33 \r\nQ 55.609375 28.21875 55.609375 21.1875 \r\nQ 55.609375 10.40625 48.1875 4.484375 \r\nQ 40.765625 -1.421875 27.09375 -1.421875 \r\nQ 22.515625 -1.421875 17.65625 -0.515625 \r\nQ 12.796875 0.390625 7.625 2.203125 \r\nL 7.625 11.71875 \r\nQ 11.71875 9.328125 16.59375 8.109375 \r\nQ 21.484375 6.890625 26.8125 6.890625 \r\nQ 36.078125 6.890625 40.9375 10.546875 \r\nQ 45.796875 14.203125 45.796875 21.1875 \r\nQ 45.796875 27.640625 41.28125 31.265625 \r\nQ 36.765625 34.90625 28.71875 34.90625 \r\nL 20.21875 34.90625 \r\nL 20.21875 43.015625 \r\nL 29.109375 43.015625 \r\nQ 36.375 43.015625 40.234375 45.921875 \r\nQ 44.09375 48.828125 44.09375 54.296875 \r\nQ 44.09375 59.90625 40.109375 62.90625 \r\nQ 36.140625 65.921875 28.71875 65.921875 \r\nQ 24.65625 65.921875 20.015625 65.03125 \r\nQ 15.375 64.15625 9.8125 62.3125 \r\nL 9.8125 71.09375 \r\nQ 15.4375 72.65625 20.34375 73.4375 \r\nQ 25.25 74.21875 29.59375 74.21875 \r\nQ 40.828125 74.21875 47.359375 69.109375 \r\nQ 53.90625 64.015625 53.90625 55.328125 \r\nQ 53.90625 49.265625 50.4375 45.09375 \r\nQ 46.96875 40.921875 40.578125 39.3125 \r\nz\r\n\" id=\"DejaVuSans-51\"/>\r\n      </defs>\r\n      <g transform=\"translate(68.913114 239.238437)scale(0.1 -0.1)\">\r\n       <use xlink:href=\"#DejaVuSans-50\"/>\r\n       <use x=\"63.623047\" xlink:href=\"#DejaVuSans-48\"/>\r\n       <use x=\"127.246094\" xlink:href=\"#DejaVuSans-49\"/>\r\n       <use x=\"190.869141\" xlink:href=\"#DejaVuSans-54\"/>\r\n       <use x=\"254.492188\" xlink:href=\"#DejaVuSans-45\"/>\r\n       <use x=\"290.576172\" xlink:href=\"#DejaVuSans-48\"/>\r\n       <use x=\"354.199219\" xlink:href=\"#DejaVuSans-51\"/>\r\n      </g>\r\n     </g>\r\n    </g>\r\n    <g id=\"xtick_3\">\r\n     <g id=\"line2d_3\">\r\n      <g>\r\n       <use style=\"stroke:#000000;stroke-width:0.8;\" x=\"140.810514\" xlink:href=\"#mf2f01ad4ab\" y=\"224.64\"/>\r\n      </g>\r\n     </g>\r\n     <g id=\"text_3\">\r\n      <!-- 2016-05 -->\r\n      <defs>\r\n       <path d=\"M 10.796875 72.90625 \r\nL 49.515625 72.90625 \r\nL 49.515625 64.59375 \r\nL 19.828125 64.59375 \r\nL 19.828125 46.734375 \r\nQ 21.96875 47.46875 24.109375 47.828125 \r\nQ 26.265625 48.1875 28.421875 48.1875 \r\nQ 40.625 48.1875 47.75 41.5 \r\nQ 54.890625 34.8125 54.890625 23.390625 \r\nQ 54.890625 11.625 47.5625 5.09375 \r\nQ 40.234375 -1.421875 26.90625 -1.421875 \r\nQ 22.3125 -1.421875 17.546875 -0.640625 \r\nQ 12.796875 0.140625 7.71875 1.703125 \r\nL 7.71875 11.625 \r\nQ 12.109375 9.234375 16.796875 8.0625 \r\nQ 21.484375 6.890625 26.703125 6.890625 \r\nQ 35.15625 6.890625 40.078125 11.328125 \r\nQ 45.015625 15.765625 45.015625 23.390625 \r\nQ 45.015625 31 40.078125 35.4375 \r\nQ 35.15625 39.890625 26.703125 39.890625 \r\nQ 22.75 39.890625 18.8125 39.015625 \r\nQ 14.890625 38.140625 10.796875 36.28125 \r\nz\r\n\" id=\"DejaVuSans-53\"/>\r\n      </defs>\r\n      <g transform=\"translate(119.919108 239.238437)scale(0.1 -0.1)\">\r\n       <use xlink:href=\"#DejaVuSans-50\"/>\r\n       <use x=\"63.623047\" xlink:href=\"#DejaVuSans-48\"/>\r\n       <use x=\"127.246094\" xlink:href=\"#DejaVuSans-49\"/>\r\n       <use x=\"190.869141\" xlink:href=\"#DejaVuSans-54\"/>\r\n       <use x=\"254.492188\" xlink:href=\"#DejaVuSans-45\"/>\r\n       <use x=\"290.576172\" xlink:href=\"#DejaVuSans-48\"/>\r\n       <use x=\"354.199219\" xlink:href=\"#DejaVuSans-53\"/>\r\n      </g>\r\n     </g>\r\n    </g>\r\n    <g id=\"xtick_4\">\r\n     <g id=\"line2d_4\">\r\n      <g>\r\n       <use style=\"stroke:#000000;stroke-width:0.8;\" x=\"191.816508\" xlink:href=\"#mf2f01ad4ab\" y=\"224.64\"/>\r\n      </g>\r\n     </g>\r\n     <g id=\"text_4\">\r\n      <!-- 2016-07 -->\r\n      <defs>\r\n       <path d=\"M 8.203125 72.90625 \r\nL 55.078125 72.90625 \r\nL 55.078125 68.703125 \r\nL 28.609375 0 \r\nL 18.3125 0 \r\nL 43.21875 64.59375 \r\nL 8.203125 64.59375 \r\nz\r\n\" id=\"DejaVuSans-55\"/>\r\n      </defs>\r\n      <g transform=\"translate(170.925102 239.238437)scale(0.1 -0.1)\">\r\n       <use xlink:href=\"#DejaVuSans-50\"/>\r\n       <use x=\"63.623047\" xlink:href=\"#DejaVuSans-48\"/>\r\n       <use x=\"127.246094\" xlink:href=\"#DejaVuSans-49\"/>\r\n       <use x=\"190.869141\" xlink:href=\"#DejaVuSans-54\"/>\r\n       <use x=\"254.492188\" xlink:href=\"#DejaVuSans-45\"/>\r\n       <use x=\"290.576172\" xlink:href=\"#DejaVuSans-48\"/>\r\n       <use x=\"354.199219\" xlink:href=\"#DejaVuSans-55\"/>\r\n      </g>\r\n     </g>\r\n    </g>\r\n    <g id=\"xtick_5\">\r\n     <g id=\"line2d_5\">\r\n      <g>\r\n       <use style=\"stroke:#000000;stroke-width:0.8;\" x=\"243.658666\" xlink:href=\"#mf2f01ad4ab\" y=\"224.64\"/>\r\n      </g>\r\n     </g>\r\n     <g id=\"text_5\">\r\n      <!-- 2016-09 -->\r\n      <defs>\r\n       <path d=\"M 10.984375 1.515625 \r\nL 10.984375 10.5 \r\nQ 14.703125 8.734375 18.5 7.8125 \r\nQ 22.3125 6.890625 25.984375 6.890625 \r\nQ 35.75 6.890625 40.890625 13.453125 \r\nQ 46.046875 20.015625 46.78125 33.40625 \r\nQ 43.953125 29.203125 39.59375 26.953125 \r\nQ 35.25 24.703125 29.984375 24.703125 \r\nQ 19.046875 24.703125 12.671875 31.3125 \r\nQ 6.296875 37.9375 6.296875 49.421875 \r\nQ 6.296875 60.640625 12.9375 67.421875 \r\nQ 19.578125 74.21875 30.609375 74.21875 \r\nQ 43.265625 74.21875 49.921875 64.515625 \r\nQ 56.59375 54.828125 56.59375 36.375 \r\nQ 56.59375 19.140625 48.40625 8.859375 \r\nQ 40.234375 -1.421875 26.421875 -1.421875 \r\nQ 22.703125 -1.421875 18.890625 -0.6875 \r\nQ 15.09375 0.046875 10.984375 1.515625 \r\nz\r\nM 30.609375 32.421875 \r\nQ 37.25 32.421875 41.125 36.953125 \r\nQ 45.015625 41.5 45.015625 49.421875 \r\nQ 45.015625 57.28125 41.125 61.84375 \r\nQ 37.25 66.40625 30.609375 66.40625 \r\nQ 23.96875 66.40625 20.09375 61.84375 \r\nQ 16.21875 57.28125 16.21875 49.421875 \r\nQ 16.21875 41.5 20.09375 36.953125 \r\nQ 23.96875 32.421875 30.609375 32.421875 \r\nz\r\n\" id=\"DejaVuSans-57\"/>\r\n      </defs>\r\n      <g transform=\"translate(222.76726 239.238437)scale(0.1 -0.1)\">\r\n       <use xlink:href=\"#DejaVuSans-50\"/>\r\n       <use x=\"63.623047\" xlink:href=\"#DejaVuSans-48\"/>\r\n       <use x=\"127.246094\" xlink:href=\"#DejaVuSans-49\"/>\r\n       <use x=\"190.869141\" xlink:href=\"#DejaVuSans-54\"/>\r\n       <use x=\"254.492188\" xlink:href=\"#DejaVuSans-45\"/>\r\n       <use x=\"290.576172\" xlink:href=\"#DejaVuSans-48\"/>\r\n       <use x=\"354.199219\" xlink:href=\"#DejaVuSans-57\"/>\r\n      </g>\r\n     </g>\r\n    </g>\r\n    <g id=\"xtick_6\">\r\n     <g id=\"line2d_6\">\r\n      <g>\r\n       <use style=\"stroke:#000000;stroke-width:0.8;\" x=\"294.66466\" xlink:href=\"#mf2f01ad4ab\" y=\"224.64\"/>\r\n      </g>\r\n     </g>\r\n     <g id=\"text_6\">\r\n      <!-- 2016-11 -->\r\n      <g transform=\"translate(273.773254 239.238437)scale(0.1 -0.1)\">\r\n       <use xlink:href=\"#DejaVuSans-50\"/>\r\n       <use x=\"63.623047\" xlink:href=\"#DejaVuSans-48\"/>\r\n       <use x=\"127.246094\" xlink:href=\"#DejaVuSans-49\"/>\r\n       <use x=\"190.869141\" xlink:href=\"#DejaVuSans-54\"/>\r\n       <use x=\"254.492188\" xlink:href=\"#DejaVuSans-45\"/>\r\n       <use x=\"290.576172\" xlink:href=\"#DejaVuSans-49\"/>\r\n       <use x=\"354.199219\" xlink:href=\"#DejaVuSans-49\"/>\r\n      </g>\r\n     </g>\r\n    </g>\r\n    <g id=\"xtick_7\">\r\n     <g id=\"line2d_7\">\r\n      <g>\r\n       <use style=\"stroke:#000000;stroke-width:0.8;\" x=\"345.670654\" xlink:href=\"#mf2f01ad4ab\" y=\"224.64\"/>\r\n      </g>\r\n     </g>\r\n     <g id=\"text_7\">\r\n      <!-- 2017-01 -->\r\n      <g transform=\"translate(324.779248 239.238437)scale(0.1 -0.1)\">\r\n       <use xlink:href=\"#DejaVuSans-50\"/>\r\n       <use x=\"63.623047\" xlink:href=\"#DejaVuSans-48\"/>\r\n       <use x=\"127.246094\" xlink:href=\"#DejaVuSans-49\"/>\r\n       <use x=\"190.869141\" xlink:href=\"#DejaVuSans-55\"/>\r\n       <use x=\"254.492188\" xlink:href=\"#DejaVuSans-45\"/>\r\n       <use x=\"290.576172\" xlink:href=\"#DejaVuSans-48\"/>\r\n       <use x=\"354.199219\" xlink:href=\"#DejaVuSans-49\"/>\r\n      </g>\r\n     </g>\r\n    </g>\r\n   </g>\r\n   <g id=\"matplotlib.axis_2\">\r\n    <g id=\"ytick_1\">\r\n     <g id=\"line2d_8\">\r\n      <defs>\r\n       <path d=\"M 0 0 \r\nL -3.5 0 \r\n\" id=\"m31ce39633b\" style=\"stroke:#000000;stroke-width:0.8;\"/>\r\n      </defs>\r\n      <g>\r\n       <use style=\"stroke:#000000;stroke-width:0.8;\" x=\"26.925\" xlink:href=\"#m31ce39633b\" y=\"217.570744\"/>\r\n      </g>\r\n     </g>\r\n     <g id=\"text_8\">\r\n      <!-- 45 -->\r\n      <defs>\r\n       <path d=\"M 37.796875 64.3125 \r\nL 12.890625 25.390625 \r\nL 37.796875 25.390625 \r\nz\r\nM 35.203125 72.90625 \r\nL 47.609375 72.90625 \r\nL 47.609375 25.390625 \r\nL 58.015625 25.390625 \r\nL 58.015625 17.1875 \r\nL 47.609375 17.1875 \r\nL 47.609375 0 \r\nL 37.796875 0 \r\nL 37.796875 17.1875 \r\nL 4.890625 17.1875 \r\nL 4.890625 26.703125 \r\nz\r\n\" id=\"DejaVuSans-52\"/>\r\n      </defs>\r\n      <g transform=\"translate(7.2 221.369962)scale(0.1 -0.1)\">\r\n       <use xlink:href=\"#DejaVuSans-52\"/>\r\n       <use x=\"63.623047\" xlink:href=\"#DejaVuSans-53\"/>\r\n      </g>\r\n     </g>\r\n    </g>\r\n    <g id=\"ytick_2\">\r\n     <g id=\"line2d_9\">\r\n      <g>\r\n       <use style=\"stroke:#000000;stroke-width:0.8;\" x=\"26.925\" xlink:href=\"#m31ce39633b\" y=\"185.779907\"/>\r\n      </g>\r\n     </g>\r\n     <g id=\"text_9\">\r\n      <!-- 50 -->\r\n      <g transform=\"translate(7.2 189.579125)scale(0.1 -0.1)\">\r\n       <use xlink:href=\"#DejaVuSans-53\"/>\r\n       <use x=\"63.623047\" xlink:href=\"#DejaVuSans-48\"/>\r\n      </g>\r\n     </g>\r\n    </g>\r\n    <g id=\"ytick_3\">\r\n     <g id=\"line2d_10\">\r\n      <g>\r\n       <use style=\"stroke:#000000;stroke-width:0.8;\" x=\"26.925\" xlink:href=\"#m31ce39633b\" y=\"153.989069\"/>\r\n      </g>\r\n     </g>\r\n     <g id=\"text_10\">\r\n      <!-- 55 -->\r\n      <g transform=\"translate(7.2 157.788288)scale(0.1 -0.1)\">\r\n       <use xlink:href=\"#DejaVuSans-53\"/>\r\n       <use x=\"63.623047\" xlink:href=\"#DejaVuSans-53\"/>\r\n      </g>\r\n     </g>\r\n    </g>\r\n    <g id=\"ytick_4\">\r\n     <g id=\"line2d_11\">\r\n      <g>\r\n       <use style=\"stroke:#000000;stroke-width:0.8;\" x=\"26.925\" xlink:href=\"#m31ce39633b\" y=\"122.198232\"/>\r\n      </g>\r\n     </g>\r\n     <g id=\"text_11\">\r\n      <!-- 60 -->\r\n      <g transform=\"translate(7.2 125.997451)scale(0.1 -0.1)\">\r\n       <use xlink:href=\"#DejaVuSans-54\"/>\r\n       <use x=\"63.623047\" xlink:href=\"#DejaVuSans-48\"/>\r\n      </g>\r\n     </g>\r\n    </g>\r\n    <g id=\"ytick_5\">\r\n     <g id=\"line2d_12\">\r\n      <g>\r\n       <use style=\"stroke:#000000;stroke-width:0.8;\" x=\"26.925\" xlink:href=\"#m31ce39633b\" y=\"90.407395\"/>\r\n      </g>\r\n     </g>\r\n     <g id=\"text_12\">\r\n      <!-- 65 -->\r\n      <g transform=\"translate(7.2 94.206614)scale(0.1 -0.1)\">\r\n       <use xlink:href=\"#DejaVuSans-54\"/>\r\n       <use x=\"63.623047\" xlink:href=\"#DejaVuSans-53\"/>\r\n      </g>\r\n     </g>\r\n    </g>\r\n    <g id=\"ytick_6\">\r\n     <g id=\"line2d_13\">\r\n      <g>\r\n       <use style=\"stroke:#000000;stroke-width:0.8;\" x=\"26.925\" xlink:href=\"#m31ce39633b\" y=\"58.616558\"/>\r\n      </g>\r\n     </g>\r\n     <g id=\"text_13\">\r\n      <!-- 70 -->\r\n      <g transform=\"translate(7.2 62.415777)scale(0.1 -0.1)\">\r\n       <use xlink:href=\"#DejaVuSans-55\"/>\r\n       <use x=\"63.623047\" xlink:href=\"#DejaVuSans-48\"/>\r\n      </g>\r\n     </g>\r\n    </g>\r\n    <g id=\"ytick_7\">\r\n     <g id=\"line2d_14\">\r\n      <g>\r\n       <use style=\"stroke:#000000;stroke-width:0.8;\" x=\"26.925\" xlink:href=\"#m31ce39633b\" y=\"26.825721\"/>\r\n      </g>\r\n     </g>\r\n     <g id=\"text_14\">\r\n      <!-- 75 -->\r\n      <g transform=\"translate(7.2 30.62494)scale(0.1 -0.1)\">\r\n       <use xlink:href=\"#DejaVuSans-55\"/>\r\n       <use x=\"63.623047\" xlink:href=\"#DejaVuSans-53\"/>\r\n      </g>\r\n     </g>\r\n    </g>\r\n   </g>\r\n   <g id=\"line2d_15\">\r\n    <path clip-path=\"url(#p613fbdd735)\" d=\"M 42.143182 214.756364 \r\nL 42.979346 192.774224 \r\nL 43.815509 199.60201 \r\nL 44.651673 207.928578 \r\nL 45.487837 206.92939 \r\nL 46.324001 194.606069 \r\nL 47.160165 169.12677 \r\nL 47.996329 157.303044 \r\nL 48.832493 151.640977 \r\nL 49.668656 154.47201 \r\nL 50.50482 160.633671 \r\nL 51.340984 172.623929 \r\nL 52.177148 177.120276 \r\nL 53.013312 158.635294 \r\nL 53.849476 132.156808 \r\nL 54.685639 124.995959 \r\nL 55.521803 122.497989 \r\nL 56.357967 128.160055 \r\nL 57.194131 131.990276 \r\nL 58.030295 131.324151 \r\nL 59.702622 112.339576 \r\nL 60.538786 111.340388 \r\nL 61.37495 115.503672 \r\nL 62.211114 124.662897 \r\nL 63.047278 127.327398 \r\nL 63.883442 126.994336 \r\nL 64.719605 109.342011 \r\nL 65.555769 101.8481 \r\nL 66.391933 97.684816 \r\nL 67.228097 97.518284 \r\nL 68.064261 105.678321 \r\nL 69.736588 107.343635 \r\nL 70.572752 90.357436 \r\nL 71.408916 85.194964 \r\nL 72.24508 82.530462 \r\nL 73.081244 82.197399 \r\nL 73.917408 89.857842 \r\nL 74.753571 93.188469 \r\nL 75.589735 98.18441 \r\nL 76.425899 94.687251 \r\nL 77.262063 82.530462 \r\nL 78.098227 77.534521 \r\nL 78.934391 76.535333 \r\nL 79.770554 77.201458 \r\nL 80.606718 74.870019 \r\nL 81.442882 73.038174 \r\nL 82.279046 66.543451 \r\nL 83.11521 66.37692 \r\nL 83.951374 65.877326 \r\nL 84.787537 67.542639 \r\nL 85.623701 70.873266 \r\nL 86.459865 68.708359 \r\nL 87.296029 69.374484 \r\nL 88.132193 66.210388 \r\nL 88.968357 60.714853 \r\nL 89.80452 59.382602 \r\nL 90.640684 59.382602 \r\nL 91.476848 60.215259 \r\nL 92.313012 57.217695 \r\nL 93.149176 57.051163 \r\nL 93.98534 51.888691 \r\nL 94.821503 54.886256 \r\nL 95.657667 55.552381 \r\nL 97.329995 56.218507 \r\nL 98.166159 55.885444 \r\nL 99.002323 58.549946 \r\nL 99.838487 54.053599 \r\nL 100.67465 53.720536 \r\nL 101.510814 53.054411 \r\nL 102.346978 50.55644 \r\nL 103.183142 49.890315 \r\nL 104.019306 47.725407 \r\nL 104.85547 50.223377 \r\nL 105.691633 50.389909 \r\nL 106.527797 52.721348 \r\nL 107.363961 53.720536 \r\nL 108.200125 53.054411 \r\nL 109.036289 55.552381 \r\nL 109.872453 54.053599 \r\nL 110.708616 49.557252 \r\nL 111.54478 44.061717 \r\nL 112.380944 45.060905 \r\nL 114.053272 46.060093 \r\nL 114.889436 44.894374 \r\nL 115.725599 39.065776 \r\nL 116.561763 92.189281 \r\nL 117.397927 87.859465 \r\nL 118.234091 86.527215 \r\nL 119.070255 85.528026 \r\nL 119.906419 88.858654 \r\nL 120.742582 94.687251 \r\nL 121.578746 94.021126 \r\nL 122.41491 93.854594 \r\nL 123.251074 86.860277 \r\nL 124.087238 82.197399 \r\nL 124.923402 81.364742 \r\nL 125.759565 80.865148 \r\nL 126.595729 81.531274 \r\nL 127.431893 79.532897 \r\nL 129.104221 79.199835 \r\nL 129.940385 79.366366 \r\nL 130.776548 79.699429 \r\nL 131.612712 81.364742 \r\nL 132.448876 81.697805 \r\nL 133.28504 81.198211 \r\nL 134.121204 81.697805 \r\nL 134.957368 81.03168 \r\nL 135.793531 79.699429 \r\nL 136.629695 78.866772 \r\nL 137.465859 78.367178 \r\nL 138.302023 77.701052 \r\nL 139.138187 76.368801 \r\nL 139.974351 77.534521 \r\nL 140.810514 75.536145 \r\nL 141.646678 76.368801 \r\nL 142.482842 76.868395 \r\nL 143.319006 78.034115 \r\nL 144.15517 77.034927 \r\nL 144.991334 72.871643 \r\nL 145.827498 73.537768 \r\nL 146.663661 72.871643 \r\nL 147.499825 73.204706 \r\nL 148.335989 73.204706 \r\nL 149.172153 73.371237 \r\nL 150.844481 75.869207 \r\nL 151.680644 74.703488 \r\nL 152.516808 72.871643 \r\nL 153.352972 71.872455 \r\nL 154.189136 71.705923 \r\nL 155.0253 71.872455 \r\nL 155.861464 74.870019 \r\nL 156.697627 73.537768 \r\nL 158.369955 73.204706 \r\nL 159.206119 71.039798 \r\nL 160.042283 71.539392 \r\nL 160.878447 72.871643 \r\nL 161.71461 76.868395 \r\nL 162.550774 75.869207 \r\nL 163.386938 74.536956 \r\nL 164.223102 74.536956 \r\nL 165.059266 73.537768 \r\nL 165.89543 74.536956 \r\nL 166.731593 74.536956 \r\nL 167.567757 76.035739 \r\nL 169.240085 78.034115 \r\nL 170.912413 75.369613 \r\nL 171.748576 74.536956 \r\nL 172.58474 75.869207 \r\nL 174.257068 85.028432 \r\nL 175.093232 85.028432 \r\nL 176.765559 78.200646 \r\nL 177.601723 76.868395 \r\nL 178.437887 76.868395 \r\nL 180.946379 75.869207 \r\nL 181.782542 73.204706 \r\nL 182.618706 72.372049 \r\nL 183.45487 70.540204 \r\nL 184.291034 71.206329 \r\nL 185.127198 72.53858 \r\nL 185.963362 71.705923 \r\nL 186.799525 71.039798 \r\nL 187.635689 69.541016 \r\nL 188.471853 68.87489 \r\nL 189.308017 68.042233 \r\nL 190.144181 68.375296 \r\nL 190.980345 69.041421 \r\nL 191.816508 112.339576 \r\nL 192.652672 110.840793 \r\nL 193.488836 110.008137 \r\nL 194.325 108.842417 \r\nL 195.161164 106.177915 \r\nL 196.833492 105.178727 \r\nL 197.669655 106.011384 \r\nL 198.505819 105.345258 \r\nL 199.341983 103.513413 \r\nL 200.178147 104.013008 \r\nL 201.014311 105.178727 \r\nL 201.850475 104.845664 \r\nL 202.686638 106.011384 \r\nL 203.522802 105.345258 \r\nL 204.358966 105.345258 \r\nL 205.19513 103.846476 \r\nL 206.031294 103.013819 \r\nL 206.867458 101.8481 \r\nL 207.703621 102.347694 \r\nL 208.539785 102.347694 \r\nL 209.375949 103.346882 \r\nL 210.212113 104.679133 \r\nL 211.048277 103.846476 \r\nL 211.884441 105.012196 \r\nL 212.720604 103.513413 \r\nL 213.556768 102.514225 \r\nL 214.392932 102.847288 \r\nL 215.229096 103.013819 \r\nL 216.06526 104.512602 \r\nL 216.901424 102.680757 \r\nL 217.737587 103.513413 \r\nL 218.573751 103.346882 \r\nL 219.409915 101.8481 \r\nL 220.246079 101.515037 \r\nL 221.082243 100.848912 \r\nL 221.918407 99.849724 \r\nL 222.75457 99.183598 \r\nL 223.590734 96.852159 \r\nL 224.426898 97.684816 \r\nL 225.263062 96.685628 \r\nL 226.099226 97.185222 \r\nL 226.93539 95.186845 \r\nL 227.771553 94.52072 \r\nL 228.607717 95.186845 \r\nL 229.443881 93.355 \r\nL 230.280045 94.021126 \r\nL 231.116209 92.522344 \r\nL 231.952373 93.021938 \r\nL 232.788536 92.688875 \r\nL 233.6247 92.189281 \r\nL 235.297028 89.358248 \r\nL 236.133192 88.525591 \r\nL 236.969356 88.35906 \r\nL 237.805519 88.692122 \r\nL 238.641683 87.19334 \r\nL 239.477847 86.360683 \r\nL 240.314011 86.194152 \r\nL 241.150175 85.694558 \r\nL 241.986339 84.861901 \r\nL 242.822502 83.030056 \r\nL 243.658666 84.195775 \r\nL 244.49483 84.528838 \r\nL 245.330994 83.696181 \r\nL 246.167158 81.364742 \r\nL 247.003322 80.032491 \r\nL 247.839486 78.034115 \r\nL 248.675649 77.534521 \r\nL 249.511813 77.201458 \r\nL 250.347977 76.035739 \r\nL 251.184141 75.869207 \r\nL 252.020305 75.869207 \r\nL 252.856469 75.369613 \r\nL 253.692632 75.702676 \r\nL 254.528796 75.536145 \r\nL 255.36496 75.536145 \r\nL 256.201124 74.870019 \r\nL 257.037288 74.370425 \r\nL 257.873452 74.370425 \r\nL 258.709615 74.037362 \r\nL 259.545779 73.870831 \r\nL 260.381943 73.371237 \r\nL 261.218107 71.372861 \r\nL 262.054271 70.540204 \r\nL 262.890435 70.207141 \r\nL 263.726598 69.541016 \r\nL 264.562762 69.541016 \r\nL 267.071254 68.541827 \r\nL 267.907418 67.542639 \r\nL 268.743581 67.043045 \r\nL 269.579745 63.545886 \r\nL 270.415909 62.879761 \r\nL 272.088237 62.879761 \r\nL 272.924401 62.546698 \r\nL 273.760564 61.880573 \r\nL 274.596728 61.880573 \r\nL 275.432892 62.047104 \r\nL 276.269056 62.380167 \r\nL 277.10522 62.380167 \r\nL 277.941384 61.880573 \r\nL 278.777547 61.880573 \r\nL 279.613711 61.047916 \r\nL 280.449875 61.047916 \r\nL 281.286039 61.214447 \r\nL 282.122203 61.047916 \r\nL 282.958367 60.714853 \r\nL 283.79453 60.714853 \r\nL 284.630694 60.215259 \r\nL 285.466858 59.549134 \r\nL 286.303022 59.382602 \r\nL 287.139186 59.549134 \r\nL 287.97535 59.04954 \r\nL 288.811513 59.382602 \r\nL 290.483841 58.716477 \r\nL 291.320005 57.88382 \r\nL 292.156169 57.217695 \r\nL 293.828497 56.884632 \r\nL 294.66466 56.218507 \r\nL 295.500824 55.718912 \r\nL 296.336988 55.052787 \r\nL 297.173152 54.553193 \r\nL 298.009316 54.386662 \r\nL 298.84548 52.388285 \r\nL 299.681643 52.388285 \r\nL 301.353971 52.055222 \r\nL 302.190135 52.055222 \r\nL 303.026299 51.056034 \r\nL 303.862463 50.389909 \r\nL 304.698626 50.389909 \r\nL 305.53479 50.056846 \r\nL 306.370954 49.890315 \r\nL 307.207118 49.557252 \r\nL 308.043282 49.557252 \r\nL 308.879446 48.724595 \r\nL 310.551773 48.391533 \r\nL 311.387937 47.891938 \r\nL 312.224101 46.726219 \r\nL 313.060265 46.393156 \r\nL 313.896429 46.393156 \r\nL 314.732592 45.893562 \r\nL 315.568756 45.893562 \r\nL 316.40492 45.393968 \r\nL 317.241084 45.227437 \r\nL 318.077248 44.39478 \r\nL 318.913412 43.895186 \r\nL 319.749575 42.895998 \r\nL 320.585739 42.229872 \r\nL 321.421903 41.896809 \r\nL 322.258067 40.398027 \r\nL 323.094231 40.064964 \r\nL 323.930395 39.398839 \r\nL 325.602722 38.732713 \r\nL 326.438886 38.566182 \r\nL 327.27505 38.233119 \r\nL 328.111214 38.233119 \r\nL 328.947378 37.733525 \r\nL 329.783541 37.566994 \r\nL 330.619705 36.900868 \r\nL 331.455869 35.90168 \r\nL 332.292033 35.235555 \r\nL 333.964361 34.569429 \r\nL 334.800524 34.402898 \r\nL 335.636688 34.402898 \r\nL 337.309016 34.069835 \r\nL 338.14518 33.736773 \r\nL 338.981344 33.736773 \r\nL 339.817507 32.571053 \r\nL 340.653671 32.23799 \r\nL 341.489835 32.23799 \r\nL 343.162163 31.571865 \r\nL 343.998327 30.739208 \r\nL 344.834491 27.575112 \r\nL 345.670654 17.083636 \r\nL 346.506818 41.397215 \r\nL 346.506818 41.397215 \r\n\" style=\"fill:none;stroke:#1f77b4;stroke-linecap:square;stroke-width:1.5;\"/>\r\n   </g>\r\n   <g id=\"patch_3\">\r\n    <path d=\"M 26.925 224.64 \r\nL 26.925 7.2 \r\n\" style=\"fill:none;stroke:#000000;stroke-linecap:square;stroke-linejoin:miter;stroke-width:0.8;\"/>\r\n   </g>\r\n   <g id=\"patch_4\">\r\n    <path d=\"M 361.725 224.64 \r\nL 361.725 7.2 \r\n\" style=\"fill:none;stroke:#000000;stroke-linecap:square;stroke-linejoin:miter;stroke-width:0.8;\"/>\r\n   </g>\r\n   <g id=\"patch_5\">\r\n    <path d=\"M 26.925 224.64 \r\nL 361.725 224.64 \r\n\" style=\"fill:none;stroke:#000000;stroke-linecap:square;stroke-linejoin:miter;stroke-width:0.8;\"/>\r\n   </g>\r\n   <g id=\"patch_6\">\r\n    <path d=\"M 26.925 7.2 \r\nL 361.725 7.2 \r\n\" style=\"fill:none;stroke:#000000;stroke-linecap:square;stroke-linejoin:miter;stroke-width:0.8;\"/>\r\n   </g>\r\n  </g>\r\n </g>\r\n <defs>\r\n  <clipPath id=\"p613fbdd735\">\r\n   <rect height=\"217.44\" width=\"334.8\" x=\"26.925\" y=\"7.2\"/>\r\n  </clipPath>\r\n </defs>\r\n</svg>\r\n",
      "image/png": "[encoded data removed]"
     },
     "metadata": {
      "needs_background": "light"
     }
    }
   ],
   "source": [
    "plt.plot(availability['date'],availability['available'])"
   ]
  },
  {
   "cell_type": "code",
   "execution_count": 47,
   "metadata": {},
   "outputs": [],
   "source": [
    "df = calendar_df.merge(df_l[['id','zipcode']], on = 'id')"
   ]
  },
  {
   "cell_type": "code",
   "execution_count": 48,
   "metadata": {},
   "outputs": [
    {
     "output_type": "execute_result",
     "data": {
      "text/plain": [
       "28"
      ]
     },
     "metadata": {},
     "execution_count": 48
    }
   ],
   "source": [
    "df.zipcode.nunique()"
   ]
  },
  {
   "cell_type": "code",
   "execution_count": 49,
   "metadata": {},
   "outputs": [],
   "source": [
    "calendar_df['year']= calendar_df['date'].dt.year\n",
    "calendar_df['month']= calendar_df['date'].dt.month\n",
    "calendar_df['day']= calendar_df['date'].dt.day\n",
    "calendar_df['week_of_year'] = calendar_df['date'].dt.week\n",
    "calendar_df['day_of_week'] = calendar_df['date'].dt.dayofweek"
   ]
  },
  {
   "cell_type": "code",
   "execution_count": 51,
   "metadata": {},
   "outputs": [
    {
     "output_type": "execute_result",
     "data": {
      "text/plain": [
       "month\n",
       "7     152.094150\n",
       "8     150.656594\n",
       "6     147.473137\n",
       "9     143.255949\n",
       "5     139.538183\n",
       "12    137.251835\n",
       "10    137.031939\n",
       "11    135.688738\n",
       "4     135.097005\n",
       "3     128.644488\n",
       "2     124.293927\n",
       "1     122.912176\n",
       "Name: price, dtype: float64"
      ]
     },
     "metadata": {},
     "execution_count": 51
    }
   ],
   "source": [
    "calendar_df[calendar_df.available==1].groupby(['month']).price.mean().sort_values(ascending=False)"
   ]
  },
  {
   "cell_type": "code",
   "execution_count": 52,
   "metadata": {},
   "outputs": [
    {
     "output_type": "execute_result",
     "data": {
      "text/plain": [
       "         count        mean         std   min   25%    50%    75%     max\n",
       "month                                                                   \n",
       "1      64937.0  122.912176   88.708143  12.0  70.0   99.0  148.0  1000.0\n",
       "2      73321.0  124.293927   91.550076  20.0  72.0  100.0  149.0  1000.0\n",
       "3      83938.0  128.644488   94.371410  20.0  75.0  100.0  150.0  1099.0\n",
       "4      76037.0  135.097005   98.232098  20.0  75.0  110.0  160.0  1099.0\n",
       "5      79971.0  139.538183  102.863280  20.0  75.0  110.0  169.0  1099.0\n",
       "6      77244.0  147.473137  112.481803  20.0  76.0  110.0  175.0  1099.0\n",
       "7      74222.0  152.094150  120.078098  20.0  75.0  115.0  180.0  1240.0\n",
       "8      76347.0  150.656594  118.754189  20.0  75.0  114.0  179.0  1250.0\n",
       "9      77246.0  143.255949  108.804290  20.0  75.0  110.0  175.0  1450.0\n",
       "10     82438.0  137.031939  104.491505  20.0  75.0  109.0  160.0  1650.0\n",
       "11     81780.0  135.688738  104.264654  10.0  75.0  106.0  155.0  1650.0\n",
       "12     87061.0  137.251835  105.101659  20.0  75.0  109.0  160.0  1650.0"
      ],
      "text/html": "<div>\n<style scoped>\n    .dataframe tbody tr th:only-of-type {\n        vertical-align: middle;\n    }\n\n    .dataframe tbody tr th {\n        vertical-align: top;\n    }\n\n    .dataframe thead th {\n        text-align: right;\n    }\n</style>\n<table border=\"1\" class=\"dataframe\">\n  <thead>\n    <tr style=\"text-align: right;\">\n      <th></th>\n      <th>count</th>\n      <th>mean</th>\n      <th>std</th>\n      <th>min</th>\n      <th>25%</th>\n      <th>50%</th>\n      <th>75%</th>\n      <th>max</th>\n    </tr>\n    <tr>\n      <th>month</th>\n      <th></th>\n      <th></th>\n      <th></th>\n      <th></th>\n      <th></th>\n      <th></th>\n      <th></th>\n      <th></th>\n    </tr>\n  </thead>\n  <tbody>\n    <tr>\n      <th>1</th>\n      <td>64937.0</td>\n      <td>122.912176</td>\n      <td>88.708143</td>\n      <td>12.0</td>\n      <td>70.0</td>\n      <td>99.0</td>\n      <td>148.0</td>\n      <td>1000.0</td>\n    </tr>\n    <tr>\n      <th>2</th>\n      <td>73321.0</td>\n      <td>124.293927</td>\n      <td>91.550076</td>\n      <td>20.0</td>\n      <td>72.0</td>\n      <td>100.0</td>\n      <td>149.0</td>\n      <td>1000.0</td>\n    </tr>\n    <tr>\n      <th>3</th>\n      <td>83938.0</td>\n      <td>128.644488</td>\n      <td>94.371410</td>\n      <td>20.0</td>\n      <td>75.0</td>\n      <td>100.0</td>\n      <td>150.0</td>\n      <td>1099.0</td>\n    </tr>\n    <tr>\n      <th>4</th>\n      <td>76037.0</td>\n      <td>135.097005</td>\n      <td>98.232098</td>\n      <td>20.0</td>\n      <td>75.0</td>\n      <td>110.0</td>\n      <td>160.0</td>\n      <td>1099.0</td>\n    </tr>\n    <tr>\n      <th>5</th>\n      <td>79971.0</td>\n      <td>139.538183</td>\n      <td>102.863280</td>\n      <td>20.0</td>\n      <td>75.0</td>\n      <td>110.0</td>\n      <td>169.0</td>\n      <td>1099.0</td>\n    </tr>\n    <tr>\n      <th>6</th>\n      <td>77244.0</td>\n      <td>147.473137</td>\n      <td>112.481803</td>\n      <td>20.0</td>\n      <td>76.0</td>\n      <td>110.0</td>\n      <td>175.0</td>\n      <td>1099.0</td>\n    </tr>\n    <tr>\n      <th>7</th>\n      <td>74222.0</td>\n      <td>152.094150</td>\n      <td>120.078098</td>\n      <td>20.0</td>\n      <td>75.0</td>\n      <td>115.0</td>\n      <td>180.0</td>\n      <td>1240.0</td>\n    </tr>\n    <tr>\n      <th>8</th>\n      <td>76347.0</td>\n      <td>150.656594</td>\n      <td>118.754189</td>\n      <td>20.0</td>\n      <td>75.0</td>\n      <td>114.0</td>\n      <td>179.0</td>\n      <td>1250.0</td>\n    </tr>\n    <tr>\n      <th>9</th>\n      <td>77246.0</td>\n      <td>143.255949</td>\n      <td>108.804290</td>\n      <td>20.0</td>\n      <td>75.0</td>\n      <td>110.0</td>\n      <td>175.0</td>\n      <td>1450.0</td>\n    </tr>\n    <tr>\n      <th>10</th>\n      <td>82438.0</td>\n      <td>137.031939</td>\n      <td>104.491505</td>\n      <td>20.0</td>\n      <td>75.0</td>\n      <td>109.0</td>\n      <td>160.0</td>\n      <td>1650.0</td>\n    </tr>\n    <tr>\n      <th>11</th>\n      <td>81780.0</td>\n      <td>135.688738</td>\n      <td>104.264654</td>\n      <td>10.0</td>\n      <td>75.0</td>\n      <td>106.0</td>\n      <td>155.0</td>\n      <td>1650.0</td>\n    </tr>\n    <tr>\n      <th>12</th>\n      <td>87061.0</td>\n      <td>137.251835</td>\n      <td>105.101659</td>\n      <td>20.0</td>\n      <td>75.0</td>\n      <td>109.0</td>\n      <td>160.0</td>\n      <td>1650.0</td>\n    </tr>\n  </tbody>\n</table>\n</div>"
     },
     "metadata": {},
     "execution_count": 52
    }
   ],
   "source": [
    "calendar_df[calendar_df.available==1].groupby(['month']).price.describe()"
   ]
  },
  {
   "source": [
    "The offer of apartments is algo growing! -> Availability higher"
   ],
   "cell_type": "markdown",
   "metadata": {}
  },
  {
   "cell_type": "code",
   "execution_count": 53,
   "metadata": {},
   "outputs": [
    {
     "output_type": "execute_result",
     "data": {
      "text/plain": [
       "day_of_week\n",
       "4    95.678612\n",
       "5    95.624370\n",
       "6    91.837727\n",
       "3    91.403801\n",
       "0    91.052596\n",
       "2    90.992873\n",
       "1    90.988420\n",
       "Name: price, dtype: float64"
      ]
     },
     "metadata": {},
     "execution_count": 53
    }
   ],
   "source": [
    "calendar_df.groupby(['day_of_week']).price.mean().sort_values(ascending=False)"
   ]
  },
  {
   "source": [
    "**2. Which are the neighbourhoods (zip codes) with better price/review ratio?**"
   ],
   "cell_type": "markdown",
   "metadata": {}
  },
  {
   "cell_type": "code",
   "execution_count": 167,
   "metadata": {},
   "outputs": [],
   "source": [
    "df_l_cleaned['review/price ratio'] = df_l_cleaned.review_scores_value/df_l_cleaned.price\n",
    "df_l_cleaned['zipcode'] = listings_df['zipcode']\n",
    "df_l_cleaned['neighbourhood'] = listings_df['neighbourhood']"
   ]
  },
  {
   "cell_type": "code",
   "execution_count": 169,
   "metadata": {},
   "outputs": [],
   "source": [
    "df_l_cleaned['zipcode'].fillna('Unknown Zipcode',inplace=True)\n",
    "df_l_cleaned['neighbourhood'].fillna('No neighbourhood', inplace=True)"
   ]
  },
  {
   "cell_type": "code",
   "execution_count": 170,
   "metadata": {},
   "outputs": [],
   "source": [
    "best_zips = df_l_cleaned.groupby(['zipcode'])['price/review ratio'].mean().sort_values(ascending=False).index"
   ]
  },
  {
   "cell_type": "code",
   "execution_count": 171,
   "metadata": {},
   "outputs": [
    {
     "output_type": "execute_result",
     "data": {
      "text/plain": [
       "['98134',\n",
       " '98199',\n",
       " '98101',\n",
       " '98119',\n",
       " 'Unknown Zipcode',\n",
       " '98121',\n",
       " '98109',\n",
       " '98116',\n",
       " '98104',\n",
       " '98112']"
      ]
     },
     "metadata": {},
     "execution_count": 171
    }
   ],
   "source": [
    "list(best_zips[:10])"
   ]
  },
  {
   "cell_type": "code",
   "execution_count": 172,
   "metadata": {},
   "outputs": [
    {
     "output_type": "stream",
     "name": "stdout",
     "text": [
      "{'Pioneer Square': '98134', 'Magnolia': '98199', 'Central Business District': '98101', 'Queen Anne': '98109', 'Ballard': 'Unknown Zipcode', 'Pike Place Market': '98121', 'Alki': '98116', 'International District': '98104', 'Minor': '98112'}\n"
     ]
    }
   ],
   "source": [
    "nbh = {}\n",
    "for zc in list(best_zips[:10]):\n",
    "    nbh_tmp = df_l_cleaned[df_l_cleaned.zipcode == zc].neighbourhood.iloc[0]\n",
    "    i = 1\n",
    "    while nbh_tmp == 'No neighbourhood':\n",
    "        nbh_tmp = df_l_cleaned[df_l_cleaned.zipcode == zc].neighbourhood.iloc[i]\n",
    "        i+=1 \n",
    "    nbh[nbh_tmp] = zc\n",
    "print(nbh)"
   ]
  },
  {
   "source": [
    "### 4. Modeling"
   ],
   "cell_type": "markdown",
   "metadata": {}
  },
  {
   "source": [
    "**3. Can we predict the prices of the apartments?**"
   ],
   "cell_type": "markdown",
   "metadata": {}
  },
  {
   "cell_type": "code",
   "execution_count": 214,
   "metadata": {},
   "outputs": [],
   "source": [
    "from sklearn.linear_model import LinearRegression\n",
    "from sklearn.model_selection import train_test_split\n",
    "from sklearn.metrics import r2_score, mean_squared_error\n",
    "\n",
    "# Separate the dependent and independent variables and drop variables that we dont need\n",
    "X = df_l_cleaned.drop(['price','id','latitude','longitude','neighbourhood','zipcode','review/price ratio','price/review ratio'],axis=1)\n",
    "y = df_l_cleaned.price\n",
    "\n",
    "# Split the data in train and test sets\n",
    "X_train, X_test, y_train, y_test = train_test_split(X,y, test_size=0.2, shuffle=True)"
   ]
  },
  {
   "cell_type": "code",
   "execution_count": 215,
   "metadata": {},
   "outputs": [
    {
     "output_type": "execute_result",
     "data": {
      "text/plain": [
       "Index(['is_location_exact', 'accommodates', 'bathrooms', 'bedrooms', 'beds',\n",
       "       'weekly_price', 'cleaning_fee', 'guests_included', 'extra_people',\n",
       "       'minimum_nights',\n",
       "       ...\n",
       "       'bed_type_Airbed', 'bed_type_Couch', 'bed_type_Futon',\n",
       "       'bed_type_Pull-out Sofa', 'bed_type_Real Bed', 'bed_type_nan',\n",
       "       'cancellation_policy_flexible', 'cancellation_policy_moderate',\n",
       "       'cancellation_policy_strict', 'cancellation_policy_nan'],\n",
       "      dtype='object', length=179)"
      ]
     },
     "metadata": {},
     "execution_count": 215
    }
   ],
   "source": [
    "X.columns"
   ]
  },
  {
   "cell_type": "code",
   "execution_count": 216,
   "metadata": {},
   "outputs": [
    {
     "output_type": "stream",
     "name": "stdout",
     "text": [
      "52.1056234625988\n0.6739148863471643\n"
     ]
    }
   ],
   "source": [
    "# First we will train linear regression model\n",
    "reg = LinearRegression()\n",
    "reg.fit(X_train, y_train)\n",
    "\n",
    "# Calculate predictions for the test set\n",
    "preds_test = reg.predict(X_test)\n",
    "preds_train = reg.predict(X_train)\n",
    "\n",
    "# Evaluate the test set\n",
    "rmse_reg = mean_squared_error(y_test,preds_test,squared=False)\n",
    "r2_reg = r2_score(y_test,preds_test)\n",
    "print(rmse_reg)\n",
    "print(r2_reg)"
   ]
  },
  {
   "cell_type": "code",
   "execution_count": 217,
   "metadata": {},
   "outputs": [
    {
     "output_type": "execute_result",
     "data": {
      "text/plain": [
       "                               est_int         coefs     abs_coefs\n",
       "156                 property_type_Dorm -2.250482e+02  2.250482e+02\n",
       "150                 property_type_Boat  1.634970e+02  1.634970e+02\n",
       "60   neighbourhood_Industrial District  1.487294e+02  1.487294e+02\n",
       "137                      zipcode_98199  6.804413e+01  6.804413e+01\n",
       "85             neighbourhood_Pinehurst -6.385268e+01  6.385268e+01\n",
       "..                                 ...           ...           ...\n",
       "147                 smart_location_nan -1.421085e-14  1.421085e-14\n",
       "164                  property_type_nan -3.552714e-15  3.552714e-15\n",
       "168                      room_type_nan  0.000000e+00  0.000000e+00\n",
       "174                       bed_type_nan  0.000000e+00  0.000000e+00\n",
       "178            cancellation_policy_nan  0.000000e+00  0.000000e+00\n",
       "\n",
       "[179 rows x 3 columns]"
      ],
      "text/html": "<div>\n<style scoped>\n    .dataframe tbody tr th:only-of-type {\n        vertical-align: middle;\n    }\n\n    .dataframe tbody tr th {\n        vertical-align: top;\n    }\n\n    .dataframe thead th {\n        text-align: right;\n    }\n</style>\n<table border=\"1\" class=\"dataframe\">\n  <thead>\n    <tr style=\"text-align: right;\">\n      <th></th>\n      <th>est_int</th>\n      <th>coefs</th>\n      <th>abs_coefs</th>\n    </tr>\n  </thead>\n  <tbody>\n    <tr>\n      <th>156</th>\n      <td>property_type_Dorm</td>\n      <td>-2.250482e+02</td>\n      <td>2.250482e+02</td>\n    </tr>\n    <tr>\n      <th>150</th>\n      <td>property_type_Boat</td>\n      <td>1.634970e+02</td>\n      <td>1.634970e+02</td>\n    </tr>\n    <tr>\n      <th>60</th>\n      <td>neighbourhood_Industrial District</td>\n      <td>1.487294e+02</td>\n      <td>1.487294e+02</td>\n    </tr>\n    <tr>\n      <th>137</th>\n      <td>zipcode_98199</td>\n      <td>6.804413e+01</td>\n      <td>6.804413e+01</td>\n    </tr>\n    <tr>\n      <th>85</th>\n      <td>neighbourhood_Pinehurst</td>\n      <td>-6.385268e+01</td>\n      <td>6.385268e+01</td>\n    </tr>\n    <tr>\n      <th>...</th>\n      <td>...</td>\n      <td>...</td>\n      <td>...</td>\n    </tr>\n    <tr>\n      <th>147</th>\n      <td>smart_location_nan</td>\n      <td>-1.421085e-14</td>\n      <td>1.421085e-14</td>\n    </tr>\n    <tr>\n      <th>164</th>\n      <td>property_type_nan</td>\n      <td>-3.552714e-15</td>\n      <td>3.552714e-15</td>\n    </tr>\n    <tr>\n      <th>168</th>\n      <td>room_type_nan</td>\n      <td>0.000000e+00</td>\n      <td>0.000000e+00</td>\n    </tr>\n    <tr>\n      <th>174</th>\n      <td>bed_type_nan</td>\n      <td>0.000000e+00</td>\n      <td>0.000000e+00</td>\n    </tr>\n    <tr>\n      <th>178</th>\n      <td>cancellation_policy_nan</td>\n      <td>0.000000e+00</td>\n      <td>0.000000e+00</td>\n    </tr>\n  </tbody>\n</table>\n<p>179 rows × 3 columns</p>\n</div>"
     },
     "metadata": {},
     "execution_count": 217
    }
   ],
   "source": [
    "# Feature importances\n",
    "\n",
    "coefs_df = pd.DataFrame()\n",
    "coefs_df['est_int'] = X_train.columns\n",
    "coefs_df['coefs'] = reg.coef_\n",
    "coefs_df['abs_coefs'] = np.abs(reg.coef_)\n",
    "coefs_df = coefs_df.sort_values('abs_coefs', ascending=False)\n",
    "coefs_df"
   ]
  },
  {
   "cell_type": "code",
   "execution_count": 218,
   "metadata": {},
   "outputs": [],
   "source": [
    "# We could select the 100 features more important \n",
    "\n",
    "X_train_ = X_train[list(coefs_df[:100].est_int)]\n",
    "X_test_ = X_test[list(coefs_df[:100].est_int)]"
   ]
  },
  {
   "cell_type": "code",
   "execution_count": 219,
   "metadata": {},
   "outputs": [
    {
     "output_type": "stream",
     "name": "stdout",
     "text": [
      "58.33213887831867\n0.5913254607516107\n"
     ]
    }
   ],
   "source": [
    "# Train the model the model with only the 100 features more important\n",
    "reg = LinearRegression()\n",
    "reg.fit(X_train_, y_train)\n",
    "\n",
    "# Calculate predictions for the test set\n",
    "preds_test_ = reg.predict(X_test_)\n",
    "preds_train = reg.predict(X_train_)\n",
    "\n",
    "# Evaluate the test set\n",
    "rmse_reg_ = mean_squared_error(y_test,preds_test_,squared=False)\n",
    "r2_reg_ = r2_score(y_test,preds_test_)\n",
    "print(rmse_reg_)\n",
    "print(r2_reg_)"
   ]
  },
  {
   "cell_type": "code",
   "execution_count": 220,
   "metadata": {},
   "outputs": [
    {
     "output_type": "stream",
     "name": "stdout",
     "text": [
      "55.052788499087804\n0.6359840424856542\n"
     ]
    }
   ],
   "source": [
    "# Let's try now another model: A random forest\n",
    "\n",
    "from sklearn.ensemble import RandomForestRegressor\n",
    "\n",
    "rf = RandomForestRegressor(n_estimators=50,   \n",
    "                        min_samples_leaf=50,\n",
    "                        max_features=0.5,\n",
    "                        n_jobs=-1)\n",
    "rf.fit(X_train,y_train)\n",
    "\n",
    "preds_rf_test = rf.predict(X_test)\n",
    "\n",
    "rmse_rf = mean_squared_error(y_test,preds_rf_test,squared=False)\n",
    "r2_rf = r2_score(y_test,preds_rf_test)\n",
    "print(rmse_rf)\n",
    "print(r2_rf)"
   ]
  },
  {
   "cell_type": "code",
   "execution_count": 221,
   "metadata": {},
   "outputs": [
    {
     "output_type": "execute_result",
     "data": {
      "text/plain": [
       "                               est_int       coefs   abs_coefs  \\\n",
       "137                      zipcode_98199   68.044127   68.044127   \n",
       "150                 property_type_Boat  163.496996  163.496996   \n",
       "83           neighbourhood_Pike Market  -54.875681   54.875681   \n",
       "37              neighbourhood_Broadway  -56.334611   56.334611   \n",
       "60   neighbourhood_Industrial District  148.729415  148.729415   \n",
       "..                                 ...         ...         ...   \n",
       "51               neighbourhood_Genesee   -9.949511    9.949511   \n",
       "124                      zipcode_98118   -9.941684    9.941684   \n",
       "130                      zipcode_98133   -9.795028    9.795028   \n",
       "151             property_type_Bungalow    9.230048    9.230048   \n",
       "178            cancellation_policy_nan    0.000000    0.000000   \n",
       "\n",
       "                               est_int_rf  coefs_rf  abs_coefs_rf  \n",
       "137                              bedrooms  0.350640      0.350640  \n",
       "150                          accommodates  0.216835      0.216835  \n",
       "83                           cleaning_fee  0.119848      0.119848  \n",
       "37                           weekly_price  0.091179      0.091179  \n",
       "60                              bathrooms  0.078023      0.078023  \n",
       "..                                    ...       ...           ...  \n",
       "51   neighbourhood_North Beach/Blue Ridge  0.000000      0.000000  \n",
       "124       neighbourhood_North Beacon Hill  0.000000      0.000000  \n",
       "130      neighbourhood_North College Park  0.000000      0.000000  \n",
       "151          neighbourhood_North Delridge  0.000000      0.000000  \n",
       "178               cancellation_policy_nan  0.000000      0.000000  \n",
       "\n",
       "[179 rows x 6 columns]"
      ],
      "text/html": "<div>\n<style scoped>\n    .dataframe tbody tr th:only-of-type {\n        vertical-align: middle;\n    }\n\n    .dataframe tbody tr th {\n        vertical-align: top;\n    }\n\n    .dataframe thead th {\n        text-align: right;\n    }\n</style>\n<table border=\"1\" class=\"dataframe\">\n  <thead>\n    <tr style=\"text-align: right;\">\n      <th></th>\n      <th>est_int</th>\n      <th>coefs</th>\n      <th>abs_coefs</th>\n      <th>est_int_rf</th>\n      <th>coefs_rf</th>\n      <th>abs_coefs_rf</th>\n    </tr>\n  </thead>\n  <tbody>\n    <tr>\n      <th>137</th>\n      <td>zipcode_98199</td>\n      <td>68.044127</td>\n      <td>68.044127</td>\n      <td>bedrooms</td>\n      <td>0.350640</td>\n      <td>0.350640</td>\n    </tr>\n    <tr>\n      <th>150</th>\n      <td>property_type_Boat</td>\n      <td>163.496996</td>\n      <td>163.496996</td>\n      <td>accommodates</td>\n      <td>0.216835</td>\n      <td>0.216835</td>\n    </tr>\n    <tr>\n      <th>83</th>\n      <td>neighbourhood_Pike Market</td>\n      <td>-54.875681</td>\n      <td>54.875681</td>\n      <td>cleaning_fee</td>\n      <td>0.119848</td>\n      <td>0.119848</td>\n    </tr>\n    <tr>\n      <th>37</th>\n      <td>neighbourhood_Broadway</td>\n      <td>-56.334611</td>\n      <td>56.334611</td>\n      <td>weekly_price</td>\n      <td>0.091179</td>\n      <td>0.091179</td>\n    </tr>\n    <tr>\n      <th>60</th>\n      <td>neighbourhood_Industrial District</td>\n      <td>148.729415</td>\n      <td>148.729415</td>\n      <td>bathrooms</td>\n      <td>0.078023</td>\n      <td>0.078023</td>\n    </tr>\n    <tr>\n      <th>...</th>\n      <td>...</td>\n      <td>...</td>\n      <td>...</td>\n      <td>...</td>\n      <td>...</td>\n      <td>...</td>\n    </tr>\n    <tr>\n      <th>51</th>\n      <td>neighbourhood_Genesee</td>\n      <td>-9.949511</td>\n      <td>9.949511</td>\n      <td>neighbourhood_North Beach/Blue Ridge</td>\n      <td>0.000000</td>\n      <td>0.000000</td>\n    </tr>\n    <tr>\n      <th>124</th>\n      <td>zipcode_98118</td>\n      <td>-9.941684</td>\n      <td>9.941684</td>\n      <td>neighbourhood_North Beacon Hill</td>\n      <td>0.000000</td>\n      <td>0.000000</td>\n    </tr>\n    <tr>\n      <th>130</th>\n      <td>zipcode_98133</td>\n      <td>-9.795028</td>\n      <td>9.795028</td>\n      <td>neighbourhood_North College Park</td>\n      <td>0.000000</td>\n      <td>0.000000</td>\n    </tr>\n    <tr>\n      <th>151</th>\n      <td>property_type_Bungalow</td>\n      <td>9.230048</td>\n      <td>9.230048</td>\n      <td>neighbourhood_North Delridge</td>\n      <td>0.000000</td>\n      <td>0.000000</td>\n    </tr>\n    <tr>\n      <th>178</th>\n      <td>cancellation_policy_nan</td>\n      <td>0.000000</td>\n      <td>0.000000</td>\n      <td>cancellation_policy_nan</td>\n      <td>0.000000</td>\n      <td>0.000000</td>\n    </tr>\n  </tbody>\n</table>\n<p>179 rows × 6 columns</p>\n</div>"
     },
     "metadata": {},
     "execution_count": 221
    }
   ],
   "source": [
    "# And calculate the feature importances for this model\n",
    "\n",
    "coefs_df['est_int_rf'] = X_train.columns\n",
    "coefs_df['coefs_rf'] = rf.feature_importances_\n",
    "coefs_df['abs_coefs_rf'] = np.abs(rf.feature_importances_)\n",
    "coefs_df = coefs_df.sort_values('abs_coefs_rf', ascending=False)\n",
    "coefs_df"
   ]
  },
  {
   "cell_type": "code",
   "execution_count": 222,
   "metadata": {},
   "outputs": [
    {
     "output_type": "stream",
     "name": "stdout",
     "text": [
      "50.7823946343104\n0.6902665345546475\n"
     ]
    }
   ],
   "source": [
    "# Finally, we can combine both predictions in one ensemble prediction (mean)\n",
    "\n",
    "y_test_ensemble = (preds_test + preds_rf_test)/2\n",
    "\n",
    "rmse_ensmb = mean_squared_error(y_test,y_test_ensemble,squared=False)\n",
    "r2_ensmb = r2_score(y_test,y_test_ensemble)\n",
    "print(rmse_ensmb)\n",
    "print(r2_ensmb)"
   ]
  },
  {
   "cell_type": "code",
   "execution_count": 223,
   "metadata": {},
   "outputs": [
    {
     "output_type": "execute_result",
     "data": {
      "text/plain": [
       "                                     RMSE        r2\n",
       "Linear regression               52.105623  0.673915\n",
       "Linear regression opt features  58.332139  0.591325\n",
       "Random forest                   55.052788  0.635984\n",
       "Ensemble                        50.782395  0.690267"
      ],
      "text/html": "<div>\n<style scoped>\n    .dataframe tbody tr th:only-of-type {\n        vertical-align: middle;\n    }\n\n    .dataframe tbody tr th {\n        vertical-align: top;\n    }\n\n    .dataframe thead th {\n        text-align: right;\n    }\n</style>\n<table border=\"1\" class=\"dataframe\">\n  <thead>\n    <tr style=\"text-align: right;\">\n      <th></th>\n      <th>RMSE</th>\n      <th>r2</th>\n    </tr>\n  </thead>\n  <tbody>\n    <tr>\n      <th>Linear regression</th>\n      <td>52.105623</td>\n      <td>0.673915</td>\n    </tr>\n    <tr>\n      <th>Linear regression opt features</th>\n      <td>58.332139</td>\n      <td>0.591325</td>\n    </tr>\n    <tr>\n      <th>Random forest</th>\n      <td>55.052788</td>\n      <td>0.635984</td>\n    </tr>\n    <tr>\n      <th>Ensemble</th>\n      <td>50.782395</td>\n      <td>0.690267</td>\n    </tr>\n  </tbody>\n</table>\n</div>"
     },
     "metadata": {},
     "execution_count": 223
    }
   ],
   "source": [
    "results_df = pd.DataFrame({'RMSE':[rmse_reg, rmse_reg_, rmse_rf,rmse_ensmb],'r2':[r2_reg, r2_reg_, r2_rf,r2_ensmb]})\n",
    "results_df.rename(index={0:'Linear regression',1:'Linear regression opt features',2:'Random forest',3:'Ensemble'},inplace=True)\n",
    "results_df"
   ]
  },
  {
   "cell_type": "code",
   "execution_count": null,
   "metadata": {},
   "outputs": [],
   "source": []
  }
 ]
}